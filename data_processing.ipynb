{
 "cells": [
  {
   "cell_type": "code",
   "execution_count": 2,
   "id": "f447a3ad",
   "metadata": {},
   "outputs": [],
   "source": [
    "import pandas as pd"
   ]
  },
  {
   "cell_type": "code",
   "execution_count": 3,
   "id": "c33fdcb8",
   "metadata": {},
   "outputs": [],
   "source": [
    "df = pd.read_csv(\"1 - Propery_Basic.csv\")"
   ]
  },
  {
   "cell_type": "code",
   "execution_count": 4,
   "id": "1ab38e7e",
   "metadata": {},
   "outputs": [
    {
     "data": {
      "application/vnd.microsoft.datawrangler.viewer.v0+json": {
       "columns": [
        {
         "name": "index",
         "rawType": "int64",
         "type": "integer"
        },
        {
         "name": "ID",
         "rawType": "int64",
         "type": "integer"
        },
        {
         "name": "address",
         "rawType": "object",
         "type": "string"
        },
        {
         "name": "price",
         "rawType": "int64",
         "type": "integer"
        },
        {
         "name": "bedroom",
         "rawType": "int64",
         "type": "integer"
        },
        {
         "name": "bathroom",
         "rawType": "int64",
         "type": "integer"
        },
        {
         "name": "parking",
         "rawType": "int64",
         "type": "integer"
        },
        {
         "name": "proType",
         "rawType": "object",
         "type": "string"
        },
        {
         "name": "sold_date",
         "rawType": "object",
         "type": "string"
        },
        {
         "name": "agency_name",
         "rawType": "object",
         "type": "string"
        },
        {
         "name": "agency_addr",
         "rawType": "object",
         "type": "string"
        },
        {
         "name": "des_head",
         "rawType": "object",
         "type": "string"
        },
        {
         "name": "des_content",
         "rawType": "object",
         "type": "string"
        },
        {
         "name": "features",
         "rawType": "object",
         "type": "string"
        }
       ],
       "conversionMethod": "pd.DataFrame",
       "ref": "3db790df-ff2d-4347-957d-b0fab8ddd3e5",
       "rows": [
        [
         "0",
         "7513227",
         "544 Velore Road Denison Vic 3858 ",
         "465000",
         "3",
         "2",
         "4",
         "Farmlet",
         "Wed 08-May-13",
         "LJ Hooker - Sale",
         "236 - 288 Raymond Street Sale Vic 3850 ",
         "Farmlet Makeover",
         "Established farmlet that has had a major makeover with new kitchen, bathroom, en-suite and family room.  Located only 16Kms from Sale a peaceful rural location is this established property.  The home has recently been rendered, re-wired, re plumbed and enclosed the garage into a great family room as part of the house.  There is a modern kitchen/meals area with loads of cupboard space and a slow combustion heater.  There is a formal lounge and separate dining room with polished timber floor boards and large windows with rural views of the property.Outside is a covered decking to sit and enjoy the atmosphere of this lifestyle properly.  There is plenty of water on this 2.4 hectare property with a bore, 1 mg litre dam pumping right from the channel and plenty of Tanks.  There is also a modern 3 bay machinery shed with enclosed and lined office or kids entertaining area plus an old renovated shearing shed.An ideal property that offers the whole family an idyllic lifestyle within easy reach of all the district has to offer.",
         "Property Type:Farmlet, Bedrooms:3, Bathrooms:2,Carport Spaces:2, Garage Spaces:2,;"
        ],
        [
         "1",
         "7720571",
         "1375 Ballan Road Quandong Vic 3030 ",
         "1220000",
         "2",
         "1",
         "0",
         "Lifestyle",
         "Fri 12-Jun-15",
         "McNaughton Estate Agents - Werribee",
         "38 Synnot Street Werribee Vic 3030 ",
         "Lifestyle 100 Acres Conservation Property",
         "Rare opportunity to buy land of this size so close to town. Only short 5 min. drive to Manor Lakes and approx.12 min. to Werribee.This generally flat land was largely cleared for cropping or grazing, divided into 7 paddocks with an impressive stand of mature native red gums and huge dam. It enjoys views to the You Yangs across surrounding farmland, has good rural fencing and a sealed road frontage.Features a charming vinyl-clad timber house with open plan living, spacious rooms, porch, veranda, decking and solar panels to hot water unit.This property also boasts three powered machinery sheds/workshop, chicken coop, bore water and also a large concrete tank holding 300,000 litres.An unique and incredibly rare lifestyle opportunity not to be missed!",
         "Property Type:Lifestyle, Bedrooms:2, Bathrooms:1, Building Size:165.00 m?? (18 squares) approx, Land Size:40.47ha (100.00 acres) (approx),;"
        ],
        [
         "2",
         "104997043",
         "1/76 Scotsburn Avenue Clayton Vic 3168 ",
         "560000",
         "3",
         "1",
         "2",
         "Unit",
         "Sat 07-Dec-13",
         "Ray White - Oakleigh",
         "7-9 Atherton Road Oakleigh Vic 3166 ",
         "Exceptional Modern Elegance!",
         "Excellent opportunity available for the home buyer or astute investor to secure this spacious fully renovated home situated within walking distance to Huntingdale train station (Zone 1) , Clayton Train Station, local schools & parklands, bus stops, Clayton shopping district, Clayton Community Centre and only minutes away from Monash Medical Centre & Monash University.This fantastic home boasts 3 spacious bedrooms (2 with mirror BIR's), modern fully tiled bathroom with spa, and separate laundry with additional toilet, fully landscaped rear garden with water tank leading to the remote control double lock up garage. With everything at your fingertips and close to all amenities, this stylish and modern home will be your next dream residence! As you walk into this fabulous home with showcase downlights throughout that leads to the sunfilled formal lounge with a feature fireplace, reverse cycle air conditioning in master bedroom, immaculate polished floorboards spread to the stunning fully renovated kitchen with stone benchtops, gas Smeg stainless-steel appliances, Blanco dishwasher, ample cupboard space, ducted heating, evaporate cooling system and much more.Last chance...show more",
         "Property Type:Unit, Bedrooms:3, Bathrooms:1, Toilets:2, Air Conditioning,Garage Spaces:2, Built-In Wardrobes,;"
        ],
        [
         "3",
         "105023594",
         "47 Lee Street Deer Park Vic 3023 ",
         "385000",
         "4",
         "1",
         "2",
         "House",
         "Mon 01-Sep-14",
         "Sweeney Estate Agents - Caroline Springs",
         "Shop 21A, 13-15 Lake Street Caroline Springs Vic 3023 ",
         "Spacious single level family home located minutes to all amenities and schools",
         "* Comprising of 4 generous bedrooms with BIR's* Huge sun filled kitchen/meals & adjoining living area* Separate lounge room* Ducted heating, evaporative cooling, alarm, high ceilings* 900mm s/s kitchen appliances, dishwasher, ducted vacuuming...* Established gardens with huge pergola for entertaining* Double remote garage with rear access* Currently securely leased until Dec 14 @$330 per week",
         "Property Type:House, Bedrooms:4, Bathrooms:1, Toilets:1, Alarm System, Air Conditioning,Garage Spaces:2, Built-In Wardrobes,Close to Schools,Close to Shops,Close to Transport,Garden,;"
        ],
        [
         "4",
         "105140240",
         "15 Fiddian Court Altona Meadows Vic 3028 ",
         "500000",
         "4",
         "2",
         "2",
         "House",
         "Thu 23-Apr-15",
         "Hunter French Real Estate - Altona Meadows & Altona North",
         "Shop 22, 1 Central Avenue Altona Meadows Vic 3028 ",
         "EASY CARE LIFESTYLE",
         "This part double storey home offers classic living throughout, it has been created with a fresh design approach emphasizing on attention to detail, and displaying a level of comfort and style throughout, with quality curtains and drapes, elegant light fittings, ducted heating and cooling. Located within close proximity to schools, parkland, services, and local shopping facilities.The lower level comprises of an entrance hall, leading to an open plan kitchen / meals. Kitchen with modern stainless steel appliances, and ???Colonial' doors, formal lounge featuring ???French??? double doors, forth bedroom / study,rumpus room, laundry, powder with shower recess, toilet and vanity.With a polished timber staircase leading to the upper level, complimentedby polished timber floors,featuring three roomy bedrooms, all with (built-in robes), central bathroom and separate toilet.Other comprehensive appointments include undercover pergola, double garage with fully functional kitchen, boundary fencing, all set amongst established gardens, for your enjoyment for years to come.Currently securely leased until 10/04/15 for $1,647.00 per calender month.",
         "Property Type:House, Bedrooms:4, Bathrooms:2,Garage Spaces:2,;"
        ]
       ],
       "shape": {
        "columns": 13,
        "rows": 5
       }
      },
      "text/html": [
       "<div>\n",
       "<style scoped>\n",
       "    .dataframe tbody tr th:only-of-type {\n",
       "        vertical-align: middle;\n",
       "    }\n",
       "\n",
       "    .dataframe tbody tr th {\n",
       "        vertical-align: top;\n",
       "    }\n",
       "\n",
       "    .dataframe thead th {\n",
       "        text-align: right;\n",
       "    }\n",
       "</style>\n",
       "<table border=\"1\" class=\"dataframe\">\n",
       "  <thead>\n",
       "    <tr style=\"text-align: right;\">\n",
       "      <th></th>\n",
       "      <th>ID</th>\n",
       "      <th>address</th>\n",
       "      <th>price</th>\n",
       "      <th>bedroom</th>\n",
       "      <th>bathroom</th>\n",
       "      <th>parking</th>\n",
       "      <th>proType</th>\n",
       "      <th>sold_date</th>\n",
       "      <th>agency_name</th>\n",
       "      <th>agency_addr</th>\n",
       "      <th>des_head</th>\n",
       "      <th>des_content</th>\n",
       "      <th>features</th>\n",
       "    </tr>\n",
       "  </thead>\n",
       "  <tbody>\n",
       "    <tr>\n",
       "      <th>0</th>\n",
       "      <td>7513227</td>\n",
       "      <td>544 Velore Road Denison Vic 3858</td>\n",
       "      <td>465000</td>\n",
       "      <td>3</td>\n",
       "      <td>2</td>\n",
       "      <td>4</td>\n",
       "      <td>Farmlet</td>\n",
       "      <td>Wed 08-May-13</td>\n",
       "      <td>LJ Hooker - Sale</td>\n",
       "      <td>236 - 288 Raymond Street Sale Vic 3850</td>\n",
       "      <td>Farmlet Makeover</td>\n",
       "      <td>Established farmlet that has had a major makeo...</td>\n",
       "      <td>Property Type:Farmlet, Bedrooms:3, Bathrooms:2...</td>\n",
       "    </tr>\n",
       "    <tr>\n",
       "      <th>1</th>\n",
       "      <td>7720571</td>\n",
       "      <td>1375 Ballan Road Quandong Vic 3030</td>\n",
       "      <td>1220000</td>\n",
       "      <td>2</td>\n",
       "      <td>1</td>\n",
       "      <td>0</td>\n",
       "      <td>Lifestyle</td>\n",
       "      <td>Fri 12-Jun-15</td>\n",
       "      <td>McNaughton Estate Agents - Werribee</td>\n",
       "      <td>38 Synnot Street Werribee Vic 3030</td>\n",
       "      <td>Lifestyle 100 Acres Conservation Property</td>\n",
       "      <td>Rare opportunity to buy land of this size so c...</td>\n",
       "      <td>Property Type:Lifestyle, Bedrooms:2, Bathrooms...</td>\n",
       "    </tr>\n",
       "    <tr>\n",
       "      <th>2</th>\n",
       "      <td>104997043</td>\n",
       "      <td>1/76 Scotsburn Avenue Clayton Vic 3168</td>\n",
       "      <td>560000</td>\n",
       "      <td>3</td>\n",
       "      <td>1</td>\n",
       "      <td>2</td>\n",
       "      <td>Unit</td>\n",
       "      <td>Sat 07-Dec-13</td>\n",
       "      <td>Ray White - Oakleigh</td>\n",
       "      <td>7-9 Atherton Road Oakleigh Vic 3166</td>\n",
       "      <td>Exceptional Modern Elegance!</td>\n",
       "      <td>Excellent opportunity available for the home b...</td>\n",
       "      <td>Property Type:Unit, Bedrooms:3, Bathrooms:1, T...</td>\n",
       "    </tr>\n",
       "    <tr>\n",
       "      <th>3</th>\n",
       "      <td>105023594</td>\n",
       "      <td>47 Lee Street Deer Park Vic 3023</td>\n",
       "      <td>385000</td>\n",
       "      <td>4</td>\n",
       "      <td>1</td>\n",
       "      <td>2</td>\n",
       "      <td>House</td>\n",
       "      <td>Mon 01-Sep-14</td>\n",
       "      <td>Sweeney Estate Agents - Caroline Springs</td>\n",
       "      <td>Shop 21A, 13-15 Lake Street Caroline Springs V...</td>\n",
       "      <td>Spacious single level family home located minu...</td>\n",
       "      <td>* Comprising of 4 generous bedrooms with BIR's...</td>\n",
       "      <td>Property Type:House, Bedrooms:4, Bathrooms:1, ...</td>\n",
       "    </tr>\n",
       "    <tr>\n",
       "      <th>4</th>\n",
       "      <td>105140240</td>\n",
       "      <td>15 Fiddian Court Altona Meadows Vic 3028</td>\n",
       "      <td>500000</td>\n",
       "      <td>4</td>\n",
       "      <td>2</td>\n",
       "      <td>2</td>\n",
       "      <td>House</td>\n",
       "      <td>Thu 23-Apr-15</td>\n",
       "      <td>Hunter French Real Estate - Altona Meadows &amp; A...</td>\n",
       "      <td>Shop 22, 1 Central Avenue Altona Meadows Vic 3...</td>\n",
       "      <td>EASY CARE LIFESTYLE</td>\n",
       "      <td>This part double storey home offers classic li...</td>\n",
       "      <td>Property Type:House, Bedrooms:4, Bathrooms:2,G...</td>\n",
       "    </tr>\n",
       "  </tbody>\n",
       "</table>\n",
       "</div>"
      ],
      "text/plain": [
       "          ID                                    address    price  bedroom  \\\n",
       "0    7513227          544 Velore Road Denison Vic 3858    465000        3   \n",
       "1    7720571        1375 Ballan Road Quandong Vic 3030   1220000        2   \n",
       "2  104997043    1/76 Scotsburn Avenue Clayton Vic 3168    560000        3   \n",
       "3  105023594          47 Lee Street Deer Park Vic 3023    385000        4   \n",
       "4  105140240  15 Fiddian Court Altona Meadows Vic 3028    500000        4   \n",
       "\n",
       "   bathroom  parking    proType      sold_date  \\\n",
       "0         2        4    Farmlet  Wed 08-May-13   \n",
       "1         1        0  Lifestyle  Fri 12-Jun-15   \n",
       "2         1        2       Unit  Sat 07-Dec-13   \n",
       "3         1        2      House  Mon 01-Sep-14   \n",
       "4         2        2      House  Thu 23-Apr-15   \n",
       "\n",
       "                                         agency_name  \\\n",
       "0                                   LJ Hooker - Sale   \n",
       "1                McNaughton Estate Agents - Werribee   \n",
       "2                               Ray White - Oakleigh   \n",
       "3           Sweeney Estate Agents - Caroline Springs   \n",
       "4  Hunter French Real Estate - Altona Meadows & A...   \n",
       "\n",
       "                                         agency_addr  \\\n",
       "0            236 - 288 Raymond Street Sale Vic 3850    \n",
       "1                38 Synnot Street Werribee Vic 3030    \n",
       "2               7-9 Atherton Road Oakleigh Vic 3166    \n",
       "3  Shop 21A, 13-15 Lake Street Caroline Springs V...   \n",
       "4  Shop 22, 1 Central Avenue Altona Meadows Vic 3...   \n",
       "\n",
       "                                            des_head  \\\n",
       "0                                   Farmlet Makeover   \n",
       "1          Lifestyle 100 Acres Conservation Property   \n",
       "2                       Exceptional Modern Elegance!   \n",
       "3  Spacious single level family home located minu...   \n",
       "4                                EASY CARE LIFESTYLE   \n",
       "\n",
       "                                         des_content  \\\n",
       "0  Established farmlet that has had a major makeo...   \n",
       "1  Rare opportunity to buy land of this size so c...   \n",
       "2  Excellent opportunity available for the home b...   \n",
       "3  * Comprising of 4 generous bedrooms with BIR's...   \n",
       "4  This part double storey home offers classic li...   \n",
       "\n",
       "                                            features  \n",
       "0  Property Type:Farmlet, Bedrooms:3, Bathrooms:2...  \n",
       "1  Property Type:Lifestyle, Bedrooms:2, Bathrooms...  \n",
       "2  Property Type:Unit, Bedrooms:3, Bathrooms:1, T...  \n",
       "3  Property Type:House, Bedrooms:4, Bathrooms:1, ...  \n",
       "4  Property Type:House, Bedrooms:4, Bathrooms:2,G...  "
      ]
     },
     "execution_count": 4,
     "metadata": {},
     "output_type": "execute_result"
    }
   ],
   "source": [
    "df.head()"
   ]
  },
  {
   "cell_type": "code",
   "execution_count": 5,
   "id": "e83bea40",
   "metadata": {},
   "outputs": [],
   "source": [
    "null_rows_df = df[df.isnull().any(axis=1)]"
   ]
  },
  {
   "cell_type": "markdown",
   "id": "c1e7696c",
   "metadata": {},
   "source": [
    "There are no null values amongst any of the columns\n",
    "So processing this data is proably just gonna be splitting this table up into different tables depending on features"
   ]
  },
  {
   "cell_type": "code",
   "execution_count": 6,
   "id": "14fe0b97",
   "metadata": {},
   "outputs": [],
   "source": [
    "des_df = df[['ID','des_head','des_content']]"
   ]
  },
  {
   "cell_type": "code",
   "execution_count": 7,
   "id": "bbe4ffe0",
   "metadata": {},
   "outputs": [
    {
     "data": {
      "application/vnd.microsoft.datawrangler.viewer.v0+json": {
       "columns": [
        {
         "name": "index",
         "rawType": "int64",
         "type": "integer"
        },
        {
         "name": "ID",
         "rawType": "int64",
         "type": "integer"
        },
        {
         "name": "des_head",
         "rawType": "object",
         "type": "string"
        },
        {
         "name": "des_content",
         "rawType": "object",
         "type": "string"
        }
       ],
       "conversionMethod": "pd.DataFrame",
       "ref": "2ee31356-55fd-40d0-9301-0978981835e4",
       "rows": [
        [
         "0",
         "7513227",
         "Farmlet Makeover",
         "Established farmlet that has had a major makeover with new kitchen, bathroom, en-suite and family room.  Located only 16Kms from Sale a peaceful rural location is this established property.  The home has recently been rendered, re-wired, re plumbed and enclosed the garage into a great family room as part of the house.  There is a modern kitchen/meals area with loads of cupboard space and a slow combustion heater.  There is a formal lounge and separate dining room with polished timber floor boards and large windows with rural views of the property.Outside is a covered decking to sit and enjoy the atmosphere of this lifestyle properly.  There is plenty of water on this 2.4 hectare property with a bore, 1 mg litre dam pumping right from the channel and plenty of Tanks.  There is also a modern 3 bay machinery shed with enclosed and lined office or kids entertaining area plus an old renovated shearing shed.An ideal property that offers the whole family an idyllic lifestyle within easy reach of all the district has to offer."
        ],
        [
         "1",
         "7720571",
         "Lifestyle 100 Acres Conservation Property",
         "Rare opportunity to buy land of this size so close to town. Only short 5 min. drive to Manor Lakes and approx.12 min. to Werribee.This generally flat land was largely cleared for cropping or grazing, divided into 7 paddocks with an impressive stand of mature native red gums and huge dam. It enjoys views to the You Yangs across surrounding farmland, has good rural fencing and a sealed road frontage.Features a charming vinyl-clad timber house with open plan living, spacious rooms, porch, veranda, decking and solar panels to hot water unit.This property also boasts three powered machinery sheds/workshop, chicken coop, bore water and also a large concrete tank holding 300,000 litres.An unique and incredibly rare lifestyle opportunity not to be missed!"
        ],
        [
         "2",
         "104997043",
         "Exceptional Modern Elegance!",
         "Excellent opportunity available for the home buyer or astute investor to secure this spacious fully renovated home situated within walking distance to Huntingdale train station (Zone 1) , Clayton Train Station, local schools & parklands, bus stops, Clayton shopping district, Clayton Community Centre and only minutes away from Monash Medical Centre & Monash University.This fantastic home boasts 3 spacious bedrooms (2 with mirror BIR's), modern fully tiled bathroom with spa, and separate laundry with additional toilet, fully landscaped rear garden with water tank leading to the remote control double lock up garage. With everything at your fingertips and close to all amenities, this stylish and modern home will be your next dream residence! As you walk into this fabulous home with showcase downlights throughout that leads to the sunfilled formal lounge with a feature fireplace, reverse cycle air conditioning in master bedroom, immaculate polished floorboards spread to the stunning fully renovated kitchen with stone benchtops, gas Smeg stainless-steel appliances, Blanco dishwasher, ample cupboard space, ducted heating, evaporate cooling system and much more.Last chance...show more"
        ],
        [
         "3",
         "105023594",
         "Spacious single level family home located minutes to all amenities and schools",
         "* Comprising of 4 generous bedrooms with BIR's* Huge sun filled kitchen/meals & adjoining living area* Separate lounge room* Ducted heating, evaporative cooling, alarm, high ceilings* 900mm s/s kitchen appliances, dishwasher, ducted vacuuming...* Established gardens with huge pergola for entertaining* Double remote garage with rear access* Currently securely leased until Dec 14 @$330 per week"
        ],
        [
         "4",
         "105140240",
         "EASY CARE LIFESTYLE",
         "This part double storey home offers classic living throughout, it has been created with a fresh design approach emphasizing on attention to detail, and displaying a level of comfort and style throughout, with quality curtains and drapes, elegant light fittings, ducted heating and cooling. Located within close proximity to schools, parkland, services, and local shopping facilities.The lower level comprises of an entrance hall, leading to an open plan kitchen / meals. Kitchen with modern stainless steel appliances, and ???Colonial' doors, formal lounge featuring ???French??? double doors, forth bedroom / study,rumpus room, laundry, powder with shower recess, toilet and vanity.With a polished timber staircase leading to the upper level, complimentedby polished timber floors,featuring three roomy bedrooms, all with (built-in robes), central bathroom and separate toilet.Other comprehensive appointments include undercover pergola, double garage with fully functional kitchen, boundary fencing, all set amongst established gardens, for your enjoyment for years to come.Currently securely leased until 10/04/15 for $1,647.00 per calender month."
        ],
        [
         "5",
         "105178169",
         "Quality, convenience and elevated style!",
         "Walking distance to Gaffney Street shops and Pascoe Vale Station is this contemporary rear townhouse offering a ready-to-go lifestyle or investment opportunity with its spacious design, stylish features and absolute privacy. Versatile floorplan comprises three bedrooms (all with built-in robes), bathroom and separate toilet, large central lounge leading through to the open living/dining area and well-appointed kitchen. Highlights include ducted heating throughout, double-glazed windows, polished hardwood floors, solar/gas hot water service, plus a north-facing courtyard and remote-controlled double garage with internal entry. Easy access to local schools and parks, CBD via Citylink  move straight in, or rent straight out!"
        ],
        [
         "6",
         "105196799",
         "Spacious 2 Bedroom Towhouses with World Class Style",
         "3 High quality Townhouse's with open plan living will impress in these modern properties offering sheer size and natural light. A modern kitchen featuring stone bench tops and tile splashback! Two spacious bedrooms all with robes / Master with ensuite and a central modern bathroom. While a central oversized dining/lounge takes centre stage of the home. Adding further appeal, this quality home benefit's from heating and cooling. High ceilings/doors. Perfectly positioned only a few hundred metres to the Newport train station, Mason Street shops, cafes IGA supermarket, Williamstown restaurants & beach, easy access to the freeway and only 10 minutes into the Melbourne CDB"
        ],
        [
         "7",
         "105236228",
         "OPULENT LIFESTYLE WITH 3 LIVING AREAS!",
         "With amazing street appeal, this magnificent family home offers an exquisite blend of modern elegance with sumptuous living and a great outdoor entertaining area that completes the package.Within close proximity to ???Skeleton Creek???, bicycle tracks, recreationalreserves, local shopping facilities, services and amenities.Showcasing an internal configuration of an abundance of space, with a flexible floorplanoffering four big bedrooms all with (built-in robes), main with full ensuite and spa, wide entrance hall, formal lounge, spacious open plan living, rear rumpus room which leads out to an outdoor undercover entertaining area, gorgeous kitchen with modern stainless steel appliances and separate meals area.Comprehensive appointments include ducted heating, evaporative cooling, established front and rear gardens and a lock up garage with remote access. This truly is a defining lifestyle of family opulence. An inspection will impress and is strictly by appointment."
        ],
        [
         "8",
         "105246219",
         "Exceptional Modern Elegance! Luxury living in top location!",
         "Fantastic opportunity available for the first-home buyer or astute investor to secure this beautiful double storey residence situated within few minute walk to Monash Medical Centre and Clayton train station, and minutes away from Clayton Shopping Centre, Clayton Community Centre and Monash University, you will not find a better growth location for this exclusive masterpiece.This architecturally-designed 4 bedrooms townhouse, with spacious living room and dining area, large open-plan U-shaped kitchen, downstairs huge master bedroom with walk-in-robe and superb en-suite come with spa bath, and upstairs three other large bedrooms al with built-in-robes, separate retreat areas, central bathroom and a separate toilet.Comprises: 900mm cook top and range hood, two drawer dishwasher, Jarrah Hardwood staircase and flooring, large separate laundry room, separate powder room, ducted heating, separate air-conditioning, single lock-up garage with internal access, security alarm system, private rear courtyard and much, much more!Inspect now before it is too late!Terms: 10% depositSettlement: 30/60 daysDisclaimer: We have in preparing this...show more"
        ],
        [
         "9",
         "105288078",
         "Altona North's best address  Altona North's best address",
         "Redefine the meaning of carefree living with this next to new Townhouse that offers a lifestyle that's the envy of Altona North. Superbly positioned on the edge of Newport in a location widely regarded as the finest in Altona North.Ultra modern, brand new living is the order of the day with these superb triumphs of modern living, perfectly designed to offer a balance between vibrant living areas and private, secluded retreats.Entertain in true style with an open plan setting that's usually reserved for lavish display homes - and when merged with the five-star alfresco, fabulous indoor-outdoor entertaining options are available for the grand entertainer!Successful zoning cleverly positions the home's three bedrooms, upstairs for added privacy, while a quietly positioned ground level study lends itself perfectly for the home office setting.All the latest luxuries you'd expect in a modern home are present in a big wayWhile there's little doubt you'll be pinching yourself silly with the luxurious living on offer inside, you'll be doing much the same the moment you step outside and discover the lifestyle of convenience residing at your front door. The...show more"
        ],
        [
         "10",
         "105342471",
         "It Is All About Position",
         "Prime beach side brick residence extensively renovated and refurbished featuring entrance foyer, formal lounge-dining with open fire place, 3-bedrooms, 2-bathrooms (en suite to master with spa), modern fully appointed galley style kitchen, open plan family room and double doors which lead out onto a timber deck - ideal for all year round alfresco entertaining. The rear yard is generous and would suit most active young families - even comes complete with a children's cubby-house. Positioned perfectly within easy walking distance to shops, station, schools and beach."
        ],
        [
         "11",
         "105421122",
         "Easy Living & Affordably Priced",
         "Live comfortably in this most impressive beach-side townhouse with the shops and station literally around the corner, parkland and football oval  directly opposite and the pristine waters of Parkdale Beach very closeby. The home is nestled securely behind a high brick fence and within a private garden oasis awaits. Several internal courtyards combine to provide a unique outdoor experience. Alfresco entertaining is assured and there???s even room for a trampoline. The open plan living area is only one of many redeeming features on offer, with ample room for dining. Ducted gas heating and cooling. The kitchen is comprehensive with abundant storage/bench space and a sweeping breakfast bar. Accommodation includes 3-bedrooms with ensuite to master. The family bathroom offers a separate bath and shower recess including a second toilet. The upstairs third bedroom is very versatile and easily doubles for an additional living room. Car accommodation includes a lock up garage with direct access entry. There Is a second driveway entry into the property with a carport and car space."
        ],
        [
         "12",
         "105451745",
         "Stylish and Immaculate from Top to Bottom",
         "Just two years old, this exceptionally spacious townhouse sparkles as new. Boasting a private, rear position on a block of only two, it's defined by bright, airy spaces and upscale appointments. Downstairs, a generous lounge gives way to a large, open-plan kitchen/meals/rumpus area, lined with ample windows that light the timber floors.  The kitchen is a chef's dream with its modern SS appliance and pleasant courtyard views. Low-maintenance but well-proportioned, the courtyard features two deck areas, including one that wraps around the home, and a stylish lap pool, an uncommon townhouse feature! Upstairs, find a study nook, plus-sized master suite with balcony and two spacious and light filled robed bedrooms. Additional features include a large laundry, additional powder room, plantation shutters and quality drapes throughout and gas ducted heating/evaporative cooling. Shops, schools, transport and Eastlink are all just minutes away, making this smart contemporary an ideal choice for families on the go."
        ],
        [
         "13",
         "105459504",
         "Style, Space & Sophistication with City Views",
         "Sophisticated style, elegant appointments and beautifully balanced living spaces define this spacious 4 bedroom plus study, 2.5 bathroom executive residence.  Positioned high on McKinnon Hill this one of a pair offers superior, low maintenance living with spectacular city views.  Enjoy sumptuous designer interiors featuring light filled formal and casual living areas each stepping out to a private walled garden with sunny northerly alfresco entertaining. The landscaped backyard features blackbutt decking, water feature, night lighting and a woodfire pizza oven. A deluxe open plan kitchen boasting stainless steel Bosch appliances, glass splash backs, a movable granite kitchen island and plenty of cabinetry servicing both living & dining zones. A central study with powder room and spacious laundry complete the very well designed ground floor layout.  Exceptional accommodation upstairs includes a vast master bedroom with walk in robes, a fully tiled dual vanity en suite and French doors to a stunning terrace with treetop and city views at one end, and three further bedrooms with built in robes and a family bathroom (laundry chute) at the other. Secure direct house access via single...show more"
        ],
        [
         "14",
         "105536419",
         "Perfect Location! Exceptional Modern Elegance!",
         "Excellent opportunity available for the first-home buyer or astute investor to secure this specious double storey residence situated within walking distance to Clayton Train Station, local schools & parklands, bus stops, Clayton shopping district, Clayton Community Centre and only minutes away from Monash Medical Centre & Monash University.As you walk into this fabulous architecturally designed home with high ceiling, the flowing floor plan will lead you to the elegant open living room with modern open kitchen and separate dining area, three spacious bedrooms with built-in-robes, master bedroom with ensuite, modern family bathroom and laundry room, plus bi-fold doors leading to the beautiful alfresco with timber decking, perfect for entertaining family and friends.Comprising: Parquetry floors, living room, family/ meals area, 3 robed bedrooms, upstairs study/ retreat, ensuite to main bedroom, central bathroom, gloss vinyl wrap kitchen with Caesar stone benchtops, stainless steel appliances and dishwasher, powder room, 3 split system reverse cycle heating and cooling units, 2000L water tank, remote controlled double garage and and much, much more!...show more"
        ],
        [
         "15",
         "105537197",
         "Just Perfect??????..",
         "This stunning and well-kept 3 bedroom 2 bathroom home is perfect for any astute buyer. Featuring tiles and carpet throughout, huge kitchen/meals area and large living space this home has everything you need to call home. It has a four car lock up driveway with double lock up garage plus carport & a good sized backyard, which is great for the kids to play around in, leaves this place a great buy for any young family, professional couple or investment opportunity. Located in the same street as the Seabrook Primary School and with the Wetlands, Shops and easy freeway access just around the corner puts this home in one of Seabrooks prime location and well sort after destinations."
        ],
        [
         "16",
         "105542245",
         "Stylish Villa Unit offers a great Lifestyle",
         "* Affordably priced and most appealing spacious villa unit *One of only five units superbly located in popular tree lined street. *Positioned at the rear and very private *Bright open plan living room *Good sized bedroom with built in robes *Freshly painted with new carpets *Good sized appealing private courtyard *Carport directly outside the unit *Separate title for unit including carport *Short walk to the local Vernon St Village shops (500 mts) *3 mins drive to Westgate Bridge access *A few minutes to Yarraville, Williamstown and the CBD *Your opportunity for a great lifestyle"
        ],
        [
         "17",
         "105578189",
         "Your Next Perfect Family Home",
         "This light & bright family home is a short walk to Coomoora Schools, public transportand few minutes to Springvale South Shopping Centre. Open plan for easy living, this fantastic home provides space & comfort Featuring:* 4 good sized  bedrooms* Master with Ensuite & WIR* Large formal lounge* Huge dining opening to BBQ area * Updated modern kitchen with stone bench & quality 900mm S/S appliances* Solid timber floor* Ducted heating & split AC* 3 x skylights* Double LU garage + carport...Contact Phuc Le today!"
        ],
        [
         "18",
         "105641099",
         "*** SOLD FOR $540,000 ***",
         "This 2 bedroom fully furnished apartment is the ideal environment for the active city dweller. Walk to the office after you have done your workout in one of the most advanced gyms in Australia at YMCA. This apartment comes fully furnished with 2 double beds, kitchen/living areas with modern appliances, balcony, built in robes in each bedroom as well as access to car parking. Free membership of the YMCA gymnasium as well as access to the swimming pool. Features: - Secure intercom, reception, building manager and use of communal facilities- Access to residents pool & gym- Fantastic location amongst restaurants, bars & shops- Just beside Etihad Stadium, close to Harbour Town, Melbourne CBD - Secure car space on title & storage cage- High level finishing throughout"
        ],
        [
         "19",
         "105737226",
         "Architecturally Designed  Sleek, Stylish and Spacious Living!",
         "*A Superb Home in Quality and Innovation*Articulated design features create a contemporary exterior and open plan interior with impressive balcony*Three bedrooms, two spacious living areas plus study *Master bedroom with WIR & ensuite (spa bath)*Open plan kitchen/meals & living with smeg appliances & stone benches*Quality features include polished floor boards, ducted heating, cooling & alarm*Double remote garage with internal access & great courtyard ideal for outdoor entertaining*Currently tenanted at $1734.00 per calendar month"
        ],
        [
         "20",
         "105751275",
         "AUCTION THIS SATURDAY AT 10:30-11:00AM",
         "This fantastic 3 bedroom single storey residence is located within a 5 minute easy stroll to Clayton Train Station, Clayton Shopping Precinct, Clayton Aquatic Centre, Clayton Community Centre, and minutes away from Monash Medical Center, Monash University, schools and parklands. Situated in one of Clayton's most sought-after streets, this sensational home is designed to impress and awaits eagerly for you to move right in!As you walk into this fabulous light filled home, the flowing floor plan will lead you to the elegant open living room with modern open kitchen and dining area, three spacious bedrooms, master bedroom with walk-in-robe and two way stylish central bathroom with separate toilet and laundry room, with the dining area opening up to a spacious low maintenance courtyard perfect for entertaining family and friends.Features: Stainless steel cooking appliance, dishwasher, central ducted heating and evaporative cooling system, single remote controlled lock-up garage, and too many features to list! Last chance to inspect and secure this fantastic property, one of the best residences in the area!Disclaimer: We have in preparing this...show more"
        ],
        [
         "21",
         "105778411",
         "Modern Living at its finest",
         "Experience modern living at its finest with these brand new immaculately presented 3 bedroom townhouses. Acutely designed with a minimalist flair, these contemporary homes embody open plan living, and provides a radiance of natural light throughout. Complete with timber floors throughout, and plush new carpets in the bedrooms, these elegant home arrives equipped for entertaining. Featuring a modern kitchen with stainless steel appliances, 2 bathrooms, delightful courtyard for soaking in the rays, heating, cooling, secure lock-up garage and landscaped lawns - these homes offer everything needed for sophisticated living. All residing in the highly sought after pocket of Newport, located centrally offering convenience at every turn. Only a heartbeat from Paisley Park, Newport Lakes, Loft Reserve and public transport, with excellent access to the foreshore, Newport's trendy hub and the Westgate Freeway. Opportunities rarely get any better than this!"
        ],
        [
         "22",
         "105779471",
         "Perfect Location! Exceptional Modern Elegance!",
         "Excellent opportunity  for the first-home buyer or astute investor to secure this specious double storey residence situated within walking distance to Clayton Train Station, local schools & parklands, bus stops, Clayton shopping district, Clayton Community Centre and only minutes away from Monash Medical Centre & Monash University.As you walk into this fabulous architecturally designed home with high ceiling and polished timber floorboards, the flowing floor plan will lead you to the elegant open living room, dining area and modern kitchen, plus sliding doors leading to the specious courtyard, downstairs also have one bedroom with BIR,  separate laundry room, and powder room. Upstairs have master bedrooms with ensuite, and another two bedrooms with built-in-robe, and central modern bathroom.Comprising: solid timber floors to living room, dining area and kitchen, bedrooms with built-in-robe, ensuite to master bedroom, central bathroom, modern spacious kitchen, powder room, separate laundry room, central ducted heating, split system reverse cycle heating and cooling units, remote controlled garage and much, much more!Inspect now before it is too late!...show more"
        ],
        [
         "23",
         "105829822",
         "Modern Living at its finest",
         "Experience modern living at its finest with these brand new immaculately presented 3 bedroom townhouses. Acutely designed with a minimalist flair, these contemporary homes embody open plan living, and provides a radiance of natural light throughout. Complete with timber floors throughout, and plush new carpets in the bedrooms, these elegant home arrives equipped for entertaining. Featuring a modern kitchen with stainless steel appliances, 2 bathrooms, delightful courtyard for soaking in the rays, heating, cooling, secure lock-up garage and landscaped lawns - these homes offer everything needed for sophisticated living. All residing in the highly sought after pocket of Newport, located centrally offering convenience at every turn. Only a heartbeat from Paisley Park, Newport Lakes, Loft Reserve and public transport, with excellent access to the foreshore, Newport's trendy hub and the Westgate Freeway. Opportunities rarely get any better than this!"
        ],
        [
         "24",
         "105856721",
         "Too Good To Miss!",
         "Loaded with features this nearly new and extremely well  designed 2 bedroom apartment will bring a smile to your face. Now, would like a dishwasher with that? How about a reverse cycle air conditioning and a courtyard to boot? Ah, what the heck have a secure car space as well. Don???t forget the location, Aldi supermarket is just downstairs, 2 minutes to tram and short stroll to Acland Street and the beach.Current rent $406 per week.We want to sell your property, call us for our NO SALE - NO CHARGE special. In the meantime please inspect this property."
        ],
        [
         "25",
         "105884918",
         "Exceptionally Presented, Perfectly Positioned",
         "Get the space and privacy of a townhouse and the security and amenities of a luxury apartment at this stylish family home. An impressive entry courtyard with lovely plantings and stone feature walls welcomes residents into the peaceful complex. Inside, the sun-drenched open plan living/meals area complements a well-appointed kitchen, complete with Smeg appliances, a built-in Liebherr fridge and storage space galore. Outside, the large, low-maintenance timber deck invites barbeques and entertaining. There are three bedrooms, including one downstairs and a brilliant master suite with balcony and dual-access ensuite. Split systems in every room, ducted vacuum, security alarm, a two-car garage with internal access and underground visitor's parking are just some of the features of this immaculate home. Best of all, the location is unbeatable; set on a quiet street a short stroll from Devon Plaza and minutes from Eastlink, Westfield and quality schools."
        ],
        [
         "26",
         "105891256",
         "A life of convenience (sold off market in one week)",
         "Upon entry you are greeted with an open plan living and dining area with plenty of natural light throughout. The kitchen has a great view over the spacious backyard, with rear access into the single remote lock up garage. Good sized bedrooms and immaculately kept bathroom, master with BIR.Situated in a sought after location, within close proximity to shops, cafes, train station, and only minutes to Williamstown Beach and Melbourne CBD."
        ],
        [
         "27",
         "105940645",
         "Develop Where Everyday Convenience Is At A Premium!",
         "Situated within walking distance of Holmesglen train station and only moments away from Chadstone Shopping Centre, this potential-laden property yearns for an astute developer to take advantage of its fantastic offering.Set on a generous 594sqm (approx.) allotment, the property currently accommodates an extremely well-presented two-bedroom home with Bungalow in the large backyard serving as a possible third bedroom. Polished timber floorboards, spacious kitchen with stainless steel appliances and light-filled lounge illustrate the comfortable livability of the home, meaning the future owner can move in now with the prospect of developing later or leasing the property while awaiting the approval of plans and permits for a new family home or multiple Townhouses (STCA).Imagine the mass appeal of a newly developed property in a location offering outstanding convenience. Batesford Reserve, Holmesglen TAFE and local shops are within walking distance, while fantastic access to the Monash Freeway will appeal to city workers.Disclaimer: We have in preparing this document used our best endeavours to ensure that the information contained in this...show more"
        ],
        [
         "28",
         "105997178",
         "EVERYTHING AT YOUR DOORSTEP",
         "This modern 1 bedroom apartment is located in the heart of Footscray and within easy access to all your essentials for a relaxed, low maintenance lifestyle.It features a spacious open plan kitchen, dining and living area with a combined bathroom/laundry and enclosed balcony.Also included is a split system for heating/cooling and BIR in the bedroom.Within walking distance to Footscray Station and trams, 10 min to the CBD and surrounded by markets and an array of eateries, just move in and enjoy!"
        ],
        [
         "29",
         "106077031",
         "Majestic Property, Prestigious Location",
         "Auction THIS Tuesday |In Room Auction - Manningham City Council | Function Room 1, Civic Offices, 699 Doncaster Road, Doncaster - 6.30pm for 7pm Start.Perched on an elevated corner allotment set on 4010sqm approximately, on the border of Templestowe in one of Warrandyte's most prestigious neighbourhoods, the sheer vastness of this majestic home impresses immediately. With a collection of three spacious living areas, generous-sized bedrooms, classic d??cor and landscaped exterior, family living has never been so luxurious. Practical living and entertaining has been factored into the grand, sun-kissed floorplan that spans across two levels and is doused in class and unsurpassed opulence.A spectacular foyer successfully illustrates the sheer grandeur of the home, with formal living areas flanking the signature feature. Ground-level rumpus with projector and screen offers a private Gold Class experience, while open-plan living is at the heart of the home and effortlessly blends the family living (with surround-sound wiring), meals and King-sized kitchen boasting quality stainless steel appliances and stone benches as one.  Also, offering modern luxury and...show more"
        ],
        [
         "30",
         "106089321",
         "MAGICAL IN EVERY WAY!",
         "A contemporary address offering exceptional lifestyle appeal, 'TRAVANCORE ON THE PARK' is also highly credentialed from an investment point of view. This bright, north facing apartment provides a perfect example. Generous Living/Dining that incorporates a fitted Study nook is further complemented by an open plan Kitchen featuring gleaming black granite benches and stainless steel appliances. A huge, under-cover terrace makes a major contribution to this apartment's appeal and is accessed from the main Bedroom with ensuite, as well as from the Living/Dining domain. A second Bedroom, stylish central bathroom and separate laundry complete the picture, enhanced by heating/cooling, secure car space and piazza with communal BBQ area. Trams, trains and bike tracks to the city all only moments away. Apartment size: 99.1m2 (including balcony)Distance: 4 km to CBD; 458 meters to Flemington Bridge Railway Station."
        ],
        [
         "31",
         "106120212",
         "FULLY RENOVATED FOUR / FIVE BEDROOM with 2 LIVING ROOMS.",
         "Open plan 5 bedroom fully renovated entertainer impresses with its resort style outdoor lifestyle featuring a gleaming salt chlorinated pool encased within a sun soaked secluded private paradise.Come and admire this ultimate famly home-* Superb gourmet kitchen with granite bench, Smeg appliances and Asko dishwasher.* Dual separate iiving rooms with formal lounge, dining area and familyroom adjacent to pool area.* 2 stylishly renovated bathrooms* Super bedroom sizes - 4 double, 1 single all with double built in robes.* Main bedroom awash with pool vistas, mirrored robes and ensuite.* Highly polished floors and quality tiling throughout.* Brivis Gas ducted heating & Rheem 260L gas hot water system* Hitachi 8kw(cooling)/9.3kw(heating) inverter split system aircon.* Jet Master gas fire with black granite hearth in lounge.* Salt chlorinated, solar/gas heated inground pool with adjacent deck area.* Professionally landscaped front garden designed for low maintainence and minimum water usage.* Undercover outdoor bar area with space for refrigerator and BBQ.* Covered brick faced carport and brick storage shed....show more"
        ],
        [
         "32",
         "106142518",
         "A Retirement Unit and a Lifestyle : All in One",
         "Two bedrooms, lounge, kitchen, and dining with every comfort.Fully insulated, heating and cooling for those cold winters and hot summers.Full list of standard features affording a hassle free move and a great future.Bring the car, each unit has car accommodation.A safe way to live, enjoyable living.Inspection welcome - we can even pick you up... just call us... 9313 7817"
        ],
        [
         "33",
         "106159868",
         "A SECURE INVESTMENT - PRIME LOCATION - STUDENT ACCOMMODATION",
         "Situated immediately across the road from Swinburne University, this fully furnished one bedroom apartment accommodates two students and delivers a healthy secure return of $315 per week. This represents around a 6.7% return. There is a car park on title as well - a BONUS in this area. Leased until July2012."
        ],
        [
         "34",
         "106213625",
         "696m2 OF LAND TO FURTHER DEVELOP  WALK TO CLAYTON CENTRAL!",
         "Situated in one of Clayton's finest streets is this wonderful 3 bedroom home appealing to both the homebuyer, investor and the developer within walking distance to Clayton Train Station, Clayton Community Centre, local schools, parklands and Clayton Central Shopping District will sure get the blood boiling in anyone looking to renovate/multi-develop on this massive block of land.Comprising: 3 large bedrooms, central bathroom with separate toilet, kitchen with gas appliances and meals area, Great for entertaining and overlooking a generous allotment of 696 sqm approx. with fantastic dual occupancy potential to develop at the rear or multi-unit development site (S.T.C.A.).Land Dimension: 15.67m x 44.48m = 696sqm approx.Deposit: 10%Settlement: 30/60 daysDisclaimer: We have in preparing this document used our best endeavours to ensure that the information contained in this document is true and accurate, but accept no responsibility and disclaim all liability in respect to any errors, omissions, inaccuracies or misstatements in this document. Prospect purchasers should make their own enquiries to verify the information contained in this...show more"
        ],
        [
         "35",
         "106404148",
         "A Great Opportunity In A  Seaside Suburb",
         "*Set on one of the larger allotments of the estate 646m2  (approx)*Formal lounge / meals with polished floorboards, leads into kitchen with breakfast bar*Comprising of four generous bedrooms, master with WIR and ensuite including spa*A double lock up garage with sheds/workshop compliment this package*Ample off street parking, great for those with boats/caravans/trailers*Shops and beach all in close proximity allow this property to be the perfect family home."
        ],
        [
         "36",
         "106432873",
         "Family Comfort",
         "Enjoy the convenience of living in this home with parklands, schools and shopping amenities only minutes away. Comprising:- 3 bedrooms main with en-suite, spacious lounge, open plan kitchen/meals, tiled bathrooms, separate laundry with built in cupboard. Features include floating polished boards, central heating, split system air-conditioning, built in robes, lock-up garage with remote access, huge carport or studio, and low maintenance  backyard.This home provides ample comfort for the growing family.Be quick to inspect this rare opportunity."
        ],
        [
         "37",
         "106564490",
         "Perfectly Positioned",
         "Don't miss out on your chance to purchase this 81.7sqm (approx) 2-bedroom apartment in an ideal location in the heart of Southbank. Be within walking distance to Crown Entertainment Complex, Southgate cafes and restaurants and the CBD - what more could you need?Accommodation: Feel at home in the bright and comfortable open plan living and dining area with your own private balcony. Modern kitchen featuring glass splash backs and ample bench space. Two generously sized bedrooms with mirrored built in wardrobes serviced by an immaculate central bathroom with concealed laundry facilities.Features: Single secure car space on title, a fantastic location close to public transport and only a short walk to the best that Melbourne has to offer plus residents enjoy exclusive use of resort style facilities including pool, gym, tennis court, electronic security &full-time concierge."
        ],
        [
         "38",
         "106583075",
         "SOLD BY RAY WHITE RESERVOIR PROJECT SALES",
         "PLEASE CALL JOHN CATANZARITI 0419 384 060 OR MATHEW MAROTTA 0413 235 973Delivering the size you crave in a sought-after setting on the Oakhill Estate fringe, this trendy two-bedroom unit ticks all the boxes on the checklist of the busy professional and young couple.Zoned living is a star feature of the intelligently designed floorplan, which sees both generous-sized bedrooms placed at the front of the home away from the vibrant open-plan setting that takes centrestage at the top of the layout. Glass sliding doors integrates the interior with a maintenance-free courtyard, while crisp high ceilings, stylish kitchen (with stone benchtops, island bench and stainless steel appliances), floating timber floors, abundant natural light and split-system heating and cooling gives the residence a contemporary personality.Blending a low maintenance, single-level layout with fantastic access to Reservoir train station, Plenty Rd trams and Broadway shops means empty nesters can downsize their home without downgrading their lifestyle, while it???s also a perfect package for the savvy investor aware of the unit???s potential as an attractive rental option."
        ],
        [
         "39",
         "106640043",
         "PRICE REDUCED! Stunning Inner City Apartment",
         "Here is your chance to purchase this stunning two bedroom plus study apartment in the Vue Grande Complex. Perfectly positioned within a short distance to the CBD, Crown Casino Complex, DFO South Wharf, South Melbourne plus more.Accommodation: With a large open plan living and dining area with air conditioning, heating and a private balcony with stunning views of the bay.Modern kitchen with large stone bench tops and stainless steel appliances.Two generous sized bedrooms with mirrored built in wardrobes - the master includes a private ensuite with stand alone shower.Also offering a private study area/office space and a central bathroom with concealed laundry facilities.Features: Secure car space on title and residents have access to facilities including a glass roofed indoor pool, gymnasium and concierge services.Enjoy a central location just minutes from the CBD, Crown Casino, Exhibition Centre, Yarra River and new Convention Centre Precinct."
        ],
        [
         "40",
         "106640455",
         "Enticing Style and Enviable Convenience On Corner Allotment",
         "This fantastic property occupying a coveted 548sqm (approx.) corner allotment in a location delivering convenience at every turn, those equipped with the vision to transform a classic home into a modern masterpiece have the blank canvas you've been waiting for.Accessed via Harris Avenue and dressed with period features and living spaces of generous proportions, the home also functions as an ideal home for the growing family eager to settle in highly-sought Glen Iris.Four generous-sized bedrooms Three separate living zones plus freestanding Bungalow in the large backyard Outstanding opportunity to modernise an interior already featuring polished timber floorboards, high ceilings and period features Multiple unit development, Dual occupancy or medical consulting suites (STCA). Fantastic access to central Glen Iris, the Camberwell shopping district, Chadstone Shopping Centre, Malvern Central, well-regarded private schools, the 72 tram, Gardiner train station and the Monash FreewayDisclaimer: We have in preparing this document used our best endeavours to ensure that the information contained in this document is true and accurate, but...show more"
        ],
        [
         "41",
         "106646548",
         "Modern Living",
         "* 2 comfortable bedroom (all with BIR's)* Neat and tidy kitchen with meals area* Bright bathroom* Great location, just a short walk to all amenities* Excellent view of West Gate Brigde and Melbourne cityFeatures: Downlights, window furnishings, fully furnished. inspection is sure to impress, be quick to view"
        ],
        [
         "42",
         "106660465",
         "Nest or Invest",
         "Located in a popular Springvale South location, close to newly built Aldi supermarket, local schools, Shops, transport and freeways is this 2 bedroom unit perfect for first time investors or owner occupiers.There is a separate lounge, 2 large bedrooms central bathroom and separate laundry with access to large private backyard. It is currently returning $1215pcm.The owners corporation fee is only $650 per year which covers building insurance, public liability insurance along with outside maintenance such as lawn mowing."
        ],
        [
         "43",
         "106668432",
         "MODERN RENOVATED UNIT NEAR MONASH UNIVERSITY",
         "This great location is only a short walk to Monash University and offers  comfortable modern accommodation. . Consisting of 2 bedrooms with BIR, huge lounge, modern kitchen with meals area, excellent bathroom and laundry. Features: Polished floors, split heating and cooling and car space. Ideal for investors.  Leased to March, 2014 at $1434 pcm. PRIVATE INSPECTION CALL CHRIS - 0417 333 200  OR  DENNY 0418 333 319  for more go to www.darraszervas.com.au"
        ],
        [
         "44",
         "106685036",
         "Not just a great location....the ideal family home 4 bedrooms, double garage and so much more...",
         "A warm and inviting home in ever popular Homestead Run estate.4 good size bedrooms (BIR's) master with WIR & ensuite.Lovely formal lounge offers flued open fire. Polished floorboards & quality fittings throughoutCentral heating, evaporative cooling and alarm system. Water tanks with watering systemsRemote double LUG with rear roller door plus sensational peeked pergola ideal for entertaining any season.Kitchen opens to meals area, casual living room plus separate rumpus.Easy walk to Seabrook Primary & tucked away in a cul-de-sac you will be surprised & impressed upon inspection"
        ],
        [
         "45",
         "106714348",
         "Delightful One Bedroom Moments to the CBD",
         "Whether starting out or downsizing, this immaculate one bedroom apartment, in the stylish Vue Grande residential tower offers you the perfect inner city lifestyle! Just moments from the best of Melbourne including restaurants, cafes, boutique shopping and the iconic Crown Entertainment Complex.Accommodation: Entry opens to large open plan living and dining area with heating and air conditioning that opens up to your very own private balcony. A modern gourmet kitchen with stainless steel appliances and a dishwasher. Offering a generous sized bedroom with a built in wardrobe. Central bathroom with concealed laundry facilities.Features: 1 secure car space and access to facilities including a glass roofed indoor pool, gymnasium and concierge services."
        ],
        [
         "46",
         "106715063",
         "Your Quest for Perfection is Over!",
         "Leaving no stone unturned in the pursuit for quality, excellence and design, this new stunning unit is a remarkable achievement in stylish easy-care luxury in a pocket close to Reservoir Train Station (Zone 1), Edwardes St shops and cafes, Edwardes Park Lake and schools. Glossy tiled flooring and deluxe appointments including Caesar Stone Benches define the sun-filled flowing design of this streamlined residence featuring two extremely large bedrooms serviced by chic and modern bathroom which include a bath and separate shower, expansive storage space and superb living area which seamlessly blend with either a large courtyard. An endless list of luxury extras includes heating and cooling, video intercom and undercover car parking."
        ],
        [
         "47",
         "106730703",
         "READY, SET, GLOW",
         "There is a bright future ahead once you secure this period home that retains many ornate features and is full of potential.Ideally suitable to occupy today in comfort yet with still plenty of scope to add your spark.The home comprises of 3 bedrooms, lounge, kitchen/dining plus a side drive way to a garage.Conveniently located in a quiet street yet walking distance to transport, Victoria University, Maribyrnong Aquatic Centre and much more."
        ],
        [
         "48",
         "106744902",
         "Fantastic location! Vendor Must Sell!",
         "Freestanding townhouse, Land size: Approx 200m2How good is this superbly presented, freestanding double storey townhouse in the best location, boasting very large open space living, exceptional privacy backyard and lock up garage? With easy access to Monash University, Monash Medical Centre, Clayton Train Station, Clayton Shopping Centre and Clayton Community Centre, only minutes away from IKEA Shopping Centre.This beautiful modern townhouse with excellent craftsmanship throughout features 2 large bedrooms with build-in-robes, spacious open living area, modern bathrooms, open plan kitchen with prestige European appliances, other features include a lock up garage with your own drive way, reverse  cycle air conditioning, heating, European laundry and private court yard, great for entertaining with family and friends, an added bonus for summer is keyed access to the estate's private swimming pool and much, much more!Look no further! This is what you have been dreaming of! Move right in to enjoy this fabulous lifestyle!Disclaimer: We have in preparing this document used our best endeavours to ensure that the information contained in this document...show more"
        ],
        [
         "49",
         "106758513",
         "Securely Tenanted High Exposure Retail Property (Freehold Property)",
         "Located in the central of Elsternwicks prime retail area, this outstanding 2 level property offers the buyer a secure and appreciating investment opportunity.Securely tenanted by a Japanese restaurant on a 5 x 5 year lease Less than 1 years remain on the first term Rent: $45,457 net plus GST & all outgoings Leased since 2008 Annual reviews - 3% p.a Land area - 267 sqm.  (Approx) Building area - 341 sqm. (Approx) Zone - Business 1 zone Close to Elsternwick Train Station The ground floor features restaurant, kitchen, double garage, store room. First floor comprises 2 bedrooms, formal living and dinning area, kitchen, and 1 bathroom and function roomMel Ref: 67 F3FOR FURTHER INFORMATION CONTACT:Suzen Su 0421 858 929Leo Ren 0402 514 025"
        ]
       ],
       "shape": {
        "columns": 3,
        "rows": 53220
       }
      },
      "text/html": [
       "<div>\n",
       "<style scoped>\n",
       "    .dataframe tbody tr th:only-of-type {\n",
       "        vertical-align: middle;\n",
       "    }\n",
       "\n",
       "    .dataframe tbody tr th {\n",
       "        vertical-align: top;\n",
       "    }\n",
       "\n",
       "    .dataframe thead th {\n",
       "        text-align: right;\n",
       "    }\n",
       "</style>\n",
       "<table border=\"1\" class=\"dataframe\">\n",
       "  <thead>\n",
       "    <tr style=\"text-align: right;\">\n",
       "      <th></th>\n",
       "      <th>ID</th>\n",
       "      <th>des_head</th>\n",
       "      <th>des_content</th>\n",
       "    </tr>\n",
       "  </thead>\n",
       "  <tbody>\n",
       "    <tr>\n",
       "      <th>0</th>\n",
       "      <td>7513227</td>\n",
       "      <td>Farmlet Makeover</td>\n",
       "      <td>Established farmlet that has had a major makeo...</td>\n",
       "    </tr>\n",
       "    <tr>\n",
       "      <th>1</th>\n",
       "      <td>7720571</td>\n",
       "      <td>Lifestyle 100 Acres Conservation Property</td>\n",
       "      <td>Rare opportunity to buy land of this size so c...</td>\n",
       "    </tr>\n",
       "    <tr>\n",
       "      <th>2</th>\n",
       "      <td>104997043</td>\n",
       "      <td>Exceptional Modern Elegance!</td>\n",
       "      <td>Excellent opportunity available for the home b...</td>\n",
       "    </tr>\n",
       "    <tr>\n",
       "      <th>3</th>\n",
       "      <td>105023594</td>\n",
       "      <td>Spacious single level family home located minu...</td>\n",
       "      <td>* Comprising of 4 generous bedrooms with BIR's...</td>\n",
       "    </tr>\n",
       "    <tr>\n",
       "      <th>4</th>\n",
       "      <td>105140240</td>\n",
       "      <td>EASY CARE LIFESTYLE</td>\n",
       "      <td>This part double storey home offers classic li...</td>\n",
       "    </tr>\n",
       "    <tr>\n",
       "      <th>...</th>\n",
       "      <td>...</td>\n",
       "      <td>...</td>\n",
       "      <td>...</td>\n",
       "    </tr>\n",
       "    <tr>\n",
       "      <th>53215</th>\n",
       "      <td>121066958</td>\n",
       "      <td>Neat As a Pin - on a Large Allotment!</td>\n",
       "      <td>Positioned perfectly on a large 621sqm (approx...</td>\n",
       "    </tr>\n",
       "    <tr>\n",
       "      <th>53216</th>\n",
       "      <td>121078978</td>\n",
       "      <td>NEW UNITS ??? frame stage / ACT NOW for stamp ...</td>\n",
       "      <td>* UNIT 1&amp; 3 SOLD -  1 left.*Open plan kitchen,...</td>\n",
       "    </tr>\n",
       "    <tr>\n",
       "      <th>53217</th>\n",
       "      <td>121080358</td>\n",
       "      <td>Beautifully renovated and rendered home</td>\n",
       "      <td>Beautifully renovated and rendered home conven...</td>\n",
       "    </tr>\n",
       "    <tr>\n",
       "      <th>53218</th>\n",
       "      <td>121080374</td>\n",
       "      <td>Incredible opportunity</td>\n",
       "      <td>Massive land dimensions offer an incredible op...</td>\n",
       "    </tr>\n",
       "    <tr>\n",
       "      <th>53219</th>\n",
       "      <td>121080402</td>\n",
       "      <td>Newly Renovated</td>\n",
       "      <td>This original flat roof Fibro shack home has u...</td>\n",
       "    </tr>\n",
       "  </tbody>\n",
       "</table>\n",
       "<p>53220 rows × 3 columns</p>\n",
       "</div>"
      ],
      "text/plain": [
       "              ID                                           des_head  \\\n",
       "0        7513227                                   Farmlet Makeover   \n",
       "1        7720571          Lifestyle 100 Acres Conservation Property   \n",
       "2      104997043                       Exceptional Modern Elegance!   \n",
       "3      105023594  Spacious single level family home located minu...   \n",
       "4      105140240                                EASY CARE LIFESTYLE   \n",
       "...          ...                                                ...   \n",
       "53215  121066958              Neat As a Pin - on a Large Allotment!   \n",
       "53216  121078978  NEW UNITS ??? frame stage / ACT NOW for stamp ...   \n",
       "53217  121080358            Beautifully renovated and rendered home   \n",
       "53218  121080374                             Incredible opportunity   \n",
       "53219  121080402                                    Newly Renovated   \n",
       "\n",
       "                                             des_content  \n",
       "0      Established farmlet that has had a major makeo...  \n",
       "1      Rare opportunity to buy land of this size so c...  \n",
       "2      Excellent opportunity available for the home b...  \n",
       "3      * Comprising of 4 generous bedrooms with BIR's...  \n",
       "4      This part double storey home offers classic li...  \n",
       "...                                                  ...  \n",
       "53215  Positioned perfectly on a large 621sqm (approx...  \n",
       "53216  * UNIT 1& 3 SOLD -  1 left.*Open plan kitchen,...  \n",
       "53217  Beautifully renovated and rendered home conven...  \n",
       "53218  Massive land dimensions offer an incredible op...  \n",
       "53219  This original flat roof Fibro shack home has u...  \n",
       "\n",
       "[53220 rows x 3 columns]"
      ]
     },
     "execution_count": 7,
     "metadata": {},
     "output_type": "execute_result"
    }
   ],
   "source": [
    "des_df"
   ]
  },
  {
   "cell_type": "code",
   "execution_count": 8,
   "id": "5fa70991",
   "metadata": {},
   "outputs": [
    {
     "data": {
      "text/plain": [
       "0        Property Type:Farmlet, Bedrooms:3, Bathrooms:2...\n",
       "1        Property Type:Lifestyle, Bedrooms:2, Bathrooms...\n",
       "2        Property Type:Unit, Bedrooms:3, Bathrooms:1, T...\n",
       "3        Property Type:House, Bedrooms:4, Bathrooms:1, ...\n",
       "4        Property Type:House, Bedrooms:4, Bathrooms:2,G...\n",
       "                               ...                        \n",
       "53215    Property Type:House, Bedrooms:3, Bathrooms:1, ...\n",
       "53216    Property Type:Unit, Bedrooms:2, Bathrooms:1, T...\n",
       "53217    Property Type:House, Bedrooms:3, Bathrooms:2,C...\n",
       "53218    Property Type:Townhouse, Bedrooms:3, Bathrooms...\n",
       "53219    Property Type:House, Bedrooms:3, Bathrooms:1, ...\n",
       "Name: features, Length: 53220, dtype: object"
      ]
     },
     "execution_count": 8,
     "metadata": {},
     "output_type": "execute_result"
    }
   ],
   "source": [
    "df['features']"
   ]
  },
  {
   "cell_type": "code",
   "execution_count": 9,
   "id": "ef46e144",
   "metadata": {},
   "outputs": [],
   "source": [
    "df['features'] = df['features'].apply(lambda x: x.split(','))"
   ]
  },
  {
   "cell_type": "code",
   "execution_count": 10,
   "id": "e6027689",
   "metadata": {},
   "outputs": [
    {
     "data": {
      "text/plain": [
       "0        [Property Type:Farmlet,  Bedrooms:3,  Bathroom...\n",
       "1        [Property Type:Lifestyle,  Bedrooms:2,  Bathro...\n",
       "2        [Property Type:Unit,  Bedrooms:3,  Bathrooms:1...\n",
       "3        [Property Type:House,  Bedrooms:4,  Bathrooms:...\n",
       "4        [Property Type:House,  Bedrooms:4,  Bathrooms:...\n",
       "                               ...                        \n",
       "53215    [Property Type:House,  Bedrooms:3,  Bathrooms:...\n",
       "53216    [Property Type:Unit,  Bedrooms:2,  Bathrooms:1...\n",
       "53217    [Property Type:House,  Bedrooms:3,  Bathrooms:...\n",
       "53218    [Property Type:Townhouse,  Bedrooms:3,  Bathro...\n",
       "53219    [Property Type:House,  Bedrooms:3,  Bathrooms:...\n",
       "Name: features, Length: 53220, dtype: object"
      ]
     },
     "execution_count": 10,
     "metadata": {},
     "output_type": "execute_result"
    }
   ],
   "source": [
    "df['features']"
   ]
  },
  {
   "cell_type": "code",
   "execution_count": 11,
   "id": "9f168ba7",
   "metadata": {},
   "outputs": [],
   "source": [
    "feature_df = df[['ID','features']]"
   ]
  },
  {
   "cell_type": "code",
   "execution_count": 12,
   "id": "4a720a85",
   "metadata": {},
   "outputs": [
    {
     "data": {
      "application/vnd.microsoft.datawrangler.viewer.v0+json": {
       "columns": [
        {
         "name": "index",
         "rawType": "int64",
         "type": "integer"
        },
        {
         "name": "ID",
         "rawType": "int64",
         "type": "integer"
        },
        {
         "name": "features",
         "rawType": "object",
         "type": "unknown"
        }
       ],
       "conversionMethod": "pd.DataFrame",
       "ref": "bfa2e963-a4ce-430d-8594-de9af19d1076",
       "rows": [
        [
         "0",
         "7513227",
         "['Property Type:Farmlet', ' Bedrooms:3', ' Bathrooms:2', 'Carport Spaces:2', ' Garage Spaces:2', ';']"
        ],
        [
         "1",
         "7720571",
         "['Property Type:Lifestyle', ' Bedrooms:2', ' Bathrooms:1', ' Building Size:165.00 m?? (18 squares) approx', ' Land Size:40.47ha (100.00 acres) (approx)', ';']"
        ],
        [
         "2",
         "104997043",
         "['Property Type:Unit', ' Bedrooms:3', ' Bathrooms:1', ' Toilets:2', ' Air Conditioning', 'Garage Spaces:2', ' Built-In Wardrobes', ';']"
        ],
        [
         "3",
         "105023594",
         "['Property Type:House', ' Bedrooms:4', ' Bathrooms:1', ' Toilets:1', ' Alarm System', ' Air Conditioning', 'Garage Spaces:2', ' Built-In Wardrobes', 'Close to Schools', 'Close to Shops', 'Close to Transport', 'Garden', ';']"
        ],
        [
         "4",
         "105140240",
         "['Property Type:House', ' Bedrooms:4', ' Bathrooms:2', 'Garage Spaces:2', ';']"
        ]
       ],
       "shape": {
        "columns": 2,
        "rows": 5
       }
      },
      "text/html": [
       "<div>\n",
       "<style scoped>\n",
       "    .dataframe tbody tr th:only-of-type {\n",
       "        vertical-align: middle;\n",
       "    }\n",
       "\n",
       "    .dataframe tbody tr th {\n",
       "        vertical-align: top;\n",
       "    }\n",
       "\n",
       "    .dataframe thead th {\n",
       "        text-align: right;\n",
       "    }\n",
       "</style>\n",
       "<table border=\"1\" class=\"dataframe\">\n",
       "  <thead>\n",
       "    <tr style=\"text-align: right;\">\n",
       "      <th></th>\n",
       "      <th>ID</th>\n",
       "      <th>features</th>\n",
       "    </tr>\n",
       "  </thead>\n",
       "  <tbody>\n",
       "    <tr>\n",
       "      <th>0</th>\n",
       "      <td>7513227</td>\n",
       "      <td>[Property Type:Farmlet,  Bedrooms:3,  Bathroom...</td>\n",
       "    </tr>\n",
       "    <tr>\n",
       "      <th>1</th>\n",
       "      <td>7720571</td>\n",
       "      <td>[Property Type:Lifestyle,  Bedrooms:2,  Bathro...</td>\n",
       "    </tr>\n",
       "    <tr>\n",
       "      <th>2</th>\n",
       "      <td>104997043</td>\n",
       "      <td>[Property Type:Unit,  Bedrooms:3,  Bathrooms:1...</td>\n",
       "    </tr>\n",
       "    <tr>\n",
       "      <th>3</th>\n",
       "      <td>105023594</td>\n",
       "      <td>[Property Type:House,  Bedrooms:4,  Bathrooms:...</td>\n",
       "    </tr>\n",
       "    <tr>\n",
       "      <th>4</th>\n",
       "      <td>105140240</td>\n",
       "      <td>[Property Type:House,  Bedrooms:4,  Bathrooms:...</td>\n",
       "    </tr>\n",
       "  </tbody>\n",
       "</table>\n",
       "</div>"
      ],
      "text/plain": [
       "          ID                                           features\n",
       "0    7513227  [Property Type:Farmlet,  Bedrooms:3,  Bathroom...\n",
       "1    7720571  [Property Type:Lifestyle,  Bedrooms:2,  Bathro...\n",
       "2  104997043  [Property Type:Unit,  Bedrooms:3,  Bathrooms:1...\n",
       "3  105023594  [Property Type:House,  Bedrooms:4,  Bathrooms:...\n",
       "4  105140240  [Property Type:House,  Bedrooms:4,  Bathrooms:..."
      ]
     },
     "execution_count": 12,
     "metadata": {},
     "output_type": "execute_result"
    }
   ],
   "source": [
    "feature_df.head()"
   ]
  },
  {
   "cell_type": "code",
   "execution_count": 13,
   "id": "db44835e",
   "metadata": {},
   "outputs": [
    {
     "data": {
      "text/plain": [
       "['Property Type:Farmlet',\n",
       " ' Bedrooms:3',\n",
       " ' Bathrooms:2',\n",
       " 'Carport Spaces:2',\n",
       " ' Garage Spaces:2',\n",
       " ';']"
      ]
     },
     "execution_count": 13,
     "metadata": {},
     "output_type": "execute_result"
    }
   ],
   "source": [
    "feature_df['features'][0]"
   ]
  },
  {
   "cell_type": "code",
   "execution_count": 14,
   "id": "845c8b83",
   "metadata": {},
   "outputs": [],
   "source": [
    "feature_set = set()\n",
    "for row in feature_df.itertuples():\n",
    "    for x in row[2] :\n",
    "        if x not in feature_set:\n",
    "            feature_set.add(x)"
   ]
  },
  {
   "cell_type": "code",
   "execution_count": 15,
   "id": "9f32fe62",
   "metadata": {},
   "outputs": [
    {
     "name": "stdout",
     "output_type": "stream",
     "text": [
      "{'', ' Land Size:501 m?? (approx)', ' STUDY', ' Land Size:160 m?? (approx)', ' Land Size:2005 m?? (approx)', ' Land Size:981 m?? (approx)', ' Building Size:706.06 m?? (76 squares) approx', ' Building Size:119.00 m?? (13 squares) approx', ' Gas fireplace', ' Property condition: Renovated Property Type: House Garaging / carparking: Double lock-up', ' Extras are sun blinds', ' Stu', ' Building Size:70.30 m?? (8 squares) approx', ' Decking and Land~690m2', ' Land Size:627 m?? (approx)', ' Land Size:780 m?? (approx)', 'Property Type:Farmlet', ' Land Size:383 m?? (approx)', ' full ensuite', ' Building Size:421.00 m?? (45 squares) approx', ' Parents/Childrens Retreat', ' Building Size:143.00 m?? (15 squares) approx', ' Walk To Everything Local...', ' Building Size:172.15 m?? (19 squares) approx', ' Land Size:436 m?? (approx)', ' Property Type: Apartment Unit style: Highrise', ' Train station 270 metres', 'Rear entertaining area', ' Property Type: House Construction: Brick veneer Flooring: Timber Outdoor living: BBQ area', ' Land Size:906 m?? (approx)', ' Common Lounge w Foxtel TV', ' Open Car Spaces:1', ' Walk Primary Schools', ' galleries & restaurants', ' Property condition: Good Property Type: Unit Garaging / carparking: Open carport', ' rumpus', ' Land Size:378 m?? (approx)', ' Bosch kitchen', ' Lift', ' Land Size:355 m? (approx)', ' Property Type: House Garaging / carparking: Rear/ Side Access', ' Building Size:89.36 m?? (10 squares) approx', ' ducted heating and gas cooking', ' Land Size:737 m?? (approx)', ' Land Size:162 m?? (approx)', 'Cellar', ' Stainless Steel Appl', ' Land Size:1271 m?? (approx)', ' Land Size:2062 m?? (approx)', ' alfresco area', ' Building Size:75.00 m?? (8 squares) approx', 'Built-In Wardrobes', ' Land Size:657 m?? (approx)', ' ??xtras Such as Stone Benchtops', ' Land Size:1881 m?? (approx)', ' Patio/Terrace', ' Building Size:34.50 m?? (4 squares) approx', ' Rear Deck - Alfresco', ' Land Size:900 m?? (approx)', ' Family-sized gardens', ' Number in block: 144', ' Land Size:204 m?? (approx)', ' Concrete tile', ' Dryer', 'Jacuzzi', ' Air Cond', ' Marina Views', ' solar hot water', ' Building Size:117.00 m?? (13 squares) approx', ' Land Size:849 m?? (approx)', 'Gaden Shed', ' 10 minute walk to station and shops', ' Ample Secure Carparking', ' Land Size:746 m?? (approx)', ' Spa bath', ' Property condition: Renovated Property Type: Apartment Kitchen: Modern Living area: Open plan', ' Land Size:1262 m?? (approx)', ' Building Size:19.30 m?? (2 squares) approx', ' Walk to Mitcham Train Station & Shops', ' Property Type: House Garaging/carparking: Tandem Roof: Tile Flooring: Timber', ' Land Size:1600 m?? (approx)', ' Ducted', ' Building Size:483.10 m?? (52 squares) approx', ' Land Size:419 m?? (approx)', ' garden shed', ' Ducte', ' Land Size:379 m?? (approx)', ' Undercover paved patio', ' Single Level Villa', ' Garage Spaces:2', ' Land Size:897 m?? (approx)', 'Close to Bus Services', ' Building Size:217.00 m?? (23 squares) approx', ' self-contained granny flat', ' Land Size:1992 m?? (approx)', ' Land Size:176 m?? (approx)', ' Building Size:147.00 m?? (16 squares) approx', ' Property condition: Good Property Type: House House style: Cottage', ' Car Space', ' Land Size:239 m?? (approx)', 'Property Type: Apartment Kitchen: Modern Main bedroom: Double Bedroom 2: Double Views: City', ' Car wash in the building', ' Wrap around 24sqm balcony', ' Reverse Cycle AirCo', ' Property condition: Good Property Type: Unit Garaging / carparking: Double lock-up', ' Character Home', ' Land Size:782 m?? (approx)', ' Land Size:400 m? (approx)', ' Land Size:547 m?? (approx)', ' DLUG', 'Garage Spaces:31', ' Walking Dist to River', ' Land Size:1285 m?? (approx)', ' Land Size:431 m?? (approx)', ' gym', ' Land Size:614 m?? (approx)', ' ', ' 1 megalitre water right', ' Land Size:0.89ha (2.20 acres) (approx)', ' Kitchen - 2 Pak', ' Building Size:710.00 m?? (76 squares) approx', ' Property Type: Townhouse Floor Area: squares: 22', 'Waterfront', ' Land Size:302 m?? (approx)', ' basement', 'Alfesco', ' Garage Spaces:1', ' walk-in robes', ' Land Size:387 m?? (approx)', ' 14', ' Air-condition', ' Building Size:30.20 m?? (3 squares) approx', ' Land Size:283 m?? (approx)', ' Land Size:226 m?? (approx)', ' Boutique Development Of Only 2...', ' Land Size:639 m?? (approx)', ' Building Size:65.60 m?? (7 squares) approx', ' Building Size:195.00 m?? (21 squares) approx', ' Land Size:2.12ha (5.23 acres) (approx)', ' Land Size:112 m?? (approx)', ' Gas stove', ' Building Size:220.00 m?? (24 squares) approx', 'Commercial 1 Zoning', ' Building Size:471.00 m?? (51 squares) approx', ' Separate Block & Title', ' Walk-in Robe', ' Building Size:279.00 m?? (30 squares) approx', ' Carspace off street', 'Garage Spaces:12', ' Land Size:187 m?? (approx)', ' double lock up storage cage', ' Building Size:140.00 m?? (15 squares) approx', ' Land Size:602 m? (approx)', 'Star Server', ' Land Size:1022 m?? (approx)', ' Porcelain tiles throughout living areas', ' Property Type: House Garaging / carparking: Double lock-up Construction: Cladding', ' Land Size:75 m?? (approx)', ' large block for redevelop', ' Land Size:887 m?? (approx)', ' 500m to the Bundoora Square and Tram', ' Commanding Position', ' Land Size:1427 m?? (approx)', ' sauna', ' Land Size:238 m?? (approx)', ' Ref Cooling (Duct)', ' Land Size:730 m?? (approx)', ' visitor parking', ' Land Size:531 m?? (approx)', ' Land Size:0.87ha (2.16 acres) (approx)', ' Formal lounge', ' close to transport', ' Building Size:197.00 m?? (21 squares) approx', ' Security Shutters', ' Building Size:56.00 m?? (6 squares) approx', ' resident building manager', ' Corner Location', ' Reverse Cycle Air Conditioning', ' Landscaping', ' Land Size:808 m?? (approx)', 'Polished Timber Floors', ' Land Size:0.43ha (1.05 acres) (approx)', ' formal lounge', ' Cosy & Maybe Just Right For You...', ' South side location', ' Land Size:103 m?? (approx)', ' Land Size:949 m?? (approx)', ' Land Size:811 m?? (approx)', ' 3000 ltr water tank', ' Land Size:445 m?? (approx)', 'study', ' Bedrooms:3', ' Broadband', ' Security Gate', 'Open Car Spaces:8', ' 2 bedroom & 2 bathrooms', ' Garage Spaces:15', ' Land Size:3907 m?? (approx)', ' Land Size:1780 m?? (approx)', ' Property Type: House Additional rooms: Rumpus', ' Land Size:473 m?? (approx)', ' Property Type: Unit Garaging/carparking: Single lock-up', ' Glassed Garden Room', ' Land Size:421 m?? (approx)', ' Land Size:1290 m?? (approx)', 'Remote Lock Up Garage', ' Land Size:1021 m?? (approx)', ' Land Size:407 m?? (approx)', ' Building Size:972.00 m?? (105 squares) approx', ' Land Size:990 m?? (approx)', ' Land Size:442 m?? (approx)', 'Split Systems', ' Floorboa', ' Property condition: Good Property Type: House Garaging / carparking: Closed carport', ' SMEG Kitchen appliances', ' Building Size:205.00 m?? (22 squares) approx', ' Building Size:465.00 m?? (50 squares) approx', ' Split-system Air-conditioning', 'Secured Storage Cage', ' Land Size:209 m?? (approx)', ' Land Size:412 m?? (approx)', ' Land Size:1180 m?? (approx)', ' Land Size:328 m? (approx)', ' Outside 2nd Toilet', ' Land Size:1248 m?? (approx)', ' Building Size:176.00 m?? (19 squares) approx', 'Garage Spaces:7', ' Land Size:1446 m?? (approx)', ' Building Size:222.97 m? (24 squares) approx', 'Advantage Living Promo and 35m2 Colored Driveway', ' Bathrooms:8', ' Land Size:738 m?? (approx)', ' Land Size:1008 m?? (approx)', ' Building Size:109.00 m?? (12 squares) approx', ' Land Size:1094 m?? (approx)', ' Central Heating and Cooling', ' Land Size:0.47ha (1.16 acres) (approx)', ' Range Hood', 'shops', ' High Ceiling', '530.32 m?? (380 squares) approx', ' Split System Heating', 'Hydronic Heating', ' 516m2', 'Carport Spaces:12', ' Buil', \" BIR's\", ' Land Size:3800 m?? (approx)', ' Building Size:215.00 m?? (23 squares) approx', ' Land Size:3487 m?? (approx)', ' Building Size:71.20 m?? (8 squares) approx', 'High ceilings', ' Land Size:367 m?? (approx)', ' Over 3 Metres of Side Access', ' Remote control Gate', ' Land Size:792 m?? (approx)', ' Land Size:3257 m?? (approx)', ' Gas Wall Heat', 'Lounge', ' Property Type: House Living area: Formal lounge', ' Spa bath to ensuite', 'Property condition: Excellent Property Type: Villa', ' Steam Room', ' Building Size:785.70 m?? (85 squares) approx', ' Land Size:1582 m?? (approx)', 'double storey house', ' Fireplaces', ' Video Intercom & Quality Finishes Throughout.', ' Elegant bathroom', ' Internal Access via Garage', \" Presented in ''As New'' Condition\", 'Quest Pay all Council', ' Land Size:60 m?? (approx)', ' Land Size:471 m?? (approx)', ' Merbau deck', ' Close to Bus Services', ' Land Size:98 m?? (approx)', ' Land Size:907 m?? (approx)', ' Building Size:300.00 m?? (32 squares) approx', ' Land Size:1350 m?? (approx)', ' Building Size:35.00 m?? (4 squares) approx', ' Land Size:1410 m?? (approx)', ' Land Size:739 m?? (approx)', ' EUROPEAN PARQUETRY FLOOR', ' Land Size:2222 m?? (approx)', ' Land Size:885 m?? (approx)', ' Building Size:550.00 m?? (59 squares) approx', ' Land Size:1069 m?? (approx)', 'Terrace/paved', ' River Views', ' Gourmet kitchen with quality stainless appliances', ' Number of levels: 29', ' Land Size:822 m?? (approx)', ' Land Size:161 m?? (approx)', ' Land Size:709 m?? (approx)', ' Private Courtyard', ' Building Size:254.00 m?? (27 squares) approx', ' enclosed sunroom', ' Land Size:580 m? (approx)', 'Ducted Vacuum', ' COMPLETE JUST MOVE IN!', ' Property Type: Townhouse Living area: Open plan Additional rooms: Office / study', ' Land Size:269 m?? (approx)', ' Land Size:203 m?? (approx)', ' Land Size:626 m?? (approx)', ' Pool -Salt Chlorinated / Solar', ' leadlight windows.', ' Land Size:91 m?? (approx)', ' Building Size:179.00 m?? (19 squares) approx', ' Property Type: House House style: Contemporary Garaging / carparking: Single lock-up', '945.79 m?? (640 squares) approx', ' Land Size:892 m? (approx)', ' Land Size:369 m?? (approx)', ' Separate Title on ~ 361m2', ' Library', '   Stainles', 'Property Type: Apartment Unit style: Highrise Flooring: Carpet Window coverings: Drapes', ' Shops and Schools', ' Land Size:835 m?? (approx)', ' Close to transport/shops/school/park/CBD', ' Land Size:673 m?? (approx)', ' Building Size:209.00 m?? (22 squares) approx', ' Land Size:965 m?? (approx)', ' cafes shopping', ' Carpets', ' Land Size:3821 m?? (approx)', ' Land Size:525 m? (approx)', ' Land Size:120 m?? (approx)', ' Land Size:615 m? (approx)', '  Dishwasher', ' Magnificent Views to Mount Cooper', ' Study/4th Bedroom', ' Land Size:548 m? (approx)', ' Building Size:111.48 m?? (12 squares) approx', 'Lock up garage', ' Open Car Spaces:6', ' Building Size:185.60 m?? (20 squares) approx', ' Building Size:39.00 m?? (4 squares) approx', ' Building Size:38.00 m?? (4 squares) approx', ' Land Size:2028 m?? (approx)', ' Art Deco Duplex', ' Building Size:185.00 m? (20 squares) approx', ' Close to Community Park', ' Building Size:66.89 m?? (7 squares) approx', ' Building Size:103.00 m?? (11 squares) approx', ' Land Size:322 m?? (approx)', ' Swimming pool', ' Ensuite:3', ' Roof Top Terrace', ' Land Size:647 m?? (approx)', ' Walk Tram', ' Land Size:1123 m?? (approx)', ' Number in block: 516', '9Ft ceilings', ' Building Size:782.00 m?? (84 squares) approx', ' Land Size:650 m? (approx)', ' Bar', ' Land Size:348 m?? (approx)', ' building size', ' Walking Dist to Shops', 'Ducted gas heating', ' Living Areas:96', 'Unit 1 and 2 Sold', ' Built In', ' Land Size:303 m?? (approx)', ' Land Size:1463 m?? (approx)', ' two street frontages', ' Land Size:795 m?? (approx)', ' Land Size:387 m? (approx)', ' Cinema Package Included', ' Land Size:214 m? (approx)', ' Land Size:1111 m?? (approx)', ' Building Size:148.64 m? (16 squares) approx', ' Massive Stamp Duty Savings prior to construction in March 2014', 'Carport Spaces:7', ' Land Size:2691 m?? (approx)', ' Land Size:560 m? (approx)', ' Land Size:1544 m?? (approx)', ' Open Car Spaces:2', ' In-ground Pool', ' Land Size:572 m?? (approx)', ' long balcony', ' Split S', ' Building Size:179.30 m?? (19 squares) approx', ' Land Size:430 m?? (approx)', ' Good Property Type: House Construction: Brick veneer Roof:', ' Property Type: Apartment Garaging / carparking: Off street Flooring: Carpet', ' Land Size:646 m?? (approx)', 'Meile Appliances', ' LAST 1 LEFT!!!', ' Close to Clayton Train Station', ' Building Size:182.00 m?? (20 squares) approx', ' Building Size:338.00 m?? (36 squares) approx', ' 3 bedroom brick home', ' Land Size:472 m?? (approx)', ' Land Size:2659 m?? (approx)', ' Building Size:143.84 m?? (15 squares) approx', ' Air-Con / Ducted ', ' House Garaging / carparking: Open carport', ' JUST BRING YOUR FURNITURE AND MOVE IN!', ' 900mm appliances', ' Endless swim-spa', ' Land Size:838 m?? (approx)', ' Property condition: Excellent Property Type: Apartment House style: Contemporary', ' Land Size:361 m?? (approx)', ' Terra cotta tiled roof', '700.13 m?? (183 squares) approx', ' Land Size:724 m?? (approx)', ' Property condition: Excellent Property Type: Apartment Garaging/carparking: Tandem', ' Land Size:736 m?? (approx)', ' Land Size:158 m?? (approx)', ' Formal Din', ' Land Size:698 m?? (approx)', ' Land Size:284 m? (approx)', ' Land Size:72 m?? (approx)', ' Land Size:1061 m?? (approx)', ' Bui', ' Land Size:335 m?? (approx)', ' Land Size:668 m? (approx)', \"4 bedrooms with BIR's\", ' Ducted Vacuum system', ' Fully Fenced Y', ' Property condition: Renovator Property Type: House House style: Colonial', ' Land Size:628 m?? (approx)', ' Close to Schools', ' Land Size:659 m?? (approx)', ' Land Size:895 m?? (approx)', ' Land Size:1039 m?? (approx)', 'Gas ducted heating', ' Huge home', ' Property condition: Excellent Property Type: House Garaging / carparking: Double lock-up', ' Building Size:160.00 m?? (17 squares) approx', ' Land Size:988 m?? (approx)', ' Land Size:363 m?? (approx)', ' Land~670m2', ' Land Size:306 m?? (approx)', ' Land Size:996 m?? (approx)', ' Updated Bathroom', ' Land Size:229 m?? (approx)', ' very close to university', ' Plans and Permits for 3 new dwellings', ' Property Type: House Garaging / carparking: Internal access', 'Art Deco Apartment', ' Land Size:250 m?? (approx)', 'Large Balcony', 'Quality fittings', ' Building Size:383.69 m?? (41 squares) approx', ' Rare storage cage', ' Open back garage', ' Inground Salt Chlorinated Swimming Pool', ' Land Size:788 m?? (approx)', ' Land Size:3983 m?? (approx)', ' Land Size:2558 m?? (approx)', ' Land Size:243 m?? (approx)', ' Hot Water', 'Close to Shops', ' Land Size:879 m?? (approx)', 'Open Car Spaces:3', ' LAND~755m2', ' Property condition: Excellent Property Type: House House style: Colonial', ' Land Size:670 m?? (approx)', ' roller shutters', ' remote garage door', ' Land Size:2130 m?? (approx)', ' Building Size:158.00 m? (17 squares) approx', ' North Facing Rear Yard', ' Land Size:300 m? (approx)', ' Land Size:708 m?? (approx)', ' Land Size:193 m?? (approx)', ' Land Size:132 m?? (approx)', 'double garage', ' 55 Year + Residents', ' stone benctops', ' H/wood Floor under carpet', ' pergola', ' Land Size:605 m?? (approx)', ' Property Type: House Construction: Render and Brick Joinery: Timber Roof: Concrete and Tile', ' Rear verandah', ' High Ceilings', ' Open Fire Place x 4', ' Building Size:520.26 m?? (56 squares) approx', ' Double Garage & Sunroom', ' Top Floor', ' Land Size:224 m?? (approx)', ' Open Fire Place', 'Property Type: Villa', ' Roof tile', ' Land Size:90 m?? (approx)', ' Land Size:706 m? (approx)', ' Land Size:308 m?? (approx)', ' Convenient Location', ' Land Size:295 m?? (approx)', ' Building Size:847.00 m?? (91 squares) approx', ' Property condition: Good Property Type: Land', ' evapor', ' Number of levels: 3', ' Stainless Steel Appliance', ' Built-In-Microwave', ' Land Size:687 m? (approx)', ' PAUL BANGAY GARDEN', ' Building Size:17.30 m?? (2 squares) approx', ' Land Size:538 m?? (approx)', ' Refridgerated Cooling', ' Land Size:302 m? (approx)', ' Land Size:839 m? (approx)', ' Valley Views', ' Secure Underground Parking', ' carpet in bedrooms', ' Land', ' Land Size:799 m?? (approx)', ' Building Size:29.80 m?? (3 squares) approx', ' Land Size:1058 m?? (approx)', ' Swimming Pool - Inground', ' Land Size:1036 m?? (approx)', ' Many options available here', ' Land Size:928 m?? (approx)', 'Water tank', ' Land Size:1025 m?? (approx)', ' Land Size:1779 m?? (approx)', 'Photo ID Required', ' Balcony and Courtyard', ' Building Size:57.00 m?? (6 squares) approx', ' Land Size:1227 m?? (approx)', ' Bathrooms:11', ' Land Size:1033 m?? (approx)', ' Land Size:1116 m?? (approx)', ' Complete Turn Key Finish', ' Land Size:425 m?? (approx)', ' Building Size:81.69 m?? (9 squares) approx', ' Property Type: House Floor Area: squares: 24', ' Slab Heating', ' Building Size:15.00 m?? (2 squares) approx', ' Building Size:538.84 m?? (58 squares) approx', ' Hobby Room', ' two air-conditioners', ' Building Size:192.31 m?? (21 squares) approx', ' Land Size:42 m?? (approx)', ' Reverse cycle split system', ' balcony/patio/terrace', ' Land Size:894 m?? (approx)', 'Court Location', ' Auto doors Construction: Render', ' Land Size:959 m?? (approx)', ' Land Size:2043 m?? (approx)', ' +Study or 3rd Bedroom', ' Land Size:526 m?? (approx)', ' Moments from Eastlink', ' Building Size:170.64 m?? (18 squares) approx', ' 4 Living Zones', ' gas cooking', ' Land Size:1511 m?? (approx)', ' Building Size:89.00 m?? (10 squares) approx', ' Land Size:2263 m?? (approx)', 'Double Brick', ' Land Size:156 m?? (approx)', ' Open Car Spaces:8', ' Land Size:721 m?? (approx)', ' Building Size:232.26 m?? (25 squares) approx', ' Moments From Macleod Train Station', ' Building Size:207.00 m?? (22 squares) approx', ' Building Size:91.50 m?? (10 squares) approx', ' Building Size:674.00 m?? (73 squares) approx', 'Property Type: Apartment Flooring: Carpet and Tiles Kitchen: Modern Living area: Open plan', ' Building Size:173.00 m?? (19 squares) approx', ' Land Size:623 m?? (approx)', ' Building Size:45.75 m?? (5 squares) approx', ' Decked pergola area', ' Air-conditioner', ' Colorbond Roof', ' Property condition: Excellent Property Type: Apartment Garaging/carparking: Double lock-up', ' Building Size:25.00 m? (3 squares) approx', ' Solar gas-boosted hot water', ' Ground Floor', ' Building Size:640.00 m?? (69 squares) approx', ' Land Size:804 m?? (approx)', ' Land Size:823 m? (approx)', ' Building Size:69.00 m?? (7 squares) approx', ' Land Size:816 m?? (approx)', ' Land Size:248 m?? (approx)', ' 3 Phase power', ' Land Size:408 m?? (approx)', ' Building Size:101.00 m?? (11 squares) approx', ' Living Areas:59', ' Inground Pool', ' Family room', ' Land Size:567 m? (approx)', ' Property Type: House Floor Area: squares: 17', ' Land Size:451 m?? (approx)', ' Land Size:1357 m?? (approx)', ' Land Size:836 m?? (approx)', 'Alfresco', ' Land Size:208.01ha (514.00 acres) (approx)', ' Building Size:82.50 m?? (9 squares) approx', 'balcony/patio/terrace', ' Street Facing', ' Sun-room', 'Ducted Heating', ' Land Size:441 m?? (approx)', ' Positive Cash Flow for investors', ' Close to Shops', ' Ensuit', 'Pol. Timber Floors', ' Zone 1 Transport from Heidelberg', ' Land Size:774 m?? (approx)', ' Building Size:54.40 m?? (6 squares) approx', ' Property Type: Apartment Unit style: Highrise Flooring: Carpet and Tiles Electrical: TV points', ' Building Size:276.00 m?? (30 squares) approx', ' Land Size:74 m?? (approx)', ' Land Size:427 m?? (approx)', ' Bathrooms:20', ' Sweeping stair case', 'Property condition: Fair Property Type: Studio', ' Land Size:3934 m?? (approx)', ' Land Size:858 m?? (approx)', 'Rainwater tanks', 'Extremely Popular Location', ' Land Size:652 m?? (approx)', ' Toilets:18', ' Land Size:771 m?? (approx)', ' North facing', ' Pegola', 'Cooling', ' Land Size:68 m?? (approx)', '  Garden Shed', ' Mezzanine', ' Land Size:221 m?? (approx)', ' Watering system', ' Land Size:423 m?? (approx)', ' Land Size:1175 m? (approx)', ' 1 Bedroom Bungalow', ' Property Type: House Locality: Close to transport', ' South Facing', ' Land Size:720 m? (approx)', ' Land Size:2197 m?? (approx)', ' Clothes dryer', ' Outdoor entertainment', ' Land Size:462 m?? (approx)', ' Ironing Board - built in', ' Factory / Workshop', ' Building Size:199.00 m?? (21 squares) approx', ' High Ceilings Throughout', ' Living Areas:67', '657.80 m?? (609 squares) approx', ' Land Size:0.42ha (1.04 acres) (approx)', ' Land Size:1514 m?? (approx)', ' Land Size:0.75ha (1.84 acres) (approx)', ' Land Size:233 m?? (approx)', ' Outside Spa', ' Evaporative cooling', ' St Kilda Rd Location', ' 2 Private Courtyards', ' 3 toilets', ' Floorbo', ' Polished Floor', ' Building Size:594.58 m?? (64 squares) approx', ' Building Size:108.00 m?? (12 squares) approx', ' Building Size:537.00 m?? (58 squares) approx', ' Land Size:1 m?? (approx)', ' Building Size:882.58 m? (95 squares) approx', ' Land Size:385 m? (approx)', ' Property condition: Good Property Type: Apartment Unit style: Highrise', 'Stone benches', ' Land Size:1369 m?? (approx)', ' Under-stair storage', ' Land Size:1150 m?? (approx)', ' Rear Access', ' Ducted cooling', ' Building Size:183.00 m?? (20 squares) approx', ' Property Type: Apartment House style: Other (Under construction)', ' Land Size:1038 m?? (approx)', ' sprinkler', '2 Study', ' Property condition: Excellent Property Type: House Garaging / carparking: Single lock-up', 'Carport Spaces:8', ' side access', ' Living Areas:84', ' Land Size:710 m?? (approx)', ' Close to transport/shops/school/', ' Street Facing with A Separate Driveway...', ' Property condition: Good Property Type: House Garaging/carparking: Double lock-up', ' high ceilings', 'Property Type:Terrace', \" butler's pantry\", ' Polished Floors ', ' Land Size:1051 m?? (approx)', 'City Views', ' Property Type: House Kitchen: Dishwasher Living area: Formal lounge Main bedroom: Walk-in-robe', ' Electric Panel Heating', ' Reverse-Cycle Air Con', ' Land Size:2079 m?? (approx)', ' walking distance to all amenaties', ' Land Size:2220 m?? (approx)', ' storage area', ' Land Size:610 m?? (approx)', ' Land Size:530 m?? (approx)', ' Built in Robes', ' great location', ' House House style: Contemporary', ' Land Size:2817 m?? (approx)', ' Land Size:256 m?? (approx)', ' Plans and permits', ' NO Body Corp Town homes...', ' wa', 'Parquetry floor', ' Bathrooms:5', ' Land Size:864 m?? (approx)', 'concierge/manager', ' Fully Landscaped', ' Carport Spaces:2', ' Property Type: House Kitchen: Standard and Finished in (Laminate) Main bedroom: Double', ' Wall furnace', ' Building Size:401.00 m?? (43 squares) approx', ' Land Size:1004 m?? (approx)', ' security lights', ' Land Size:331 m?? (approx)', ' Land Size:839 m?? (approx)', ' Bedrooms:18', ' Property Type: Unit Locality: Close to transport', ' Large storage cage', ' Land Size:700 m?? (approx)', ' Lounge/dining', ' 2.4m ceiling height', ' Land Size:447 m?? (approx)', ' Central Heating', ' Bathrooms:10', ' Land Size:936 m?? (approx)', ' Land Size:502 m?? (approx)', ' Land Size:604 m?? (approx)', ' Building Size:306.90 m?? (33 squares) approx', ' Evaporative', ' Outdoor Entertainment', 'Rear Back Deck', ' Building Size:141.21 m?? (15 squares) approx', ' Land Size:312 m?? (approx)', ' Property Type: Unit Garaging / carparking: Single lock-up Construction: Brick veneer', ' Land Size:124 m?? (approx)', ' Built-in Robes', ' Separate 2nd Bathroom', ' Land Size:443 m?? (approx)', ' Land Size:697 m? (approx)', ' Building Size:144.24 m?? (16 squares) approx', ' Property condition: Good Property Type: Apartment House style: Contemporary', ' Tasmanian oak timber kitchen', ' Land Size:1053 m?? (approx)', ' tram line just in front of the building', ' Land Size:0.58ha (1.44 acres) (approx)', ' Apartment Unit style: Lowrise Garaging / carparking: Off street', ' Land Size:110 m?? (approx)', ' Built-in Wardrobes', ' Building Size:88.20 m?? (9 squares) approx', ' Land House style: Contemporary', ' Full insulation. noise', ' Building Size:82.00 m?? (9 squares) approx', 'Roller shutters', ' Flat Main bedroom: Double', ' House Alarm', 'Caeser Stone bench tops', ' 8ft easement', ' Land Size:630 m?? (approx)', 'Art -deco style', ' Land Size:1026 m?? (approx)', ' Apartment Unit style: Highrise Garaging / carparking: Single lock-up', ' Land Size:147 m?? (approx)', ' Land Size:358 m?? (approx)', ' Automatic Front Gates', ' Captivating Property', ' Land Size:904 m?? (approx)', ' Property condition: Good Property Type: House Garaging / carparking: Tandem', ' Near level 2', ' Hydronic Heating', ' Building Size:399.00 m?? (43 squares) approx', ' Land Size:554 m?? (approx)', ';', ' Land Size:535 m?? (approx)', 'Property Type: Apartment', ' Clothes Line', 'Carport Spaces:6', ' Dual-Driveway Access', ' Land Size:1000 m?? (approx)', ' Property condition: Renovated Property Type: Villa', ' Land Size:241 m?? (approx)', ' Single Level', ' Locate in a quiet court', ' Period Apartment', ' concierge/manager', ' Security Entrance', ' Land Size:1817 m?? (approx)', ' Land Size:1866 m?? (approx)', ' Floorboards', ' Garage - Internal Access', ' Land Size:273 m?? (approx)', ' Close to shops/school', ' Land Size:766 m? (approx)', ' Building Size:419.00 m?? (45 squares) approx', ' Close to transport/shops/school', ' feature lighting', ' Land Size:1995 m?? (approx)', ' Land Size:456 m?? (approx)', ' Land Size:1003 m?? (approx)', ' Split Level', ' Land Size:0.48ha (1.18 acres) (approx)', 'Open fire place', ' Off street Construction: Brick', ' Va', ' 100m to shops', ' Building Size:14.40 m? (2 squares) approx', ' Under new GENERAL ZONING ZONING ~ 652m2', ' Walk In Robes', ' Cooling', ' Working Drawings Obtained', ' Building Size:16.00 m?? (2 squares) approx', ' Property condition: Excellent Property Type: Unit Unit style: Lowrise', ' Verandah', ' Studio or Workshop', ' Land Size:3734 m?? (approx)', 'Property condition: Good Property Type: Apartment', ' Land Size:866 m?? (approx)', ' Rumpus/Study', ' Brick Garage / Workshop', ' Land Size:2305 m?? (approx)', ' Land Size:362 m?? (approx)', ' 900cm oven', '  Bar', ' Land Size:69 m?? (approx)', ' Property Type: House Garaging / carparking: Double lock-up', ' 2 Toilets', 'Security Entry', ' Polished Hardw', ' Fireplace(s)', ' Building Size:335.37 m?? (36 squares) approx', ' Primary School', ' Land Size:714 m?? (approx)', ' St', ' Building Size:204.00 m?? (22 squares) approx', ' Land Size:590 m?? (approx)', 'Alarm/Security System', ' Potential REntal Return $290-$310 per week', ' Land Size:0.50ha (1.24 acres) (approx)', ' Land Size:829 m? (approx)', ' Land Size:321 m?? (approx)', ' Land Size:715 m?? (approx)', ' Building Size:202.90 m?? (22 squares) approx', ' Land Size:1087 m?? (approx)', ' Building Size:470.00 m?? (51 squares) approx', ' Land Size:690 m?? (approx)', ' Property condition: Good Property Type: House Unit style: Lowrise', ' Land Size:778 m? (approx)', ' Close to Clayton Central Shops', ' Land Size:1314 m?? (approx)', ' Light Fittings', 'stone benches', ' d/washer', ' Onsite Building Manager', ' Land Size:252 m?? (approx)', ' Security Entrance & Lift access', ' Land Size:1005 m?? (approx)', ' water tank', ' Bulit in Robes', ' Land Size:1331 m?? (approx)', ' Land Size:487 m?? (approx)', ' Building Size:293.57 m?? (32 squares) approx', ' Shed x 2', 'Property Type:Flat', ' 24 hours security', 'Ensuite', ' Building Size:15.40 m?? (2 squares) approx', ' Land Size:0.44ha (1.09 acres) (approx)', '038.70 m?? (650 squares) approx', ' beautifully landscaped grounds', ' Land Size:729 m?? (approx)', ' Building Size:292.00 m?? (31 squares) approx', ' Property condition: Renovated Property Type: Townhouse House style: Contemporary', ' Land Size:952 m?? (approx)', 'Outdoor Entertainment', ' Walk to beach', ' Building Size:646.00 m?? (70 squares) approx', ' Land Size:695 m? (approx)', ' Land Size:2578 m?? (approx)', ' Land Size:997 m?? (approx)', ' Ornate Fireplaces', ' 1and2 cars', ' Water Tank', ' Land Size:2.39ha (5.91 acres) (approx)', ' Building Size:278.71 m? (30 squares) approx', ' Land Size:145 m?? (approx)', ' Land Size:183 m?? (approx)', ' Ensuite', ' Land Size:818 m?? (approx)', ' heating', ' Townhouse House style: Cottage', ' Converted garage living', ' Polished Solid Timber Floors', ' Land Size:50 m?? (approx)', ' Land Size:1121 m?? (approx)', ' Security Cameras', ' Se', ' transport at your front door in small development of 7only', ' Land Size:805 m? (approx)', 'Theatre Room', ' Land Size:2000 m?? (approx)', ' Double Glazing Installed', ' Land Size:1763 m?? (approx)', ' security entrance.', ' drought tolerant landscaping & double glazed windows.', 'granny flat', ' Property condition: Good Property Type: House House style: Enviro friendly home', ' window shutters', ' Land Size:742 m?? (approx)', ' Building Size:99.00 m?? (11 squares) approx', ' Ducted reverse cycle Aircon', ' Building Size:97.50 m?? (10 squares) approx', ' Land Size:1493 m?? (approx)', ' Living Areas:140', ' Land Size:1403 m?? (approx)', ' Land Size:323 m?? (approx)', ' bigger than usual court yard 70.3m2(prime entertaining area) on a 99 year lease', ' Land Size:677 m?? (approx)', ' Property condition: Excellent Property Type: Townhouse Unit style: Lowrise', ' Building Size:142.51 m?? (15 squares) approx', ' Air-Conditioning', ' Property Type: Apartment Flooring: Carpet', '  Water tanks', ' Land Size:1173 m?? (approx)', ' Land Size:373 m?? (approx)', ' Modern Fit-out ', ' Building Size:50.00 m?? (5 squares) approx', ' Property Type: House House style: Bungalow Garaging/carparking: Closed carport', ' theatre room', ' Property Type: Apartment House style: Contemporary', ' Formal dining', ' Land Size:621 m?? (approx)', ' Tiled casual area', ' Built In Robes', ' Bush Retreat', ' Covered outdoor area', ' Reverse Cycle A', ' EER (Energy Efficiency Rating):Medium (4.5)', ' Property condition: Renovated Property Type: House Garaging / carparking: Open carport', ' Land Size:327 m?? (approx)', ' Land Size:0.63ha (1.55 acres) (approx)', 'Property condition: Good Property Type: Apartment Unit style: Highrise Flooring: Carpet', ' Land Size:913 m? (approx)', ' Apartment Flooring: Carpet and Tiles', ' Building Size:124.25 m?? (13 squares) approx', ' Building Size:98.00 m?? (11 squares) approx', ' pot belly heater', ' Land Size:405 m?? (approx)', 'Property Type:Townhouse', ' Building Size:74.00 m? (8 squares) approx', ' Building Size:194.88 m?? (21 squares) approx', ' Building Size:362.32 m?? (39 squares) approx', ' Land Size:1345 m?? (approx)', ' Open Fire', ' Landscaped Gardens', ' Land Size:346 m?? (approx)', '  2 spa baths', ' 2 Court Yards and Street Facings...', ' Land Size:715 m? (approx)', ' Land Size:591 m?? (approx)', ' Stamp Duty Savings!', 'Property Type:House', ' Op', ' Land Size:891 m?? (approx)', 'Hardwood floors', 'Dining Room', ' Land Size:960 m? (approx)', ' Approx 12kms from CBD', ' EER (Energy Efficiency Rating):Medium (6.5)', ' Stove- Gas', ' Property condition: Renovated Property Type: Townhouse', ' Land Size:320 m?? (approx)', ' Land Size:477 m?? (approx)', ' Building Size:537.91 m?? (58 squares) approx', ' polished timber floors', ' Save thousands on stamp duty!', ' Fireplace and very high ceiling (approx. 4 meter) being top floor penthouse', ' Property Type: House Floor Area: squares: 34', ' Building Size:224.00 m?? (24 squares) approx', ' Building Size:43.00 m?? (5 squares) approx', 'Swimming Pool - Above Ground', ' Land Size:326 m?? (approx)', 'Bike Storage', ' Close Shopping Centre', ' Property Type: House House style: Contemporary', '  Air conditioning', ' Land Size:890 m?? (approx)', ' Property Type: Apartment Views: Water', ' Brand New & High Quality Build', ' Land Size:242 m?? (approx)', 'home theatre room', ' Building Size:306.57 m?? (33 squares) approx', ' Land Size:740 m?? (approx)', 'Secure entry', ' Dining Room', ' Close to shops/school/park', ' Land Size:622 m? (approx)', ' Land Size:980 m?? (approx)', ' Property condition: Excellent Property Type: Apartment Flooring: Timber', ' Built-in Watering', ' Land Size:821 m?? (approx)', ' Living Areas:5', ' Land Size:2797 m?? (approx)', ' Building Size:157.94 m?? (17 squares) approx', ' COMPLETE TURNKEY !!!', ' Garden Sh', ' Alfresco', ' Property condition: Renovated Property Type: House House style: Contemporary Kitchen: Modern', ' Split System AirC', ' Land Size:1210 m? (approx)', ' Land Size:648 m?? (approx)', ' Outdoor entertaining area', ' Land Size:1165 m?? (approx)', ' ceiling fans', ' Land Size:1064 m?? (approx)', ' Building Size:189.48 m?? (20 squares) approx', ' Period Features', ' Land Size:154 m?? (approx)', 'Terrace/Balcony', ' Land Size:2312 m?? (approx)', ' Land Size:0.45ha (1.10 acres) (approx)', ' Building Size:53.10 m?? (6 squares) approx', ' Covered Pergola', ' Land Size:474 m?? (approx)', ' Land Size:259 m?? (approx)', ' Window coverings', ' Land Size:235 m?? (approx)', ' Land Size:95 m? (approx)', ' Double lock-up', ' Building Size:108.50 m?? (12 squares) approx', ' Additional guest parking', ' Two Titles', ' Land Size:613 m?? (approx)', ' Property condition: Fair Property Type: Land', ' Building Size:128.00 m?? (14 squares) approx', ' Great size yard', ' Land Size:1422 m?? (approx)', ' Gas Hot Water service', ' Excellent Property Type: Apartment Flooring: Tiles and Carpet', ' Zoned Refridgerated Cool', ' Land Size:730 m? (approx)', ' Land Size:998 m?? (approx)', ' Development or Re Build', ' Land Size:950 m?? (approx)', ' Upgraded tap ware', ' Separate Dining', ' Land Size:1383 m?? (approx)', ' Building Size:16.60 m?? (2 squares) approx', ' Land Size:2435 m?? (approx)', ' Open fire place', ' Property Type: House Kitchen: Dishwasher Living area: Formal lounge', ' Land Size:1238 m?? (approx)', ' Establishe', ' Land Size:642 m? (approx)', ' Blue Ribbon Location', ' Building Size:232.26 m? (25 squares) approx', ' Land Size:542 m?? (approx)', ' Driveway', ' Living Areas:62', ' Building Size:633.00 m?? (68 squares) approx', ' Land Size:2650 m?? (approx)', ' Side Access', ' Land Size:163 m?? (approx)', ' Polished Hardwood Floors', ' Land Size:692 m? (approx)', ' Building Size:86.91 m?? (9 squares) approx', ' Land Size:744 m?? (approx)', ' Fully Tiled Living Areas', ' Building Size:165.80 m?? (18 squares) approx', ' Land Size:100 m?? (approx)', ' Land Size:1416 m?? (approx)', 'Gas Stove; Electric Oven;Courtyard', ' Building Size:79.98 m?? (9 squares) approx', ' 3 Toilets', ' Land Size:1048 m?? (approx)', ' Land Size:748 m?? (approx)', ' Split System Heating & Air Conditioning', 'Storage Cage', '  storage cage', ' Building Size:60.77 m?? (7 squares) approx', ' Land Size:2081 m?? (approx)', ' North- Facing ', ' Property Type: Unit Garaging / carparking: Single lock-up', ' Building Size:49.00 m?? (5 squares) approx', ' I.G Pool', ' Close t', ' Building Size:413.00 m?? (44 squares) approx', 'gas fire place', ' Land Size:279 m?? (approx)', ' Land Size:631 m?? (approx)', ' No Common Land', ' Land Size:630 m? (approx)', ' Land Size:1152 m?? (approx)', ' Land Size:909 m?? (approx)', ' Land Size:1156 m?? (approx)', ' stone bench tops and immaculate finishes', ' Land Size:925 m?? (approx)', ' Gas ducted heating', ' Land Size:347 m?? (approx)', ' Land Size:562 m?? (approx)', ' Land Size:450 m? (approx)', ' Building Size:10.80 m?? (1 squares) approx', ' 690m2', 'Workshop at Rear', ' Building Size:126.00 m?? (14 squares) approx', ' European laundry', 'Redgum kitchen', ' Corner Block', ' Land Size:324 m?? (approx)', ' Land Size:1100 m?? (approx)', ' Land Size:325 m?? (approx)', ' Land Size:1423 m?? (approx)', ' Property Type: Apartment', ' Land Size:999 m?? (approx)', ' Building Size:353.03 m?? (38 squares) approx', ' Plus 2 storage cages for this property', ' Building Size:155.00 m?? (17 squares) approx', ' Land Size:680 m? (approx)', ' Rangehood', ' 4 x CCTV cameras', ' Land Size:693 m?? (approx)', ' Property Type: House Flooring: Carpet', ' Electric Front Gate', ' Good Size', ' Land Size:289 m? (approx)', ' Land Size:2500 m?? (approx)', ' High ceiling', ' Reverse Cycle', ' Close to L', '  Solar panels', ' Land Size:1167 m?? (approx)', ' Land Size:754 m? (approx)', ' Walking distance to Transport', ' Skyline club on level 40', ' Land Size:660 m? (approx)', ' Land Size:330 m? (approx)', ' Property condition: Renovated Property Type: Unit Unit style: Lowrise', ' Living Areas:6', ' Vacuum system', ' Garage Spaces:3', ' The Complete Package..', ' Integrated C-Bus Home Control System', ' Building Size:720.00 m?? (78 squares) approx', ' Terrace/Balcony', ' Land Size:944 m?? (approx)', ' accessible ramp on entry and to the side of the house', ' 2 carspaces', ' Land Size:1192 m?? (approx)', ' Multiple Living Zones', ' Tinted Windows', ' Building Size:209.62 m?? (23 squares) approx', ' Land Size:917 m?? (approx)', ' Building Size:76.00 m?? (8 squares) approx', ' Land Size:1170 m?? (approx)', ' Land Size:1046 m?? (approx)', ' Land Size:1046 m? (approx)', ' solar hot water system', ' alfr', ' Building Size:83.61 m?? (9 squares) approx', ' COMPLETE WITH NOTHING ELSE TO PAY!', ' Land Size:141 m?? (approx)', ' Gas Hot Water Service', ' Land Size:1110 m?? (approx)', 'Brick veneer', ' Land Size:553 m?? (approx)', ' Court Yard and Deck', ' Plans & Permits Approved', ' Land Size:877 m?? (approx)', ' Building Size:106.00 m?? (11 squares) approx', ' Building Size:154.78 m?? (17 squares) approx', ' Land Size:919 m?? (approx)', ' Balcony', ' Car Parking - Surface', ' Ope', ' Land Size:1137 m?? (approx)', ' Land Size:228 m?? (approx)', ' Lock up garage', ' Land Size:1266 m?? (approx)', '21.49m frontage', ' Property condition: Renovated Property Type: Unit Construction: Brick Roof: Tile and Concrete', ' Manicured Gardens', ' Land Size:435 m?? (approx)', ' 4 bedrooms', ' Land ~1012m2', ' walk in robe', ' Property condition: Fair Property Type: House House style: Enviro friendly home', ' Land Size:380 m?? (approx)', ' Family court', ' Building Size:390.19 m?? (42 squares) approx', 'Property condition: Renovated Property Type: Apartment', ' transport', ' Land Size:2510 m?? (approx)', 'Property Type:Serviced Apartment', ' Excellent Property Type: Apartment Unit style: Highrise', ' Land Size:865 m?? (approx)', ' Living Areas:44', ' Land Size:0.56ha (1.37 acres) (approx)', ' Original Ornate Features', '3500 Water Tank', ' Californian Bungalow', ' Elevator', ' Land Size:179 m? (approx)', ' Land Size:1183 m?? (approx)', ' Remote door on carport', ' Land Size:783 m?? (approx)', ' Property condition: Good Property Type: Flat', ' Land Size:359 m?? (approx)', ' Approved Permit To Build 3 Street Facing', ' Brand New. $10', ' Spacious Yard', ' Fully Fenc', ' Land Size:413 m?? (approx)', 'High ceiling', ' Land Size:299 m?? (approx)', '393.55 m?? (150 squares) approx', ' Uninterrupted City Views', ' Property Type: House Construction: Brick veneer Main bedroom: King and Walk-in-robe', ' Land Size:789 m?? (approx)', ' Building Size:153.75 m?? (17 squares) approx', ' Land Size:523 m?? (approx)', ' Land Size:512 m? (approx)', 'dishwasher', ' Multi zone ducted heating', ' Land Size:1.97ha (4.87 acres) (approx)', ' Building Size:334.00 m?? (36 squares) approx', ' Land Size:536 m?? (approx)', ' Number in block: 2', ' Land Size:565 m?? (approx)', ' Building Size:148.64 m?? (16 squares) approx', ' Land Size:499 m? (approx)', ' Building Size:426.00 m?? (46 squares) approx', ' Original Condition', ' Shower', ' McIver park', ' Land Size:797 m?? (approx)', ' Land Size:893 m?? (approx)', ' Land Size:185 m?? (approx)', ' Numerous Fireplaces', ' Land Size:902 m?? (approx)', ' Land Size:316 m?? (approx)', ' Cosy and comfortable brick house. 2 bedrooms plus one study room.', ' Building Size:82.20 m?? (9 squares) approx', ' Land Size:3600 m?? (approx)', ' Land Size:86 m?? (approx)', ' Property condition: Renovated Property Type: House Garaging/carparking: Double lock-up', ' Building Size:265.00 m?? (29 squares) approx', ' Land Size:861 m?? (approx)', ' Zone 1 Glenroy Station', ' Land Size:1000 m? (approx)', '958.03 m?? (318 squares) approx', ' Land Size:859 m?? (approx)', ' Land Size:145 m? (approx)', ' Split A/C', ' Pre Release! Park Front Block!', ' Property Type: House Construction: Brick Flooring: Polished and Tiles', ' Fully furnished', ' Airconditioning', ' Land Size:566 m?? (approx)', ' Land Size:146 m?? (approx)', ' Split System Ai', ' Land Size:186 m?? (approx)', ' Land Size:593 m? (approx)', ' Land Size:1052 m?? (approx)', ' Private & Secure', ' Polished Hardwood Timber Floors', ' Fence', ' Ducted Vaccuum', ' Building Size:133.00 m?? (14 squares) approx', ' Land Size:590 m? (approx)', ' Land Size:1161 m?? (approx)', ' Property Type: House Garaging/carparking: Double lock-up', ' Land Size:1276 m?? (approx)', ' Victorian Replica', ' Land Size:246 m?? (approx)', ' Property condition: Fair Property Type: House Garaging / carparking: Double lock-up', ' Plantation Shutters', ' Incredible views', ' Land Size:263 m?? (approx)', ' Dam', ' Land Size:2061 m?? (approx)', ' Building Size:121.00 m?? (13 squares) approx', ' Land Size:135 m?? (approx)', ' Building Size:99.87 m?? (11 squares) approx', ' Building Size:152.72 m?? (16 squares) approx', ' Open Fi', ' Building Size:334.80 m?? (36 squares) approx', ' Solar Panelled Electricity', ' Land Size:315 m?? (approx)', ' Land Size:309 m?? (approx)', ' World Class facilities.', ' Living Areas:91', ' S.Steel Kitchen Appliances', ' Land Size:729 m? (approx)', ' Land Size:164 m?? (approx)', ' Land Size:56 m?? (approx)', 'Property condition: Good Property Type: House Garaging / carparking: Double lock-up', ' Formal Dining', ' Walk to Milleara Mall', ' Basement Storage', ' Land Size:390 m?? (approx)', ' Land Size:549 m?? (approx)', ' Building Size:176.79 m? (19 squares) approx', '  Ducted Vaccum', 'Updated kitchen', ' study', ' Land Size:883 m?? (approx)', ' Land Size:2450 m?? (approx)', ' Reverse Cycle Heating', ' Walking distance to Bus Services', ' Living Areas:1', 'Solar System', 'Gas heating', ' Land Size:40.47ha (100.00 acres) (approx)', ' Lovely established gardens', ' open floor plan', ' Property condition: Good Property Type: House House style: Contemporary', ' Building Size:360.60 m?? (39 squares) approx', ' Building Size:129.92 m?? (14 squares) approx', ' Land Size:211 m?? (approx)', ' Walking Distance to Overnewton College', ' Land Size:1589 m?? (approx)', ' Land Size:769 m? (approx)', ' Land Size:507 m?? (approx)', ' Land Size:365 m?? (approx)', ' Building Size:169.62 m?? (18 squares) approx', ' IG Pool', ' Land Size:96 m?? (approx)', ' Land Size:47 m?? (approx)', 'Home Theatre', ' Land Size:983 m?? (approx)', ' Land Size:151 m?? (approx)', ' Main bedroom walk-in robe', ' Land Size:638 m?? (approx)', ' Land Size:459 m?? (approx)', ' Close to transport/shops/school/p', ' Blue Chip Location', ' Building Size:268.00 m?? (29 squares) approx', '  Cooling', ' Building Size:193.00 m?? (21 squares) approx', 'Property Type:Duplex/Semi-Detached', ' Building Size:222.97 m?? (24 squares) approx', ' Spacious rooms', ' Land Size:1440 m?? (approx)', ' Land Size:249 m?? (approx)', ' Land Size:2015 m?? (approx)', ' rear access roller door on garage', ' Land Size:0.46ha (1.13 acres) (approx)', ' Land Size:81 m?? (approx)', ' Land Size:747 m?? (approx)', ' Land Size:2551 m?? (approx)', ' Land Size:687 m?? (approx)', ' Land Size:9 m?? (approx)', ' Wood fire oven', ' 2 Living Areas', ' Two Homes.', ' Sprinkler System.', ' Land Size:567 m?? (approx)', ' Land Size:404 m?? (approx)', ' cubby house', ' Land Size:1049 m?? (approx)', ' Large Family Home', 'Stainless Steel Appliances', 'Open Plan', ' Land Size:635 m?? (approx)', 'Gas heater', ' Block of units', ' Land Size:278 m?? (approx)', ' Building Size:185.81 m?? (20 squares) approx', ' Property condition: Renovated Property Type: House Construction: Brick veneer Joinery: Timber', ' Land Size:311 m? (approx)', 'Ledlight Windows', ' Heating/Cooling & Vacuum', ' Land Size:745 m? (approx)', ' Land Size:182 m?? (approx)', ' Split system', ' Land Size:1301 m?? (approx)', ' Property condition: Good Property Type: Unit Unit style: Lowrise', ' Land Size:1296 m?? (approx)', ' Land Size:152 m?? (approx)', ' Newly Polished Floors', ' Building Size:151.00 m?? (16 squares) approx', ' Land Size:1153 m?? (approx)', ' Video intercom', ' Land Size:769 m?? (approx)', ' Land Size:612 m?? (approx)', ' Solar Hot Water System', ' Land Size:564 m?? (approx)', ' Land Size:452 m?? (approx)', ' Building Size:408.00 m?? (44 squares) approx', 'Own Frontage', ' Easy Access Ground Floor', ' Land Size:524 m?? (approx)', ' Electric Gates', ' Building Size:250.84 m?? (27 squares) approx', 'Solar Panel', ' Land Size:540 m?? (approx)', ' Land Size:1640 m?? (approx)', ' Land Size:173 m?? (approx)', ' Wat', ' Granite Benches', ' 3 Open Car Spaces', ' Building Size:65.00 m?? (7 squares) approx', ' Land Size:4.05ha (10.02 acres) (approx)', ' Building Size:78.60 m?? (8 squares) approx', ' Land Size:1483 m?? (approx)', ' Refrigerated Cooling', ' Land Size:920 m?? (approx)', ' Land Size:1.91ha (4.73 acres) (approx)', ' Land Size:972 m?? (approx)', ' Stainl', ' Land Size:153 m?? (approx)', ' Spa (Outdoor)', ' Building Size:200.00 m?? (22 squares) approx', ' Land Size:304 m?? (approx)', ' Property Type: Unit Garaging / carparking: Single lock-up Bedroom 2: Built-in / wardrobe', ' Building Size:18.00 m?? (2 squares) approx', ' Extra Wide Garage with Internal Access', ' Views to Dandenong', ' Land Size:1159 m?? (approx)', ' Building Size:886.30 m?? (95 squares) approx', ' Building Size:127.00 m?? (14 squares) approx', ' Property Type: House Flooring: Polished', ' Land Size:3289 m?? (approx)', 'LED lighting', ' Land Size:0.49ha (1.20 acres) (approx)', ' Building Size:39.80 m?? (4 squares) approx', ' Building Size:420.00 m?? (45 squares) approx', 'Watertank', ' electric front gates to 5 car garage', ' Building Size:97.00 m?? (10 squares) approx', ' Land Size:123 m?? (approx)', ' Land Size:1158 m?? (approx)', ' beach views', ' Land Size:377 m?? (approx)', ' Spacious Living areas', ' Property Type: House Main bedroom: Double Bedroom 2: Double Bedroom 3: Single', ' Land Size:450 m?? (approx)', ' Building Size:85.00 m?? (9 squares) approx', ' Indoor entertainment area', ' Property Type: Unit Garaging / carparking: Open carport Construction: Brick', ' Full Ensuite', ' buses and freeway.', ' Building Size:71.40 m?? (8 squares) approx', 'Property condition: Excellent', ' Upright stove', ' Land Size:533 m?? (approx)', 'two ensuites', ' Property Type: Unit Unit style: Lowrise Construction: Brick veneer Kitchen: Standard', ' Number of levels: 9', ' Reverse Cycle Air Con', ' Land Size:3915 m?? (approx)', 'Country Style Kitchen', ' Building Size:250.56 m?? (27 squares) approx', ' Building Size:248.90 m?? (27 squares) approx', ' Close to Shopping Centre', ' Building Size:156.00 m?? (17 squares) approx', ' Property Type: House Locality: Close to schools', ' Land Size:876 m?? (approx)', ' Under floor heating', ' Building Size:91.00 m?? (10 squares) approx', ' Air Conditionin', ' Near NEW', ' Building Size:17.10 m?? (2 squares) approx', ' 23m WIDE Frontage...', ' 5 minutes walk to station', 'Gas Stove', ' Heated Pool', ' Land Size:260 m?? (approx)', ' Land Size:1186 m?? (approx)', ' Land Size:651 m?? (approx)', 'Property condition: Good Property Type: Apartment Unit style: Number of levels: 4', ' AC Unit', ' Land Size:458 m?? (approx)', ' 1 Garage', 'Carport', ' Building Size:16.30 m?? (2 squares) approx', ' Pay TV', ' Close to Monash University', ' Property Type: House Garaging / carparking: Double lock-up Main bedroom: Walk-in-robe', ' Land Size:791 m?? (approx)', ' 24 hour concierge and Skyline Club on level 40.', ' Building Size:371.60 m?? (40 squares) approx', ' Grey Water System', ' Study / Retreat', ' Open Car Spaces:4', ' Tool Room In Carport', ' Land Size:840 m?? (approx)', ' Development Opportunity (STCA)', ' Good Property Type: House', ' Bay-views ', ' Property condition: Fair Property Type: House Garaging/carparking: Open carport', ' Land Size:1095 m?? (approx)', 'Property condition: Excellent Property Type: Apartment Unit style: Highrise Flooring: Carpet', ' Dining opens to al fresco', 'Property condition: Good Property Type: Apartment House style: Other style: Apartment', 'Property Type: Apartment Unit style: Highrise Flooring: Carpet Electrical: Phone extensions', ' Land Size:898 m?? (approx)', 'Walk in Robe', ' Land Size:2207 m?? (approx)', ' Custom Pergola', ' Land Size:2522 m?? (approx)', ' Land Size:812 m?? (approx)', ' Living Areas:50', ' Land Size:647 m? (approx)', ' Water views', ' Land Size:453 m?? (approx)', ' Land Size:318 m?? (approx)', ' Building Size:78.00 m?? (8 squares) approx', ' Land Size:1017 m?? (approx)', ' EER (Energy Efficiency Rating):Medium (6.0)', ' Heating & Cooling', ' Opposite Parklands', ' Bathrooms:1', 'Solar Power', 'Riverbank Position', ' Property Type: Apartment Unit style: Highrise Garaging / carparking: Single lock-up', ' 87 m2 Courtyard', ' Building Size:41.00 m?? (4 squares) approx', 'Garage Spaces:4', ' Land Size:170 m?? (approx)', ' Land Size:494 m?? (approx)', ' Building Size:743.22 m?? (80 squares) approx', ' House', ' Land Size:645 m?? (approx)', ' Close to transport/shops/school/pa', ' Land Size:711 m?? (approx)', ' Townhouse House style: Contemporary', ' Building Size:20.00 m?? (2 squares) approx', ' Land Size:1391 m?? (approx)', 'Property Type:Acreage/Semi-Rural', ' Fenced Back Yar', 'Ceiling fan', ' Bike Racks', ' Land Size:2111 m?? (approx)', 'HEATING', ' Building Size:157.01 m?? (17 squares) approx', ' Land Size:926 m?? (approx)', ' Walking distance to shops & zone 1 train station...', ' Gas hot  water', ' Land Size:1134 m?? (approx)', ' Building Size:53.00 m?? (6 squares) approx', 'Property condition: Excellent Property Type: Apartment Unit style: Highrise', 'Garage Spaces:6', 'Inground spa', ' Land Size:855 m?? (approx)', '* Development Site * Plans and Permits *', ' Land Size:395 m?? (approx)', ' Building Size:139.00 m?? (15 squares) approx', ' Land Size:503 m?? (approx)', ' Storage Area Under Deck', ' Building Size:144.00 m? (16 squares) approx', ' Land Size:3830 m?? (approx)', ' Land Size:465 m?? (approx)', 'Property Type:Retirement Living', 'Home theatre', ' Building Size:77.00 m? (8 squares) approx', ' Land Size:49.78ha (123.00 acres) (approx)', ' Building Size:102.60 m?? (11 squares) approx', ' Land Size:0.52ha (1.28 acres) (approx)', ' Land Size:0.81ha (2.00 acres) (approx)', ' Property condition: Renovated Property Type: House Construction: Brick veneer Kitchen: Modern', ' Open Car Spaces:10', ' BBQ', ' Alarm', ' Living Areas:122', ' Building Size:42.50 m?? (5 squares) approx', ' Carport and workshop', ' Land Size:225 m?? (approx)', 'Close to shops', ' Building Size:69.80 m?? (8 squares) approx', ' Land Size:3007 m?? (approx)', ' Bedrooms:7', ' Serviced apartment Floor Area: squares: 23', ' Building Size:167.00 m?? (18 squares) approx', ' Building Size:148.48 m?? (16 squares) approx', ' Building Size:247.65 m?? (27 squares) approx', 'Attic as Spare Room', ' Building Size:187.00 m?? (20 squares) approx', ' 2 Kitchens', ' Land Size:2956 m?? (approx)', ' Land Size:0.53ha (1.30 acres) (approx)', ' Land Size:388 m?? (approx)', ' Land Size:1521 m?? (approx)', 'REMOTE METAL GATES', ' Common Room facilities', ' Land Size:1.21ha (3.00 acres) (approx)', ' Land Size:337 m?? (approx)', ' Bedrooms:12', ' Land Size:699 m?? (approx)', ' Gas', ' Ala', ' Land Size:733 m?? (approx)', ' Within Strathmore College...', ' Caesarstone Benchtops', ' Carport Spaces:3', ' Land Size:580 m?? (approx)', ' Land Size:819 m?? (approx)', ' Land Size:1.42ha (3.50 acres) (approx)', ' Land Size:753 m?? (approx)', ' Shopping centre', ' Building Size:164.00 m?? (18 squares) approx', '17.1m frontage', ' Bedrooms:11', ' Built In Ro', 'Built-In-Robes', ' Land Size:527 m?? (approx)', ' R/C Split System', ' Land Size:234 m?? (approx)', ' Ensuite:5', ' Land Size:1634 m?? (approx)', ' Living Areas:125', ' Bathrooms:6', ' Courty', ' Land Size:482 m?? (approx)', 'Carport Spaces:11', ' Land Size:2086 m?? (approx)', ' Land Size:182 m? (approx)', ' Eat-in-Kitchen', ' Boat', ' timber flooring', ' Family', ' Land Size:650 m?? (approx)', ' Brick Stumps', ' Land Size:627 m? (approx)', ' Building Size:160.72 m?? (17 squares) approx', ' Property condition: Renovator', ' Land Size:1138 m?? (approx)', ' Land Size:723 m? (approx)', ' Building Size:251.00 m?? (27 squares) approx', ' Building Size:573.00 m?? (62 squares) approx', ' Building Size:230.00 m?? (25 squares) approx', ' Land Size:1019 m?? (approx)', 'Rain water tank', ' GWSZ (STCA)', ' Reverse Cycle AirCon', ' Internal Access via', ' Land Size:609 m? (approx)', ' Land Size:384 m?? (approx)', ' Living Areas:58', ' close to shops', ' Above-ground Pool', ' Land Size:467 m?? (approx)', ' Property Type: House House style: Contemporary Garaging / carparking: Double lock-up', ' Large entertainers balcony with gorgeous views', ' Customise to suit your needs!!!  90% Sold!!!   1 ONLY!!!', ' Spacious Rooms', 'Large Courtyard', ' Property Type: House Garaging / carparking: Open carport Flooring: Polished Kitchen: Original', ' Furnished', ' Building Size:32.00 m?? (3 squares) approx', ' Property condition: Excellent Property Type: Apartment Unit style: Highrise Flooring: Carpet', ' Land Size:539 m?? (approx)', ' Split-system Heating', ' Building Size:132.00 m?? (14 squares) approx', ' Security doors', ' Building Size:132.85 m?? (14 squares) approx', ' Save on stamp duty and buy off the plan.', ' Land Size:1604 m?? (approx)', ' Building Size:315.87 m?? (34 squares) approx', ' Land Size:342 m?? (approx)', \" Builder's Warranty\", ' Land Size:1771 m?? (approx)', ' Land Size:662 m?? (approx)', 'Gas Heating', 'Outdoor Entertaining Area', ' Building Size:157.75 m?? (17 squares) approx', ' Under mount Kitchen sink', ' Building Size:84.00 m?? (9 squares) approx', ' Land Size:422 m? (approx)', ' Undercover Entertainment Are', ' Land Size:1260 m?? (approx)', ' Building Size:348.00 m?? (37 squares) approx', ' Land Size:767 m?? (approx)', ' close to schools', ' 2.5 bath', ' Property condition: Excellent Property Type: Apartment Unit style: Number of levels: 5', ' Timber Floorboards', ' Building Size:72.44 m?? (8 squares) approx', ' Rooftop garden', ' Land Size:1034 m?? (approx)', ' Land Size:34 m?? (approx)', ' Building Size:340.74 m?? (37 squares) approx', 'Decked Pergola', ' Property condition: Fair Property Type: House House style: Bungalow', ' Street Facing...', ' Building Size:19.20 m?? (2 squares) approx', ' Land Size:189 m?? (approx)', ' decked pergola', ' Land Size:1174 m?? (approx)', \" Huge 44sqm entertainer's balcony with magnificent views\", ' Split', ' Building Size:32.80 m?? (4 squares) approx', 'Fenced', ' Land Size:586 m?? (approx)', ' Land Size:660 m?? (approx)', ' Building Size:535.00 m?? (58 squares) approx', ' Land Size:584 m?? (approx)', ' Land Size:962 m?? (approx)', ' Building Size:86.00 m?? (9 squares) approx', ' Land Size:357 m?? (approx)', \" Butler's pantry\", ' Land Size:1547 m?? (approx)', ' furnished', ' Split Syste', ' Close to West St Retail Precinct', ' Land Size:809 m?? (approx)', ' Building Size:222.80 m?? (24 squares) approx', ' Land Size:416 m?? (approx)', ' Land Size:356 m?? (approx)', ' Land Size:1250 m?? (approx)', ' Land Size:57 m?? (approx)', ' Dish', ' Five Star resort style facilities', ' Land Size:702 m?? (approx)', ' Building Size:603.87 m?? (65 squares) approx', ' Bore Water', ' Building Size:665.00 m?? (72 squares) approx', ' large Block ~ 710m2', ' Land Size:586 m? (approx)', ' Building Size:1.11 m?? (0 squares) approx', ' Ensuite:1', ' Land Size:1898 m?? (approx)', ' dishwasher', ' Land Size:1723 m?? (approx)', ' Land Size:732 m?? (approx)', ' Toilets:7', 'Property condition: Renovator Property Type: Apartment Unit style: Highrise', ' Land Size:1130 m?? (approx)', ' ROW at rear', ' Land Size:1498 m?? (approx)', ' Land Size:1742 m?? (approx)', ' Land Size:480 m?? (approx)', ' Garage', ' Location', ' Heating and cooling', ' Building Size:102.08 m?? (11 squares) approx', ' Land Size:781 m?? (approx)', ' Land Size:190 m?? (approx)', ' Heritage Apartments 3.5 metre ceiling height with separate study', ' Building Size:141.77 m?? (15 squares) approx', 'High Ceilings', ' Land Size:277 m?? (approx)', ' Bungalo', ' Land Size:1347 m?? (approx)', ' Land Size:770 m?? (approx)', ' Water and Owner Corporation Administration Fees', ' Building Size:64.00 m?? (7 squares) approx', ' Carport', ' Western Ring Road and Melbourne Airport.', ' Land Size:298 m? (approx)', ' Close to local schools', ' Light & Airy', ' Land Size:521 m?? (approx)', ' Land Size:1117 m?? (approx)', 'Property Type:Unitblock', ' Land Size:595 m?? (approx)', ' Building Size:174.96 m?? (19 squares) approx', ' Building Size:83.00 m?? (9 squares) approx', 'Carport Spaces:13', 'Beach Views', ' Solar Hot W', ' Land Size:2034 m?? (approx)', 'Common Room', ' Formal dining Main bedroom: Ceiling fans', ' Building Size:19.00 m?? (2 squares) approx', ' Land Size:3984 m?? (approx)', ' Building Size:12.20 m?? (1 squares) approx', ' Fl', ' Property condition: Good Property Type: Apartment Unit style: Highrise Window coverings: Blinds', ' near waterfront', ' Granite bathrooms', ' Land Size:360 m?? (approx)', ' Land Size:616 m?? (approx)', ' Land Size:2145 m?? (approx)', ' Polished Hardwood Floo', 'Boat mooring', ' Building Size:798.97 m?? (86 squares) approx', ' bay windows', ' Number of levels: 8', ' Fantastic Location', ' Building Size:90.00 m?? (10 squares) approx', ' ONLY 2 LEFT!!!', ' Excellent Property Type: House House style: Contemporary', ' Outstanding Location', ' Building Size:241.55 m? (26 squares) approx', 'EER (Energy Efficiency Rating):Low (0.0)', ' Walk to Everything', ' City View', 'Built in robes', ' Building Size:602.00 m?? (65 squares) approx', ' Building Size:54.00 m?? (6 squares) approx', ' Deck', ' Building Size:436.64 m?? (47 squares) approx', ' Land Size:251 m?? (approx)', ' Near New Construction', ' Land Size:180 m?? (approx)', 'Brand New', ' Solid Timber Floors Throughout', 'Swimming Pool - Inground', ' Land Size:805 m?? (approx)', '  bevelled glass doors', ' Land Size:448 m? (approx)', ' Gas Sto', ' Building Size:62.00 m?? (7 squares) approx', ' Land Size:240 m? (approx)', ' Land Size:1060 m?? (approx)', ' Blinds', ' Contemporary', ' Land Size:257 m?? (approx)', '7 Solar Panels', ' Property Type: House Garaging / carparking: Single lock-up Construction: Brick', ' Spacious 4 Bedroom Home', ' Land Size:2208 m?? (approx)', ' Building Size:102.00 m?? (11 squares) approx', ' Sunblinds', ' Land Size:923 m?? (approx)', ' Open carport', ' Land Size:701 m?? (approx)', '532.90 m?? (165 squares) approx', ' Land Size:578 m?? (approx)', ' Land Size:175 m?? (approx)', ' Land Size:200 m?? (approx)', ' Barbecue', ' Primary and Secondary School and Shopping Strip', ' Land Size:755 m?? (approx)', ' Property Type: House Garaging / carparking: Double lock-up Flooring: Polished', ' Land Size:1177 m?? (approx)', ' Building Size:18.58 m?? (2 squares) approx', ' valley views', ' Land Size:741 m?? (approx)', ' Building Size:167.23 m?? (18 squares) approx', ' Land Size:1144 m?? (approx)', 'Carport Spaces:1', ' Land Size:529 m?? (approx)', ' Land Size:860 m?? (approx)', ' Land Size:414 m?? (approx)', ' Land Size:932 m?? (approx)', ' Potential 5+ unit site (STCA)', ' Land Size:682 m?? (approx)', ' Land Size:498 m?? (approx)', ' Property condition: Good Property Type: Townhouse Unit style: Lowrise', ' Remote Garage', ' Classic Features', ' Property condition: Renovator Property Type: House Garaging / carparking: Double lock-up', ' Ducted Vacuum System', ' Bedrooms:9', ' Fully Fenced', ' Building Size:147.72 m?? (16 squares) approx', 'Property condition: Good Property Type: House Garaging / carparking: Off street', ' Property condition: Good Property Type: House', ' Land Size:427 m? (approx)', ' Building Size:171.87 m?? (18 squares) approx', ' Pressed Metal Ceilings', 'Park Views', 'Dishwasher', ' Land Size:967 m?? (approx)', ' Land Size:768 m?? (approx)', ' Land Size:548 m?? (approx)', ' Security Sc', ' Building Size:26.00 m?? (3 squares) approx', ' Land Size:116 m?? (approx)', ' single garage', ' Land Size:993 m?? (approx)', ' Land Size:272 m?? (approx)', 'Property condition: Excellent Property Type: Apartment Flooring: Timber', ' Victorian', ' Close to Transport', ' Land Size:930 m?? (approx)', ' Storage', 'Heating/Cooling', 'Clever', ' Building Size:37.00 m?? (4 squares) approx', ' Building Size:699.00 m?? (75 squares) approx', ' Land Size:1045 m?? (approx)', ' intercom system', ' Land Size:6.47ha (16.00 acres) (approx)', ' Land Size:545 m?? (approx)', ' Building Size:79.00 m?? (9 squares) approx', ' Separate Study Downstairs', ' Land Size:299.06ha (739.00 acres) (approx)', ' Courtyard', ' Study | Unit 1', ' safe', ' Slab heating', ' 2 PACKAGES REMAINING AT THIS PRICE!', ' Land Size:905 m? (approx)', ' Land Size:1932 m?? (approx)', ' 2 Carport', ' Land Size:597 m?? (approx)', ' Heated pool and spa', ' Property Type: House Joinery: Aluminium Walls / Interior: Gyprock Flooring: Polished', 'close to schools', ' Stove - Gas', ' Fenced Back Yard', ' no body corp fees', ' Land Size:728 m?? (approx)', ' Land Size:591 m? (approx)', 'Property Type: House Roof: Concrete and Tile Kitchen: Original and Gas reticulated', ' Flexible Settlement Terms Available', ' Land Size:385 m?? (approx)', ' Building Size:100.00 m?? (11 squares) approx', ' Building Size:125.70 m?? (14 squares) approx', ' Park next door', ' Building Size:22.00 m?? (2 squares) approx', ' located in MGSC', ' Garage Spaces:4', ' Land Size:1232 m?? (approx)', ' Pets Allowed', ' Film & Recording Studio', ' Building Size:250.00 m?? (27 squares) approx', ' Living Areas:101', ' Land Size:940 m?? (approx)', ' Building Size:284.00 m?? (31 squares) approx', ' Building Size:206.24 m?? (22 squares) approx', 'Open Car Spaces:10', ' Family Roo', ' Land Size:105.22ha (260.00 acres) (approx)', ' Land Size:628 m? (approx)', ' Luxury Home', ' Land Size:1082 m?? (approx)', ' Land Size:376 m?? (approx)', 'Video intercom', ' Building Size:225.39 m?? (24 squares) approx', ' Land Size:1334 m?? (approx)', ' Spacious Living Zones', ' High Clearance', ' Property Type: House Main bedroom: Walk-in-robe Bedroom 2: Built-in / wardrobe', ' Land Size:1102 m?? (approx)', ' Large Multiple Living Zones', ' Land Size:1066 m?? (approx)', ' Land Size:559 m?? (approx)', ' Land Size:310 m? (approx)', ' Property condition: Excellent Property Type: Apartment Garaging / carparking: Single lock-up', ' Land Size:828 m?? (approx)', ' Land Size:2504 m?? (approx)', ' Stainless Steel', ' Building Size:169.00 m?? (18 squares) approx', ' Court Yard & Deck', ' Land Size:1.75ha (4.32 acres) (approx)', ' Land Size:574 m?? (approx)', ' Land Size:680 m?? (approx)', 'Water Tank', 'Hydronic heating', ' Property condition: Renovator Property Type: House Garaging / carparking: Single lock-up', ' W', \" Walk to R'wood Shops\", ' Building Size:519.00 m?? (56 squares) approx', ' Land Size:418 m?? (approx)', ' coonara', ' Building Size:171.00 m?? (18 squares) approx', ' Land Size:2577 m?? (approx)', ' Roller Door Access', ' Land Size:1400 m?? (approx)', ' Close to all amenities and services including schools', ' Land Size:1680 m?? (approx)', ' Land Size:3689 m?? (approx)', ' glass splashback', 'Open Car Spaces:6', ' Land Size:415 m?? (approx)', ' roof top entertainment terrace', ' Garage Spaces:6', ' Close to transport/shops/school/CBD', ' Property Type: Townhouse Garaging / carparking: Internal access', ' Land Size:927 m?? (approx)', ' Ducted heating', ' Land Size:1207 m?? (approx)', ' Land Size:601 m?? (approx)', ' Land Size:3220 m?? (approx)', ' Unit', ' Building Size:46.45 m? (5 squares) approx', ' Land Size:344 m? (approx)', 'Remote Garage', ' Ducted Vaccum', ' Land Size:1844 m?? (approx)', ' Built-in Safe', ' Land Size:577 m?? (approx)', ' Building Size:328.00 m?? (35 squares) approx', ' Closed carport', ' Property condition: Good Property Type: Villa', ' Building Size:198.50 m?? (21 squares) approx', ' Land Size:608 m?? (approx)', ' Ingr', ' Land Size:801 m? (approx)', ' Land Size:265 m?? (approx)', ' Open Plan', ' Land Size:220 m?? (approx)', '  Ducted heating', ' a beautiful place to call your new home...', ' Building Size:383.00 m?? (41 squares) approx', ' Custom Outdoor Pergola', ' Land Size:446 m? (approx)', ' Land Size:750 m?? (approx)', ' Close to transport/shop', ' Land Size:1111 m? (approx)', ' Bike Storage', ' Land Size:1071 m?? (approx)', ' Land Size:801 m?? (approx)', ' Land Size:707 m?? (approx)', ' Land Size:424 m?? (approx)', ' Land Size:637 m?? (approx)', ' Land Size:871 m?? (approx)', ' Swimming Pool (in-ground)', ' Land Size:850 m?? (approx)', ' Land Size:1050 m?? (approx)', ' Parklike surrounds', ' Land Size:0.46ha (1.14 acres) (approx)', ' Polished Timb', ' TV satellite dish for Asian Channels', ' Within Close proximity to Station', ' Walk in robes', ' Land Size:1436 m?? (approx)', ' Air conditioner', ' waterfront balcony', ' 2 bathrooms...', ' Landscaped Gr', ' Building Size:175.00 m?? (19 squares) approx', ' Land Size:994 m?? (approx)', ' Security Doors', ' Land Size:582 m?? (approx)', ' Land Size:468 m?? (approx)', ' Land Size:219 m?? (approx)', ' Flat Living area: Formal lounge', ' Land Size:285 m?? (approx)', ' Outdoor Deck', ' Land Size:2.03ha (5.02 acres) (approx)', ' Building Size:66.00 m?? (7 squares) approx', ' quality street close to concourse and beaumaris & stella maris primary school', ' Secure Parki', ' Outdoor Powered Workshop', ' Building Size:19.66 m?? (2 squares) approx', ' Land Size:1579 m?? (approx)', ' Building Size:232.00 m?? (25 squares) approx', ' Number of levels: 65', ' Land Size:905 m?? (approx)', ' Building Size:92.90 m?? (10 squares) approx', ' Open Fireplac', ' Outdoor Entertaining Area', ' Building Size:510.00 m?? (55 squares) approx', ' EER (Energy Efficiency Rating):Medium (7.0)', ' Land Size:500 m?? (approx)', ' Rumpus room', ' Land Size:0.55ha (1.36 acres) (approx)', ' Close to Monash Uni', ' Building Size:30.00 m?? (3 squares) approx', ' Ceiling fans', ' Property condition: Excellent Property Type: Unit', ' Cathedral Ceilings', ' Wet bar', ' Stunning Views', ' Jetty', ' Smeg appliances', ' Toilets:6', 'Property Type: House Construction: Brick Roof: Concrete tile and Tile', ' wine cellar', ' Land Size:868 m?? (approx)', ' Land Size:676 m?? (approx)', ' Building Size:241.00 m?? (26 squares) approx', ' Land Size:669 m?? (approx)', ' Land Size:463 m?? (approx)', ' Building Size:181.25 m?? (20 squares) approx', ' Building Size:21.50 m?? (2 squares) approx', ' Property Type: House Floor Area: squares: 38', ' Land Size:974 m?? (approx)', '254.19 m?? (135 squares) approx', ' Situated in Residential Growth Zone 1', ' Land Size:281 m?? (approx)', ' Bungalow', ' Land Size:1312 m?? (approx)', 'SECURITY INTERCOM', ' Land Size:2030 m?? (approx)', ' Building Size:42.00 m?? (5 squares) approx', ' Secure off-street carport and courtyard', ' Land Size:636 m?? (approx)', ' Land Size:1340 m?? (approx)', ' Air Co', ' In-ground Pool (Heated)', ' Property condition: Good Property Type: House House style: Georgian', ' Du', ' Land Size:689 m?? (approx)', ' Land Size:513 m?? (approx)', ' Land Size:0.50ha (1.23 acres) (approx)', ' Land Size:1009 m?? (approx)', ' Outdoor spa', ' Pool', ' Land Size:758 m?? (approx)', ' Large Outdoor Living Area', ' Building Size:130.06 m?? (14 squares) approx', ' Garden Watering system', ' Land Size:697 m?? (approx)', ' Building Size:622.45 m?? (67 squares) approx', ' Outdoor Entertainment Area', ' 6 car accomodation', ' Land Size:1182 m?? (approx)', ' renovated bathroom', ' Land Size:491 m?? (approx)', ' Building Size:24.00 m?? (3 squares) approx', ' Land Size:817 m?? (approx)', ' Split System Air Conditioner', ' Land Size:633 m? (approx)', ' Building Size:17.50 m?? (2 squares) approx', ' Outlook to Yara Valley', ' Land Size:943 m?? (approx)', ' Building Size:185.00 m?? (20 squares) approx', ' Property Type: House House style: Contemporary Garaging / carparking: Open carport', ' Gas heating', ' Land Size:172 m?? (approx)', ' Garage Spaces:5', ' Land Size:756 m? (approx)', ' Land Size:556 m?? (approx)', ' Land Size:136 m?? (approx)', ' Land Size:971 m?? (approx)', 'Gas Hot Water', ' Court Loactaion', ' Property Type: Land', ' Land Size:0.60ha (1.48 acres) (approx)', ' Secure Parkin', ' 1x Open Car Space', ' Trailer or Truck', ' Land Size:1944 m?? (approx)', 'ROW at rear', ' Land Size:1074 m?? (approx)', ' District views', ' Building Size:87.00 m?? (9 squares) approx', ' Spacious Garden', ' Property condition: Good Property Type: Unit Unit style: Number of levels: 1', ' Quality Build', ' Alfresco area', ' Land Size:1319 m?? (approx)', ' Land Size:349 m?? (approx)', 'Study/Computer alcove', ' Polished Timber Floor', ' Land Size:683 m?? (approx)', ' Property condition: Excellent Property Type: House House style: Cottage', ' Outdoor Living', ' Land Size:231 m?? (approx)', ' Prestige Location', ' Building Size:165.00 m? (18 squares) approx', ' Land Size:1607 m?? (approx)', ' good tenants for invest', ' Land Size:506 m?? (approx)', ' Land Size:227 m?? (approx)', ' Building Size:256.00 m?? (28 squares) approx', ' Sauna', ' Land Size:1275 m?? (approx)', ' Single carport', ' Building Size:30.10 m?? (3 squares) approx', ' Land Size:1298 m?? (approx)', ' work from home', 'Property Type: Unit Unit style: Hotel / strata', ' next to parkland', ' Land Size:1122 m?? (approx)', ' Private Rear Villa In Block Of Only 3!', ' Land Size:174 m?? (approx)', ' Stunning Federation Classic', ' Land Size:1399 m?? (approx)', ' Building Size:93.00 m?? (10 squares) approx', ' Toilets:3', 'security shutters on all front windows', ' Building Size:51.00 m? (5 squares) approx', ' Off Street Parking', ' Land Size:1438 m?? (approx)', ' Land Size:577 m? (approx)', ' Building Size:50.50 m?? (5 squares) approx', ' Viewbank S.C School Zone', ' Solar Power', ' Land Size:884 m?? (approx)', ' Close to transport/shops/schoo', ' Land Size:0.41ha (1.01 acres) (approx)', ' Land Size:2161 m?? (approx)', ' Living Areas:121', ' Land Size:358 m? (approx)', ' Land Size:1335 m?? (approx)', ' Land Size:191 m?? (approx)', ' Study Nook', ' Property condition: Excellent Property Type: Apartment Unit style: Lowrise', ' Building Size:27.87 m?? (3 squares) approx', ' 1 bath', ' Building Size:122.00 m?? (13 squares) approx', ' Land Size:579 m?? (approx)', ' great kitchen storage', ' Land Size:1113 m?? (approx)', ' Land Size:845 m?? (approx)', 'Renovated bathrooms', ' Land Size:328 m?? (approx)', ' Land Size:563 m?? (approx)', '  storage', ' Land Size:125 m?? (approx)', ' Land Size:139 m?? (approx)', ' Dedicated Outdoor Kitchen', 'Property condition: Good Property Type: Unit Unit style: Highrise', ' Natural Timber Floors', ' Building Size:278.00 m?? (30 squares) approx', 'Property condition: Good Property Type: Studio', ' Living Areas:108', ' Living Areas:70', ' Undercover outdoor area', ' Cathedral ceilings', ' stone bench top', ' Land Size:1198 m?? (approx)', ' Land Size:640 m?? (approx)', ' Property condition: Excellent Property Type: Townhouse Garaging / carparking: Single lock-up', ' Open Car Spaces:5', ' Building Size:259.00 m?? (28 squares) approx', \" ''As New'' Condition\", 'Carpeted', ' Building Size:41.70 m?? (4 squares) approx', 'Property condition: Fair Property Type: House Construction: Brick veneer Kitchen: Original', ' Land Size:780 m? (approx)', ' Building Size:29.75 m?? (3 squares) approx', ' Property condition: Renovated', ' Land Size:950 m? (approx)', ' Building Size:100.80 m?? (11 squares) approx', ' Land Size:666 m? (approx)', ' Built In watering', 'Garage Spaces:10', 'Study/Home Office', ' Land Size:2094 m?? (approx)', ' Land Size:0.42ha (1.05 acres) (approx)', ' Building Size:58.40 m?? (6 squares) approx', ' Toilet Facilities', ' Wine cellar', ' Building Size:19.60 m?? (2 squares) approx', 'Hardwood floor boards', ' Building Size:245.00 m?? (26 squares) approx', ' Inground pool', ' Land Size:569 m?? (approx)', ' Land Size:954 m?? (approx)', ' Land Size:1225 m?? (approx)', ' Land Size:912 m?? (approx)', ' Property condition: Renovated Property Type: House', ' Property Type: HouseGaraging/carparking: Single lock-upKitchen: Dishwasher and Rangehood', ' Land Size:222 m?? (approx)', ' Land Size:422 m?? (approx)', ' Land Size:1059 m?? (approx)', ' Land Size:336 m?? (approx)', ' Land Size:948 m?? (approx)', ' Ceiling fans in bedrooms', ' ducted vacuum', 'Property condition: Renovator Property Type: House Garaging / carparking: Off street', 'bath', ' Luxurious finishes by Kokoda Property', ' Land Size:831 m?? (approx)', ' Land Size:129 m?? (approx)', ' Floo', ' dble garage + sgl', ' 3 Car Garage with Side / Rear & Internal Access', ' Land Size:653 m?? (approx)', ' Land Size:0.99ha (2.45 acres) (approx)', ' Land Size:976 m?? (approx)', ' Ceiling Fan', ' Building Size:287.00 m?? (31 squares) approx', ' Pol. Timber Floors', ' Land Size:2055 m?? (approx)', ' Living Areas:8', ' Land Size:774 m? (approx)', ' Renovators Opportnity', ' Land Size:137 m?? (approx)', ' Land Size:1014 m?? (approx)', ' Land Size:1480 m?? (approx)', ' Land Size:675 m? (approx)', ' Property condition: Excellent Property Type: Apartment Unit style: Number of levels: 4', ' Land Size:1085 m?? (approx)', ' bore', ' Easy Walk To Shops & Station...', ' Land Size:617 m?? (approx)', ' Land Size:364 m?? (approx)', ' Land Size:1378 m?? (approx)', ' Building Size:622.00 m?? (67 squares) approx', ' Bedrooms:16', 'Garage Spaces:1', ' Land Size:1194 m?? (approx)', ' Land Size:392 m?? (approx)', \" Balance of Builder's Warranty Included\", ' Land Size:1300 m?? (approx)', ' Land Size:1235 m?? (approx)', ' Under house storage', ' Freshly Carpeted & Freshly Painted', ' Building Size:454.00 m?? (49 squares) approx', ' Bedrooms:24', ' Building Size:48.00 m?? (5 squares) approx', ' ducted vaccuum', ' 3 Bedrooms + Separate Study', ' Building Size:137.00 m?? (15 squares) approx', ' Secu', ' duct heat', ' Low energy down lights', ' Lock up Garage', ' Wood Heater with Canopy', ' Land Size:762 m?? (approx)', 'Drive through access', ' Building Size:320.00 m?? (34 squares) approx', ' Land Size:2167 m?? (approx)', ' Land Size:1542 m?? (approx)', ' Fullty Fenced', 'Man Cave', ' Land Size:995 m?? (approx)', ' Land Size:400 m?? (approx)', ' Balcony large', ' Building Size:111.36 m?? (12 squares) approx', ' Land Size:428 m?? (approx)', ' Coonara Heater', ' Building Size:174.50 m?? (19 squares) approx', ' Gas Heating', ' Property condition: Good Property Type: Townhouse Garaging / carparking: Single lock-up', 'Spa Bath', ' Number in block: 189', 'Carport Spaces:10', ' Remote Garage Opener', ' Low Maintenance & Top Location', ' Closed carport Joinery: Aluminium', ' double garage sized workshop', ' Land Size:734 m?? (approx)', ' Building Size:73.60 m?? (8 squares) approx', ' Land Size:922 m?? (approx)', ' Building Size:106.72 m?? (11 squares) approx', ' Building Size:400.00 m?? (43 squares) approx', ' Building Size:326.00 m?? (35 squares) approx', ' Garage - Remote Control', ' Quiet Court Location', ' Second Study ', ' Land Size:194 m?? (approx)', 'Toilet Facilities', ' Land Size:696 m? (approx)', 'Updated Kitchen and appliances', ' Land Size:294 m?? (approx)', ' Land Size:434 m?? (approx)', ' Terrace/paved', ' Building Size:113.00 m?? (12 squares) approx', ' Land Size:0.69ha (1.70 acres) (approx)', ' Building Size:334.45 m?? (36 squares) approx', ' 900mm Upright Stainless Steel Cook-top', ' Property Type: House Garaging / carparking: Double lock-up Construction: Brick veneer', ' Land Size:517 m?? (approx)', ' Land Size:846 m?? (approx)', ' Land Size:970 m?? (approx)', ' Drive through access', ' Land Size:255 m?? (approx)', 'Carport Spaces:3', ' Land Size:287 m?? (approx)', ' Land Size:460 m?? (approx)', ' Bedrooms:30', ' Land Size:289 m?? (approx)', ' Land Size:420 m? (approx)', ' Building Size:25.00 m?? (3 squares) approx', ' Land Size:878 m?? (approx)', ' Land Size:284 m?? (approx)', ' Pool x 2', ' Property condition: Good Property Type: Townhouse Flooring: Tiles and Carpet', ' Land Size:1770 m?? (approx)', ' Land Size:946 m?? (approx)', ' Land Size:1219 m?? (approx)', ' Land Size:1.66ha (4.10 acres) (approx)', ' Air-conditioning', ' Land Size:514 m?? (approx)', ' Land Size:722 m?? (approx)', ' Land Size:2286 m?? (approx)', ' Spacious Balcony', ' 8 minute walk to station', ' Living Areas:7', ' Building Size:54.79 m?? (6 squares) approx', ' Lounge', ' Land Size:583 m?? (approx)', ' Land Size:1203 m? (approx)', ' fully fencing', 'Open Car Spaces:5', 'Split System Heating & Air Conditioning', ' Fixed Floor Coverings', ' Land Size:1605 m?? (approx)', ' Excellent Property Type: Unit', ' Land Size:1152 m? (approx)', ' Land Size:128 m?? (approx)', ' Land Size:685 m?? (approx)', ' Building Size:214.00 m?? (23 squares) approx', ' Land Size:0.41ha (1.00 acre) (approx)', ' Building Size:260.00 m?? (28 squares) approx', ' Land Size:297 m?? (approx)', ' Land Size:776 m? (approx)', 'Polished Floorboards', ' Land Size:426 m?? (approx)', ' Building Size:166.50 m?? (18 squares) approx', 'Close to Shopping Centre', ' Building Size:69.60 m?? (7 squares) approx', ' Building Size:65.03 m?? (7 squares) approx', ' mentone girls secondary zone', ' Property condition: New Property Type: Townhouse Garaging/carparking: Free standing', 'Large family room at rear', ' Clos', ' Communal pool', ' stone benches and cupboard space', ' Storage room', ' Land Size:399 m?? (approx)', 'Remote Gate', ' Land Size:1221 m?? (approx)', ' Porcelain Tiles in Kitchen and living areas', ' Split systems', ' Property condition: Renovated Property Type: Unit House style: Contemporary Unit style: Lowrise', ' Building Size:317.00 m?? (34 squares) approx', ' Land Size:488 m?? (approx)', ' Land Size:1408 m?? (approx)', ' Land Size:105 m?? (approx)', ' Building Size:88.00 m?? (9 squares) approx', ' Building Size:675.00 m?? (73 squares) approx', ' Multi Story', ' Building Size:102.19 m?? (11 squares) approx', ' Turn Key! Just move in', ' Land Size:534 m? (approx)', ' Land Size:541 m?? (approx)', ' Land Size:606 m?? (approx)', ' Remote garage opener', ' Property condition: Good Property Type: Unit House style: Enviro friendly home', ' House Construction: Weatherboard Aspect: North', ' Land Size:2620 m?? (approx)', 'Brand new', ' Property condition: Renovated Property Type: Apartment Flooring: Timber', ' Bedrooms:20', ' Land Size:528 m?? (approx)', ' Land Size:1411 m?? (approx)', ' Land Size:1468 m?? (approx)', ' Storage Space', ' Property Type: Townhouse Additional rooms: Family Family Room: Balcony / deck', ' Land Size:659 m? (approx)', ' Land Size:448 m?? (approx)', ' Living Areas:85', ' Gym', ' Land Size:2.53ha (6.25 acres) (approx)', ' Land Size:489 m?? (approx)', ' Land Size:117 m?? (approx)', ' 9 ft ceilings', ' Land Size:1234 m?? (approx)', 'Property condition: Good Property Type: House House style: Colonial', ' Gas heater', ' Tennis Court', ' internal laundry', ' Land Size:968 m?? (approx)', ' Building Size:242.00 m?? (26 squares) approx', 'Intercom System', ' Building Size:34.00 m?? (4 squares) approx', ' Land Size:924 m?? (approx)', ' Land Size:1178 m?? (approx)', ' Building Size:325.00 m?? (35 squares) approx', 'Property condition: Good Property Type: House House style: Contemporary', ' Land Size:733 m? (approx)', ' Big 2 bedrooms', ' Building Size:263.00 m?? (28 squares) approx', ' Within Strathmore College School Zone + Valley Views', ' Above ground Pool', ' GAS STAINLESS STEEL COOKTOP', ' Property condition: Excellent Property Type: House Garaging/carparking: Double lock-up', ' Land Size:223 m?? (approx)', ' Land Size:237 m?? (approx)', ' Walk-in Robes', ' double garage', ' Off The Plan - Save Big $ Stamp Duty', ' Open carport Joinery: Timber', ' Land Size:1425 m?? (approx)', ' Building Size:606.50 m?? (65 squares) approx', ' Building Size:147.00 m? (16 squares) approx', ' Land Size:901 m?? (approx)', ' Land Size:841 m?? (approx)', ' Land Size:706 m?? (approx)', 'main road exposure', ' Secure Entry', ' Building Size:310.00 m?? (33 squares) approx', ' Land Size:589 m?? (approx)', ' Living Areas:78', ' Land Size:852 m?? (approx)', ' Split Syst', ' Land Size:397 m?? (approx)', ' Building Size:464.00 m?? (50 squares) approx', ' Land Size:109 m?? (approx)', ' Property condition: Good Property Type: House Garaging / carparking: Double lock-up', ' Building Size:181.16 m?? (20 squares) approx', ' Roller Shutters', ' Land Size:1217 m?? (approx)', ' Land Size:1237 m?? (approx)', 'Rumpus Room', ' Property condition: Good Property Type: Townhouse House style: Colonial Unit style: Highrise', ' Land Size:1782 m?? (approx)', ' Building Size:746.00 m?? (80 squares) approx', ' Single Storey', ' Open Fireplace', 'Formal Lounge', ' Land Size:1127 m?? (approx)', ' Air conditioning', ' Building Size:371.61 m?? (40 squares) approx', ' Reverse Cycle x 3', ' Art Deco Apartment', ' Laundry drying cupboard', ' 9ft / 2.7 Metre Ceiling Height', ' Split System A', ' Opposite Park', ' Land Size:157 m?? (approx)', ' Land Size:0.92ha (2.27 acres) (approx)', ' Air Conditioning - Evaporative', ' Land Size:1444 m?? (approx)', ' RUMPUS', ' Building Size:73.00 m?? (8 squares) approx', ' Land Size:679 m?? (approx)', ' Land Size:171 m?? (approx)', ' skylight', ' Land Size:1700 m?? (approx)', ' Land Size:1750 m?? (approx)', ' Land Size:579 m? (approx)', 'Timber Floorboards', 'Parquetry Floors', ' Building Size:285.00 m?? (31 squares) approx', ' Land Size:686 m?? (approx)', ' High side of road', ' Land Size:155 m?? (approx)', ' Bu', 'Courtyard', ' Double Garage with Internal Access ', ' Land Size:1549 m?? (approx)', ' Building Size:557.42 m?? (60 squares) approx', ' Land Size:0.61ha (1.50 acres) (approx)', ' Land Size:779 m?? (approx)', ' 0', ' Land Size:873 m?? (approx)', ' Walking Dist to Bus Stop', ' Backing onto a park', 'Gas cooking', ' 5 Minute Stroll to Watergardens', ' Land Size:1093 m?? (approx)', 'Fireplace(s)', ' remote entry gate', ' Bathrooms:4', ' Building Size:176.52 m?? (19 squares) approx', ' BBQs', ' Land Size:543 m?? (approx)', ' Advantage Living Promo and 35m2 Colored Driveway', ' Electric gates front entry', ' Polished floorboards', ' Building Size:141.96 m?? (15 squares) approx', 'Gas Ducted heating', ' Parquetry Floors', ' Study/Kids Retreat', 'Built-in storage', ' Building Size:169.55 m?? (18 squares) approx', ' views', ' Building Size:11.90 m?? (1 squares) approx', ' Land Size:2028 m? (approx)', ' Land Size:1430 m?? (approx)', ' Building Size:296.00 m?? (32 squares) approx', ' trains', ' parks', ' Outdoor Ent', ' Fireplace', ' Building Size:529.00 m?? (57 squares) approx', 'Courtyard Garden', ' Bathrooms:7', ' Land Size:0.57ha (1.40 acres) (approx)', 'AFFORDABLE WITH AMAZING CITY VIEWS', ' Bathrooms:15', '3 Living zones', ' Land Size:88 m?? (approx)', '* great development site (STCA) *', ' Building Size:145.00 m?? (16 squares) approx', ' Land Size:718 m?? (approx)', ' 3 Phase Power', ' Building Size:63.00 m?? (7 squares) approx', ' Double Garage - Rear Access', ' Property condition: Good Property Type: Apartment Flooring: Carpet Window coverings: Blinds', ' Building Size:154.00 m?? (17 squares) approx', ' Building Size:63.10 m?? (7 squares) approx', ' Property condition: Fair Property Type: Apartment Unit style: Highrise Flooring: Carpet', ' Good Property Type: Apartment', ' Land Size:496 m?? (approx)', ' Land Size:192 m?? (approx)', ' Land Size:3948 m?? (approx)', ' Land Size:310 m?? (approx)', ' Land Size:469 m?? (approx)', ' Land Size:1510 m?? (approx)', ' Land Size:653 m? (approx)', ' Land Size:254 m?? (approx)', ' Property condition: Good Property Type: House House style: Bungalow Construction: Brick veneer', ' Zoned Heating & Cooling', ' Land Size:2.10ha (5.19 acres) (approx)', ' Land Size:1985 m?? (approx)', ' 2nd Ensuite', ' Marble gas fireplace', ' Remote', ' Building Size:33.00 m?? (4 squares) approx', ' Building Size:6', ' Ducted Air-conditioning', ' Land Size:293 m?? (approx)', ' Large open apartment', ' Property condition: Excellent Property Type: Townhouse House style: Contemporary', ' Property Type: Terrace', ' Land Size:366 m?? (approx)', ' Wood Heater', ' Building Size:136.00 m?? (15 squares) approx', ' Land Size:820 m?? (approx)', ' Land Size:1160 m?? (approx)', ' Close', ' 1 Minute Walk to Parkwood Green Primary School', ' Land Size:674 m?? (approx)', ' Land Size:264 m?? (approx)', ' Building Size:116.13 m?? (12 squares) approx', ' Land Size:1919 m?? (approx)', ' bbq', ' Land Size:662 m? (approx)', ' Land Size:860 m? (approx)', ' tree lined quiet Street.', ' Building Size:236.00 m?? (25 squares) approx', ' Land Size:466 m?? (approx)', ' Reverse Cycle Heating & Cooling', ' Land Size:149 m?? (approx)', ' Building Size:95.00 m?? (10 squares) approx', ' Land Size:602 m?? (approx)', ' Building Size:307.00 m?? (33 squares) approx', ' Land Size:485 m?? (approx)', ' Land Size:202 m?? (approx)', ' Land Size:0.55ha (1.35 acres) (approx)', ' Land Size:544 m? (approx)', ' secure entry', ' Land Size:1611 m?? (approx)', ' Garage Remote', ' Building Size:34.40 m?? (4 squares) approx', ' Living Areas:74', ' Building Size:72.30 m?? (8 squares) approx', ' Land Size:1324 m?? (approx)', ' House Garaging / carparking: Single lock-up', ' Land Size:1356 m?? (approx)', ' Studio with a kitchen', ' Land Size:313 m?? (approx)', 'Dual Oven', ' Building Size:408.77 m?? (44 squares) approx', ' Rumpus Room & Study & Bar', ' Land Size:1003 m? (approx)', ' Close to comm', ' Built-in BBQ', ' Land Size:629 m? (approx)', ' Land Size:1030 m?? (approx)', ' Land Size:396 m?? (approx)', '973.67 m?? (643 squares) approx', ' R.O.W', ' Land Size:969 m?? (approx)', ' Sought After Location', '  cooling', ' Land Size:1149 m?? (approx)', ' Living Areas:116', ' Land Size:510 m?? (approx)', ' close to parklands', ' Property condition: Excellent Property Type: Apartment Garaging / carparking: Off street', ' Living Areas:82', ' Corrugated Iron', ' Land Size:933 m?? (approx)', ' Property condition: Excellent Property Type: House House style: Federation', '2 Living Areas', ' Ensuite:2', ' Bonus Carport Accomodation', '* Development Site *  Plans & Permits *', 'Second Large Living Area', ' ROW', ' Land Size:584 m? (approx)', ' Land Size:951 m?? (approx)', ' Landscaped Grounds', ' Garage Spaces:8', ' Land Size:111 m?? (approx)', ' land size', ' Land Size:953 m?? (approx)', ' Split system air conditio', ' Building Size:68.56 m?? (7 squares) approx', ' Tenure: Freehold Property Type: House Garaging / carparking: Open carport Main bedroom: Double', ' Building Size:585.00 m?? (63 squares) approx', 'ducted vaccum', ' spa ensuite', ' Land Size:305 m?? (approx)', ' wide driveway', ' Land Size:371 m?? (approx)', ' Central Location', ' Land Size:352 m?? (approx)', 'Ducked Heating', ' Land Size:101 m?? (approx)', ' Land Size:511 m?? (approx)', ' Land Size:655 m?? (approx)', ' brick veneer', ' Separate Driveway', ' Land Size:1132 m?? (approx)', ' Land Size:1257 m?? (approx)', ' Dishwasher', ' Land Size:525 m?? (approx)', ' Land Size:201 m?? (approx)', 'Boat Mooring', ' Land Size:857 m?? (approx)', ' shower facilities', ' Building Size:74.40 m?? (8 squares) approx', ' Building Size:693.00 m?? (75 squares) approx', ' Insect Screen', ' Located within a 2 minute stroll to Keilor Downs Plaza', ' Property Type: Unit', ' Building Size:218.32 m?? (24 squares) approx', ' Land Size:775 m? (approx)', ' Land Size:375 m?? (approx)', ' en-suite', ' Area Views', ' Fully Fen', ' Land Size:1097 m?? (approx)', ' Resident Barbeque Facilities', ' Land Size:1105 m? (approx)', ' Separate Block - No Body Corporate', ' Property condition: Excellent Property Type: Villa', ' Reverse C', ' Building Size:141.00 m?? (15 squares) approx', ' Land Size:633 m?? (approx)', ' Building Size:75.90 m?? (8 squares) approx', ' Building Size:130.00 m?? (14 squares) approx', ' Building Size:94.16 m?? (10 squares) approx', ' Covered Alfresco', ' Land Size:568 m?? (approx)', ' Building Size:144.28 m?? (16 squares) approx', ' E-Spring Water', ' Land Size:3935 m?? (approx)', ' Land Size:215 m?? (approx)', ' 7 min walk to station and shops', 'Property condition: Renovator Property Type: House Construction: Render and Brick veneer', ' Land Size:167 m?? (approx)', ' Land Size:370 m?? (approx)', ' Land Size:903 m?? (approx)', ' Patio', ' Building Size:484.04 m?? (52 squares) approx', ' Land Size:1615 m?? (approx)', ' Land Size:882 m?? (approx)', ' Land Size:641 m?? (approx)', ' Land Size:1098 m?? (approx)', ' Low maintenance', ' Reverse Cycle Heating/Cooling', ' Land Size:296 m?? (approx)', ' Stone Bench-tops', ' Land Size:1141 m?? (approx)', ' One bedroom self contained unit', 'Split System', ' Land Size:773 m?? (approx)', 'Property Type:Studio', ' Property condition: Excellent Property Type: Apartment Unit style: Highrise', ' Skyline Club on level 40', ' Building Size:81.75 m?? (9 squares) approx', ' Land Size:329 m?? (approx)', ' Land Size:668 m?? (approx)', ' Property condition: Good Property Type: Apartment Garaging / carparking: Closed carport', ' Gas Fireplace', '0', ' Land Size:244 m?? (approx)', ' Land Size:842 m?? (approx)', 'Garden Shed', ' Building Size:56.60 m?? (6 squares) approx', ' Building Size:271.00 m?? (29 squares) approx', ' Ensuite:4', ' Land Size:1500 m?? (approx)', ' Home Office', ' shops and primary school', ' Apartment', ' Large block', ' Land Size:265 m? (approx)', ' Living Areas:4', ' Land Size:939 m?? (approx)', ' Building Size:151.06 m?? (16 squares) approx', ' Property condition: Good Property Type: Unit', ' Land Size:667 m? (approx)', ' Building Size:631.74 m?? (68 squares) approx', ' Land Size:992 m?? (approx)', ' Garage Spaces:13', ' Property condition: Renovated Property Type: Apartment Garaging/carparking: Double lock-up', ' Land Size:958 m?? (approx)', ' Stove - Electric', ' Fitted mirrored wardrobes', ' Building Size:88.50 m?? (10 squares) approx', ' Land Size:1041 m?? (approx)', ' Water Views', ' Land Size:802 m? (approx)', ' Land Size:311 m?? (approx)', ' Building Size:13.00 m?? (1 squares) approx', ' Property Type: Townhouse Locality: Close to transport', ' Carport Spaces:1', ' Property Type: Unit House style: Enviro friendly home Garaging / carparking: Double lock-up', ' Evaporative Cooling', 'Garden', ' Double Glazing', ' O', ' Building Size:24.10 m?? (3 squares) approx', ' Building Size:73.30 m?? (8 squares) approx', ' Building Size:213.68 m?? (23 squares) approx', ' Land Size:3095 m?? (approx)', ' Living Areas:181', ' Building Size:668.90 m?? (72 squares) approx', ' G', ' Bath', ' Miele Appliances', ' Property condition: Good Property Type: Townhouse House style: Contemporary', 'solar panels', ' Land Size:1478 m?? (approx)', ' JUST BRING YOUR FURNITURE', ' Albert Park Lake Views', ' Solar Hot Water', ' Ducted Heating', ' Land Size:3843 m?? (approx)', ' Building Size:160.00 m? (17 squares) approx', ' Land Size:786 m?? (approx)', ' Property condition: Good Property Type: Apartment Unit style: Highrise Flooring: Tiles', ' Land Size:975 m?? (approx)', ' Air C', ' Number of levels: 12', ' Land Size:1989 m?? (approx)', ' Property Type: House Kitchen: Original', ' Land Size:979 m?? (approx)', ' Land Size:55 m?? (approx)', ' Land Size:1.06ha (2.61 acres) (approx)', ' Building Size:118.00 m?? (13 squares) approx', ' Building Size:366.97 m?? (40 squares) approx', ' Solar Heated Pool', ' Separate Title + Approved Permit To Build 2 Street Facing Town Homes', ' Building Size:35.50 m?? (4 squares) approx', ' bbq area', ' Land Size:2.28ha (5.64 acres) (approx)', ' Land Size:592 m?? (approx)', ' evaporative cooling', ' Building Size:72.00 m?? (8 squares) approx', ' Ultra Modern', ' Land Size:5 m?? (approx)', ' Retreat', 'Large Side Access Point', ' Land Size:1822 m?? (approx)', ' Balcony small', 'Period Home', ' Outhouse', ' d', ' Land Size:439 m?? (approx)', ' Land Size:1286 m?? (approx)', ' Land Size:938 m?? (approx)', ' Huge Deck', ' Greywater System', ' Building Size:235.00 m?? (25 squares) approx', ' Land Size:987 m?? (approx)', ' Building Size:74.00 m?? (8 squares) approx', ' Land Size:649 m? (approx)', ' Land Size:918 m?? (approx)', ' Land Size:1850 m?? (approx)', ' Property Type: Townhouse House style: Enviro friendly home Garaging / carparking: Double lock-up', ' Land Size:1793 m?? (approx)', 'Property Type:Villa', ' Land Size:716 m?? (approx)', ' Land Size:2211 m?? (approx)', ' 4 bed', 'Outdoor spa', ' Building Size:107.00 m?? (12 squares) approx', ' Attic', ' Large Driveway & Side Access Clearance for Boat/Truck or Caravan', ' pet friendly', ' Land Size:2534 m?? (approx)', ' Land Size:342 m? (approx)', ' Land Size:1900 m?? (approx)', ' Duplex/semi detach', ' 3.25kw Solar', ' Land Size:594 m?? (approx)', ' Close to Bus/On Bus Route', '  Refrigerated Air Conditioning', ' Building Size:705.00 m?? (76 squares) approx', ' Robes - Walk In', ' Above Ground Pool', ' quality finish', ' Land Size:1181 m?? (approx)', ' Potential Development (STCA)', ' Land Size:827 m?? (approx)', ' Building Size:575.00 m?? (62 squares) approx', ' Residential Zone 1', ' In-ground Solar Heated Pool', 'Air-Conditioning', ' Building Size:790.00 m?? (85 squares) approx', ' walk to all amenities', ' 1 Other Parking Spaces', ' Land Size:558 m? (approx)', ' Land Size:629 m?? (approx)', '740.64 m?? (295 squares) approx', ' Open plan living', 'Shed', ' Built-in-robes', ' Living Areas', ' One Owner Home', ' Property Type: Villa', ' Building Size:214.05 m?? (23 squares) approx', ' Land Size:945 m?? (approx)', ' Land Size:1267 m?? (approx)', 'RUMPUS', ' Clothe', ' Land Size:499 m?? (approx)', ' Land Size:1730 m?? (approx)', ' Property Type: House Floor Area: squares: 609', ' Building Size:120.64 m?? (13 squares) approx', ' great shopping within easy driving distance', ' Powder Room. High Ceilings.', ' Quality floorplan and renovation', ' Fenced', 'Secure Parking', ' Land Size:570 m?? (approx)', ' Land Size:1.21ha (2.99 acres) (approx)', ' Building Size:27.90 m?? (3 squares) approx', ' Stone Benchtops To All Wet Areas', ' Gym & Billiard Room', 'Evaporative Cooling', ' Building Size:13.70 m?? (1 squares) approx', ' Land Size:538 m? (approx)', ' Building Size:541.00 m?? (58 squares) approx', ' Land Size:989 m?? (approx)', ' world class resort facilities.', ' Land Size:1387 m?? (approx)', ' Land Size:600 m? (approx)', ' steam room.', ' Land Size:1563 m?? (approx)', ' Northern Golf Course', 'Sunroom', ' Building Size:768.00 m?? (83 squares) approx', ' Land Size:126 m?? (approx)', ' EER (Energy Efficiency Rating):Low (0.0)', ' Land Size:354 m?? (approx)', ' Close to transpor', ' Land Size:1023 m?? (approx)', ' Land Size:920 m? (approx)', ' Timeless design', ' Property condition: Fair Property Type: House', ' Building Size:11.00 m? (1 squares) approx', ' Land Size:632 m?? (approx)', ' Creative', ' Land Size:1433 m?? (approx)', ' Home office/studio or possible 4th bedroom', ' Land Size:723 m?? (approx)', ' Property condition: Fair Property Type: House Garaging / carparking: Closed carport', ' Land Size:941 m?? (approx)', ' Land Size:178 m?? (approx)', ' Peace and quiet with the ultimate in convenience', ' Land Size:1265 m?? (approx)', ' Ducted Heat', ' Outdoor Workshop', ' Land Size:587 m?? (approx)', ' Polished Boards', ' Building Size:329.81 m?? (36 squares) approx', ' Land Size:798 m?? (approx)', ' House House style: Federation', ' Land Size:439 m? (approx)', ' Property Type: House Floor Area: squares: 15', ' Separate Title - No Body Corporate', ' Living Areas:2', ' Property Type: Townhouse Unit style: Lowrise', ' Theatre', ' Swimming Pool - Above Ground', ' Land Size:3987 m?? (approx)', ' Land Size:1442 m?? (approx)', ' Building Size:70.00 m?? (8 squares) approx', ' A MUST SEE!!!', ' Land Size:1190 m?? (approx)', ' The ultimate teenage family home', ' Quality carpets', '471.00 m?? (158 squares) approx', ' Tenure: Freehold Property Type: House', ' Building Size:213.00 m?? (23 squares) approx', ' Land Size:913 m?? (approx)', ' Land Size:1253 m?? (approx)', ' evap cooling', ' Building Size:418.06 m?? (45 squares) approx', ' Large storage room', ' Building Size:9.29 m?? (1 squares) approx', ' Building Size:255.00 m?? (27 squares) approx', 'Property Type: House', ' Huge stamp duty savings', ' Land Size:1115 m?? (approx)', ' Land Size:1252 m?? (approx)', ' Apartment Unit style: Highrise', ' No Easement on Block', ' Superb Location', ' Swimming Pool', ' Large Outdoor Pergola', ' Building Size:218.00 m?? (23 squares) approx', ' Land Size:1013 m?? (approx)', ' Flat', ' Property condition: Excellent Property Type: Townhouse', ' Land Size:1353 m?? (approx)', ' Building Size:464.52 m?? (50 squares) approx', ' Land Size:1278 m?? (approx)', ' Beautiful Land 733 SQ MTR', ' Stone Benchtops', ' Land Size:1088 m?? (approx)', ' Quality Builder', ' Large stamp duty savings', ' Land Size:142 m?? (approx)', ' Number of levels: 33 Flooring: Tiles and Carpet', ' Stone-tiled spa-bathrm', ' Land Size:2595 m?? (approx)', ' Master bedroom offering unique circular shower.', ' Toilets:10', ' Building Size:225.00 m?? (24 squares) approx', ' Land Size:656 m?? (approx)', ' Large Double Garage with Rear Access', ' Building Size:241.55 m?? (26 squares) approx', ' Property Type: House Kitchen: Dishwasher Living area: Formal dining', ' Building Size:203.92 m?? (22 squares) approx', ' Land Size:104 m?? (approx)', ' LAST REMAINING APARTMENT SETTLEMENT AUGUST', ' Land Size:704 m? (approx)', ' Building Size:446.20 m?? (48 squares) approx', ' Building Size:31.00 m?? (3 squares) approx', 'Garage Spaces:9', ' inside spa', ' Building Size:850.00 m?? (91 squares) approx', ' Duct Heating', ' Walk to Heathmont/Ringwoo', ' Land Size:731 m?? (approx)', ' Land Size:350 m?? (approx)', ' Land Size:1125 m?? (approx)', ' Land Size:127 m?? (approx)', ' Land Size:915 m?? (approx)', ' Toilets:15', ' Work Shop', ' Land Size:755 m? (approx)', ' Land Size:270 m?? (approx)', ' Stylishly Presented', ' Land Size:760 m?? (approx)', ' Walking Distance to Keilor Plains Train Station', ' Land Size:1258 m?? (approx)', 'Gymnasium', ' Land Size:350 m? (approx)', ' parkview', ' Land Size:2635 m?? (approx)', ' Building Size:216.00 m?? (23 squares) approx', ' Land Size:703 m?? (approx)', ' Zone 1 transport', ' Bedrooms:5', ' Solar Panels', ' Land Size:282 m?? (approx)', ' Terrace', 'Next to Parklands', ' Building Size:141.40 m?? (15 squares) approx', ' Property condition: Excellent Property Type: House House style: Georgian', ' Land Size:446 m?? (approx)', ' Land Size:929 m?? (approx)', ' Free standing Main bedroom: Double', ' 2 Studies', ' Building Size:335.38 m?? (36 squares) approx', ' Double Car Garage', ' Property Type: House Kitchen: Dishwasher Main bedroom: Walk-in-robe', ' Land Size:832 m?? (approx)', ' Land Size:3403 m?? (approx)', ' Lobby', ' Land Size:1130 m? (approx)', ' Land Size:3997 m? (approx)', ' 2and1 beds', ' Building Size:325.16 m?? (35 squares) approx', ' Land Size:1230 m?? (approx)', ' clothesline', ' Water access', ' Building Size:157.00 m?? (17 squares) approx', ' 3 boutique townhouses', ' Building Size:59.90 m?? (6 squares) approx', 'Study Nook', 'pergola', ' Established Garden', ' Land Size:247 m?? (approx)', ' Recreation Room', ' Brand New', ' Close to Zone 1 Transport & Shopping Strip', ' Land Size:1339 m?? (approx)', ' Extension', 'Open Car Spaces:2', ' Building Size:58.50 m?? (6 squares) approx', ' Land Size:0.90ha (2.22 acres) (approx)', ' Building Size:29.00 m?? (3 squares) approx', ' Walk In Robe', ' Separate Laundry', ' Land Size:159 m?? (approx)', ' Building Size:82.03 m?? (9 squares) approx', ' Building Size:105.00 m? (11 squares) approx', ' Polished Floor Boards', ' Building Size:52.00 m?? (6 squares) approx', ' 2 Car Spaces & An Entertainers Delight...', ' Property Type: Townhouse', ' Land Size:1268 m?? (approx)', ' Land Size:373 m? (approx)', ' Floorboar', ' Building Size:395.00 m?? (43 squares) approx', ' Land Size:188 m? (approx)', ' Land Size:432 m?? (approx)', ' Close to transport/', ' Land Size:492 m?? (approx)', ' Land Size:288 m?? (approx)', ' Building Size:28.00 m?? (3 squares) approx', ' Building Size:184.00 m?? (20 squares) approx', ' Building Size:180.55 m?? (19 squares) approx', 'Outdoor entertainment area', ' Land Size:1528 m?? (approx)', ' Land Size:761 m?? (approx)', ' Rainwater Tank', 'Home office', ' Land Size:457 m?? (approx)', ' Building Size:592.00 m?? (64 squares) approx', ' The Ultimate Heritage Restoration', ' Robes - Built-In', ' Land Size:1610 m?? (approx)', ' Land Size:603 m?? (approx)', ' Cellar', ' Built-In Wardrobes', ' Building Size:345.00 m?? (37 squares) approx', ' Large Living Areas', ' Land Size:333 m?? (approx)', ' Land Size:643 m?? (approx)', ' Land Size:393 m?? (approx)', ' Land Size:704 m?? (approx)', ' Land Size:398 m?? (approx)', ' Land Size:1325 m?? (approx)', ' Land Size:317 m?? (approx)', ' Central Development Opportunity (STCA)', \" ONLY 6 REMAINING... DOIN'T MISS YOURS...\", ' Land Size:1306 m?? (approx)', ' Kitchen/Meals', ' Building Size:124.86 m?? (13 squares) approx', ' Land Size:402 m?? (approx)', ' Property Type: House House style: Colonial Construction: Brick veneer Kitchen: Modern', ' Building Size:70.60 m?? (8 squares) approx', ' Land Size:1057 m?? (approx)', ' Reve', 'Guest ensuite', ' Rear Alfresco area', ' Land Size:207 m?? (approx)', ' Land Size:961 m?? (approx)', ' Building Size:219.00 m?? (24 squares) approx', ' Outdoor Entertaining - Deck', 'Solar panels', ' Worksho', ' Captivating Mountain Views', ' Land Size:33 m?? (approx)', ' Vacuum', ' Property condition: Good Property Type: House Garaging / carparking: Single lock-up', ' Evap Cooling', ' Building Size:247.00 m?? (27 squares) approx', ' Land Size:705 m?? (approx)', ' Building Size:334.08 m?? (36 squares) approx', ' Land Size:1096 m?? (approx)', ' Building Size:399.48 m?? (43 squares) approx', ' Land Size:1103 m?? (approx)', ' Bathrooms:2', ' roller shut', ' Land Size:796 m?? (approx)', ' Building Size:162.58 m?? (18 squares) approx', ' Townhouse House style: Contemporary Garaging / carparking: Double lock-up', ' Close to Plaza', ' Land Size:764 m?? (approx)', ' Gas Ducted Heating', ' Beautiful Outdoor Living Area', ' Land Size:1216 m?? (approx)', 'Walk-In Wardrobe', ' Property condition: Excellent Property Type: Apartment Flooring: Timber and Floating', ' Land Size:1304 m?? (approx)', ' Toilets:12', ' Great Location', ' Land Size:290 m?? (approx)', ' Land Size:975 m? (approx)', ' Land Size:658 m? (approx)', ' Property Type: House Floor Area: squares: 14', ' Garden Shed', ' Building Size:85.50 m?? (9 squares) approx', ' Land Size:2003 m?? (approx)', ' Sprinkler system', ' 2 lot subdivision', ' 9ft/2.7 Metre Ceiling Height To Both Levels', ' Land Size:1076 m?? (approx)', ' Views', ' Building Size:589.00 m?? (63 squares) approx', ' Number of levels: 2', 'Balcony water views', ' Land Size:208 m?? (approx)', ' Property Type: House Construction: Brick Kitchen: Finished in (Timber) Additional rooms: Rumpus', ' Storage Area Under Stairs', ' Building Size:260.13 m?? (28 squares) approx', ' Property Type: Unit Garaging / carparking: Single lock-up Flooring: Carpet and Tiles', ' Building Size:166.00 m?? (18 squares) approx', ' 3x Alfresco Areas', ' Building Size:12.00 m?? (1 squares) approx', ' Paved Entertaining', ' Building Size:10.00 m?? (1 squares) approx', ' Land Size:334 m?? (approx)', ' Land Size:673 m? (approx)', ' Land Size:3716 m?? (approx)', ' Land Size:0.42ha (1.03 acres) (approx)', ' Electric Oven', ' Wood Fire', ' Prime Re-Development Opportunity (STCA)', ' Building Size:445.93 m?? (48 squares) approx', ' Land Size:515 m?? (approx)', ' Land Size:1163 m?? (approx)', ' Cable TV Access', ' Land Size:113 m?? (approx)', ' Land Size:330 m?? (approx)', ' Land Size:166 m?? (approx)', ' Property condition: Good Property Type: Townhouse House style: Federation', ' Building Size:284.75 m?? (31 squares) approx', ' Building Size:409.75 m?? (44 squares) approx', ' Land Size:581 m?? (approx)', ' Inground', ' Land Size:696 m?? (approx)', ' Land Size:512 m?? (approx)', ' Land Size:1870 m?? (approx)', ' Building Size:125.28 m?? (13 squares) approx', ' Car Parking', ' Land Size:0.86ha (2.13 acres) (approx)', 'Property condition: Renovated Property Type: Apartment Unit style: Highrise', ' Land Size:1358 m?? (approx)', ' Land Size:1213 m?? (approx)', ' Building Size:500.00 m?? (54 squares) approx', ' Bathrooms:18', ' Double storey', ' Land Size:1106 m?? (approx)', ' Building Size:120.77 m?? (13 squares) approx', ' Land Size:1043 m?? (approx)', ' Land Size:133 m?? (approx)', ' baltic pine floors', ' Land Size:232 m?? (approx)', ' Land Size:1406 m?? (approx)', ' Land Size:642 m?? (approx)', ' Land Size:2074 m?? (approx)', ' Land Size:1247 m?? (approx)', ' Property Type: Apartment Flooring: Carpet Window coverings: Blinds', ' Upstairs living room retreat', 'Prime flat land', ' First Floor', ' Land Size:800 m? (approx)', 'Property Type: Apartment Unit style: Highrise', ' Property condition: Good Property Type: Unit House style: Contemporary', ' Land Size:1540 m?? (approx)', ' Building Size:168.00 m?? (18 squares) approx', ' Bedrooms:14', ' Building Size:270.00 m?? (29 squares) approx', 'Open Study', ' Resident building manager', ' Living Areas:79', ' B', ' Pergola', ' Building Security', ' Land Size:130 m?? (approx)', ' Building Size:136.57 m?? (15 squares) approx', ' front unit with fully landscaped garden', ' Land Size:570 m? (approx)', 'Alarm', ' Land Size:1894 m?? (approx)', ' Building Size:36.00 m?? (4 squares) approx', ' Land Size:0.45ha (1.11 acres) (approx)', ' Land Size:461 m?? (approx)', ' Large Side Access Driveway', ' Double Garage', ' Timber floor', ' Electric Stove', ' Building Size:585.29 m?? (63 squares) approx', ' swipe card', ' Land Size:694 m? (approx)', ' Property condition: Good Property Type: Block of units House style: Contemporary', ' Land Size:1164 m?? (approx)', 'Property Type: House Floor Area: squares: 18', ' Polished Floors', ' Building Size:46.20 m?? (5 squares) approx', ' Building Size:81.00 m?? (9 squares) approx', ' Building Size:290.00 m?? (31 squares) approx', ' Zone 1 train station moments away', ' Built in Bar', ' Land Size:644 m?? (approx)', ' Dining', ' 3 + Study', ' Land Size:1070 m?? (approx)', ' Land Size:1606 m?? (approx)', ' Garage Spaces:10', ' Building Size:233.00 m?? (25 squares) approx', ' Close to transport', ' Toilets:1', ' Building Size:470.62 m?? (51 squares) approx', ' Boat mooring', ' Land Size:2264 m?? (approx)', ' Land Size:1145 m?? (approx)', 'Storage', ' ELECTRIC WALL MOUNTED HEATER', ' Land Size:1166 m?? (approx)', ' Built', 'Property Type: House Views: Bush Locality: Close to schools', ' Land Size:2347 m?? (approx)', ' Land Size:505 m? (approx)', ' Central Vacumm System', ' Property Type: House Main bedroom: Double and Walk-in-robe', ' Property condition: Excellent Property Type: House House style: Contemporary', ' Fullty Fe', ' Rangehood and Pantry Workshop: Separate', ' GDH & split system A/C', ' Living Areas:12', ' Land Size:607 m?? (approx)', ' Property condition: Renovator Property Type: House', ' Land Size:262 m?? (approx)', ' Land Size:429 m?? (approx)', 'Property Type: Apartment Flooring: Carpet Living area: Open plan Views: City Sewerage: Mains', ' Land Size:794 m?? (approx)', ' Built in Wardrobes', ' Building Size:278.71 m?? (30 squares) approx', 'Property condition: Fair Property Type: House House style: Bungalow', ' Air-co', ' Building Size:15.30 m?? (2 squares) approx', ' Building Size:230.00 m? (25 squares) approx', ' Land Size:1107 m?? (approx)', ' A', ' renovated', ' Small block of only 3.', ' Building Size:670.00 m?? (72 squares) approx', ' Tiles and Polished', ' Land Size:815 m?? (approx)', ' Land Size:2438 m?? (approx)', ' Land Size:991 m?? (approx)', ' Land Size:611 m?? (approx)', ' Building Size:257.00 m?? (28 squares) approx', ' Building Size:177.82 m?? (19 squares) approx', ' Property Type: House Garaging / carparking: Closed carport Construction: Brick', ' Parking Space for Caravan', ' Land Size:2.04ha (5.04 acres) (approx)', ' Land Size:921 m?? (approx)', ' Land Size:95 m?? (approx)', ' Land Size:1720 m?? (approx)', ' GAS HOTWATER. SECURE CAR SPACE ON TITLE.', ' NO BODY CORP', ' family', ' evap cool', ' Separate Side Access for Boat/Caravan/Truck', ' Building Size:106.40 m?? (11 squares) approx', \" Caesarstone Kitchen B'top\", ' Patterned ceilings', ' Land Size:0.85ha (2.10 acres) (approx)', ' Study', ' Land Size:566 m? (approx)', 'Wall furnace', ' Property Type: House Garaging / carparking: Single lock-up', ' Front Deck', ' Land Size:1018 m?? (approx)', ' sun blinds', ' Land Size:4000 m?? (approx)', ' Gas Heati', ' Land Size:1956 m?? (approx)', ' Land Size:466 m? (approx)', ' Land Size:757 m?? (approx)', ' Building Size:156.56 m?? (17 squares) approx', 'Property Type: Apartment Unit style: Highrise Kitchen: Gas reticulated Main bedroom: King', ' On Site Building Manager', ' Land Size:985 m?? (approx)', 'Plus Study', 'Solar Pannels', ' built-in-robes', ' Land Size:615 m?? (approx)', ' Land Size:106 m?? (approx)', ' Building Size:170.00 m?? (18 squares) approx', ' Land Size:1800 m?? (approx)', ' Land Size:1459 m?? (approx)', ' Building Size:59.30 m?? (6 squares) approx', 'Slab Heating', ' Land Size:0.51ha (1.25 acres) (approx)', ' Alfresco Area', ' Theatre R', ' Beautiful garden', ' outdoor kitchen sink', ' Building Size:67.00 m?? (7 squares) approx', ' Apartment Flooring: Carpet', ' terrific freeway', ' Building Size:44.30 m?? (5 squares) approx', ' Elevated Building Style', ' Building Size:227.36 m?? (24 squares) approx', 'Pergola', ' Already updated', ' Land Size:750 m? (approx)', ' Land Size:1228 m?? (approx)', 'Generous Storage', ' Renovate', ' Spa', ' Washing Machine', ' Land Size:588 m?? (approx)', ' Land Size:518 m?? (approx)', ' Land Size:80 m?? (approx)', ' Building Size:55.00 m?? (6 squares) approx', ' Court Location', ' Land Size:1761 m?? (approx)', ' Building Size:63.30 m?? (7 squares) approx', ' security windows', 'Open Car Spaces:9', ' Land Size:2144 m?? (approx)', ' Water Tanks x 2', ' Land Size:550 m? (approx)', ' Land Size:210 m?? (approx)', ' Building Size:240.00 m?? (26 squares) approx', ' COMPLETE TURNKEY', ' Land Size:1120 m?? (approx)', ' Alfresco Sanctuary', ' Building Size:131.00 m?? (14 squares) approx', ' Building Size:161.00 m?? (17 squares) approx', ' Building Size:274.06 m?? (30 squares) approx', ' Land Size:585 m? (approx)', ' Building Size:224.83 m?? (24 squares) approx', ' Property condition: Renovated Property Type: House Garaging / carparking: Single lock-up', '  Spa', ' Land Size:886 m?? (approx)', ' 400 METRES BEACH', ' ducted', ' Building Size:139.35 m?? (15 squares) approx', ' Building Size:278.40 m?? (30 squares) approx', ' Refrigerative cooling', ' Brand New ', ' COMPLETE ALL YOU HAVE TO DO IS MOVE IN', ' Land Size:1341 m?? (approx)', ' Land Size:655 m? (approx)', ' Building Size:59.00 m?? (6 squares) approx', ' Land Size:0.94ha (2.32 acres) (approx)', ' Land Size:756 m?? (approx)', ' Land Size:1360 m?? (approx)', ' Land Size:1012 m?? (approx)', 'Access for a boat', ' Land Size:205 m?? (approx)', ' Building Size:54.58 m?? (6 squares) approx', ' BBQ Outdoor Entertaining Area & Conference Room', ' Rear Deck / Courtyard', ' Idyllic Property', ' Building Size:112.00 m?? (12 squares) approx', ' Building Size:311.23 m?? (34 squares) approx', ' Land Size:727 m?? (approx)', ' Low Body Corp Fees', ' Apartment Locality: Close to shops', '021.93 m?? (110 squares) approx', ' Land Size:1509 m?? (approx)', ' front unit in small block of 3', ' Instantaneous Hot Water', ' Walk to Zone-1 Station & Shops', ' State of the art Features', ' * Plans & Permits Stamped/ Approved *', ' Property condition: Renovated Property Type: Unit House style: Contemporary', ' Property condition: Fair Property Type: House Garaging / carparking: Open carport', 'Timber Floor', ' Land Size:438 m?? (approx)', ' Close to Parkland', ' Land Size:881 m?? (approx)', ' Camera Survielance', ' short walk to mentone station', ' Land Size:0.40ha (1.00 acre) (approx)', ' Building Size:74.32 m?? (8 squares) approx', ' Building Size:724.00 m?? (78 squares) approx', 'ROW', ' Building Size:94.20 m?? (10 squares) approx', ' City Views', '  pool', ' Building Size:97.55 m?? (11 squares) approx', ' 2600mm ceiling heights', ' Building Size:981.00 m?? (106 squares) approx', '516.00 m?? (163 squares) approx', ' Land Size:934 m?? (approx)', 'roof top entertainment terrace', 'Cable Network', ' Land Size:719 m?? (approx)', ' Building Size:73.00 m? (8 squares) approx', ' Large block 660sqm', ' Land Size:386 m?? (approx)', ' Broadband Internet Available', ' Building Size:965.26 m?? (104 squares) approx', ' Land Size:280 m?? (approx)', ' Land Size:775 m?? (approx)', ' Building Size:23.00 m?? (2 squares) approx', ' WIR', ' Ceiling Fans', ' Close to Westal Train Statio', 'Off Street Parking', ' Land Size:36 m?? (approx)', ' Pay only 10% with balance due on completion.....Full turnkey package!', ' duct hea', 'Property Type: Apartment Flooring: Carpet Window coverings: Drapes', ' pool', ' Bathrooms with tubs', ' Glenroy is located 12.5kms from CBD with terrific City Link', ' Separate 4th Bedroom', ' Land Size:767 m? (approx)', ' Land Size:0.41ha (1.02 acres) (approx)', ' Large Landscaped Block', ' Land Size:559 m? (approx)', ' Building Size:61.00 m?? (7 squares) approx', ' Building Size:77.00 m?? (8 squares) approx', ' Front Landscaping +', ' Land Size:2552 m?? (approx)', ' Building Size:105.00 m?? (11 squares) approx', ' Building Size:354.00 m?? (38 squares) approx', ' Land Size:1804 m?? (approx)', ' Gazebo', ' Property Type: Townhouse House style: Georgian', ' Solid Construction', ' Building Size:93.83 m?? (10 squares) approx', ' Land Size:598 m?? (approx)', ' Building Size:5', ' Land Size:52 m?? (approx)', ' tram at door', ' Co', 'Drive Though Access', 'Property condition: Excellent Property Type: Apartment Unit style: Hotel / strata', ' Walk-in Pantry', ' Property Type: Unit Unit style: Lowrise Kitchen: Original', ' Land Size:230 m?? (approx)', ' Land Size:409 m?? (approx)', ' Land Size:1176 m?? (approx)', ' Land Size:59 m?? (approx)', ' Timber Floor Boards', ' stone bench tops & storage', 'Property condition: Good Property Type: Apartment Unit style: Lowrise', ' Building Size:520.00 m?? (56 squares) approx', ' shed', ' Land Size:596 m?? (approx)', ' Land Size:551 m?? (approx)', ' Ensuite double shower', ' Property Type: Townhouse Garaging / carparking: Double lock-up Kitchen: Modern', ' Land Size:0.58ha (1.43 acres) (approx)', ' Land Size:30 m?? (approx)', ' Land Size:484 m?? (approx)', ' Building Size:71.00 m?? (8 squares) approx', ' Building Size:241.28 m?? (26 squares) approx', ' Federation Inspired', ' Land Size:18 m?? (approx)', ' Land Size:811 m? (approx)', ' Bedrooms:2', ' Land Size:1338 m?? (approx)', ' Land Size:394 m?? (approx)', 'Garage Spaces:16', ' Land Size:1497 m?? (approx)', 'Spacious Court Yard', ' Building Size:44.00 m?? (5 squares) approx', '  air-conditioner', ' Upstairs Loft Room', ' Land Size:620 m? (approx)', ' Secure Park', ' Land Size:649 m?? (approx)', ' Childs Cubby House', ' Water Tank/s', ' Land Size:0.79ha (1.95 acres) (approx)', ' Building Size:292.64 m?? (32 squares) approx', ' Property condition: Good Property Type: Apartment Unit style: Lowrise', ' Reverse-cycle Air Conditioning', ' North Facing', ' Curtains', ' 9ft/2.7 Metre Ceiling Height Throughout', ' Dishw', ' Property condition: Excellent Property Type: Apartment', ' Decking', ' Building Size:306.00 m?? (33 squares) approx', ' Hydro', ' Tram stop at front door', ' Land Size:1020 m?? (approx)', ' Land Size:778 m?? (approx)', ' Building Size:222.00 m?? (24 squares) approx', ' Close to southland', ' Good Property Type: House Garaging / carparking: Single lock-up', 'Property condition: Good Property Type: Apartment Unit style: Highrise', ' Building Size:46.00 m?? (5 squares) approx', ' Land Size:773 m? (approx)', ' Property Type: Apartment Flooring: Timber Window coverings: Blinds Electrical: TV points', ' Land Size:519 m?? (approx)', ' Building Size:557.00 m?? (60 squares) approx', ' 2x Water tanks', ' Building Size:594.00 m?? (64 squares) approx', ' Split System', ' Land Size:212 m?? (approx)', ' Land Size:0.40ha (0.99 acres) (approx)', 'Carport Spaces:5', ' Land Size:853 m?? (approx)', ' Property Type: Flat', ' Land Size:509 m?? (approx)', ' Use of Country Club facilities.', ' Open Car Spaces:3', ' Land Size:505 m?? (approx)', ' Land Size:261 m?? (approx)', ' Separately Titled Corner Block. With More Land Than Most...', 'Property Type: Studio', ' Sound System', ' Abundant off street parking & garaging', ' Oakhill  Estate', ' Land Size:0.43ha (1.06 acres) (approx)', ' Property Type: Apartment Unit style: Highrise Flooring: Carpet', ' Tenure: Freehold Property condition: Excellent Property Type: Townhouse', ' Land Size:197 m?? (approx)', ' Building Size:67.70 m?? (7 squares) approx', ' Land Size:266 m?? (approx)', ' Bunglaow/4th Bed/Home office option + 23m WIDE frontage', ' Building Size:162.40 m?? (17 squares) approx', ' Land Size:479 m?? (approx)', ' Close to Quality Schools', ' Land Size:695 m?? (approx)', ' DUCTED HEATING REFRIGERATED COOLING', 'Corner Block', ' Land Size:675 m?? (approx)', ' Land Size:40 m?? (approx)', ' Building Size:196.95 m?? (21 squares) approx', ' camera surveil', ' High Ceiling Throughout', ' Gas Heater', ' Land Size:3717 m?? (approx)', ' 2 Water tanks', ' Close to community park', ' Spacious', ' Internal Laundry', ' Living Areas:76', ' Land Size:751 m?? (approx)', ' Secure Par', ' 24/7 Security & Alarm', ' Property Type: House Construction: Brick veneer Roof: Tile Walls / Interior: Gyprock', ' New Dishwasher', ' Property condition: Good Property Type: Apartment Unit style: Number of levels: 4', ' Land Size:771 m? (approx)', '365.67 m?? (147 squares) approx', ' SMEG kitchen appliances', ' Building Size:427.35 m?? (46 squares) approx', ' Close to transport/s', ' ti', ' Land Size:724 m? (approx)', ' Property Type: House Flooring: Other (Study)', ' Land Size:754 m?? (approx)', ' Vacuum System', ' Water tanks (15K Lts)', ' Building Size:111.00 m?? (12 squares) approx', ' Land Size:963 m?? (approx)', 'theatre room', ' Good Property Type: Apartment Unit style: Highrise', ' EER (Energy Efficiency Rating):Medium (5.0)', ' Close to Monash Medical Cent', ' Rosettes', ' Lake Views', ' Land Size:455 m?? (approx)', ' Building Size:297.29 m?? (32 squares) approx', ' Video Intercom', ' storage cage.', ' Property Type: Apartment Unit style: Highrise Property features: Other (NBN)', ' Building Size:157.76 m?? (17 squares) approx', ' Land Size:806 m?? (approx)', ' Land Size:685 m? (approx)', ' fully fenced', ' Land Size:66 m?? (approx)', ' Other (Under construction)', ' Outdoor Spa', ' Affordable', 'Solar Panels', ' Land Size:1255 m?? (approx)', ' Property Type: Townhouse Garaging / carparking: Single lock-up', ' Building Size:229.47 m?? (25 squares) approx', ' Remote shutters to windows', ' Building Size:112.13 m?? (12 squares) approx', ' Building Size:11.00 m?? (1 squares) approx', ' Land Size:382 m?? (approx)', ' Land Size:1016 m?? (approx)', ' Land Size:437 m?? (approx)', ' Property condition: Renovated Property Type: House House style: Colonial', ' Polished Timber F', ' Land Size:1011 m?? (approx)', ' Property condition: Excellent Property Type: House', ' Plans and permits approved', ' Building Size:56.80 m?? (6 squares) approx', ' Land Size:870 m? (approx)', ' Building Size:776.00 m?? (84 squares) approx', '  gazebo', ' Land Size:830 m?? (approx)', ' Building Size:22.60 m? (2 squares) approx', ' Land Size:1305 m?? (approx)', ' 2 sheds', ' Land Size:1716 m?? (approx)', ' Building Size:60.10 m?? (6 squares) approx', ' Building Size:466.00 m?? (50 squares) approx', 'Polished Floor Boards', ' Land Size:872 m?? (approx)', ' Land Size:823 m?? (approx)', ' camera surveillance', ' Land Size:307 m?? (approx)', ' Land Size:486 m?? (approx)', ' Land Size:1553 m?? (approx)', ' JUST BRING YOUR FURNITURE!', ' Living Areas:64', ' Property condition: Renovated Property Type: Apartment', ' Property condition: Good Property Type: Townhouse', ' Ideal For Tradesman', ' Land Size:353 m?? (approx)', ' Self Contained Studio', ' Land Size:772 m?? (approx)', ' EER (Energy Efficiency Rating):Medium (5.5)', ' Building Size:120.00 m?? (13 squares) approx', 'Property condition: New Property Type: Studio', 'Self Contained Bungalow', ' 3 Bedrooms  + Downstairs Study', ' Ring Road and airport access', ' Land Size:4 m?? (approx)', ' Land Size:1519 m?? (approx)', ' Rooftop Garden', ' Property Type: House Construction: Render Flooring: Polished Window coverings: Blinds', ' brand new', ' 500mt to Bundoora shops', ' Built In R', \" New Release from Developer's own Portfolio\", ' Land Size:1031 m?? (approx)', ' Land Size:168 m?? (approx)', ' New Bamboo Flooring', ' Good Property Type: Studio', ' Land Size:138 m?? (approx)', ' walk', ' Land Size:303 m? (approx)', ' Land Size:833 m?? (approx)', ' Land Size:854 m?? (approx)', ' Land Size:977 m?? (approx)', ' Land Size:1670 m?? (approx)', ' Land Size:1332 m?? (approx)', ' Land Size:1734 m?? (approx)', ' Land Size:957 m?? (approx)', ' courtyard', ' Wraparound Veranda', 'Air Conditioning', ' Garage with Internal Access', ' Building Size:37.16 m?? (4 squares) approx', ' Land Size:401 m?? (approx)', ' Secure Parking', ' Property Type: House Garaging / carparking: Double lock-up Flooring: Carpet', ' Building Size:139.45 m?? (15 squares) approx', ' Land Size:725 m?? (approx)', ' Polished floor boards', ' Building Size:1', ' Building Size:153.12 m?? (16 squares) approx', ' 24 hours concierge', ' Security Lighting', ' Land Size:92 m?? (approx)', ' Land Size:713 m?? (approx)', ' quiet location', ' Floor', ' Land Size:2051 m?? (approx)', ' Building Size:97.35 m?? (10 squares) approx', ' Property Type: House Floor Area: squares: 13', ' solar pane', ' Building Size:44.50 m?? (5 squares) approx', ' Outdoor Entertaining', ' Spectacular Views', ' Land Size:599 m?? (approx)', ' Building Size:173.73 m?? (19 squares) approx', ' Polished Floorboards', ' Land Size:1112 m?? (approx)', ' Building Size:117.02 m?? (13 squares) approx', ' Walk To Shops & Station...', ' Property condition: Good Property Type: Apartment Unit style: Number of levels: 3', ' Land Size:19 m?? (approx)', ' 2 Car Garage - 3 Car Carport With Roller Door', ' Building Size:188.22 m?? (20 squares) approx', ' Lock up garage with remote control door', ' Building Size:17.54 m?? (2 squares) approx', ' Port Phillip Bay Views', ' 5 burner gas cooker', ' Land Size:1209 m?? (approx)', ' Building Size:110.00 m? (12 squares) approx', ' Land Size:0.71ha (1.77 acres) (approx)', 'Security Shutters', ' Land Size:1092 m?? (approx)', ' Land Size:666 m?? (approx)', ' Building Size:221.00 m?? (24 squares) approx', ' Land Size:1169 m?? (approx)', ' Multi-level Interior', ' Land Size:530 m? (approx)', ' Building Size:123.63 m?? (13 squares) approx', 'Home Office', ' Land Size:1616 m?? (approx)', ' Property Type: House House style: Georgian Garaging / carparking: Double lock-up', ' French Door', ' Storage Cage', ' New carpet', 'Rear Deck', ' Undercover Entertainment Ar', ' Property condition: Renovated Property Type: Block of units House style: Contemporary', ' One Of a Kind', ' Land Size:688 m?? (approx)', ' Land Size:1375 m?? (approx)', ' Land Size:1002 m?? (approx)', ' Land Size:620 m?? (approx)', ' Building Size:186.00 m?? (20 squares) approx', ' studio', ' Built-In Robes', ' Building Size:58.00 m?? (6 squares) approx', ' Land Size:956 m?? (approx)', ' Land Size:1366 m?? (approx)', ' Granny flat', ' Carport Spaces:8', ' Bedrooms:19', 'Right of Way at Rear', ' Building Size:956.90 m?? (103 squares) approx', ' Dual rental returns.', 'En-suite', ' freshly renovated', ' Building Size:700.00 m?? (75 squares) approx', ' Storage cage', ' Land Size:984 m?? (approx)', ' renovated kitchen', ' Building Size:46.45 m?? (5 squares) approx', ' Land Size:1040 m?? (approx)', ' JG King Home', ' Land Size:99 m?? (approx)', ' Highrise', ' Land Size:557 m?? (approx)', ' Sep. bath', ' Property condition: Fair Property Type: House House style: Contemporary Roof: Tile', ' Land Size:0.51ha (1.26 acres) (approx)', ' Land Size:844 m?? (approx)', ' solar power', ' Electronic open/close steel pergola', 'Heating', ' adjacent park', ' Land Size:1035 m?? (approx)', ' CLOSE TO PARK', ' Picturesque waterfront position opposite heritage buildings', ' Walk to Bus & Haileybury', ' Land Size:856 m?? (approx)', ' Auto Garage Door', ' Land Size:245 m?? (approx)', ' Building Size:75.70 m?? (8 squares) approx', ' Land Size:605 m? (approx)', ' Land Size:585 m?? (approx)', ' Building Size:25.40 m?? (3 squares) approx', ' Private roof-top terrace', ' Land Size:114 m?? (approx)', ' Carport Spaces:5', ' Indoor Spa', ' Rich Finish Throughout ', ' Property condition: Good Property Type: House Garaging / carparking: Open carport', ' Land Size:1491 m?? (approx)', ' Close to beach', ' Building Size:129.00 m?? (14 squares) approx', ' Timber Floors Throughout', ' Land Size:79 m?? (approx)', ' Land Size:374 m?? (approx)', ' Rumpus or 3rd bedroom with unsuite', ' Land Size:678 m?? (approx)', ' Building Size:64.60 m?? (7 squares) approx', ' Property condition: Good Property Type: House House style: Colonial', ' tuck pointing', ' Land Size:372 m?? (approx)', ' Walk in Robes', 'STUDY', ' Wide Corridoors', ' Land Size:198 m?? (approx)', ' Exceptional Entertaining', ' Land Size:726 m?? (approx)', ' Building Size:69.40 m?? (7 squares) approx', ' Land Size:810 m?? (approx)', ' Built - In Wardrobes', ' Large Al Fresco', 'New Carpets', ' Land Size:301 m?? (approx)', ' balcony', ' Building Size:180.00 m?? (19 squares) approx', ' opposite catholic primary school', ' Shops 100m Park 100m Schools 200m Transport 100m', ' Walking distance to all local amenities', ' Land Size:2209 m?? (approx)', ' Electric panel heating', ' Land Size:1.35ha (3.34 acres) (approx)', ' Curtain/Blinds', 'Property condition: Fair Property Type: Land', ' Pay TV Access', ' Land Size:622 m?? (approx)', ' Building Size:50.00 m? (5 squares) approx', 'Open Car Spaces:4', ' No easements', ' Land Size:942 m?? (approx)', '   Powder Room', ' BBQ Outdoor Area', ' 2 Garage', ' Land Size:341 m?? (approx)', ' Land Size:1326 m?? (approx)', ' Building Size:153.29 m?? (16 squares) approx', ' Land Size:889 m?? (approx)', ' Polished Tim', ' 1 carport', ' Living Areas:300', ' Land Size:867 m?? (approx)', ' Land Size:1280 m?? (approx)', ' Land Size:140 m?? (approx)', 'In Ground Spa', ' Polished timber floors', ' Side Ac', ' 2 dwellings on site', ' Building Size:72.10 m?? (8 squares) approx', ' Built-In-Wardrobes', ' Building Size:204.39 m?? (22 squares) approx', ' Building Size:261.00 m?? (28 squares) approx', ' Building Size:890.00 m?? (96 squares) approx', 'Close to Schools', ' Land Size:2131 m?? (approx)', ' Building Size:2', 'Carport Spaces:4', ' Property Type: Townhouse Garaging / carparking: Single lock-up Flooring: Carpet and Tiles', ' Land Size:667 m?? (approx)', ' Land Size:1032 m?? (approx)', ' Property condition: Renovator Property Type: House House style: Contemporary', ' Number in block: 121', ' Timber floors', ' Land Size:1240 m?? (approx)', ' Land Size:1666 m?? (approx)', 'Garage Spaces:3', ' Opposite parkland', 'Zoned heating', ' Endorsed Town Planning Permit for 4', ' Land Size:1858 m?? (approx)', ' Land Size:587 m? (approx)', ' Property condition: Renovator Property Type: House Garaging / carparking: Tandem', 'Close to Transport', ' Land Size:1054 m?? (approx)', ' Building Size:210.00 m?? (23 squares) approx', ' Land Size:1162 m?? (approx)', ' Building Size:111.86 m?? (12 squares) approx', ' Land Size:544 m?? (approx)', 'Workshop', ' 102 m2 Block', ' Toilets:4', '   Theatre Room', ' Land Size:433 m?? (approx)', ' Massive off the plan savings before March 2014', ' Storage Room', 'Bay Views', ' stone benches', 'Planning permit', ' Land Size:663 m?? (approx)', ' Covered entertaining area', ' Air Conditioner', ' Solar Panel System', 'Pool', ' Land Size:560 m?? (approx)', ' Land Size:625 m?? (approx)', ' Floor Boards', ' Greenhouse', ' Building Size:143.54 m?? (15 squares) approx', ' Building Size:190.45 m?? (20 squares) approx', ' Land Size:763 m?? (approx)', ' Living Areas:54', ' Building Size:125.00 m?? (13 squares) approx', ' Land Size:82 m?? (approx)', ' Land Size:634 m?? (approx)', ' Land Size:1738 m?? (approx)', ' Building Size:223.00 m?? (24 squares) approx', ' Land Size:910 m?? (approx)', 'ducted heating', ' Gas hot water', ' Property Type: Townhouse House style: Contemporary', ' Fully Fence', ' BRAND NEW', ' A MUST SEE!', ' 9ft / 2.7m Ceiling Height Throughout', ' Electric Heating', ' Building Size:119.38 m?? (13 squares) approx', ' Security Access', ' Land Size:739 m? (approx)', ' Land Size:1028 m?? (approx)', ' Building Size:150.00 m?? (16 squares) approx', ' Built-In-Robes', ' Walk-In-Robes', ' Building Size:836.13 m? (90 squares) approx', ' Land Size:465 m? (approx)', ' ENGLEHART  HOME', \" 3 WIR's\", ' Land Size:1764 m?? (approx)', ' Property condition: New Property Type: Unit Kitchen: New', ' Building Size:536.00 m?? (58 squares) approx', ' Storage Cage Included', ' Land Size:955 m?? (approx)', ' Land Size:558 m?? (approx)', ' ducted heating', ' Land Size:7 m?? (approx)', ' 3 living areas', ' Land Size:1479 m?? (approx)', ' Self Contained Bungalow', ' Land Size:534 m?? (approx)', ' Land Size:608 m? (approx)', ' Building Size:262.92 m?? (28 squares) approx', ' Inside Spa', ' CBD & airport amenities close by', ' 1and2bathrooms', ' Land Size:6 m?? (approx)', 'single lock-up garage', ' Land Size:1024 m?? (approx)', ' Court', ' Land~725m2', ' Freshly Painted', ' Building Size:377.22 m?? (41 squares) approx', ' Land Size:1230 m? (approx)', ' Land Size:343 m?? (approx)', ' Land Size:0.58ha (1.42 acres) (approx)', ' Stumps Concrete', ' Land Size:725 m? (approx)', ' Building Size:151.80 m?? (16 squares) approx', ' Building Size:81.80 m?? (9 squares) approx', ' Rumpus Room & Study Nook', ' Building Size:177.00 m?? (19 squares) approx', ' WIRs', 'Property condition: Renovated', ' Bonus Extra storage cage', ' Walk in Robe', ' Building Size:19.10 m?? (2 squares) approx', ' Land Size:292 m?? (approx)', ' Property condition: Renovator Property Type: House Kitchen: Original Main bedroom: Double', ' Land Size:691 m?? (approx)', ' GREAT PRIMARY SCHOOL', ' Property Type: House Floor Area: squares: 55', ' Building Size:688.00 m?? (74 squares) approx', ' Home Theatre', ' 20mm stone bench tops', ' 4 Toilets. Living area downstairs the ideal office to work from home.', ' Land Size:2.02ha (5.00 acres) (approx)', \" New release from the Developer's own portfolio!\", ' Land Size:1067 m?? (approx)', ' Land Size:561 m?? (approx)', ' Ducted Vacuum', ' Building Size:190.00 m?? (20 squares) approx', ' Property Type: House', ' Land Size:1343 m?? (approx)', ' Separate sunroom', 'Large Block', '672.25 m?? (180 squares) approx', ' Gas hot water service', ' Building Size:350.00 m?? (38 squares) approx', ' side', ' Building Size:145.32 m?? (16 squares) approx', ' Fully fenced', 'BRAND NEW', ' Split system cooling', ' Land Size:1664 m?? (approx)', ' Granite Stone Kitchen', ' Intercom System', ' Rumpus Room', 'side ccess', ' Airconditioner', ' tessellated tiles', ' Water Ta', 'Intercom', ' Workshop', ' Modern kitchen.', ' Restaurant', ' Cable TV', ' Fully Fenced Yard', ' Land Size:258 m?? (approx)', ' Land Size:3544 m?? (approx)', ' Land Size:420 m?? (approx)', ' Building Size:14.00 m?? (2 squares) approx', ' Land Size:550 m?? (approx)', ' Transport at front door', ' Building Size:719.16 m?? (77 squares) approx', ' Building Size:227.13 m?? (24 squares) approx', ' Building Size:178.00 m?? (19 squares) approx', ' Quality Sandstone Paving', ' Cooking-gas', ' 23 Metre Frontage', ' Building Size:360.00 m?? (39 squares) approx', ' Toilets:2', 'Property condition: Good Property Type: Apartment Window coverings: Drapes', ' Close to schools', ' Building Size:63.40 m?? (7 squares) approx', ' Building Size:40.00 m?? (4 squares) approx', ' Etihad stadium and city views', ' Bedrooms:8', ' Secur', ' Land Size:454 m?? (approx)', ' Land Size:10 m?? (approx)', ' Bedrooms:15', ' Powder Room', ' Building Size:170.70 m?? (18 squares) approx', ' Auto doors', ' Rumpus R', ' deck', ' Cinema', ' Land Size:717 m?? (approx)', 'Timber Floors', ' Building Size:18.60 m?? (2 squares) approx', ' Land Size:1460 m?? (approx)', ' Number of levels: 13', ' Reverse Cyc', ' Building Size:385.55 m?? (42 squares) approx', 'Rear Access', ' Land Size:814 m?? (approx)', ' Land Size:216 m?? (approx)', ' Building Size:25.10 m?? (3 squares) approx', ' High quality finishes', ' Split-system Air Conditioning', ' Bedrooms:10', ' Easement Free Block', ' 12 Solar Panels (8 x 3kw)', ' Building Size:115.00 m?? (12 squares) approx', ' Land Size:195 m?? (approx)', ' Building Size:110.00 m?? (12 squares) approx', ' National Broadband Network is available for subscription', ' Building Size:24.40 m?? (3 squares) approx', ' easy access to City Link', ' Building Size:14.70 m?? (2 squares) approx', ' Alarm/Security System', ' Land Size:1063 m?? (approx)', ' Carport Spaces:4', ' Rumpus', ' Land Size:1974 m?? (approx)', ' Land Size:2559 m?? (approx)', \" Balance of Builder's Warranty\", ' Land Size:490 m?? (approx)', ' Land Size:1104 m?? (approx)', ' Property condition: Excellent Property Type: House Garaging / carparking: Free standing', ' Apartment House style: Other (Under construction)', 'Rear Alfresco', ' 2kms to CBD (Approx) Modern Design', ' Building Size:296.96 m?? (32 squares) approx', ' Across the road to Bus Stop', ' Land Size:1231 m?? (approx)', ' Building Size:19.97 m? (2 squares) approx', ' Land Size:966 m?? (approx)', 'transport', ' Gas Cooking', ' Hot Water Service', 'Tennis Court', ' Building Size:306.58 m?? (33 squares) approx', ' Building Size:274.13 m?? (30 squares) approx', ' Living Areas:97', ' Refrigerated Air Conditioning', ' Land Size:609 m?? (approx)', ' Heating/Aircon', ' Building Size:3', ' Secluded common area courtyard', ' Land Size:177 m?? (approx)', ' Property condition: Excellent', ' Land Size:94 m?? (approx)', ' Land Size:1486 m?? (approx)', ' Close to Monash Medical Centre', '  Pergola', ' Court Yard', ' Development Potential', ' Land Size:476 m?? (approx)', ' Land Size:880 m?? (approx)', ' Land Size:440 m?? (approx)', ' Clinker Bricks', ' Building Size:19.97 m?? (2 squares) approx', ' Land Size:308 m? (approx)', ' Building Size:331.00 m?? (36 squares) approx', ' Property condition: Good Property Type: Apartment Kitchen: Dishwasher and Gas reticulated', ' Stainless Steel Appliances', ' Land Size:826 m?? (approx)', ' Land Size:863 m?? (approx)', ' BBQ Area', ' Hydronic floor heating', ' Land Size:181 m?? (approx)', ' TPP for 2 townhouses', ' Property Type: Unit Garaging / carparking: Single lock-up Construction: Brick Flooring: Carpet', ' Building Size:20.20 m?? (2 squares) approx', ' Re', ' Land Size:671 m?? (approx)', ' Land Size:470 m?? (approx)', '  walk in robes', ' Private Court', '   Wir', ' Building Size:11.10 m?? (1 squares) approx', ' Cottage', ' Near Level 1', ' Property condition: Good Property Type: Unit Garaging / carparking: Single lock-up', ' Land Size:319 m?? (approx)', ' Land Size:298 m?? (approx)', ' Building Size:65.50 m?? (7 squares) approx', ' Building Size:219.50 m?? (24 squares) approx', ' 2 living areas', ' Simply Stunning w/ Double Garage', ' Established Gardens', ' Land Size:360 m? (approx)', ' Bedrooms:4', ' Land Size:1091 m?? (approx)', ' Drive Through Access', ' Modern and Open plan', ' Advantage Living Promo and 35m2 Coloured Driveway', ' Land Size:576 m?? (approx)', ' Dockland & Train yard views', ' Land Size:1015 m?? (approx)', ' Property condition: Fair Property Type: House House style: Contemporary', ' Property condition: Excellent Property Type: Unit Garaging / carparking: Single lock-up', 'Air conditioning', ' Building Size:148.00 m?? (16 squares) approx', ' Ducted heating & vacuum', ' Allocated storage', ' Building Size:800.00 m?? (86 squares) approx', ' Land Size:556 m? (approx)', ' Double Garage & Approximately 3 Metre Wide Side Access Carport', ' Building Size:60.00 m?? (6 squares) approx', ' Land Size:0.72ha (1.77 acres) (approx)', ' Land Size:914 m?? (approx)', ' Ducted Gas Heating', ' Land Size:1146 m?? (approx)', ' Land Size:459 m? (approx)', ' Land Size:49 m?? (approx)', ' easy access to highway', ' Property Type: House Kitchen: Dishwasher Outdoor living: Entertainment area (Covered)', ' letterbox + so much more', 'Large courtyard', ' Land Size:532 m?? (approx)', ' Land Size:340 m?? (approx)', ' Property Type: Apartment Window coverings: Blinds Kitchen: Modern Living area: Open plan', ' Number in block: 440', ' Open Study', ' Building Size:47.00 m?? (5 squares) approx', ' Land Size:875 m?? (approx)', ' Skylight', ' Under House Storage', ' Land Size:573 m?? (approx)', ' Land Size:1630 m?? (approx)', ' Land Size:785 m?? (approx)', ' Land Size:333 m? (approx)', ' Land Size:694 m?? (approx)', ' Wine Cellar', ' City Fringe Investment', ' Land Size:391 m?? (approx)', ' Land Size:291 m?? (approx)', ' Building Size:697.00 m?? (75 squares) approx', ' Claw Foot Bath', ' Land Size:3991 m?? (approx)', ' Alarm System', ' Land Size:593 m?? (approx)', ' Property condition: Fair Property Type: House House style: Cottage', ' Building Size:139.20 m?? (15 squares) approx', ' Land Size:0.50ha (1.25 acres) (approx)', ' Split System AirCon', ' Land Size:1382 m?? (approx)', ' video intercom', ' Land Size:899 m?? (approx)', ' Property condition: Renovated Property Type: Unit Flooring: Other (New)', ' Building Size:367.00 m?? (40 squares) approx', ' NBN high speed internet', ' Land Size:931 m?? (approx)', ' Land Size:497 m?? (approx)', ' Land Size:150 m?? (approx)', ' Building Size:199.74 m?? (22 squares) approx', ' Building Size:650.00 m?? (70 squares) approx', ' large garage/workshop', 'Garage Spaces:2', ' Bedrooms:6', ' Land Size:869 m?? (approx)', ' Split System AirCo', ' terrace', ' Land Size:190 m? (approx)', ' Land Size:851 m?? (approx)', 'Fully Fenced', ' Turn Key Finish', ' Split System Air', ' Land Size:1601 m?? (approx)', ' Property condition: Good Property Type: Apartment', ' Enviro friendly home', ' Kitchen - Timber', ' wall aircon', ' Eco Friendly Water Tank', ' Land Size:684 m?? (approx)', 'excellent location', ' Undercover Entertainment Area', ' Outdoo', ' Land Size:271 m?? (approx)', ' Building Size:455.00 m?? (49 squares) approx', ' Secure Pa', ' Building Size:174.66 m?? (19 squares) approx', ' Land Size:847 m?? (approx)', ' Living Areas:3', 'Bungalow', ' Land Size:0.44ha (1.08 acres) (approx)', 'Carport Spaces:15', ' Street Facing Corner Property', ' Number of levels: 1', ' Land Size:3992 m?? (approx)', ' Land Size:848 m?? (approx)', 'Communal Laundry facilities', ' Cathedral Ceiling Sunroom', ' Land Size:236 m?? (approx)', ' Land Size:745 m?? (approx)', ' garden', ' TV Antenna', ' Building Size:177.44 m?? (19 squares) approx', ' Land Size:475 m?? (approx)', 'Plus Study!', ' Separate laundry', ' Building Size:343.74 m?? (37 squares) approx', ' Building Size:195.10 m?? (21 squares) approx', ' Penthouse', ' Land Size:921 m? (approx)', ' Building Size:165.00 m?? (18 squares) approx', ' Building Size:45.40 m?? (5 squares) approx', ' Building Size:391.00 m?? (42 squares) approx', ' Study/Retreat', ' Land Size:2012 m?? (approx)', ' Building Size:50.40 m?? (5 squares) approx', ' Property condition: Excellent Property Type: House Garaging / carparking: Open carport', ' Land Size:2044 m?? (approx)', ' Water frontage', ' Land Size:406 m? (approx)', ' Land Size:1140 m?? (approx)', 'parking', '  secure', ' Land Size:1712 m?? (approx)', ' Land Size:478 m?? (approx)', ' Beautiful Location', ' Close To All Amenities', ' Land Size:464 m?? (approx)', ' Land Size:531 m? (approx)', ' Private Access Balcony', ' Land Size:720 m?? (approx)', ' Building Size:346.00 m?? (37 squares) approx', ' Property condition: Excellent Property Type: Apartment Flooring: Carpet', ' Land Size:355 m?? (approx)', ' Reverse Cycle Air-conditioning', ' Land Size:803 m?? (approx)', ' Split Sy', '2x Study', ' Land Size:449 m?? (approx)', ' Land Size:843 m?? (approx)', ' Excellent Property Type: Apartment', ' Land Size:240 m?? (approx)', ' Alfresco pergola deck', 'Gas Ducted Heating', 'Storage cage', ' Building Size:510.97 m?? (55 squares) approx', ' Quiet Location', ' Land Size:389 m?? (approx)', ' Close to public transport', ' Building Size:278.70 m?? (30 squares) approx', ' Pet Friendly', ' 2 minute Stroll to Parkwood Green Primary School', ' Quality Appliances', ' modern kitchen', ' Land Size:1099 m?? (approx)', ' Full Concierge', ' Land Size:188 m?? (approx)', ' Building Size:188.90 m?? (20 squares) approx', ' One Bedroom Apartment', ' Excellent Property Type: House', ' Gas Stove', ' Land Size:3849 m?? (approx)', ' Property condition: Renovated Property Type: Apartment Garaging/carparking: Single lock-up', ' Land Size:417 m?? (approx)', ' Land Size:217 m?? (approx)', '  Study', ' Meals Area', 'Refridgerated Cooling', ' Quality and luxury modern home Set in a parkl', ' Private Schools Zone', ' Period Home', ' duct heating', '000 FHOG Applies...', ' decking', ' Building Size:101.50 m?? (11 squares) approx', 'Close to schools', 'Property Type: Land', ' ready to move in.', ' Property condition: Excellent Property Type: Terrace', ' Land Size:664 m?? (approx)', 'Fantastic location', ' separate title', ' Building Size:140.38 m?? (15 squares) approx', ' Good Property Type: Apartment Flooring: Carpet and Tiles', 'EER (Energy Efficiency Rating):Medium (5.0)', ' Air Conditioning', ' Land Size:516 m?? (approx)', ' Large Garage with Rear Access', ' Brick', ' Building Size:209.03 m?? (22 squares) approx', '7 Seater Spa', ' Bedrooms:1', ' 2 kitchens', 'Property Type: Apartment Unit style: Highrise Garaging / carparking: See Agent', ' In-Door Swimming Pool', ' modern bathroom', ' Land Size:218 m?? (approx)', ' Land Size:84 m?? (approx)', ' Land Size:1214 m?? (approx)', ' Formal Lou', ' Land Size:51 m?? (approx)', ' lift', '486.45 m?? (160 squares) approx', 'Property Type: Terrace', 'Slate Roof', ' Land Size:616 m? (approx)', '2 room bungalow', ' Excellent City Skyline views', ' Land Size:347 m? (approx)', ' Land Size:504 m?? (approx)', ' Ducted Cooling', 'Central heating', ' Property condition: Good Property Type: Apartment Unit style: Highrise Flooring: Carpet', ' Land Size:119 m?? (approx)', ' Outside storage shed', ' Family Room', ' Land Size:1042 m?? (approx)', ' lounge', ' Land Size:481 m?? (approx)', ' Land Size:495 m?? (approx)', ' Land Size:829 m?? (approx)', ' Building Size:80.00 m?? (9 squares) approx', ' Land Size:765 m?? (approx)', ' 24m frontage.', ' Large Block', ' exceptional fixtures', ' Land Size:834 m?? (approx)', ' Street frontage', ' Shed', ' 3 Bedroom + Study or 4th Bedroom', ' split system air con', ' Land Size:575 m?? (approx)', ' Renovated Kitchen', ' cbus - smart wiring', ' Land Size:169 m?? (approx)', ' Building Size:138.98 m?? (15 squares) approx', 'Polished Timber Floor', ' Floating and Carpet', ' Building Size:455.22 m?? (49 squares) approx', '  CELLAR', '  Downstairs powder room', ' Building Size:71.00 m? (8 squares) approx', ' Excellent', ' Land Size:1114 m?? (approx)', ' Land 701m2', ' Building Size:390.00 m?? (42 squares) approx', ' Auto doors (Number of remotes: 1)', ' Gas Hot Water', ' Land Size:115 m?? (approx)', ' Building Size:62.50 m?? (7 squares) approx', ' Car Parking - Basement', ' Openable Windows', ' pay TV', ' Land Size:676 m? (approx)', ' Building Size:72.50 m?? (8 squares) approx', ' dual rear access', ' Land Size:2.45ha (6.05 acres) (approx)', ' Land Size:44 m?? (approx)', ' Great Potential', ' Land Size:148 m?? (approx)', 'Timber flooring', ' Close to Local Schools', ' Building Size:51.00 m?? (5 squares) approx', ' Land Size:766 m?? (approx)', 'Property Type:Lifestyle', ' Land Size:41 m?? (approx)', ' Building Size:227.00 m?? (24 squares) approx', ' Land Size:1277 m?? (approx)', ' Land Size:802 m?? (approx)', ' Basement wine cellar', ' Land Size:888 m?? (approx)', ' C', ' Property Type: House Garaging / carparking: Single lock-up Roof: Tile Walls / Interior: Brick', 'Property Type:Unit', ' refrigerated cooling', ' Excellent Condition', ' Off street', ' Living Areas:34', ' Land Size:743 m?? (approx)', ' Building Size:643.07 m?? (69 squares) approx', ' Land Size:520 m?? (approx)', ' Land Size:1878 m?? (approx)', ' Zone 1 Transport', ' Land Size:776 m?? (approx)', ' Land Size:571 m?? (approx)', ' Property condition: Renovated Property Type: Apartment Garaging / carparking: Tandem', ' Land Size:274 m?? (approx)', ' Within Strathmore School Zone', ' Land Size:1045 m? (approx)', ' Land Size:20 m?? (approx)', ' Building Size:68.00 m?? (7 squares) approx', ' Building Size:36.30 m?? (4 squares) approx', ' Land Size:870 m?? (approx)', ' Land Size:4.60ha (11.38 acres) (approx)', ' Land Size:658 m?? (approx)', ' Building Size:10.03 m?? (1 squares) approx', 'Side Access to rear', ' A/c Unit', ' Land Size:824 m?? (approx)', ' Building Size:255.48 m?? (28 squares) approx', ' Land Size:85 m?? (approx)', ' Building Size:92.00 m?? (10 squares) approx', ' 2 Car Garage', ' Drapes', ' Land Size:1124 m?? (approx)', ' Double Glazed Windows', ' Land Size:1080 m?? (approx)', ' SECURITY INTERCOM', '  Fernery', ' Land Size:537 m?? (approx)', ' Toilets:5', ' Immacualte Throughout', ' Building Size:78.58 m?? (8 squares) approx', ' storage cage', ' Building Size:612.00 m?? (66 squares) approx', ' Property Type: House Garaging/carparking: Open carport', ' Approximately 5 Years Old', ' Building Size:114.92 m? (12 squares) approx', ' Aall-white kitchen', ' Exhaust Fan', ' Building Size:450.00 m?? (48 squares) approx', ' Building Size:668.00 m?? (72 squares) approx', ' Spotless Presentation', ' Land Size:0.45ha (1.12 acres) (approx)', ' Period Characteristics', ' Land Size:253 m?? (approx)', ' Land Size:368 m?? (approx)', ' Built in BBQ', ' Building Size:542.00 m?? (58 squares) approx', ' Large Land Area', ' Land Size:1.17ha (2.89 acres) (approx)', ' Land Size:1105 m?? (approx)', ' Building Size:149.00 m?? (16 squares) approx', ' Outdoor entertainment area', 'Property Type:Other', ' Secure Car space', 'Refrigerated Cooling', ' Land Size:777 m?? (approx)', ' Land Size:1010 m?? (approx)', ' Land Size:837 m?? (approx)', ' Renovated', ' Built in robes', ' Land Size:1880 m?? (approx)', ' Security System', ' Solar Electricity', ' Land Size:1365 m?? (approx)', ' Building Size:153.00 m?? (16 squares) approx', ' Garden', ' Land Size:1200 m?? (approx)', ' Land Size:752 m?? (approx)', ' Land Size:522 m?? (approx)', ' Building Size:14.50 m?? (2 squares) approx', ' Land Size:339 m?? (approx)', ' MUST SEE HOME', ' outdoor underc', ' very clean presentation', ' Building Size:32.00 m? (3 squares) approx', ' Wonderful wrap around balcony of 24sqm', ' powder room', ' solar heated pool', ' Building Size:100.30 m?? (11 squares) approx', ' Land Size:300 m?? (approx)', ' Land Size:144 m?? (approx)', ' Timber Flooring', ' Formal dining room and Fully lined bungalow or 4th bedroom', ' Walk to schools', ' Hydronic heating', 'Property Type: House Floor Area: squares: 19', ' New timber floating floor', ' Storage Gage', ' F', ' Land Size:2516 m?? (approx)', ' No Body Corp', 'Spa', ' Land Size:1128 m?? (approx)', ' level lawn', ' Land Size:1392 m?? (approx)', ' Land Size:410 m?? (approx)', ' Auto doors (Number of remotes: 2)', ' Land Size:661 m?? (approx)', ' Land Size:665 m?? (approx)', ' Land Size:0.64ha (1.58 acres) (approx)', ' Self-contained accommodation', ' bath', ' Bathrooms:12', ' Land Size:2330 m?? (approx)', ' Land Size:712 m?? (approx)', ' Land Size:1551 m?? (approx)', ' Land Size:793 m?? (approx)', ' Kitchen - Laminex', ' Heating', ' Property Type: House Garaging / carparking: Open carport Kitchen: Original and Dishwasher', ' Wide Side Access Driveway', ' opposite parklands and tennis court', ' The public area also offers a study station and the NEW entertainment room includes a wide screen Tv', ' Ocean views', ' Central Vacuum System', ' Building Size:61.50 m?? (7 squares) approx', ' Building Size:163.00 m?? (18 squares) approx', ' Polished Timber Floors', ' Land Size:1513 m?? (approx)', '  Alarm system', 'Ducted Gas Heating', ' Land Size:896 m?? (approx)', ' 4 Bathroom and 2 Kitchen', ' Open Car Spaces:11', 'Property condition: Excellent Property Type: Studio Unit style: Highrise Flooring: Carpet', ' Multi-cars accomodation', ' Land Size:1204 m?? (approx)', ' Land Size:406 m?? (approx)', ' Well Tended Gardens', ' High Decorative Ceilings', ' Living Areas:295', ' Cinema Room', ' Land Size:134 m?? (approx)', ' Land Size:381 m?? (approx)', ' Garden She', ' Heating/Cooling', ' BIR', 'Property Type:Apartment', ' Ducted vacuum', ' 12km from CBD with terrific City Link', ' Living Areas:90', ' Land Size:313 m? (approx)', ' Property Type: Acreage/semi rural', ' New Carpets', ' Building Size:64.50 m?? (7 squares) approx', ' Land Size:1189 m?? (approx)', ' Feature electric fireplace', ' Built In Rob', ' Living Areas:92', ' Land Size:63 m?? (approx)', ' massive land allotment', ' Formal Lounge', ' Land Size:286 m?? (approx)', ' Building Size:30.80 m?? (3 squares) approx', ' Land Size:986 m?? (approx)', 'Property condition: Good Property Type: Unit Unit style: Number in block: 2', ' Land Size:709 m? (approx)', ' Level', ' Land Size:1205 m?? (approx)', ' Building Size:437.00 m?? (47 squares) approx', ' Land Size:2055 m? (approx)', ' Land Size:1865 m?? (approx)', ' Land Size:964 m?? (approx)', ' Land Size:784 m?? (approx)', 'Solar roof panels', ' Studio', ' Wine Cellar Under House', ' Bathtub', ' Land Size:1847 m?? (approx)', 'Property Type: Unit', ' Land Size:692 m?? (approx)', ' Land Size:276 m?? (approx)', ' Reverse', ' Ideal for Inground Pool', ' Building Size:929.03 m?? (100 squares) approx', ' Land Size:179 m?? (approx)', ' Formal Dining Room', ' Building Size:116.00 m?? (12 squares) approx', ' Vermont Primary School zone', ' and World class facilities.', ' Land Size:1006 m?? (approx)', 'Great posistion', 'Four Car Garage', ' 2 Large Living Areas', ' Living Areas:73', ' Woodfire Heater', ' Land Size:618 m?? (approx)', ' Prestige Homes', ' Land Size:611 m? (approx)', ' Building Size:17.00 m?? (2 squares) approx', ' Building Size:371.00 m?? (40 squares) approx', ' Building Size:186.74 m?? (20 squares) approx', ' Toilets 3', ' Reverse Cycle A/C', ' Building Size:353.02 m?? (38 squares) approx', ' Land Size:1344 m?? (approx)', ' Land Size:935 m?? (approx)', ' Land Size:0.85ha (2.11 acres) (approx)', ' Gas cooking', ' Land Size:911 m?? (approx)', 'Heater', ' Land Size:332 m?? (approx)', ' Land Size:508 m?? (approx)', ' Land Size:1248 m? (approx)', ' Land Size:1001 m?? (approx)', ' Flo', ' Parkland nearby', 'Garage Spaces:5', ' Building Size:15.90 m?? (2 squares) approx', ' Land Size:1027 m?? (approx)', 'Property Type: Apartment Views: City Sewerage: Mains', ' Building Size:269.00 m?? (29 squares) approx', ' Land Size:1639 m?? (approx)', ' Building Size:177.72 m?? (19 squares) approx', ' Lease Contract with Estate', ' Toilets:11', ' Land Size:2059 m?? (approx)', ' Building Size:56.00 m? (6 squares) approx', ' Land Size:874 m?? (approx)', ' Land Size:710 m? (approx)', ' Land Size:862 m?? (approx)', ' Carport Spaces:6', ' Property condition: Renovated Property Type: House House style: Contemporary', ' Secure P', ' Living Areas:65', ' Building Size:81.60 m?? (9 squares) approx', ' Land Size:2050 m?? (approx)', ' Remote Gates', ' Land Size:908 m?? (approx)', ' Land Size:2256 m?? (approx)', ' Bathrooms:3', ' Building Size:269.42 m?? (29 squares) approx', ' security camera surveillance', 'Car Space', ' Land Size:1215 m?? (approx)', ' Land Size:1685 m?? (approx)', ' Land Size:411 m?? (approx)', 'Open Car Spaces:1', ' Building Size:12.60 m?? (1 squares) approx', ' EER (Energy Efficiency Rating):Medium (7.5)', ' Land Size:237 m? (approx)', ' Land Size:813 m?? (approx)', ' Land Size:947 m?? (approx)', ' Land Size:1450 m?? (approx)', ' S', 'Separate Dining', ' Stunning Makeover', ' Land Size:916 m?? (approx)', ' Land Size:3944 m?? (approx)', ' Land Size:749 m?? (approx)', ' Close to shops', ' Project', ' Fixed Floor coverings', ' Land Size:632 m? (approx)', ' Fully Renovated Family Home', 'Property Type: House Kitchen: Original Main bedroom: Double Bedroom 2: Double', ' Land Size:344 m?? (approx)', ' Carspac', ' Building Size:600.00 m?? (65 squares) approx', ' Ideal Investment', ' Building Size:186.28 m?? (20 squares) approx', ' Land Size:790 m?? (approx)', ' Building Size:780.39 m?? (84 squares) approx', ' Land Size:1065 m?? (approx)', 'Property condition: Excellent Property Type: Apartment', ' Property condition: Good Property Type: House Flooring: Carpet and Floating', ' Building Size:370.00 m?? (40 squares) approx', ' Panel Heating', ' Land Size:493 m?? (approx)', ' Study Area', ' Building Size:66.50 m?? (7 squares) approx', ' Land Size:547 m? (approx)', ' Stainless Steel Ap', ' Access to Skyline Club', ' Land Size:787 m?? (approx)', ' Land Size:1210 m?? (approx)', ' Timber Blinds', ' Building Size:194.00 m?? (21 squares) approx', ' Duplex', ' Land Size:2075 m?? (approx)', ' Building Size:179.77 m?? (19 squares) approx', ' 3 + Study or 4th Bedroom', '24 hr building manager', 'Tennis court', ' Double Garage & Choice Of 3...', ' Separate toilet to ensuite', ' Potential to redevelop to 5 units site (STCA)', ' Land Size:231 m? (approx)', ' Building Size:19.50 m?? (2 squares) approx', ' Dishwash', ' Building Size:135.00 m?? (15 squares) approx', ' Air Conditioning - Refridgerated', ' Yarra River Views', ' Separate Lounge & Rumpus', ' Land Size:1256 m?? (approx)', ' Rear Access through Garage', ' Land Size:1055 m?? (approx)', 'Fujitsu Split System Air Conditioner', ' Land Size:267 m?? (approx)', 'Balcony', ' Land Size:1441 m?? (approx)', ' Land Size:1.81ha (4.47 acres) (approx)', ' Development Potential STCA', ' Land Size:990 m? (approx)', ' Built I', 'Property Type:Warehouse', ' Shed/Workshop', ' Stylishly Renovated', ' Good Property Type: House House style: Colonial', ' Land Size:784 m? (approx)', 'Ducted heating', ' Land Size:552 m?? (approx)', ' Wine Storage', ' Building Size:492.39 m?? (53 squares) approx', ' Laundry', ' D', ' Rear Carport', ' Land Size:0.43ha (1.07 acres) (approx)', ' ensuite', ' Huge living spaces', ' Property condition: Good Property Type: Unit House style: Contemporary Unit style: Lowrise', ' Land Size:1393 m?? (approx)', ' Access to Gym', ' SELF CLEANING POOL', ' Land Size:165 m?? (approx)', ' Close to Mona', 'Square set cornices', ' Balcony 2.8sqm', ' Land Size:624 m?? (approx)', ' Building Size:115.85 m?? (12 squares) approx', ' Intercom', ' Living Areas:15', ' Terracotta Roof Tiles', ' Good Property Type: Apartment Unit style: Number of levels: 3', ' Land Size:338 m?? (approx)', ' Property Type: Apartment Garaging / carparking: Open carport Main bedroom: Built-in-robe', ' Building Size:45.00 m?? (5 squares) approx', ' Fully Automated Awning', ' Land Size:320 m? (approx)', 'Garage Spaces:8', ' Building Size:244.06 m?? (26 squares) approx', ' zoned heating and cooling', ' Building Size:237.00 m?? (26 squares) approx', ' Land Size:892 m?? (approx)', ' remote control blinds', ' Close to Tram Line', ' Building Size:30.00 m? (3 squares) approx', ' Land Size:403 m?? (approx)', ' Period Charm', ' Land Size:1473 m? (approx)', ' Land Size:345 m?? (approx)', ' Garage with Rear Access', ' Powder room', ' SMEG appliances', ' Land Size:4.05ha (10.00 acres) (approx)', ' Land Size:973 m?? (approx)', ' Land Size:483 m?? (approx)', 'Study', ' separate dining room', ' Automated Sprinkler System', 'Powder Room', ' Building Size:215.54 m?? (23 squares) approx', ' Property condition: Fair', ' Building Size:607.00 m?? (65 squares) approx', ' Building Size:13.60 m?? (1 squares) approx', ' Land Size:122 m?? (approx)', ' Land Size:1429 m?? (approx)', ' Land Size:858 m? (approx)', ' Land Size:1208 m?? (approx)', 'Study/4th bedroom', ' Land Size:546 m?? (approx)', ' Building Size:79.80 m?? (9 squares) approx', ' Internal A', ' Building Size:27.00 m?? (3 squares) approx', ' Land Size:1101 m?? (approx)', ' City views', 'down lights', ' potential for two small parking spots', ' Land Size:1179 m?? (approx)', ' Building Size:144.19 m?? (16 squares) approx', ' Custom 4 Car Workshop', 'Deck', ' Land Size:600 m?? (approx)', ' Close to transport/shops/school/park', ' Internal', 'Reception', ' I', ' Land Size:1243 m?? (approx)', 'Ornate Cornices', ' Land Size:1279 m?? (approx)', 'Carport Spaces:2', ' Land Size:3960 m?? (approx)', ' Land Size:2106 m? (approx)', '500m to beach', ' Living Areas:110', ' Land Size:275 m?? (approx)', ' Land Size:735 m?? (approx)', ' Built In Robe', ' Secure entry', 'Common Lounge w Foxtel TV', ' Land Size:268 m?? (approx)', ' Huge allotment', ' Land Size:978 m?? (approx)', ' Land Size:206 m?? (approx)', ' Car space', ' Land Size:0.91ha (2.25 acres) (approx)', 'Attic Storage', ' Land Size:118 m?? (approx)', ' Townhouse', ' Land Size:1299 m?? (approx)', ' Cou', ' Land Size:759 m?? (approx)', ' Land Size:214 m?? (approx)', ' great views', ' Land Size:800 m?? (approx)', ' Property Type: House Main bedroom: Built-in-robe Bedroom 2: Built-in / wardrobe', ' Building Size:138.00 m?? (15 squares) approx', ' Land Size:2.43ha (6.00 acres) (approx)', ' R', ' Building Size:288.00 m?? (31 squares) approx', ' Land Size:48 m?? (approx)', ' Land Size:555 m?? (approx)', ' Land Size:0.70ha (1.73 acres) (approx)', ' Theatre Room with Equipment', ' Building Size:501.68 m?? (54 squares) approx', ' Land Size:314 m?? (approx)', ' Land Size:960 m?? (approx)', ' * Huge Stamp Duty Savings *', ' Land Size:1328 m?? (approx)', ' Property Type: House Floor Area: squares: 28', ' Land Size:1135 m?? (approx)', ' Buy to Own the Dwelling', ' Land Size:126 m? (approx)', ' Land Size:0.46ha (1.12 acres) (approx)', ' GAS HOTWATER', ' Land Size:654 m?? (approx)', ' S/S app & granite kitchen', ' Land Size:500 m? (approx)', ' Loung', ' Building Size:94.00 m?? (10 squares) approx', ' Building Size:16.10 m?? (2 squares) approx', ' Land Size:2273 m?? (approx)', ' 3 Bedrooms + Study', ' Land Size:825 m?? (approx)', ' landscaped gardens', ' Property Type: Villa Garaging / carparking: Single lock-up Construction: Brick veneer', ' Land Size:672 m?? (approx)', '3300 Water Tank', 'Marble Fireplace', ' Land Size:603 m? (approx)', ' Building Size:40.04 m? (4 squares) approx', ' Courtya', ' Building Size:48.50 m?? (5 squares) approx', ' Land Size:143 m?? (approx)', ' Land Size:196 m?? (approx)', ' Building Size:50.80 m?? (5 squares) approx', ' Master bed on ground floor.', ' Property condition: Good Property Type: Block of units Garaging / carparking: Single lock-up', ' Land Size:184 m?? (approx)', ' Land Size:444 m?? (approx)', ' Land Size:807 m?? (approx)', ' Land Size:70 m?? (approx)', ' OUR FEATURES LIST GOES ON!!!!!!', ' Building Size:788.00 m?? (85 squares) approx', 'Property condition: Good Property Type: Apartment Window coverings: Blinds (Vertical)', ' Land Size:619 m?? (approx)', ' Reverse cycle cooling', ' Outdoor Ent.', ' Land Size:199 m?? (approx)', ' Building Size:158.00 m?? (17 squares) approx', ' Land Size:213 m?? (approx)', ' Sunroom', ' Fully Landscaped Gardens', ' Building Size:144.00 m?? (16 squares) approx', ' Two-Pack Kitchen', ' Custom Outdoor Pergola with Deck', ' Land Size:351 m?? (approx)', ' Tiles throughout', ' sliding robe doors', ' Street Frontage', ' Land Size:108 m?? (approx)', ' Building Size:53.50 m?? (6 squares) approx', 'Gym', ' Land Size:2697 m?? (approx)', ' Carpeted', ' Fully enclosed front yard', ' Land Size:681 m?? (approx)'}\n"
     ]
    }
   ],
   "source": [
    "print(feature_set)"
   ]
  },
  {
   "cell_type": "code",
   "execution_count": 16,
   "id": "79fea0e9",
   "metadata": {},
   "outputs": [
    {
     "name": "stdout",
     "output_type": "stream",
     "text": [
      "4929\n"
     ]
    }
   ],
   "source": [
    "print(len(feature_set))\n"
   ]
  },
  {
   "cell_type": "code",
   "execution_count": 17,
   "id": "0dd29121",
   "metadata": {},
   "outputs": [],
   "source": [
    "def has_numbers(input_string):\n",
    "        return any(char.isdigit() for char in input_string)\n",
    "\n",
    "for x in feature_set.copy():\n",
    "    if \"size\" in x.lower() or \"property type\" in x.lower() or has_numbers(x):\n",
    "        feature_set.remove(x)"
   ]
  },
  {
   "cell_type": "code",
   "execution_count": 18,
   "id": "936e4c92",
   "metadata": {},
   "outputs": [
    {
     "name": "stdout",
     "output_type": "stream",
     "text": [
      "1803\n"
     ]
    }
   ],
   "source": [
    "print(len(feature_set))"
   ]
  },
  {
   "cell_type": "code",
   "execution_count": 19,
   "id": "769ac606",
   "metadata": {},
   "outputs": [
    {
     "name": "stdout",
     "output_type": "stream",
     "text": [
      "{'', ' STUDY', ' Gas fireplace', ' Extras are sun blinds', ' Stu', ' full ensuite', ' Parents/Childrens Retreat', ' Walk To Everything Local...', 'Rear entertaining area', ' Common Lounge w Foxtel TV', ' Walk Primary Schools', ' galleries & restaurants', ' rumpus', ' Bosch kitchen', ' Lift', ' ducted heating and gas cooking', 'Cellar', ' Stainless Steel Appl', ' alfresco area', 'Built-In Wardrobes', ' ??xtras Such as Stone Benchtops', ' Patio/Terrace', ' Rear Deck - Alfresco', ' Concrete tile', ' Dryer', 'Jacuzzi', ' Air Cond', ' Marina Views', ' solar hot water', 'Gaden Shed', ' Ample Secure Carparking', ' Spa bath', ' Walk to Mitcham Train Station & Shops', ' Ducted', ' garden shed', ' Ducte', ' Undercover paved patio', ' Single Level Villa', 'Close to Bus Services', ' self-contained granny flat', ' Car Space', ' Car wash in the building', ' Reverse Cycle AirCo', ' Character Home', ' DLUG', ' Walking Dist to River', ' gym', ' ', 'Waterfront', ' basement', 'Alfesco', ' walk-in robes', ' Air-condition', ' Gas stove', ' Separate Block & Title', ' Walk-in Robe', ' Carspace off street', ' double lock up storage cage', 'Star Server', ' Porcelain tiles throughout living areas', ' large block for redevelop', ' Commanding Position', ' sauna', ' Ref Cooling (Duct)', ' visitor parking', ' Formal lounge', ' close to transport', ' Security Shutters', ' resident building manager', ' Corner Location', ' Reverse Cycle Air Conditioning', ' Landscaping', 'Polished Timber Floors', ' formal lounge', ' Cosy & Maybe Just Right For You...', ' South side location', 'study', ' Broadband', ' Security Gate', ' Glassed Garden Room', 'Remote Lock Up Garage', 'Split Systems', ' Floorboa', ' SMEG Kitchen appliances', ' Split-system Air-conditioning', 'Secured Storage Cage', ' Central Heating and Cooling', ' Range Hood', 'shops', ' High Ceiling', ' Split System Heating', 'Hydronic Heating', ' Buil', \" BIR's\", 'High ceilings', ' Remote control Gate', ' Gas Wall Heat', 'Lounge', ' Spa bath to ensuite', ' Steam Room', 'double storey house', ' Fireplaces', ' Video Intercom & Quality Finishes Throughout.', ' Elegant bathroom', ' Internal Access via Garage', \" Presented in ''As New'' Condition\", 'Quest Pay all Council', ' Merbau deck', ' Close to Bus Services', ' EUROPEAN PARQUETRY FLOOR', 'Terrace/paved', ' River Views', ' Gourmet kitchen with quality stainless appliances', ' Private Courtyard', ' enclosed sunroom', 'Ducted Vacuum', ' COMPLETE JUST MOVE IN!', ' Pool -Salt Chlorinated / Solar', ' leadlight windows.', ' Library', '   Stainles', ' Shops and Schools', ' Close to transport/shops/school/park/CBD', ' cafes shopping', ' Carpets', '  Dishwasher', ' Magnificent Views to Mount Cooper', 'Lock up garage', ' Art Deco Duplex', ' Close to Community Park', ' Swimming pool', ' Roof Top Terrace', ' Walk Tram', ' Bar', ' Walking Dist to Shops', 'Ducted gas heating', ' Built In', ' two street frontages', ' Cinema Package Included', ' In-ground Pool', ' long balcony', ' Split S', 'Meile Appliances', ' Close to Clayton Train Station', ' Air-Con / Ducted ', ' House Garaging / carparking: Open carport', ' JUST BRING YOUR FURNITURE AND MOVE IN!', ' Endless swim-spa', ' Terra cotta tiled roof', ' Formal Din', ' Bui', ' Ducted Vacuum system', ' Fully Fenced Y', ' Close to Schools', 'Gas ducted heating', ' Huge home', ' Updated Bathroom', ' very close to university', 'Art Deco Apartment', 'Large Balcony', 'Quality fittings', ' Rare storage cage', ' Open back garage', ' Inground Salt Chlorinated Swimming Pool', ' Hot Water', 'Close to Shops', ' roller shutters', ' remote garage door', ' North Facing Rear Yard', 'double garage', ' stone benctops', ' H/wood Floor under carpet', ' pergola', ' Rear verandah', ' High Ceilings', ' Double Garage & Sunroom', ' Top Floor', ' Open Fire Place', ' Roof tile', ' Convenient Location', ' evapor', ' Stainless Steel Appliance', ' Built-In-Microwave', ' PAUL BANGAY GARDEN', ' Refridgerated Cooling', ' Valley Views', ' Secure Underground Parking', ' carpet in bedrooms', ' Land', ' Swimming Pool - Inground', ' Many options available here', 'Water tank', 'Photo ID Required', ' Balcony and Courtyard', ' Complete Turn Key Finish', ' Slab Heating', ' Hobby Room', ' two air-conditioners', ' Reverse cycle split system', ' balcony/patio/terrace', 'Court Location', ' Auto doors Construction: Render', ' Moments from Eastlink', ' gas cooking', 'Double Brick', ' Moments From Macleod Train Station', ' Decked pergola area', ' Air-conditioner', ' Colorbond Roof', ' Solar gas-boosted hot water', ' Ground Floor', ' Inground Pool', ' Family room', 'Alfresco', 'balcony/patio/terrace', ' Street Facing', ' Sun-room', 'Ducted Heating', ' Positive Cash Flow for investors', ' Close to Shops', ' Ensuit', 'Pol. Timber Floors', ' Sweeping stair case', 'Rainwater tanks', 'Extremely Popular Location', ' North facing', ' Pegola', 'Cooling', '  Garden Shed', ' Mezzanine', ' Watering system', ' South Facing', ' Clothes dryer', ' Outdoor entertainment', ' Ironing Board - built in', ' Factory / Workshop', ' High Ceilings Throughout', ' Outside Spa', ' Evaporative cooling', ' St Kilda Rd Location', ' Floorbo', ' Polished Floor', 'Stone benches', ' Under-stair storage', ' Rear Access', ' Ducted cooling', ' sprinkler', ' side access', ' Close to transport/shops/school/', ' Street Facing with A Separate Driveway...', ' high ceilings', \" butler's pantry\", ' Polished Floors ', 'City Views', ' Electric Panel Heating', ' Reverse-Cycle Air Con', ' walking distance to all amenaties', ' storage area', ' Built in Robes', ' great location', ' House House style: Contemporary', ' Plans and permits', ' NO Body Corp Town homes...', ' wa', 'Parquetry floor', 'concierge/manager', ' Fully Landscaped', ' Wall furnace', ' security lights', ' Large storage cage', ' Lounge/dining', ' Central Heating', ' Evaporative', ' Outdoor Entertainment', 'Rear Back Deck', ' Built-in Robes', ' Tasmanian oak timber kitchen', ' tram line just in front of the building', ' Apartment Unit style: Lowrise Garaging / carparking: Off street', ' Built-in Wardrobes', ' Land House style: Contemporary', ' Full insulation. noise', 'Roller shutters', ' Flat Main bedroom: Double', ' House Alarm', 'Caeser Stone bench tops', 'Art -deco style', ' Apartment Unit style: Highrise Garaging / carparking: Single lock-up', ' Automatic Front Gates', ' Captivating Property', ' Hydronic Heating', ';', ' Clothes Line', ' Dual-Driveway Access', ' Single Level', ' Locate in a quiet court', ' Period Apartment', ' concierge/manager', ' Security Entrance', ' Floorboards', ' Garage - Internal Access', ' Close to shops/school', ' Close to transport/shops/school', ' feature lighting', ' Split Level', 'Open fire place', ' Off street Construction: Brick', ' Va', ' Walk In Robes', ' Cooling', ' Working Drawings Obtained', ' Verandah', ' Studio or Workshop', ' Rumpus/Study', ' Brick Garage / Workshop', '  Bar', 'Security Entry', ' Polished Hardw', ' Fireplace(s)', ' Primary School', ' St', 'Alarm/Security System', ' Close to Clayton Central Shops', ' Light Fittings', 'stone benches', ' d/washer', ' Onsite Building Manager', ' Security Entrance & Lift access', ' water tank', ' Bulit in Robes', 'Ensuite', ' beautifully landscaped grounds', 'Outdoor Entertainment', ' Walk to beach', ' Ornate Fireplaces', ' Water Tank', ' Ensuite', ' heating', ' Townhouse House style: Cottage', ' Converted garage living', ' Polished Solid Timber Floors', ' Security Cameras', ' Se', 'Theatre Room', ' Double Glazing Installed', ' security entrance.', ' drought tolerant landscaping & double glazed windows.', 'granny flat', ' window shutters', ' Ducted reverse cycle Aircon', ' Air-Conditioning', '  Water tanks', ' Modern Fit-out ', ' theatre room', ' Formal dining', ' Tiled casual area', ' Built In Robes', ' Bush Retreat', ' Covered outdoor area', ' Reverse Cycle A', ' Apartment Flooring: Carpet and Tiles', ' pot belly heater', ' Open Fire', ' Landscaped Gardens', ' Stamp Duty Savings!', ' Op', 'Hardwood floors', 'Dining Room', ' Stove- Gas', ' polished timber floors', ' Save thousands on stamp duty!', 'Swimming Pool - Above Ground', 'Bike Storage', ' Close Shopping Centre', '  Air conditioning', ' Brand New & High Quality Build', 'home theatre room', 'Secure entry', ' Dining Room', ' Close to shops/school/park', ' Built-in Watering', ' COMPLETE TURNKEY !!!', ' Garden Sh', ' Alfresco', ' Split System AirC', ' Outdoor entertaining area', ' ceiling fans', ' Period Features', 'Terrace/Balcony', ' Covered Pergola', ' Window coverings', ' Double lock-up', ' Additional guest parking', ' Two Titles', ' Gas Hot Water service', ' Zoned Refridgerated Cool', ' Development or Re Build', ' Upgraded tap ware', ' Separate Dining', ' Open fire place', ' Establishe', ' Blue Ribbon Location', ' Driveway', ' Side Access', ' Polished Hardwood Floors', ' Fully Tiled Living Areas', 'Gas Stove; Electric Oven;Courtyard', ' Split System Heating & Air Conditioning', 'Storage Cage', '  storage cage', ' North- Facing ', ' I.G Pool', ' Close t', 'gas fire place', ' No Common Land', ' stone bench tops and immaculate finishes', ' Gas ducted heating', 'Workshop at Rear', ' European laundry', 'Redgum kitchen', ' Corner Block', ' Rangehood', ' Electric Front Gate', ' High ceiling', ' Reverse Cycle', ' Close to L', '  Solar panels', ' Walking distance to Transport', ' Vacuum system', ' The Complete Package..', ' Integrated C-Bus Home Control System', ' Terrace/Balcony', ' accessible ramp on entry and to the side of the house', ' Multiple Living Zones', ' Tinted Windows', ' solar hot water system', ' alfr', ' COMPLETE WITH NOTHING ELSE TO PAY!', ' Gas Hot Water Service', 'Brick veneer', ' Court Yard and Deck', ' Plans & Permits Approved', ' Balcony', ' Car Parking - Surface', ' Ope', ' Lock up garage', ' Manicured Gardens', ' walk in robe', ' Family court', ' transport', ' Original Ornate Features', ' Californian Bungalow', ' Elevator', ' Remote door on carport', ' Spacious Yard', ' Fully Fenc', 'High ceiling', ' Uninterrupted City Views', 'dishwasher', ' Multi zone ducted heating', ' Original Condition', ' Shower', ' McIver park', ' Numerous Fireplaces', ' Split A/C', ' Pre Release! Park Front Block!', ' Fully furnished', ' Airconditioning', ' Split System Ai', ' Private & Secure', ' Polished Hardwood Timber Floors', ' Fence', ' Ducted Vaccuum', ' Victorian Replica', ' Plantation Shutters', ' Incredible views', ' Dam', ' Open Fi', ' Solar Panelled Electricity', ' World Class facilities.', ' S.Steel Kitchen Appliances', ' Formal Dining', ' Walk to Milleara Mall', ' Basement Storage', '  Ducted Vaccum', 'Updated kitchen', ' study', ' Reverse Cycle Heating', ' Walking distance to Bus Services', 'Solar System', 'Gas heating', ' Lovely established gardens', ' open floor plan', ' Walking Distance to Overnewton College', ' IG Pool', 'Home Theatre', ' Main bedroom walk-in robe', ' Close to transport/shops/school/p', ' Blue Chip Location', '  Cooling', ' Spacious rooms', ' rear access roller door on garage', ' Wood fire oven', ' Two Homes.', ' Sprinkler System.', ' cubby house', ' Large Family Home', 'Stainless Steel Appliances', 'Open Plan', 'Gas heater', ' Block of units', 'Ledlight Windows', ' Heating/Cooling & Vacuum', ' Split system', ' Newly Polished Floors', ' Video intercom', ' Solar Hot Water System', 'Own Frontage', ' Easy Access Ground Floor', ' Electric Gates', 'Solar Panel', ' Wat', ' Granite Benches', ' Refrigerated Cooling', ' Stainl', ' Spa (Outdoor)', ' Extra Wide Garage with Internal Access', ' Views to Dandenong', 'LED lighting', 'Watertank', ' beach views', ' Spacious Living areas', ' Indoor entertainment area', ' Full Ensuite', ' buses and freeway.', 'Property condition: Excellent', ' Upright stove', 'two ensuites', ' Reverse Cycle Air Con', 'Country Style Kitchen', ' Close to Shopping Centre', ' Under floor heating', ' Air Conditionin', ' Near NEW', 'Gas Stove', ' Heated Pool', ' AC Unit', 'Carport', ' Pay TV', ' Close to Monash University', ' Grey Water System', ' Study / Retreat', ' Tool Room In Carport', ' Development Opportunity (STCA)', ' Bay-views ', ' Dining opens to al fresco', 'Walk in Robe', ' Custom Pergola', ' Water views', ' Heating & Cooling', ' Opposite Parklands', 'Solar Power', 'Riverbank Position', ' House', ' Close to transport/shops/school/pa', ' Townhouse House style: Contemporary', ' Fenced Back Yar', 'Ceiling fan', ' Bike Racks', 'HEATING', ' Gas hot  water', 'Inground spa', '* Development Site * Plans and Permits *', ' Storage Area Under Deck', 'Home theatre', ' BBQ', ' Alarm', ' Carport and workshop', 'Close to shops', 'Attic as Spare Room', 'REMOTE METAL GATES', ' Common Room facilities', ' Gas', ' Ala', ' Within Strathmore College...', ' Caesarstone Benchtops', ' Shopping centre', ' Built In Ro', 'Built-In-Robes', ' R/C Split System', ' Courty', ' Eat-in-Kitchen', ' Boat', ' timber flooring', ' Family', ' Brick Stumps', ' Property condition: Renovator', 'Rain water tank', ' GWSZ (STCA)', ' Reverse Cycle AirCon', ' Internal Access via', ' close to shops', ' Above-ground Pool', ' Large entertainers balcony with gorgeous views', ' Spacious Rooms', 'Large Courtyard', ' Furnished', ' Split-system Heating', ' Security doors', ' Save on stamp duty and buy off the plan.', \" Builder's Warranty\", 'Gas Heating', 'Outdoor Entertaining Area', ' Under mount Kitchen sink', ' Undercover Entertainment Are', ' close to schools', ' Timber Floorboards', ' Rooftop garden', 'Decked Pergola', ' Street Facing...', ' decked pergola', ' Split', 'Fenced', \" Butler's pantry\", ' furnished', ' Split Syste', ' Close to West St Retail Precinct', ' Dish', ' Five Star resort style facilities', ' Bore Water', ' dishwasher', ' ROW at rear', ' Garage', ' Location', ' Heating and cooling', 'High Ceilings', ' Bungalo', ' Water and Owner Corporation Administration Fees', ' Carport', ' Western Ring Road and Melbourne Airport.', ' Close to local schools', ' Light & Airy', 'Beach Views', ' Solar Hot W', 'Common Room', ' Formal dining Main bedroom: Ceiling fans', ' Fl', ' near waterfront', ' Granite bathrooms', ' Polished Hardwood Floo', 'Boat mooring', ' bay windows', ' Fantastic Location', ' Outstanding Location', ' Walk to Everything', ' City View', 'Built in robes', ' Deck', ' Near New Construction', 'Brand New', ' Solid Timber Floors Throughout', 'Swimming Pool - Inground', '  bevelled glass doors', ' Gas Sto', ' Blinds', ' Contemporary', ' Sunblinds', ' Open carport', ' Barbecue', ' Primary and Secondary School and Shopping Strip', ' valley views', ' Remote Garage', ' Classic Features', ' Ducted Vacuum System', ' Fully Fenced', ' Pressed Metal Ceilings', 'Park Views', 'Dishwasher', ' Security Sc', ' single garage', ' Victorian', ' Close to Transport', ' Storage', 'Heating/Cooling', 'Clever', ' intercom system', ' Separate Study Downstairs', ' Courtyard', ' safe', ' Slab heating', ' Heated pool and spa', 'close to schools', ' Stove - Gas', ' Fenced Back Yard', ' no body corp fees', ' Flexible Settlement Terms Available', ' Park next door', ' located in MGSC', ' Pets Allowed', ' Film & Recording Studio', ' Family Roo', ' Luxury Home', 'Video intercom', ' Spacious Living Zones', ' High Clearance', ' Large Multiple Living Zones', ' Stainless Steel', ' Court Yard & Deck', 'Water Tank', 'Hydronic heating', ' W', \" Walk to R'wood Shops\", ' coonara', ' Roller Door Access', ' Close to all amenities and services including schools', ' glass splashback', ' roof top entertainment terrace', ' Close to transport/shops/school/CBD', ' Ducted heating', ' Unit', 'Remote Garage', ' Ducted Vaccum', ' Built-in Safe', ' Closed carport', ' Ingr', ' Open Plan', '  Ducted heating', ' a beautiful place to call your new home...', ' Custom Outdoor Pergola', ' Close to transport/shop', ' Bike Storage', ' Swimming Pool (in-ground)', ' Parklike surrounds', ' Polished Timb', ' TV satellite dish for Asian Channels', ' Within Close proximity to Station', ' Walk in robes', ' Air conditioner', ' waterfront balcony', ' Landscaped Gr', ' Security Doors', ' Flat Living area: Formal lounge', ' Outdoor Deck', ' quality street close to concourse and beaumaris & stella maris primary school', ' Secure Parki', ' Outdoor Powered Workshop', ' Open Fireplac', ' Outdoor Entertaining Area', ' Rumpus room', ' Close to Monash Uni', ' Ceiling fans', ' Cathedral Ceilings', ' Wet bar', ' Stunning Views', ' Jetty', ' Smeg appliances', ' wine cellar', ' Bungalow', 'SECURITY INTERCOM', ' Secure off-street carport and courtyard', ' Air Co', ' In-ground Pool (Heated)', ' Du', ' Outdoor spa', ' Pool', ' Large Outdoor Living Area', ' Garden Watering system', ' Outdoor Entertainment Area', ' renovated bathroom', ' Split System Air Conditioner', ' Outlook to Yara Valley', ' Gas heating', 'Gas Hot Water', ' Court Loactaion', ' Secure Parkin', ' Trailer or Truck', 'ROW at rear', ' District views', ' Spacious Garden', ' Quality Build', ' Alfresco area', 'Study/Computer alcove', ' Polished Timber Floor', ' Outdoor Living', ' Prestige Location', ' good tenants for invest', ' Sauna', ' Single carport', ' work from home', ' next to parkland', ' Stunning Federation Classic', 'security shutters on all front windows', ' Off Street Parking', ' Viewbank S.C School Zone', ' Solar Power', ' Close to transport/shops/schoo', ' Study Nook', ' great kitchen storage', 'Renovated bathrooms', '  storage', ' Dedicated Outdoor Kitchen', ' Natural Timber Floors', ' Undercover outdoor area', ' Cathedral ceilings', ' stone bench top', \" ''As New'' Condition\", 'Carpeted', ' Property condition: Renovated', ' Built In watering', 'Study/Home Office', ' Toilet Facilities', ' Wine cellar', 'Hardwood floor boards', ' Inground pool', ' Ceiling fans in bedrooms', ' ducted vacuum', 'bath', ' Luxurious finishes by Kokoda Property', ' Floo', ' dble garage + sgl', ' Ceiling Fan', ' Pol. Timber Floors', ' Renovators Opportnity', ' bore', ' Easy Walk To Shops & Station...', \" Balance of Builder's Warranty Included\", ' Under house storage', ' Freshly Carpeted & Freshly Painted', ' ducted vaccuum', ' Secu', ' duct heat', ' Low energy down lights', ' Lock up Garage', ' Wood Heater with Canopy', 'Drive through access', ' Fullty Fenced', 'Man Cave', ' Balcony large', ' Coonara Heater', ' Gas Heating', 'Spa Bath', ' Remote Garage Opener', ' Low Maintenance & Top Location', ' Closed carport Joinery: Aluminium', ' Garage - Remote Control', ' Quiet Court Location', ' Second Study ', 'Toilet Facilities', 'Updated Kitchen and appliances', ' Terrace/paved', ' Drive through access', ' Air-conditioning', ' Spacious Balcony', ' Lounge', ' fully fencing', 'Split System Heating & Air Conditioning', ' Fixed Floor Coverings', 'Polished Floorboards', 'Close to Shopping Centre', ' mentone girls secondary zone', 'Large family room at rear', ' Clos', ' Communal pool', ' stone benches and cupboard space', ' Storage room', 'Remote Gate', ' Porcelain Tiles in Kitchen and living areas', ' Split systems', ' Multi Story', ' Turn Key! Just move in', ' Remote garage opener', ' House Construction: Weatherboard Aspect: North', 'Brand new', ' Storage Space', ' Gym', ' Gas heater', ' Tennis Court', ' internal laundry', 'Intercom System', ' Within Strathmore College School Zone + Valley Views', ' Above ground Pool', ' GAS STAINLESS STEEL COOKTOP', ' Walk-in Robes', ' double garage', ' Off The Plan - Save Big $ Stamp Duty', ' Open carport Joinery: Timber', 'main road exposure', ' Secure Entry', ' Split Syst', ' Roller Shutters', 'Rumpus Room', ' Single Storey', ' Open Fireplace', 'Formal Lounge', ' Air conditioning', ' Art Deco Apartment', ' Laundry drying cupboard', ' Split System A', ' Opposite Park', ' Air Conditioning - Evaporative', ' RUMPUS', ' skylight', 'Timber Floorboards', 'Parquetry Floors', ' High side of road', ' Bu', 'Courtyard', ' Double Garage with Internal Access ', ' Walking Dist to Bus Stop', ' Backing onto a park', 'Gas cooking', 'Fireplace(s)', ' remote entry gate', ' BBQs', ' Electric gates front entry', ' Polished floorboards', 'Gas Ducted heating', ' Parquetry Floors', ' Study/Kids Retreat', 'Built-in storage', ' views', ' trains', ' parks', ' Outdoor Ent', ' Fireplace', 'Courtyard Garden', 'AFFORDABLE WITH AMAZING CITY VIEWS', '* great development site (STCA) *', ' Double Garage - Rear Access', ' Zoned Heating & Cooling', ' Marble gas fireplace', ' Remote', ' Ducted Air-conditioning', ' Large open apartment', ' Wood Heater', ' Close', ' bbq', ' tree lined quiet Street.', ' Reverse Cycle Heating & Cooling', ' secure entry', ' Garage Remote', ' House Garaging / carparking: Single lock-up', ' Studio with a kitchen', 'Dual Oven', ' Rumpus Room & Study & Bar', ' Close to comm', ' Built-in BBQ', ' R.O.W', ' Sought After Location', '  cooling', ' close to parklands', ' Corrugated Iron', ' Bonus Carport Accomodation', '* Development Site *  Plans & Permits *', 'Second Large Living Area', ' ROW', ' Landscaped Grounds', ' Split system air conditio', 'ducted vaccum', ' spa ensuite', ' wide driveway', ' Central Location', 'Ducked Heating', ' brick veneer', ' Separate Driveway', ' Dishwasher', 'Boat Mooring', ' shower facilities', ' Insect Screen', ' en-suite', ' Area Views', ' Fully Fen', ' Resident Barbeque Facilities', ' Separate Block - No Body Corporate', ' Reverse C', ' Covered Alfresco', ' E-Spring Water', ' Patio', ' Low maintenance', ' Reverse Cycle Heating/Cooling', ' Stone Bench-tops', ' One bedroom self contained unit', 'Split System', ' Gas Fireplace', 'Garden Shed', ' Home Office', ' shops and primary school', ' Apartment', ' Large block', ' Stove - Electric', ' Fitted mirrored wardrobes', ' Water Views', ' Evaporative Cooling', 'Garden', ' Double Glazing', ' O', ' G', ' Bath', ' Miele Appliances', 'solar panels', ' JUST BRING YOUR FURNITURE', ' Albert Park Lake Views', ' Solar Hot Water', ' Ducted Heating', ' Air C', ' Solar Heated Pool', ' bbq area', ' evaporative cooling', ' Ultra Modern', ' Retreat', 'Large Side Access Point', ' Balcony small', 'Period Home', ' Outhouse', ' d', ' Huge Deck', ' Greywater System', 'Outdoor spa', ' Attic', ' Large Driveway & Side Access Clearance for Boat/Truck or Caravan', ' pet friendly', ' Duplex/semi detach', ' Close to Bus/On Bus Route', '  Refrigerated Air Conditioning', ' Robes - Walk In', ' Above Ground Pool', ' quality finish', ' Potential Development (STCA)', ' In-ground Solar Heated Pool', 'Air-Conditioning', ' walk to all amenities', ' Open plan living', 'Shed', ' Built-in-robes', ' Living Areas', ' One Owner Home', 'RUMPUS', ' Clothe', ' great shopping within easy driving distance', ' Powder Room. High Ceilings.', ' Quality floorplan and renovation', ' Fenced', 'Secure Parking', ' Stone Benchtops To All Wet Areas', ' Gym & Billiard Room', 'Evaporative Cooling', ' world class resort facilities.', ' steam room.', ' Northern Golf Course', 'Sunroom', ' Close to transpor', ' Timeless design', ' Creative', ' Peace and quiet with the ultimate in convenience', ' Ducted Heat', ' Outdoor Workshop', ' Polished Boards', ' House House style: Federation', ' Separate Title - No Body Corporate', ' Theatre', ' Swimming Pool - Above Ground', ' A MUST SEE!!!', ' The ultimate teenage family home', ' Quality carpets', ' evap cooling', ' Large storage room', ' Huge stamp duty savings', ' Apartment Unit style: Highrise', ' No Easement on Block', ' Superb Location', ' Swimming Pool', ' Large Outdoor Pergola', ' Flat', ' Stone Benchtops', ' Quality Builder', ' Large stamp duty savings', ' Stone-tiled spa-bathrm', ' Master bedroom offering unique circular shower.', ' Large Double Garage with Rear Access', ' LAST REMAINING APARTMENT SETTLEMENT AUGUST', ' inside spa', ' Duct Heating', ' Walk to Heathmont/Ringwoo', ' Work Shop', ' Stylishly Presented', ' Walking Distance to Keilor Plains Train Station', 'Gymnasium', ' parkview', ' Solar Panels', ' Terrace', 'Next to Parklands', ' Free standing Main bedroom: Double', ' Double Car Garage', ' Lobby', ' clothesline', ' Water access', 'Study Nook', 'pergola', ' Established Garden', ' Recreation Room', ' Brand New', ' Extension', ' Walk In Robe', ' Separate Laundry', ' Polished Floor Boards', ' Floorboar', ' Close to transport/', 'Outdoor entertainment area', ' Rainwater Tank', 'Home office', ' The Ultimate Heritage Restoration', ' Robes - Built-In', ' Cellar', ' Built-In Wardrobes', ' Large Living Areas', ' Central Development Opportunity (STCA)', ' Kitchen/Meals', ' Reve', 'Guest ensuite', ' Rear Alfresco area', ' Outdoor Entertaining - Deck', 'Solar panels', ' Worksho', ' Captivating Mountain Views', ' Vacuum', ' Evap Cooling', ' roller shut', ' Townhouse House style: Contemporary Garaging / carparking: Double lock-up', ' Close to Plaza', ' Gas Ducted Heating', ' Beautiful Outdoor Living Area', 'Walk-In Wardrobe', ' Great Location', ' Garden Shed', ' Sprinkler system', ' Views', 'Balcony water views', ' Storage Area Under Stairs', ' Paved Entertaining', ' Electric Oven', ' Wood Fire', ' Prime Re-Development Opportunity (STCA)', ' Cable TV Access', ' Inground', ' Car Parking', ' Double storey', ' baltic pine floors', ' Upstairs living room retreat', 'Prime flat land', ' First Floor', 'Open Study', ' Resident building manager', ' B', ' Pergola', ' Building Security', ' front unit with fully landscaped garden', 'Alarm', ' Large Side Access Driveway', ' Double Garage', ' Timber floor', ' Electric Stove', ' swipe card', ' Polished Floors', ' Built in Bar', ' Dining', ' Close to transport', ' Boat mooring', 'Storage', ' ELECTRIC WALL MOUNTED HEATER', ' Built', ' Central Vacumm System', ' Fullty Fe', ' Rangehood and Pantry Workshop: Separate', ' GDH & split system A/C', ' Built in Wardrobes', ' Air-co', ' A', ' renovated', ' Tiles and Polished', ' Parking Space for Caravan', ' GAS HOTWATER. SECURE CAR SPACE ON TITLE.', ' NO BODY CORP', ' family', ' evap cool', ' Separate Side Access for Boat/Caravan/Truck', \" Caesarstone Kitchen B'top\", ' Patterned ceilings', ' Study', 'Wall furnace', ' Front Deck', ' sun blinds', ' Gas Heati', ' On Site Building Manager', 'Plus Study', 'Solar Pannels', ' built-in-robes', 'Slab Heating', ' Alfresco Area', ' Theatre R', ' Beautiful garden', ' outdoor kitchen sink', ' Apartment Flooring: Carpet', ' terrific freeway', ' Elevated Building Style', 'Pergola', ' Already updated', 'Generous Storage', ' Renovate', ' Spa', ' Washing Machine', ' Court Location', ' security windows', ' COMPLETE TURNKEY', ' Alfresco Sanctuary', '  Spa', ' ducted', ' Refrigerative cooling', ' Brand New ', ' COMPLETE ALL YOU HAVE TO DO IS MOVE IN', 'Access for a boat', ' BBQ Outdoor Entertaining Area & Conference Room', ' Rear Deck / Courtyard', ' Idyllic Property', ' Low Body Corp Fees', ' Apartment Locality: Close to shops', ' Instantaneous Hot Water', ' State of the art Features', ' * Plans & Permits Stamped/ Approved *', 'Timber Floor', ' Close to Parkland', ' Camera Survielance', ' short walk to mentone station', 'ROW', ' City Views', '  pool', 'roof top entertainment terrace', 'Cable Network', ' Broadband Internet Available', ' WIR', ' Ceiling Fans', ' Close to Westal Train Statio', 'Off Street Parking', ' duct hea', ' pool', ' Bathrooms with tubs', ' Large Landscaped Block', ' Front Landscaping +', ' Gazebo', ' Solid Construction', ' tram at door', ' Co', 'Drive Though Access', ' Walk-in Pantry', ' Timber Floor Boards', ' stone bench tops & storage', ' shed', ' Ensuite double shower', ' Federation Inspired', 'Spacious Court Yard', '  air-conditioner', ' Upstairs Loft Room', ' Secure Park', ' Childs Cubby House', ' Water Tank/s', ' Reverse-cycle Air Conditioning', ' North Facing', ' Curtains', ' Dishw', ' Decking', ' Hydro', ' Tram stop at front door', ' Close to southland', ' Split System', ' Use of Country Club facilities.', ' Separately Titled Corner Block. With More Land Than Most...', ' Sound System', ' Abundant off street parking & garaging', ' Oakhill  Estate', ' Close to Quality Schools', ' DUCTED HEATING REFRIGERATED COOLING', 'Corner Block', ' camera surveil', ' High Ceiling Throughout', ' Gas Heater', ' Close to community park', ' Spacious', ' Internal Laundry', ' Secure Par', ' New Dishwasher', ' SMEG kitchen appliances', ' Close to transport/s', ' ti', ' Vacuum System', 'theatre room', ' Close to Monash Medical Cent', ' Rosettes', ' Lake Views', ' Video Intercom', ' storage cage.', ' fully fenced', ' Other (Under construction)', ' Outdoor Spa', ' Affordable', 'Solar Panels', ' Remote shutters to windows', ' Polished Timber F', ' Plans and permits approved', '  gazebo', 'Polished Floor Boards', ' camera surveillance', ' JUST BRING YOUR FURNITURE!', ' Ideal For Tradesman', ' Self Contained Studio', 'Self Contained Bungalow', ' Ring Road and airport access', ' Rooftop Garden', ' brand new', ' Built In R', \" New Release from Developer's own Portfolio\", ' New Bamboo Flooring', ' walk', ' courtyard', ' Wraparound Veranda', 'Air Conditioning', ' Garage with Internal Access', ' Secure Parking', ' Polished floor boards', ' Security Lighting', ' quiet location', ' Floor', ' solar pane', ' Outdoor Entertaining', ' Spectacular Views', ' Polished Floorboards', ' Walk To Shops & Station...', ' Lock up garage with remote control door', ' Port Phillip Bay Views', 'Security Shutters', ' Multi-level Interior', 'Home Office', ' French Door', ' Storage Cage', ' New carpet', 'Rear Deck', ' Undercover Entertainment Ar', ' One Of a Kind', ' studio', ' Built-In Robes', ' Granny flat', 'Right of Way at Rear', ' Dual rental returns.', 'En-suite', ' freshly renovated', ' Storage cage', ' renovated kitchen', ' JG King Home', ' Highrise', ' Sep. bath', ' solar power', ' Electronic open/close steel pergola', 'Heating', ' adjacent park', ' CLOSE TO PARK', ' Picturesque waterfront position opposite heritage buildings', ' Walk to Bus & Haileybury', ' Auto Garage Door', ' Private roof-top terrace', ' Indoor Spa', ' Rich Finish Throughout ', ' Close to beach', ' Timber Floors Throughout', ' tuck pointing', ' Walk in Robes', 'STUDY', ' Wide Corridoors', ' Exceptional Entertaining', ' Built - In Wardrobes', ' Large Al Fresco', 'New Carpets', ' balcony', ' opposite catholic primary school', ' Walking distance to all local amenities', ' Electric panel heating', ' Curtain/Blinds', ' Pay TV Access', ' No easements', '   Powder Room', ' BBQ Outdoor Area', ' Polished Tim', 'In Ground Spa', ' Polished timber floors', ' Side Ac', ' Built-In-Wardrobes', 'Close to Schools', ' Timber floors', ' Opposite parkland', 'Zoned heating', 'Close to Transport', 'Workshop', '   Theatre Room', ' Storage Room', 'Bay Views', ' stone benches', 'Planning permit', ' Covered entertaining area', ' Air Conditioner', ' Solar Panel System', 'Pool', ' Floor Boards', ' Greenhouse', 'ducted heating', ' Gas hot water', ' Fully Fence', ' BRAND NEW', ' A MUST SEE!', ' Electric Heating', ' Security Access', ' Built-In-Robes', ' Walk-In-Robes', ' ENGLEHART  HOME', ' Storage Cage Included', ' ducted heating', ' Self Contained Bungalow', ' Inside Spa', ' CBD & airport amenities close by', 'single lock-up garage', ' Court', ' Freshly Painted', ' Stumps Concrete', ' Rumpus Room & Study Nook', ' WIRs', 'Property condition: Renovated', ' Bonus Extra storage cage', ' Walk in Robe', ' GREAT PRIMARY SCHOOL', ' Home Theatre', \" New release from the Developer's own portfolio!\", ' Ducted Vacuum', ' Separate sunroom', 'Large Block', ' Gas hot water service', ' side', ' Fully fenced', 'BRAND NEW', ' Split system cooling', ' Granite Stone Kitchen', ' Intercom System', ' Rumpus Room', 'side ccess', ' Airconditioner', ' tessellated tiles', ' Water Ta', 'Intercom', ' Workshop', ' Modern kitchen.', ' Restaurant', ' Cable TV', ' Fully Fenced Yard', ' Transport at front door', ' Quality Sandstone Paving', ' Cooking-gas', ' Close to schools', ' Etihad stadium and city views', ' Secur', ' Powder Room', ' Auto doors', ' Rumpus R', ' deck', ' Cinema', 'Timber Floors', ' Reverse Cyc', 'Rear Access', ' High quality finishes', ' Split-system Air Conditioning', ' Easement Free Block', ' National Broadband Network is available for subscription', ' easy access to City Link', ' Alarm/Security System', ' Rumpus', \" Balance of Builder's Warranty\", ' Apartment House style: Other (Under construction)', 'Rear Alfresco', ' Across the road to Bus Stop', 'transport', ' Gas Cooking', ' Hot Water Service', 'Tennis Court', ' Refrigerated Air Conditioning', ' Heating/Aircon', ' Secluded common area courtyard', ' Property condition: Excellent', ' Close to Monash Medical Centre', '  Pergola', ' Court Yard', ' Development Potential', ' Clinker Bricks', ' Stainless Steel Appliances', ' BBQ Area', ' Hydronic floor heating', ' Re', '  walk in robes', ' Private Court', '   Wir', ' Cottage', ' Simply Stunning w/ Double Garage', ' Established Gardens', ' Drive Through Access', ' Modern and Open plan', ' Dockland & Train yard views', 'Air conditioning', ' Ducted heating & vacuum', ' Allocated storage', ' Ducted Gas Heating', ' easy access to highway', ' letterbox + so much more', 'Large courtyard', ' Open Study', ' Skylight', ' Under House Storage', ' Wine Cellar', ' City Fringe Investment', ' Claw Foot Bath', ' Alarm System', ' Split System AirCon', ' video intercom', ' NBN high speed internet', ' large garage/workshop', ' Split System AirCo', ' terrace', 'Fully Fenced', ' Turn Key Finish', ' Split System Air', ' Enviro friendly home', ' Kitchen - Timber', ' wall aircon', ' Eco Friendly Water Tank', 'excellent location', ' Undercover Entertainment Area', ' Outdoo', ' Secure Pa', 'Bungalow', ' Street Facing Corner Property', 'Communal Laundry facilities', ' Cathedral Ceiling Sunroom', ' garden', ' TV Antenna', 'Plus Study!', ' Separate laundry', ' Penthouse', ' Study/Retreat', ' Water frontage', 'parking', '  secure', ' Beautiful Location', ' Close To All Amenities', ' Private Access Balcony', ' Reverse Cycle Air-conditioning', ' Split Sy', ' Alfresco pergola deck', 'Gas Ducted Heating', 'Storage cage', ' Quiet Location', ' Close to public transport', ' Pet Friendly', ' Quality Appliances', ' modern kitchen', ' Full Concierge', ' One Bedroom Apartment', ' Gas Stove', '  Study', ' Meals Area', 'Refridgerated Cooling', ' Quality and luxury modern home Set in a parkl', ' Private Schools Zone', ' Period Home', ' duct heating', ' decking', 'Close to schools', ' ready to move in.', 'Fantastic location', ' separate title', ' Air Conditioning', ' Large Garage with Rear Access', ' Brick', ' In-Door Swimming Pool', ' modern bathroom', ' Formal Lou', ' lift', 'Slate Roof', ' Excellent City Skyline views', ' Ducted Cooling', 'Central heating', ' Outside storage shed', ' Family Room', ' lounge', ' Large Block', ' exceptional fixtures', ' Street frontage', ' Shed', ' split system air con', ' Renovated Kitchen', ' cbus - smart wiring', 'Polished Timber Floor', ' Floating and Carpet', '  CELLAR', '  Downstairs powder room', ' Excellent', ' Gas Hot Water', ' Car Parking - Basement', ' Openable Windows', ' pay TV', ' dual rear access', ' Great Potential', 'Timber flooring', ' Close to Local Schools', ' Basement wine cellar', ' C', ' refrigerated cooling', ' Excellent Condition', ' Off street', ' Within Strathmore School Zone', 'Side Access to rear', ' A/c Unit', ' Drapes', ' Double Glazed Windows', ' SECURITY INTERCOM', '  Fernery', ' Immacualte Throughout', ' storage cage', ' Aall-white kitchen', ' Exhaust Fan', ' Spotless Presentation', ' Period Characteristics', ' Built in BBQ', ' Large Land Area', ' Outdoor entertainment area', ' Secure Car space', 'Refrigerated Cooling', ' Renovated', ' Built in robes', ' Security System', ' Solar Electricity', ' Garden', ' MUST SEE HOME', ' outdoor underc', ' very clean presentation', ' powder room', ' solar heated pool', ' Timber Flooring', ' Walk to schools', ' Hydronic heating', ' New timber floating floor', ' Storage Gage', ' F', ' No Body Corp', 'Spa', ' level lawn', ' Self-contained accommodation', ' bath', ' Kitchen - Laminex', ' Heating', ' Wide Side Access Driveway', ' opposite parklands and tennis court', ' The public area also offers a study station and the NEW entertainment room includes a wide screen Tv', ' Ocean views', ' Central Vacuum System', ' Polished Timber Floors', '  Alarm system', 'Ducted Gas Heating', ' Multi-cars accomodation', ' Well Tended Gardens', ' High Decorative Ceilings', ' Cinema Room', ' Garden She', ' Heating/Cooling', ' BIR', ' Ducted vacuum', ' New Carpets', ' Feature electric fireplace', ' Built In Rob', ' massive land allotment', ' Formal Lounge', ' Level', 'Solar roof panels', ' Studio', ' Wine Cellar Under House', ' Bathtub', ' Reverse', ' Ideal for Inground Pool', ' Formal Dining Room', ' Vermont Primary School zone', ' and World class facilities.', 'Great posistion', 'Four Car Garage', ' Woodfire Heater', ' Prestige Homes', ' Reverse Cycle A/C', ' Gas cooking', 'Heater', ' Flo', ' Parkland nearby', ' Lease Contract with Estate', ' Secure P', ' Remote Gates', ' security camera surveillance', 'Car Space', ' S', 'Separate Dining', ' Stunning Makeover', ' Close to shops', ' Project', ' Fixed Floor coverings', ' Fully Renovated Family Home', ' Carspac', ' Ideal Investment', ' Panel Heating', ' Study Area', ' Stainless Steel Ap', ' Access to Skyline Club', ' Timber Blinds', ' Duplex', 'Tennis court', ' Separate toilet to ensuite', ' Dishwash', ' Air Conditioning - Refridgerated', ' Yarra River Views', ' Separate Lounge & Rumpus', ' Rear Access through Garage', 'Fujitsu Split System Air Conditioner', 'Balcony', ' Development Potential STCA', ' Built I', ' Shed/Workshop', ' Stylishly Renovated', 'Ducted heating', ' Wine Storage', ' Laundry', ' D', ' Rear Carport', ' ensuite', ' Huge living spaces', ' Access to Gym', ' SELF CLEANING POOL', ' Close to Mona', 'Square set cornices', ' Intercom', ' Terracotta Roof Tiles', ' Fully Automated Awning', ' zoned heating and cooling', ' remote control blinds', ' Close to Tram Line', ' Period Charm', ' Garage with Rear Access', ' Powder room', ' SMEG appliances', 'Study', ' separate dining room', ' Automated Sprinkler System', 'Powder Room', ' Property condition: Fair', ' Internal A', ' City views', 'down lights', ' potential for two small parking spots', 'Deck', ' Close to transport/shops/school/park', ' Internal', 'Reception', ' I', 'Ornate Cornices', ' Built In Robe', ' Secure entry', 'Common Lounge w Foxtel TV', ' Huge allotment', ' Car space', 'Attic Storage', ' Townhouse', ' Cou', ' great views', ' R', ' Theatre Room with Equipment', ' * Huge Stamp Duty Savings *', ' Buy to Own the Dwelling', ' GAS HOTWATER', ' S/S app & granite kitchen', ' Loung', ' landscaped gardens', 'Marble Fireplace', ' Courtya', ' Master bed on ground floor.', ' OUR FEATURES LIST GOES ON!!!!!!', ' Reverse cycle cooling', ' Outdoor Ent.', ' Sunroom', ' Fully Landscaped Gardens', ' Two-Pack Kitchen', ' Custom Outdoor Pergola with Deck', ' Tiles throughout', ' sliding robe doors', ' Street Frontage', 'Gym', ' Carpeted', ' Fully enclosed front yard'}\n"
     ]
    }
   ],
   "source": [
    "print(feature_set)"
   ]
  },
  {
   "cell_type": "code",
   "execution_count": 20,
   "id": "35e3a2a2",
   "metadata": {},
   "outputs": [],
   "source": [
    "feat_count = dict.fromkeys(feature_set, 0)\n",
    "for row in feature_df.itertuples():\n",
    "    for x in row[2]:\n",
    "        if x in feature_set:\n",
    "            feat_count[x] += 1"
   ]
  },
  {
   "cell_type": "code",
   "execution_count": 21,
   "id": "7ee0299b",
   "metadata": {},
   "outputs": [],
   "source": [
    "feat_count_df = pd.DataFrame.from_dict(feat_count,'index')"
   ]
  },
  {
   "cell_type": "code",
   "execution_count": 22,
   "id": "d8e2197b",
   "metadata": {},
   "outputs": [],
   "source": [
    "feat_count_df.reset_index(inplace=True)"
   ]
  },
  {
   "cell_type": "code",
   "execution_count": 23,
   "id": "bb09d500",
   "metadata": {},
   "outputs": [
    {
     "data": {
      "application/vnd.microsoft.datawrangler.viewer.v0+json": {
       "columns": [
        {
         "name": "index",
         "rawType": "int64",
         "type": "integer"
        },
        {
         "name": "feature",
         "rawType": "object",
         "type": "string"
        },
        {
         "name": "count",
         "rawType": "int64",
         "type": "integer"
        }
       ],
       "conversionMethod": "pd.DataFrame",
       "ref": "30ffd77e-42b3-4780-8dc1-1c457f196ac3",
       "rows": [
        [
         "0",
         "",
         "983"
        ],
        [
         "1",
         " STUDY",
         "9"
        ],
        [
         "2",
         " Gas fireplace",
         "1"
        ],
        [
         "3",
         " Extras are sun blinds",
         "1"
        ],
        [
         "4",
         " Stu",
         "2"
        ]
       ],
       "shape": {
        "columns": 2,
        "rows": 5
       }
      },
      "text/html": [
       "<div>\n",
       "<style scoped>\n",
       "    .dataframe tbody tr th:only-of-type {\n",
       "        vertical-align: middle;\n",
       "    }\n",
       "\n",
       "    .dataframe tbody tr th {\n",
       "        vertical-align: top;\n",
       "    }\n",
       "\n",
       "    .dataframe thead th {\n",
       "        text-align: right;\n",
       "    }\n",
       "</style>\n",
       "<table border=\"1\" class=\"dataframe\">\n",
       "  <thead>\n",
       "    <tr style=\"text-align: right;\">\n",
       "      <th></th>\n",
       "      <th>feature</th>\n",
       "      <th>count</th>\n",
       "    </tr>\n",
       "  </thead>\n",
       "  <tbody>\n",
       "    <tr>\n",
       "      <th>0</th>\n",
       "      <td></td>\n",
       "      <td>983</td>\n",
       "    </tr>\n",
       "    <tr>\n",
       "      <th>1</th>\n",
       "      <td>STUDY</td>\n",
       "      <td>9</td>\n",
       "    </tr>\n",
       "    <tr>\n",
       "      <th>2</th>\n",
       "      <td>Gas fireplace</td>\n",
       "      <td>1</td>\n",
       "    </tr>\n",
       "    <tr>\n",
       "      <th>3</th>\n",
       "      <td>Extras are sun blinds</td>\n",
       "      <td>1</td>\n",
       "    </tr>\n",
       "    <tr>\n",
       "      <th>4</th>\n",
       "      <td>Stu</td>\n",
       "      <td>2</td>\n",
       "    </tr>\n",
       "  </tbody>\n",
       "</table>\n",
       "</div>"
      ],
      "text/plain": [
       "                  feature  count\n",
       "0                            983\n",
       "1                   STUDY      9\n",
       "2           Gas fireplace      1\n",
       "3   Extras are sun blinds      1\n",
       "4                     Stu      2"
      ]
     },
     "execution_count": 23,
     "metadata": {},
     "output_type": "execute_result"
    }
   ],
   "source": [
    "columns = ['feature','count']\n",
    "feat_count_df.columns = columns\n",
    "feat_count_df.head()"
   ]
  },
  {
   "cell_type": "code",
   "execution_count": 24,
   "id": "23ea1237",
   "metadata": {},
   "outputs": [],
   "source": [
    "feat_count_df.sort_values(by='count',inplace=True,ascending=False)"
   ]
  },
  {
   "cell_type": "code",
   "execution_count": 25,
   "id": "757a242c",
   "metadata": {},
   "outputs": [
    {
     "data": {
      "application/vnd.microsoft.datawrangler.viewer.v0+json": {
       "columns": [
        {
         "name": "index",
         "rawType": "int64",
         "type": "integer"
        },
        {
         "name": "feature",
         "rawType": "object",
         "type": "string"
        },
        {
         "name": "count",
         "rawType": "int64",
         "type": "integer"
        }
       ],
       "conversionMethod": "pd.DataFrame",
       "ref": "fda524be-92fc-49f3-8f4a-0a99389f3c72",
       "rows": [
        [
         "291",
         ";",
         "52322"
        ],
        [
         "279",
         " Built-in Wardrobes",
         "7785"
        ],
        [
         "1581",
         " Air Conditioning",
         "7689"
        ],
        [
         "165",
         "Close to Shops",
         "5263"
        ],
        [
         "1397",
         "Close to Transport",
         "5217"
        ]
       ],
       "shape": {
        "columns": 2,
        "rows": 5
       }
      },
      "text/html": [
       "<div>\n",
       "<style scoped>\n",
       "    .dataframe tbody tr th:only-of-type {\n",
       "        vertical-align: middle;\n",
       "    }\n",
       "\n",
       "    .dataframe tbody tr th {\n",
       "        vertical-align: top;\n",
       "    }\n",
       "\n",
       "    .dataframe thead th {\n",
       "        text-align: right;\n",
       "    }\n",
       "</style>\n",
       "<table border=\"1\" class=\"dataframe\">\n",
       "  <thead>\n",
       "    <tr style=\"text-align: right;\">\n",
       "      <th></th>\n",
       "      <th>feature</th>\n",
       "      <th>count</th>\n",
       "    </tr>\n",
       "  </thead>\n",
       "  <tbody>\n",
       "    <tr>\n",
       "      <th>291</th>\n",
       "      <td>;</td>\n",
       "      <td>52322</td>\n",
       "    </tr>\n",
       "    <tr>\n",
       "      <th>279</th>\n",
       "      <td>Built-in Wardrobes</td>\n",
       "      <td>7785</td>\n",
       "    </tr>\n",
       "    <tr>\n",
       "      <th>1581</th>\n",
       "      <td>Air Conditioning</td>\n",
       "      <td>7689</td>\n",
       "    </tr>\n",
       "    <tr>\n",
       "      <th>165</th>\n",
       "      <td>Close to Shops</td>\n",
       "      <td>5263</td>\n",
       "    </tr>\n",
       "    <tr>\n",
       "      <th>1397</th>\n",
       "      <td>Close to Transport</td>\n",
       "      <td>5217</td>\n",
       "    </tr>\n",
       "  </tbody>\n",
       "</table>\n",
       "</div>"
      ],
      "text/plain": [
       "                  feature  count\n",
       "291                     ;  52322\n",
       "279    Built-in Wardrobes   7785\n",
       "1581     Air Conditioning   7689\n",
       "165        Close to Shops   5263\n",
       "1397   Close to Transport   5217"
      ]
     },
     "execution_count": 25,
     "metadata": {},
     "output_type": "execute_result"
    }
   ],
   "source": [
    "feat_count_df.head()"
   ]
  },
  {
   "cell_type": "code",
   "execution_count": 26,
   "id": "2c0c34c8",
   "metadata": {},
   "outputs": [],
   "source": [
    "feat_count_df = feat_count_df.iloc[1::]"
   ]
  },
  {
   "cell_type": "code",
   "execution_count": 27,
   "id": "0087a324",
   "metadata": {},
   "outputs": [
    {
     "data": {
      "application/vnd.microsoft.datawrangler.viewer.v0+json": {
       "columns": [
        {
         "name": "index",
         "rawType": "int64",
         "type": "integer"
        },
        {
         "name": "feature",
         "rawType": "object",
         "type": "string"
        },
        {
         "name": "count",
         "rawType": "int64",
         "type": "integer"
        }
       ],
       "conversionMethod": "pd.DataFrame",
       "ref": "790bb1b0-4614-4fea-9be6-0679a1122955",
       "rows": [
        [
         "279",
         " Built-in Wardrobes",
         "7785"
        ],
        [
         "1581",
         " Air Conditioning",
         "7689"
        ],
        [
         "165",
         "Close to Shops",
         "5263"
        ],
        [
         "1397",
         "Close to Transport",
         "5217"
        ],
        [
         "1003",
         " Ducted Heating",
         "5214"
        ]
       ],
       "shape": {
        "columns": 2,
        "rows": 5
       }
      },
      "text/html": [
       "<div>\n",
       "<style scoped>\n",
       "    .dataframe tbody tr th:only-of-type {\n",
       "        vertical-align: middle;\n",
       "    }\n",
       "\n",
       "    .dataframe tbody tr th {\n",
       "        vertical-align: top;\n",
       "    }\n",
       "\n",
       "    .dataframe thead th {\n",
       "        text-align: right;\n",
       "    }\n",
       "</style>\n",
       "<table border=\"1\" class=\"dataframe\">\n",
       "  <thead>\n",
       "    <tr style=\"text-align: right;\">\n",
       "      <th></th>\n",
       "      <th>feature</th>\n",
       "      <th>count</th>\n",
       "    </tr>\n",
       "  </thead>\n",
       "  <tbody>\n",
       "    <tr>\n",
       "      <th>279</th>\n",
       "      <td>Built-in Wardrobes</td>\n",
       "      <td>7785</td>\n",
       "    </tr>\n",
       "    <tr>\n",
       "      <th>1581</th>\n",
       "      <td>Air Conditioning</td>\n",
       "      <td>7689</td>\n",
       "    </tr>\n",
       "    <tr>\n",
       "      <th>165</th>\n",
       "      <td>Close to Shops</td>\n",
       "      <td>5263</td>\n",
       "    </tr>\n",
       "    <tr>\n",
       "      <th>1397</th>\n",
       "      <td>Close to Transport</td>\n",
       "      <td>5217</td>\n",
       "    </tr>\n",
       "    <tr>\n",
       "      <th>1003</th>\n",
       "      <td>Ducted Heating</td>\n",
       "      <td>5214</td>\n",
       "    </tr>\n",
       "  </tbody>\n",
       "</table>\n",
       "</div>"
      ],
      "text/plain": [
       "                  feature  count\n",
       "279    Built-in Wardrobes   7785\n",
       "1581     Air Conditioning   7689\n",
       "165        Close to Shops   5263\n",
       "1397   Close to Transport   5217\n",
       "1003       Ducted Heating   5214"
      ]
     },
     "execution_count": 27,
     "metadata": {},
     "output_type": "execute_result"
    }
   ],
   "source": [
    "feat_count_df.head()"
   ]
  },
  {
   "cell_type": "code",
   "execution_count": 28,
   "id": "3785dce4",
   "metadata": {},
   "outputs": [
    {
     "data": {
      "text/plain": [
       "feature    1802\n",
       "count      1802\n",
       "dtype: int64"
      ]
     },
     "execution_count": 28,
     "metadata": {},
     "output_type": "execute_result"
    }
   ],
   "source": [
    "feat_count_df.count()"
   ]
  },
  {
   "cell_type": "code",
   "execution_count": 29,
   "id": "694e60c8",
   "metadata": {},
   "outputs": [],
   "source": [
    "feat_count_df = feat_count_df.query(\"count > 1\")"
   ]
  },
  {
   "cell_type": "code",
   "execution_count": 30,
   "id": "64cbf5cd",
   "metadata": {},
   "outputs": [
    {
     "data": {
      "text/plain": [
       "feature    596\n",
       "count      596\n",
       "dtype: int64"
      ]
     },
     "execution_count": 30,
     "metadata": {},
     "output_type": "execute_result"
    }
   ],
   "source": [
    "feat_count_df.count()"
   ]
  },
  {
   "cell_type": "code",
   "execution_count": 31,
   "id": "a3134b1f",
   "metadata": {},
   "outputs": [
    {
     "name": "stderr",
     "output_type": "stream",
     "text": [
      "C:\\Users\\OGgol\\AppData\\Local\\Temp\\ipykernel_11688\\2067090333.py:3: FutureWarning: Series.__getitem__ treating keys as positions is deprecated. In a future version, integer keys will always be treated as labels (consistent with DataFrame behavior). To access a value by position, use `ser.iloc[pos]`\n",
      "  key = feat_count_df.iloc[x][0]\n"
     ]
    }
   ],
   "source": [
    "feature_set = set()\n",
    "for x in range(feat_count_df.shape[0]):\n",
    "   key = feat_count_df.iloc[x][0]\n",
    "   feature_set.add(key.lower())"
   ]
  },
  {
   "cell_type": "code",
   "execution_count": 32,
   "id": "f11c494c",
   "metadata": {},
   "outputs": [
    {
     "data": {
      "text/plain": [
       "{'',\n",
       " '  cooling',\n",
       " '  dishwasher',\n",
       " '  ducted heating',\n",
       " '  spa',\n",
       " '  storage cage',\n",
       " ' above ground pool',\n",
       " ' above-ground pool',\n",
       " ' air conditioner',\n",
       " ' air conditioning',\n",
       " ' air conditioning - evaporative',\n",
       " ' air conditioning - refridgerated',\n",
       " ' air-conditioning',\n",
       " ' airconditioner',\n",
       " ' airconditioning',\n",
       " ' alarm',\n",
       " ' alarm system',\n",
       " ' alarm/security system',\n",
       " ' alfresco',\n",
       " ' alfresco area',\n",
       " ' apartment',\n",
       " ' apartment unit style: highrise',\n",
       " ' apartment unit style: lowrise garaging / carparking: off street',\n",
       " ' area views',\n",
       " ' art deco apartment',\n",
       " ' attic',\n",
       " ' auto doors',\n",
       " ' auto garage door',\n",
       " ' automated sprinkler system',\n",
       " ' balcony',\n",
       " ' balcony large',\n",
       " ' balcony small',\n",
       " ' balcony/patio/terrace',\n",
       " ' barbecue',\n",
       " ' basement',\n",
       " ' bath',\n",
       " ' bbq',\n",
       " ' bbq area',\n",
       " ' bir',\n",
       " \" bir's\",\n",
       " ' blinds',\n",
       " ' block of units',\n",
       " ' brand new',\n",
       " ' broadband',\n",
       " ' broadband internet available',\n",
       " ' bu',\n",
       " ' bui',\n",
       " ' buil',\n",
       " ' building security',\n",
       " ' built',\n",
       " ' built i',\n",
       " ' built in',\n",
       " ' built in bbq',\n",
       " ' built in r',\n",
       " ' built in ro',\n",
       " ' built in rob',\n",
       " ' built in robe',\n",
       " ' built in robes',\n",
       " ' built in wardrobes',\n",
       " ' built in watering',\n",
       " ' built-in bbq',\n",
       " ' built-in robes',\n",
       " ' built-in wardrobes',\n",
       " ' built-in watering',\n",
       " ' built-in-robes',\n",
       " ' built-in-wardrobes',\n",
       " ' bungalo',\n",
       " ' bungalow',\n",
       " ' cable tv access',\n",
       " ' caesarstone benchtops',\n",
       " \" caesarstone kitchen b'top\",\n",
       " ' car parking - basement',\n",
       " ' car parking - surface',\n",
       " ' carpeted',\n",
       " ' carport',\n",
       " ' carspace off street',\n",
       " ' ceiling fan',\n",
       " ' ceiling fans',\n",
       " ' cellar',\n",
       " ' central heating',\n",
       " ' central heating and cooling',\n",
       " ' central location',\n",
       " ' central vacuum system',\n",
       " ' city views',\n",
       " ' clos',\n",
       " ' close',\n",
       " ' close to beach',\n",
       " ' close to bus services',\n",
       " ' close to bus/on bus route',\n",
       " ' close to clayton central shops',\n",
       " ' close to clayton train station',\n",
       " ' close to comm',\n",
       " ' close to community park',\n",
       " ' close to local schools',\n",
       " ' close to monash medical centre',\n",
       " ' close to monash uni',\n",
       " ' close to parklands',\n",
       " ' close to schools',\n",
       " ' close to shops',\n",
       " ' close to shops/school/park',\n",
       " ' close to transpor',\n",
       " ' close to transport',\n",
       " ' close to transport/',\n",
       " ' close to transport/s',\n",
       " ' close to transport/shops/school',\n",
       " ' close to transport/shops/school/',\n",
       " ' close to transport/shops/school/p',\n",
       " ' close to transport/shops/school/pa',\n",
       " ' close to transport/shops/school/park',\n",
       " ' close to transport/shops/school/park/cbd',\n",
       " ' clothes line',\n",
       " ' clothesline',\n",
       " ' colorbond roof',\n",
       " ' complete just move in!',\n",
       " ' complete turnkey',\n",
       " ' concierge/manager',\n",
       " ' cooling',\n",
       " ' corner block',\n",
       " ' corrugated iron',\n",
       " ' court yard',\n",
       " ' courty',\n",
       " ' courtya',\n",
       " ' courtyard',\n",
       " ' creative',\n",
       " ' curtain/blinds',\n",
       " ' curtains',\n",
       " ' d/washer',\n",
       " ' dam',\n",
       " ' deck',\n",
       " ' decking',\n",
       " ' development potential stca',\n",
       " ' dining room',\n",
       " ' dishwasher',\n",
       " ' district views',\n",
       " ' double garage',\n",
       " ' double lock-up',\n",
       " ' driveway',\n",
       " ' duct heat',\n",
       " ' ducted air-conditioning',\n",
       " ' ducted cooling',\n",
       " ' ducted gas heating',\n",
       " ' ducted heating',\n",
       " ' ducted vacuum',\n",
       " ' ducted vacuum system',\n",
       " ' duplex/semi detach',\n",
       " ' electric heating',\n",
       " ' ensuite',\n",
       " ' established gardens',\n",
       " ' european laundry',\n",
       " ' evap cool',\n",
       " ' evap cooling',\n",
       " ' evaporative cooling',\n",
       " ' exhaust fan',\n",
       " ' f',\n",
       " ' family',\n",
       " ' family room',\n",
       " ' fenced',\n",
       " ' fenced back yar',\n",
       " ' fenced back yard',\n",
       " ' fireplace',\n",
       " ' fireplace(s)',\n",
       " ' fixed floor coverings',\n",
       " ' fl',\n",
       " ' flat',\n",
       " ' flo',\n",
       " ' floo',\n",
       " ' floorboa',\n",
       " ' floorboards',\n",
       " ' formal dining',\n",
       " ' formal dining room',\n",
       " ' formal lounge',\n",
       " ' freshly painted',\n",
       " ' front landscaping +',\n",
       " ' full concierge',\n",
       " ' full ensuite',\n",
       " ' fullty fenced',\n",
       " ' fully fenc',\n",
       " ' fully fenced',\n",
       " ' fully fenced yard',\n",
       " ' furnished',\n",
       " ' garage - remote control',\n",
       " ' garage with internal access',\n",
       " ' garden',\n",
       " ' garden she',\n",
       " ' garden shed',\n",
       " ' garden watering system',\n",
       " ' gas',\n",
       " ' gas cooking',\n",
       " ' gas ducted heating',\n",
       " ' gas heater',\n",
       " ' gas heating',\n",
       " ' gas hot water',\n",
       " ' gas hot water service',\n",
       " ' gas stainless steel cooktop',\n",
       " ' gas stove',\n",
       " ' granny flat',\n",
       " ' great location',\n",
       " ' great potential',\n",
       " ' greenhouse',\n",
       " ' greywater system',\n",
       " ' gym',\n",
       " ' heating',\n",
       " ' heating/cooling',\n",
       " ' high ceiling',\n",
       " ' high ceilings',\n",
       " ' high ceilings throughout',\n",
       " ' high clearance',\n",
       " ' home office',\n",
       " ' home theatre',\n",
       " ' hot water service',\n",
       " ' house',\n",
       " ' house alarm',\n",
       " ' house garaging / carparking: open carport',\n",
       " ' house garaging / carparking: single lock-up',\n",
       " ' house house style: contemporary',\n",
       " ' house house style: federation',\n",
       " ' hydronic heating',\n",
       " ' ig pool',\n",
       " ' in-ground pool',\n",
       " ' in-ground pool (heated)',\n",
       " ' indoor entertainment area',\n",
       " ' indoor spa',\n",
       " ' inground pool',\n",
       " ' insect screen',\n",
       " ' inside spa',\n",
       " ' intercom',\n",
       " ' intercom system',\n",
       " ' internal a',\n",
       " ' internal laundry',\n",
       " ' jetty',\n",
       " ' just bring your furniture!',\n",
       " ' kitchen - laminex',\n",
       " ' kitchen/meals',\n",
       " ' land',\n",
       " ' landscaped gardens',\n",
       " ' landscaped grounds',\n",
       " ' landscaping',\n",
       " ' large block',\n",
       " ' large living areas',\n",
       " ' large outdoor pergola',\n",
       " ' large side access driveway',\n",
       " ' letterbox + so much more',\n",
       " ' level lawn',\n",
       " ' lift',\n",
       " ' light fittings',\n",
       " ' living areas',\n",
       " ' location',\n",
       " ' lock up garage',\n",
       " ' loung',\n",
       " ' lounge',\n",
       " ' low maintenance',\n",
       " ' master bedroom offering unique circular shower.',\n",
       " ' meals area',\n",
       " ' modern bathroom',\n",
       " ' modern kitchen',\n",
       " ' multi story',\n",
       " ' near waterfront',\n",
       " ' no body corp',\n",
       " ' ocean views',\n",
       " ' off street',\n",
       " ' off street parking',\n",
       " ' on site building manager',\n",
       " ' open fire place',\n",
       " ' open fireplace',\n",
       " ' open floor plan',\n",
       " ' open plan',\n",
       " ' open plan living',\n",
       " ' openable windows',\n",
       " ' outdoor ent.',\n",
       " ' outdoor entertaining area',\n",
       " ' outdoor entertainment',\n",
       " ' outdoor entertainment area',\n",
       " ' outdoor living',\n",
       " ' outdoor spa',\n",
       " ' outside spa',\n",
       " ' panel heating',\n",
       " ' parents/childrens retreat',\n",
       " ' patio',\n",
       " ' pay tv access',\n",
       " ' pergola',\n",
       " ' period apartment',\n",
       " ' period features',\n",
       " ' period home',\n",
       " ' pet friendly',\n",
       " ' pol. timber floors',\n",
       " ' polished floor boards',\n",
       " ' polished floorboards',\n",
       " ' polished floors',\n",
       " ' polished timber floor',\n",
       " ' polished timber floors',\n",
       " ' pool',\n",
       " ' powder room',\n",
       " ' prestige homes',\n",
       " ' property condition: excellent',\n",
       " ' property condition: renovated',\n",
       " ' property condition: renovator',\n",
       " ' quiet location',\n",
       " ' r/c split system',\n",
       " ' range hood',\n",
       " ' rangehood',\n",
       " ' ref cooling (duct)',\n",
       " ' refrigerated cooling',\n",
       " ' remote garage',\n",
       " ' remote garage door',\n",
       " ' remote garage opener',\n",
       " ' renovated',\n",
       " ' renovated bathroom',\n",
       " ' renovated kitchen',\n",
       " ' resident barbeque facilities',\n",
       " ' resident building manager',\n",
       " ' restaurant',\n",
       " ' reve',\n",
       " ' reverse cycle a',\n",
       " ' reverse cycle aircon',\n",
       " ' reverse cycle heating',\n",
       " ' reverse cycle heating & cooling',\n",
       " ' reverse-cycle air conditioning',\n",
       " ' ring road and airport access',\n",
       " ' robes - built-in',\n",
       " ' roller door access',\n",
       " ' roller shutters',\n",
       " ' roof tile',\n",
       " ' row',\n",
       " ' row at rear',\n",
       " ' rumpus',\n",
       " ' rumpus room',\n",
       " ' rumpus/study',\n",
       " ' s',\n",
       " ' s.steel kitchen appliances',\n",
       " ' safe',\n",
       " ' sauna',\n",
       " ' se',\n",
       " ' secu',\n",
       " ' secure entry',\n",
       " ' secure p',\n",
       " ' secure par',\n",
       " ' secure parking',\n",
       " ' security access',\n",
       " ' security entrance',\n",
       " ' security gate',\n",
       " ' security lighting',\n",
       " ' security lights',\n",
       " ' security shutters',\n",
       " ' security system',\n",
       " ' self contained bungalow',\n",
       " ' self-contained accommodation',\n",
       " ' separate dining',\n",
       " ' separate dining room',\n",
       " ' separate driveway',\n",
       " ' separate laundry',\n",
       " ' shed',\n",
       " ' shed/workshop',\n",
       " ' shops and schools',\n",
       " ' shower facilities',\n",
       " ' side',\n",
       " ' side access',\n",
       " ' skylight',\n",
       " ' slab heating',\n",
       " ' sliding robe doors',\n",
       " ' smeg appliances',\n",
       " ' smeg kitchen appliances',\n",
       " ' solar hot water',\n",
       " ' solar hot water system',\n",
       " ' solar panels',\n",
       " ' south side location',\n",
       " ' spa',\n",
       " ' spa ensuite',\n",
       " ' split s',\n",
       " ' split sy',\n",
       " ' split syste',\n",
       " ' split system',\n",
       " ' split system a',\n",
       " ' split system air',\n",
       " ' split system aircon',\n",
       " ' split system cooling',\n",
       " ' split system heating',\n",
       " ' split system heating & air conditioning',\n",
       " ' split systems',\n",
       " ' split-system air conditioning',\n",
       " ' split-system air-conditioning',\n",
       " ' split-system heating',\n",
       " ' stainless steel appliances',\n",
       " ' stone benches',\n",
       " ' storage',\n",
       " ' storage area',\n",
       " ' storage cage',\n",
       " ' stove - gas',\n",
       " ' street facing',\n",
       " ' street frontage',\n",
       " ' stu',\n",
       " ' studio',\n",
       " ' study',\n",
       " ' study nook',\n",
       " ' sunroom',\n",
       " ' swimming pool',\n",
       " ' swimming pool - above ground',\n",
       " ' swimming pool - inground',\n",
       " ' swipe card',\n",
       " ' tennis court',\n",
       " ' terrace',\n",
       " ' terrace/balcony',\n",
       " ' terrace/paved',\n",
       " ' the ultimate heritage restoration',\n",
       " ' timber floorboards',\n",
       " ' timber flooring',\n",
       " ' toilet facilities',\n",
       " ' townhouse',\n",
       " ' townhouse house style: contemporary',\n",
       " ' turn key! just move in',\n",
       " ' tv antenna',\n",
       " ' under house storage',\n",
       " ' undercover entertainment area',\n",
       " ' undercover outdoor area',\n",
       " ' unit',\n",
       " ' vacuum system',\n",
       " ' valley views',\n",
       " ' verandah',\n",
       " ' views',\n",
       " ' walk in robe',\n",
       " ' walk in robes',\n",
       " ' walk-in robes',\n",
       " ' walk-in-robes',\n",
       " ' washing machine',\n",
       " ' water access',\n",
       " ' water frontage',\n",
       " ' water ta',\n",
       " ' water tank',\n",
       " ' water tank/s',\n",
       " ' water views',\n",
       " ' watering system',\n",
       " ' wir',\n",
       " ' wirs',\n",
       " ' wood fire',\n",
       " ' wood heater',\n",
       " ' workshop',\n",
       " 'air conditioning',\n",
       " 'air-conditioning',\n",
       " 'alarm',\n",
       " 'alarm/security system',\n",
       " 'alfresco',\n",
       " 'balcony',\n",
       " 'boat mooring',\n",
       " 'brand new',\n",
       " 'built in robes',\n",
       " 'built-in wardrobes',\n",
       " 'bungalow',\n",
       " 'carpeted',\n",
       " 'cellar',\n",
       " 'city views',\n",
       " 'close to bus services',\n",
       " 'close to schools',\n",
       " 'close to shops',\n",
       " 'close to transport',\n",
       " 'court location',\n",
       " 'courtyard',\n",
       " 'deck',\n",
       " 'dishwasher',\n",
       " 'ducted gas heating',\n",
       " 'ducted heating',\n",
       " 'ducted vacuum',\n",
       " 'en-suite',\n",
       " 'evaporative cooling',\n",
       " 'fireplace(s)',\n",
       " 'formal lounge',\n",
       " 'fully fenced',\n",
       " 'garden',\n",
       " 'gas ducted heating',\n",
       " 'gas heater',\n",
       " 'gas heating',\n",
       " 'gas stove',\n",
       " 'gymnasium',\n",
       " 'heating',\n",
       " 'heating/cooling',\n",
       " 'high ceilings',\n",
       " 'home office',\n",
       " 'hydronic heating',\n",
       " 'intercom',\n",
       " 'intercom system',\n",
       " 'new carpets',\n",
       " 'off street parking',\n",
       " 'outdoor entertaining area',\n",
       " 'pergola',\n",
       " 'polished timber floor',\n",
       " 'pool',\n",
       " 'property condition: excellent',\n",
       " 'property condition: renovated',\n",
       " 'refrigerated cooling',\n",
       " 'remote garage',\n",
       " 'riverbank position',\n",
       " 'row',\n",
       " 'row at rear',\n",
       " 'secure parking',\n",
       " 'separate dining',\n",
       " 'shed',\n",
       " 'slab heating',\n",
       " 'solar panels',\n",
       " 'spa',\n",
       " 'split system',\n",
       " 'split system heating & air conditioning',\n",
       " 'storage',\n",
       " 'storage cage',\n",
       " 'study',\n",
       " 'study nook',\n",
       " 'sunroom',\n",
       " 'swimming pool - inground',\n",
       " 'tennis court',\n",
       " 'terrace/balcony',\n",
       " 'water tank',\n",
       " 'workshop'}"
      ]
     },
     "execution_count": 32,
     "metadata": {},
     "output_type": "execute_result"
    }
   ],
   "source": [
    "feature_set"
   ]
  },
  {
   "cell_type": "code",
   "execution_count": 33,
   "id": "59c0895a",
   "metadata": {},
   "outputs": [],
   "source": [
    "data = []\n",
    "for row in feature_df.itertuples():\n",
    "    temp_dict = dict.fromkeys(feature_set, 0)\n",
    "    temp_dict['ID'] = row[1]\n",
    "    for x in row[2]:\n",
    "        if x in feature_set:\n",
    "            temp_dict[x] = 1\n",
    "    data.append(temp_dict)\n",
    "final_feature_df = pd.DataFrame(data)"
   ]
  },
  {
   "cell_type": "code",
   "execution_count": 34,
   "id": "a735048b",
   "metadata": {},
   "outputs": [
    {
     "name": "stdout",
     "output_type": "stream",
     "text": [
      "{'': 0, ' air conditioner': 0, ' property condition: renovator': 0, ' intercom system': 0, ' verandah': 0, 'gymnasium': 0, ' fenced': 0, ' quiet location': 0, ' exhaust fan': 0, ' outdoor entertaining area': 0, ' city views': 0, ' townhouse house style: contemporary': 0, ' close to bus services': 0, ' period apartment': 0, ' washing machine': 0, ' double lock-up': 0, ' hydronic heating': 0, ' patio': 0, ' above ground pool': 0, 'row at rear': 0, ' sunroom': 0, ' security lighting': 0, ' auto doors': 0, ' workshop': 0, ' close to transport/shops/school/park/cbd': 0, ' safe': 0, ' built i': 0, ' blinds': 0, ' modern bathroom': 0, 'alarm': 0, ' automated sprinkler system': 0, 'evaporative cooling': 0, ' split systems': 0, 'gas heater': 0, ' in-ground pool (heated)': 0, ' full ensuite': 0, ' self-contained accommodation': 0, ' undercover outdoor area': 0, ' parents/childrens retreat': 0, ' turn key! just move in': 0, ' dining room': 0, ' lift': 0, ' caesarstone benchtops': 0, 'close to schools': 0, ' internal a': 0, ' reve': 0, ' smeg kitchen appliances': 0, ' art deco apartment': 0, ' garden watering system': 0, 'alfresco': 0, ' security entrance': 0, ' family room': 0, ' built-in bbq': 0, 'courtyard': 0, ' fullty fenced': 0, ' light fittings': 0, ' close to beach': 0, ' polished timber floors': 0, ' property condition: excellent': 0, ' insect screen': 0, ' lounge': 0, ' gas heating': 0, 'carpeted': 0, ' rumpus room': 0, ' outdoor entertainment area': 0, ' spa': 0, ' built in rob': 0, ' deck': 0, ' skylight': 0, ' wir': 0, 'solar panels': 0, ' close to local schools': 0, ' slab heating': 0, 'shed': 0, ' complete turnkey': 0, ' hot water service': 0, ' rumpus': 0, ' home office': 0, 'home office': 0, ' side access': 0, ' master bedroom offering unique circular shower.': 0, ' air conditioning': 0, ' resident barbeque facilities': 0, ' air-conditioning': 0, ' bu': 0, ' south side location': 0, ' high ceilings': 0, ' landscaped grounds': 0, ' living areas': 0, ' airconditioner': 0, ' studio': 0, ' bbq area': 0, ' study': 0, ' air conditioning - evaporative': 0, ' apartment unit style: lowrise garaging / carparking: off street': 0, ' jetty': 0, ' in-ground pool': 0, ' evaporative cooling': 0, 'gas stove': 0, ' reverse cycle heating & cooling': 0, ' clothes line': 0, 'hydronic heating': 0, ' panel heating': 0, ' timber flooring': 0, ' storage area': 0, ' alfresco area': 0, ' split system aircon': 0, ' renovated kitchen': 0, ' close to transport/shops/school/park': 0, ' property condition: renovated': 0, 'study nook': 0, 'fully fenced': 0, ' vacuum system': 0, 'water tank': 0, 'polished timber floor': 0, ' outdoor living': 0, 'tennis court': 0, ' reverse cycle aircon': 0, ' great location': 0, ' period home': 0, ' ring road and airport access': 0, 'air-conditioning': 0, ' front landscaping +': 0, 'court location': 0, ' gas hot water service': 0, ' open floor plan': 0, \" caesarstone kitchen b'top\": 0, ' broadband': 0, ' ceiling fans': 0, ' above-ground pool': 0, ' auto garage door': 0, ' flo': 0, 'gas heating': 0, ' outdoor spa': 0, ' fenced back yar': 0, 'built in robes': 0, ' location': 0, ' security access': 0, ' ducted vacuum': 0, ' solar hot water': 0, ' wood fire': 0, ' fully fenc': 0, ' pet friendly': 0, ' water views': 0, ' pol. timber floors': 0, ' close to shops': 0, 'separate dining': 0, ' block of units': 0, ' cable tv access': 0, ' swimming pool - above ground': 0, ' polished floor boards': 0, ' indoor entertainment area': 0, 'riverbank position': 0, ' security lights': 0, ' tv antenna': 0, ' land': 0, ' close to clayton train station': 0, ' gas': 0, ' indoor spa': 0, ' street facing': 0, ' refrigerated cooling': 0, ' garden shed': 0, ' restaurant': 0, ' split s': 0, ' just bring your furniture!': 0, ' pool': 0, 'split system': 0, ' split-system air-conditioning': 0, ' water access': 0, ' garage with internal access': 0, ' built in r': 0, ' inground pool': 0, ' swimming pool': 0, ' tennis court': 0, ' large block': 0, ' views': 0, ' ocean views': 0, ' fenced back yard': 0, ' balcony small': 0, ' close to schools': 0, ' full concierge': 0, ' fireplace': 0, ' central vacuum system': 0, ' split system air': 0, 'alarm/security system': 0, 'remote garage': 0, ' broadband internet available': 0, ' lock up garage': 0, ' floorboards': 0, 'en-suite': 0, ' courty': 0, ' open plan living': 0, ' gas stove': 0, ' alarm': 0, ' ducted air-conditioning': 0, ' shed/workshop': 0, ' built in robes': 0, 'property condition: excellent': 0, ' balcony': 0, ' high clearance': 0, ' swimming pool - inground': 0, ' close to bus/on bus route': 0, ' split system': 0, ' balcony large': 0, 'cellar': 0, ' rumpus/study': 0, ' gas ducted heating': 0, ' stainless steel appliances': 0, ' storage cage': 0, ' duct heat': 0, ' built in ro': 0, ' gym': 0, ' shed': 0, 'off street parking': 0, ' roller door access': 0, ' on site building manager': 0, ' bungalo': 0, ' floorboa': 0, ' walk-in robes': 0, ' basement': 0, ' ensuite': 0, ' secure p': 0, ' security shutters': 0, 'storage cage': 0, ' open fireplace': 0, '  storage cage': 0, ' townhouse': 0, ' furnished': 0, ' creative': 0, ' rangehood': 0, 'row': 0, ' close to transpor': 0, 'bungalow': 0, ' ducted cooling': 0, ' low maintenance': 0, ' formal dining room': 0, ' carpeted': 0, ' stove - gas': 0, ' meals area': 0, 'ducted vacuum': 0, ' car parking - surface': 0, ' stu': 0, ' clos': 0, ' heating/cooling': 0, ' swipe card': 0, ' r/c split system': 0, ' remote garage': 0, ' letterbox + so much more': 0, ' built-in robes': 0, ' close to transport/shops/school/pa': 0, ' dam': 0, ' built in wardrobes': 0, ' gas heater': 0, ' concierge/manager': 0, '  spa': 0, ' fireplace(s)': 0, ' district views': 0, ' house garaging / carparking: open carport': 0, ' air conditioning - refridgerated': 0, 'formal lounge': 0, ' dishwasher': 0, 'secure parking': 0, ' separate driveway': 0, ' bbq': 0, ' watering system': 0, 'built-in wardrobes': 0, ' kitchen/meals': 0, ' under house storage': 0, ' secure par': 0, ' pay tv access': 0, 'air conditioning': 0, ' sauna': 0, ' roller shutters': 0, ' outside spa': 0, ' remote garage door': 0, 'workshop': 0, ' split system cooling': 0, ' formal dining': 0, ' close to transport/shops/school': 0, ' toilet facilities': 0, ' storage': 0, '  dishwasher': 0, 'property condition: renovated': 0, ' walk-in-robes': 0, ' powder room': 0, ' separate dining room': 0, ' close to transport': 0, ' reverse-cycle air conditioning': 0, ' resident building manager': 0, ' self contained bungalow': 0, ' undercover entertainment area': 0, ' secure entry': 0, ' bui': 0, 'refrigerated cooling': 0, ' evap cooling': 0, ' courtya': 0, ' greywater system': 0, ' formal lounge': 0, 'intercom': 0, ' pergola': 0, ' polished floors': 0, ' intercom': 0, ' built in': 0, 'intercom system': 0, ' landscaping': 0, ' remote garage opener': 0, 'heating': 0, ' water frontage': 0, ' wood heater': 0, 'new carpets': 0, 'study': 0, ' freshly painted': 0, ' polished floorboards': 0, ' close to clayton central shops': 0, 'brand new': 0, ' stone benches': 0, ' s.steel kitchen appliances': 0, ' off street': 0, ' se': 0, ' alarm/security system': 0, ' separate dining': 0, ' gas hot water': 0, ' level lawn': 0, ' close to monash uni': 0, ' home theatre': 0, ' row at rear': 0, ' floo': 0, '  cooling': 0, ' car parking - basement': 0, ' terrace': 0, ' close to parklands': 0, ' bath': 0, ' near waterfront': 0, ' established gardens': 0, ' close to comm': 0, ' water ta': 0, ' driveway': 0, ' garage - remote control': 0, ' kitchen - laminex': 0, 'ducted heating': 0, ' secure parking': 0, ' d/washer': 0, ' security gate': 0, ' separate laundry': 0, ' garden she': 0, ' robes - built-in': 0, 'sunroom': 0, 'terrace/balcony': 0, ' solar hot water system': 0, 'close to transport': 0, ' water tank': 0, ' terrace/paved': 0, ' secu': 0, ' reverse cycle heating': 0, ' split system heating': 0, ' carport': 0, ' central location': 0, ' large living areas': 0, ' inside spa': 0, ' renovated': 0, ' close to transport/shops/school/p': 0, 'spa': 0, ' off street parking': 0, 'storage': 0, 'close to bus services': 0, ' gas stainless steel cooktop': 0, 'garden': 0, ' spa ensuite': 0, 'high ceilings': 0, ' alarm system': 0, ' airconditioning': 0, ' security system': 0, ' alfresco': 0, 'swimming pool - inground': 0, ' fully fenced': 0, 'city views': 0, ' period features': 0, ' ig pool': 0, ' garden': 0, ' attic': 0, 'fireplace(s)': 0, ' split-system air conditioning': 0, ' renovated bathroom': 0, ' curtain/blinds': 0, ' house house style: contemporary': 0, ' built-in wardrobes': 0, ' apartment unit style: highrise': 0, ' openable windows': 0, ' house house style: federation': 0, ' multi story': 0, ' f': 0, ' ducted heating': 0, ' corrugated iron': 0, ' family': 0, ' evap cool': 0, ' shower facilities': 0, ' split system a': 0, ' row': 0, ' barbecue': 0, ' european laundry': 0, ' curtains': 0, ' house garaging / carparking: single lock-up': 0, ' close to transport/': 0, ' built-in-wardrobes': 0, ' balcony/patio/terrace': 0, ' corner block': 0, 'ducted gas heating': 0, ' walk in robe': 0, ' open plan': 0, 'boat mooring': 0, ' buil': 0, ' greenhouse': 0, ' split system heating & air conditioning': 0, ' house alarm': 0, ' high ceiling': 0, ' heating': 0, ' close to transport/shops/school/': 0, ' the ultimate heritage restoration': 0, ' building security': 0, ' gas cooking': 0, ' clothesline': 0, ' loung': 0, ' smeg appliances': 0, ' court yard': 0, ' prestige homes': 0, ' cooling': 0, 'close to shops': 0, 'heating/cooling': 0, ' valley views': 0, ' close': 0, ' outdoor entertainment': 0, 'pergola': 0, ' house': 0, ' landscaped gardens': 0, ' large outdoor pergola': 0, ' s': 0, '  ducted heating': 0, ' built-in watering': 0, ' open fire place': 0, ' central heating and cooling': 0, ' bir': 0, ' internal laundry': 0, ' ref cooling (duct)': 0, ' built in watering': 0, ' duplex/semi detach': 0, ' built-in-robes': 0, ' apartment': 0, ' no body corp': 0, 'slab heating': 0, ' study nook': 0, 'outdoor entertaining area': 0, ' walk in robes': 0, ' reverse cycle a': 0, ' ducted gas heating': 0, ' fl': 0, ' built in robe': 0, ' carspace off street': 0, ' range hood': 0, ' brand new': 0, ' polished timber floor': 0, ' bungalow': 0, ' split-system heating': 0, ' fully fenced yard': 0, ' close to community park': 0, 'dishwasher': 0, ' central heating': 0, ' water tank/s': 0, ' complete just move in!': 0, ' terrace/balcony': 0, ' built in bbq': 0, ' flat': 0, ' built': 0, ' cellar': 0, ' modern kitchen': 0, ' great potential': 0, ' high ceilings throughout': 0, ' street frontage': 0, \" bir's\": 0, ' colorbond roof': 0, ' split syste': 0, ' timber floorboards': 0, ' granny flat': 0, ' double garage': 0, ' roof tile': 0, ' sliding robe doors': 0, ' close to transport/s': 0, ' solar panels': 0, ' wirs': 0, ' close to monash medical centre': 0, ' courtyard': 0, ' electric heating': 0, 'pool': 0, ' shops and schools': 0, ' close to shops/school/park': 0, 'balcony': 0, 'gas ducted heating': 0, ' ducted vacuum system': 0, ' decking': 0, ' side': 0, ' unit': 0, ' large side access driveway': 0, ' split sy': 0, ' development potential stca': 0, ' outdoor ent.': 0, 'split system heating & air conditioning': 0, 'deck': 0, ' area views': 0, ' fixed floor coverings': 0, ' ceiling fan': 0, 'ID': 7513227}\n"
     ]
    }
   ],
   "source": [
    "print(data[0])"
   ]
  },
  {
   "cell_type": "code",
   "execution_count": 35,
   "id": "af5eea7d",
   "metadata": {},
   "outputs": [
    {
     "data": {
      "application/vnd.microsoft.datawrangler.viewer.v0+json": {
       "columns": [
        {
         "name": "index",
         "rawType": "int64",
         "type": "integer"
        },
        {
         "name": "",
         "rawType": "int64",
         "type": "integer"
        },
        {
         "name": " air conditioner",
         "rawType": "int64",
         "type": "integer"
        },
        {
         "name": " property condition: renovator",
         "rawType": "int64",
         "type": "integer"
        },
        {
         "name": " intercom system",
         "rawType": "int64",
         "type": "integer"
        },
        {
         "name": " verandah",
         "rawType": "int64",
         "type": "integer"
        },
        {
         "name": "gymnasium",
         "rawType": "int64",
         "type": "integer"
        },
        {
         "name": " fenced",
         "rawType": "int64",
         "type": "integer"
        },
        {
         "name": " quiet location",
         "rawType": "int64",
         "type": "integer"
        },
        {
         "name": " exhaust fan",
         "rawType": "int64",
         "type": "integer"
        },
        {
         "name": " outdoor entertaining area",
         "rawType": "int64",
         "type": "integer"
        },
        {
         "name": " city views",
         "rawType": "int64",
         "type": "integer"
        },
        {
         "name": " townhouse house style: contemporary",
         "rawType": "int64",
         "type": "integer"
        },
        {
         "name": " close to bus services",
         "rawType": "int64",
         "type": "integer"
        },
        {
         "name": " period apartment",
         "rawType": "int64",
         "type": "integer"
        },
        {
         "name": " washing machine",
         "rawType": "int64",
         "type": "integer"
        },
        {
         "name": " double lock-up",
         "rawType": "int64",
         "type": "integer"
        },
        {
         "name": " hydronic heating",
         "rawType": "int64",
         "type": "integer"
        },
        {
         "name": " patio",
         "rawType": "int64",
         "type": "integer"
        },
        {
         "name": " above ground pool",
         "rawType": "int64",
         "type": "integer"
        },
        {
         "name": "row at rear",
         "rawType": "int64",
         "type": "integer"
        },
        {
         "name": " sunroom",
         "rawType": "int64",
         "type": "integer"
        },
        {
         "name": " security lighting",
         "rawType": "int64",
         "type": "integer"
        },
        {
         "name": " auto doors",
         "rawType": "int64",
         "type": "integer"
        },
        {
         "name": " workshop",
         "rawType": "int64",
         "type": "integer"
        },
        {
         "name": " close to transport/shops/school/park/cbd",
         "rawType": "int64",
         "type": "integer"
        },
        {
         "name": " safe",
         "rawType": "int64",
         "type": "integer"
        },
        {
         "name": " built i",
         "rawType": "int64",
         "type": "integer"
        },
        {
         "name": " blinds",
         "rawType": "int64",
         "type": "integer"
        },
        {
         "name": " modern bathroom",
         "rawType": "int64",
         "type": "integer"
        },
        {
         "name": "alarm",
         "rawType": "int64",
         "type": "integer"
        },
        {
         "name": " automated sprinkler system",
         "rawType": "int64",
         "type": "integer"
        },
        {
         "name": "evaporative cooling",
         "rawType": "int64",
         "type": "integer"
        },
        {
         "name": " split systems",
         "rawType": "int64",
         "type": "integer"
        },
        {
         "name": "gas heater",
         "rawType": "int64",
         "type": "integer"
        },
        {
         "name": " in-ground pool (heated)",
         "rawType": "int64",
         "type": "integer"
        },
        {
         "name": " full ensuite",
         "rawType": "int64",
         "type": "integer"
        },
        {
         "name": " self-contained accommodation",
         "rawType": "int64",
         "type": "integer"
        },
        {
         "name": " undercover outdoor area",
         "rawType": "int64",
         "type": "integer"
        },
        {
         "name": " parents/childrens retreat",
         "rawType": "int64",
         "type": "integer"
        },
        {
         "name": " turn key! just move in",
         "rawType": "int64",
         "type": "integer"
        },
        {
         "name": " dining room",
         "rawType": "int64",
         "type": "integer"
        },
        {
         "name": " lift",
         "rawType": "int64",
         "type": "integer"
        },
        {
         "name": " caesarstone benchtops",
         "rawType": "int64",
         "type": "integer"
        },
        {
         "name": "close to schools",
         "rawType": "int64",
         "type": "integer"
        },
        {
         "name": " internal a",
         "rawType": "int64",
         "type": "integer"
        },
        {
         "name": " reve",
         "rawType": "int64",
         "type": "integer"
        },
        {
         "name": " smeg kitchen appliances",
         "rawType": "int64",
         "type": "integer"
        },
        {
         "name": " art deco apartment",
         "rawType": "int64",
         "type": "integer"
        },
        {
         "name": " garden watering system",
         "rawType": "int64",
         "type": "integer"
        },
        {
         "name": "alfresco",
         "rawType": "int64",
         "type": "integer"
        },
        {
         "name": " security entrance",
         "rawType": "int64",
         "type": "integer"
        },
        {
         "name": " family room",
         "rawType": "int64",
         "type": "integer"
        },
        {
         "name": " built-in bbq",
         "rawType": "int64",
         "type": "integer"
        },
        {
         "name": "courtyard",
         "rawType": "int64",
         "type": "integer"
        },
        {
         "name": " fullty fenced",
         "rawType": "int64",
         "type": "integer"
        },
        {
         "name": " light fittings",
         "rawType": "int64",
         "type": "integer"
        },
        {
         "name": " close to beach",
         "rawType": "int64",
         "type": "integer"
        },
        {
         "name": " polished timber floors",
         "rawType": "int64",
         "type": "integer"
        },
        {
         "name": " property condition: excellent",
         "rawType": "int64",
         "type": "integer"
        },
        {
         "name": " insect screen",
         "rawType": "int64",
         "type": "integer"
        },
        {
         "name": " lounge",
         "rawType": "int64",
         "type": "integer"
        },
        {
         "name": " gas heating",
         "rawType": "int64",
         "type": "integer"
        },
        {
         "name": "carpeted",
         "rawType": "int64",
         "type": "integer"
        },
        {
         "name": " rumpus room",
         "rawType": "int64",
         "type": "integer"
        },
        {
         "name": " outdoor entertainment area",
         "rawType": "int64",
         "type": "integer"
        },
        {
         "name": " spa",
         "rawType": "int64",
         "type": "integer"
        },
        {
         "name": " built in rob",
         "rawType": "int64",
         "type": "integer"
        },
        {
         "name": " deck",
         "rawType": "int64",
         "type": "integer"
        },
        {
         "name": " skylight",
         "rawType": "int64",
         "type": "integer"
        },
        {
         "name": " wir",
         "rawType": "int64",
         "type": "integer"
        },
        {
         "name": "solar panels",
         "rawType": "int64",
         "type": "integer"
        },
        {
         "name": " close to local schools",
         "rawType": "int64",
         "type": "integer"
        },
        {
         "name": " slab heating",
         "rawType": "int64",
         "type": "integer"
        },
        {
         "name": "shed",
         "rawType": "int64",
         "type": "integer"
        },
        {
         "name": " complete turnkey",
         "rawType": "int64",
         "type": "integer"
        },
        {
         "name": " hot water service",
         "rawType": "int64",
         "type": "integer"
        },
        {
         "name": " rumpus",
         "rawType": "int64",
         "type": "integer"
        },
        {
         "name": " home office",
         "rawType": "int64",
         "type": "integer"
        },
        {
         "name": "home office",
         "rawType": "int64",
         "type": "integer"
        },
        {
         "name": " side access",
         "rawType": "int64",
         "type": "integer"
        },
        {
         "name": " master bedroom offering unique circular shower.",
         "rawType": "int64",
         "type": "integer"
        },
        {
         "name": " air conditioning",
         "rawType": "int64",
         "type": "integer"
        },
        {
         "name": " resident barbeque facilities",
         "rawType": "int64",
         "type": "integer"
        },
        {
         "name": " air-conditioning",
         "rawType": "int64",
         "type": "integer"
        },
        {
         "name": " bu",
         "rawType": "int64",
         "type": "integer"
        },
        {
         "name": " south side location",
         "rawType": "int64",
         "type": "integer"
        },
        {
         "name": " high ceilings",
         "rawType": "int64",
         "type": "integer"
        },
        {
         "name": " landscaped grounds",
         "rawType": "int64",
         "type": "integer"
        },
        {
         "name": " living areas",
         "rawType": "int64",
         "type": "integer"
        },
        {
         "name": " airconditioner",
         "rawType": "int64",
         "type": "integer"
        },
        {
         "name": " studio",
         "rawType": "int64",
         "type": "integer"
        },
        {
         "name": " bbq area",
         "rawType": "int64",
         "type": "integer"
        },
        {
         "name": " study",
         "rawType": "int64",
         "type": "integer"
        },
        {
         "name": " air conditioning - evaporative",
         "rawType": "int64",
         "type": "integer"
        },
        {
         "name": " apartment unit style: lowrise garaging / carparking: off street",
         "rawType": "int64",
         "type": "integer"
        },
        {
         "name": " jetty",
         "rawType": "int64",
         "type": "integer"
        },
        {
         "name": " in-ground pool",
         "rawType": "int64",
         "type": "integer"
        },
        {
         "name": " evaporative cooling",
         "rawType": "int64",
         "type": "integer"
        },
        {
         "name": "gas stove",
         "rawType": "int64",
         "type": "integer"
        },
        {
         "name": " reverse cycle heating & cooling",
         "rawType": "int64",
         "type": "integer"
        },
        {
         "name": " clothes line",
         "rawType": "int64",
         "type": "integer"
        },
        {
         "name": "hydronic heating",
         "rawType": "int64",
         "type": "integer"
        },
        {
         "name": " panel heating",
         "rawType": "int64",
         "type": "integer"
        },
        {
         "name": " timber flooring",
         "rawType": "int64",
         "type": "integer"
        },
        {
         "name": " storage area",
         "rawType": "int64",
         "type": "integer"
        },
        {
         "name": " alfresco area",
         "rawType": "int64",
         "type": "integer"
        },
        {
         "name": " split system aircon",
         "rawType": "int64",
         "type": "integer"
        },
        {
         "name": " renovated kitchen",
         "rawType": "int64",
         "type": "integer"
        },
        {
         "name": " close to transport/shops/school/park",
         "rawType": "int64",
         "type": "integer"
        },
        {
         "name": " property condition: renovated",
         "rawType": "int64",
         "type": "integer"
        },
        {
         "name": "study nook",
         "rawType": "int64",
         "type": "integer"
        },
        {
         "name": "fully fenced",
         "rawType": "int64",
         "type": "integer"
        },
        {
         "name": " vacuum system",
         "rawType": "int64",
         "type": "integer"
        },
        {
         "name": "water tank",
         "rawType": "int64",
         "type": "integer"
        },
        {
         "name": "polished timber floor",
         "rawType": "int64",
         "type": "integer"
        },
        {
         "name": " outdoor living",
         "rawType": "int64",
         "type": "integer"
        },
        {
         "name": "tennis court",
         "rawType": "int64",
         "type": "integer"
        },
        {
         "name": " reverse cycle aircon",
         "rawType": "int64",
         "type": "integer"
        },
        {
         "name": " great location",
         "rawType": "int64",
         "type": "integer"
        },
        {
         "name": " period home",
         "rawType": "int64",
         "type": "integer"
        },
        {
         "name": " ring road and airport access",
         "rawType": "int64",
         "type": "integer"
        },
        {
         "name": "air-conditioning",
         "rawType": "int64",
         "type": "integer"
        },
        {
         "name": " front landscaping +",
         "rawType": "int64",
         "type": "integer"
        },
        {
         "name": "court location",
         "rawType": "int64",
         "type": "integer"
        },
        {
         "name": " gas hot water service",
         "rawType": "int64",
         "type": "integer"
        },
        {
         "name": " open floor plan",
         "rawType": "int64",
         "type": "integer"
        },
        {
         "name": " caesarstone kitchen b'top",
         "rawType": "int64",
         "type": "integer"
        },
        {
         "name": " broadband",
         "rawType": "int64",
         "type": "integer"
        },
        {
         "name": " ceiling fans",
         "rawType": "int64",
         "type": "integer"
        },
        {
         "name": " above-ground pool",
         "rawType": "int64",
         "type": "integer"
        },
        {
         "name": " auto garage door",
         "rawType": "int64",
         "type": "integer"
        },
        {
         "name": " flo",
         "rawType": "int64",
         "type": "integer"
        },
        {
         "name": "gas heating",
         "rawType": "int64",
         "type": "integer"
        },
        {
         "name": " outdoor spa",
         "rawType": "int64",
         "type": "integer"
        },
        {
         "name": " fenced back yar",
         "rawType": "int64",
         "type": "integer"
        },
        {
         "name": "built in robes",
         "rawType": "int64",
         "type": "integer"
        },
        {
         "name": " location",
         "rawType": "int64",
         "type": "integer"
        },
        {
         "name": " security access",
         "rawType": "int64",
         "type": "integer"
        },
        {
         "name": " ducted vacuum",
         "rawType": "int64",
         "type": "integer"
        },
        {
         "name": " solar hot water",
         "rawType": "int64",
         "type": "integer"
        },
        {
         "name": " wood fire",
         "rawType": "int64",
         "type": "integer"
        },
        {
         "name": " fully fenc",
         "rawType": "int64",
         "type": "integer"
        },
        {
         "name": " pet friendly",
         "rawType": "int64",
         "type": "integer"
        },
        {
         "name": " water views",
         "rawType": "int64",
         "type": "integer"
        },
        {
         "name": " pol. timber floors",
         "rawType": "int64",
         "type": "integer"
        },
        {
         "name": " close to shops",
         "rawType": "int64",
         "type": "integer"
        },
        {
         "name": "separate dining",
         "rawType": "int64",
         "type": "integer"
        },
        {
         "name": " block of units",
         "rawType": "int64",
         "type": "integer"
        },
        {
         "name": " cable tv access",
         "rawType": "int64",
         "type": "integer"
        },
        {
         "name": " swimming pool - above ground",
         "rawType": "int64",
         "type": "integer"
        },
        {
         "name": " polished floor boards",
         "rawType": "int64",
         "type": "integer"
        },
        {
         "name": " indoor entertainment area",
         "rawType": "int64",
         "type": "integer"
        },
        {
         "name": "riverbank position",
         "rawType": "int64",
         "type": "integer"
        },
        {
         "name": " security lights",
         "rawType": "int64",
         "type": "integer"
        },
        {
         "name": " tv antenna",
         "rawType": "int64",
         "type": "integer"
        },
        {
         "name": " land",
         "rawType": "int64",
         "type": "integer"
        },
        {
         "name": " close to clayton train station",
         "rawType": "int64",
         "type": "integer"
        },
        {
         "name": " gas",
         "rawType": "int64",
         "type": "integer"
        },
        {
         "name": " indoor spa",
         "rawType": "int64",
         "type": "integer"
        },
        {
         "name": " street facing",
         "rawType": "int64",
         "type": "integer"
        },
        {
         "name": " refrigerated cooling",
         "rawType": "int64",
         "type": "integer"
        },
        {
         "name": " garden shed",
         "rawType": "int64",
         "type": "integer"
        },
        {
         "name": " restaurant",
         "rawType": "int64",
         "type": "integer"
        },
        {
         "name": " split s",
         "rawType": "int64",
         "type": "integer"
        },
        {
         "name": " just bring your furniture!",
         "rawType": "int64",
         "type": "integer"
        },
        {
         "name": " pool",
         "rawType": "int64",
         "type": "integer"
        },
        {
         "name": "split system",
         "rawType": "int64",
         "type": "integer"
        },
        {
         "name": " split-system air-conditioning",
         "rawType": "int64",
         "type": "integer"
        },
        {
         "name": " water access",
         "rawType": "int64",
         "type": "integer"
        },
        {
         "name": " garage with internal access",
         "rawType": "int64",
         "type": "integer"
        },
        {
         "name": " built in r",
         "rawType": "int64",
         "type": "integer"
        },
        {
         "name": " inground pool",
         "rawType": "int64",
         "type": "integer"
        },
        {
         "name": " swimming pool",
         "rawType": "int64",
         "type": "integer"
        },
        {
         "name": " tennis court",
         "rawType": "int64",
         "type": "integer"
        },
        {
         "name": " large block",
         "rawType": "int64",
         "type": "integer"
        },
        {
         "name": " views",
         "rawType": "int64",
         "type": "integer"
        },
        {
         "name": " ocean views",
         "rawType": "int64",
         "type": "integer"
        },
        {
         "name": " fenced back yard",
         "rawType": "int64",
         "type": "integer"
        },
        {
         "name": " balcony small",
         "rawType": "int64",
         "type": "integer"
        },
        {
         "name": " close to schools",
         "rawType": "int64",
         "type": "integer"
        },
        {
         "name": " full concierge",
         "rawType": "int64",
         "type": "integer"
        },
        {
         "name": " fireplace",
         "rawType": "int64",
         "type": "integer"
        },
        {
         "name": " central vacuum system",
         "rawType": "int64",
         "type": "integer"
        },
        {
         "name": " split system air",
         "rawType": "int64",
         "type": "integer"
        },
        {
         "name": "alarm/security system",
         "rawType": "int64",
         "type": "integer"
        },
        {
         "name": "remote garage",
         "rawType": "int64",
         "type": "integer"
        },
        {
         "name": " broadband internet available",
         "rawType": "int64",
         "type": "integer"
        },
        {
         "name": " lock up garage",
         "rawType": "int64",
         "type": "integer"
        },
        {
         "name": " floorboards",
         "rawType": "int64",
         "type": "integer"
        },
        {
         "name": "en-suite",
         "rawType": "int64",
         "type": "integer"
        },
        {
         "name": " courty",
         "rawType": "int64",
         "type": "integer"
        },
        {
         "name": " open plan living",
         "rawType": "int64",
         "type": "integer"
        },
        {
         "name": " gas stove",
         "rawType": "int64",
         "type": "integer"
        },
        {
         "name": " alarm",
         "rawType": "int64",
         "type": "integer"
        },
        {
         "name": " ducted air-conditioning",
         "rawType": "int64",
         "type": "integer"
        },
        {
         "name": " shed/workshop",
         "rawType": "int64",
         "type": "integer"
        },
        {
         "name": " built in robes",
         "rawType": "int64",
         "type": "integer"
        },
        {
         "name": "property condition: excellent",
         "rawType": "int64",
         "type": "integer"
        },
        {
         "name": " balcony",
         "rawType": "int64",
         "type": "integer"
        },
        {
         "name": " high clearance",
         "rawType": "int64",
         "type": "integer"
        },
        {
         "name": " swimming pool - inground",
         "rawType": "int64",
         "type": "integer"
        },
        {
         "name": " close to bus/on bus route",
         "rawType": "int64",
         "type": "integer"
        },
        {
         "name": " split system",
         "rawType": "int64",
         "type": "integer"
        },
        {
         "name": " balcony large",
         "rawType": "int64",
         "type": "integer"
        },
        {
         "name": "cellar",
         "rawType": "int64",
         "type": "integer"
        },
        {
         "name": " rumpus/study",
         "rawType": "int64",
         "type": "integer"
        },
        {
         "name": " gas ducted heating",
         "rawType": "int64",
         "type": "integer"
        },
        {
         "name": " stainless steel appliances",
         "rawType": "int64",
         "type": "integer"
        },
        {
         "name": " storage cage",
         "rawType": "int64",
         "type": "integer"
        },
        {
         "name": " duct heat",
         "rawType": "int64",
         "type": "integer"
        },
        {
         "name": " built in ro",
         "rawType": "int64",
         "type": "integer"
        },
        {
         "name": " gym",
         "rawType": "int64",
         "type": "integer"
        },
        {
         "name": " shed",
         "rawType": "int64",
         "type": "integer"
        },
        {
         "name": "off street parking",
         "rawType": "int64",
         "type": "integer"
        },
        {
         "name": " roller door access",
         "rawType": "int64",
         "type": "integer"
        },
        {
         "name": " on site building manager",
         "rawType": "int64",
         "type": "integer"
        },
        {
         "name": " bungalo",
         "rawType": "int64",
         "type": "integer"
        },
        {
         "name": " floorboa",
         "rawType": "int64",
         "type": "integer"
        },
        {
         "name": " walk-in robes",
         "rawType": "int64",
         "type": "integer"
        },
        {
         "name": " basement",
         "rawType": "int64",
         "type": "integer"
        },
        {
         "name": " ensuite",
         "rawType": "int64",
         "type": "integer"
        },
        {
         "name": " secure p",
         "rawType": "int64",
         "type": "integer"
        },
        {
         "name": " security shutters",
         "rawType": "int64",
         "type": "integer"
        },
        {
         "name": "storage cage",
         "rawType": "int64",
         "type": "integer"
        },
        {
         "name": " open fireplace",
         "rawType": "int64",
         "type": "integer"
        },
        {
         "name": "  storage cage",
         "rawType": "int64",
         "type": "integer"
        },
        {
         "name": " townhouse",
         "rawType": "int64",
         "type": "integer"
        },
        {
         "name": " furnished",
         "rawType": "int64",
         "type": "integer"
        },
        {
         "name": " creative",
         "rawType": "int64",
         "type": "integer"
        },
        {
         "name": " rangehood",
         "rawType": "int64",
         "type": "integer"
        },
        {
         "name": "row",
         "rawType": "int64",
         "type": "integer"
        },
        {
         "name": " close to transpor",
         "rawType": "int64",
         "type": "integer"
        },
        {
         "name": "bungalow",
         "rawType": "int64",
         "type": "integer"
        },
        {
         "name": " ducted cooling",
         "rawType": "int64",
         "type": "integer"
        },
        {
         "name": " low maintenance",
         "rawType": "int64",
         "type": "integer"
        },
        {
         "name": " formal dining room",
         "rawType": "int64",
         "type": "integer"
        },
        {
         "name": " carpeted",
         "rawType": "int64",
         "type": "integer"
        },
        {
         "name": " stove - gas",
         "rawType": "int64",
         "type": "integer"
        },
        {
         "name": " meals area",
         "rawType": "int64",
         "type": "integer"
        },
        {
         "name": "ducted vacuum",
         "rawType": "int64",
         "type": "integer"
        },
        {
         "name": " car parking - surface",
         "rawType": "int64",
         "type": "integer"
        },
        {
         "name": " stu",
         "rawType": "int64",
         "type": "integer"
        },
        {
         "name": " clos",
         "rawType": "int64",
         "type": "integer"
        },
        {
         "name": " heating/cooling",
         "rawType": "int64",
         "type": "integer"
        },
        {
         "name": " swipe card",
         "rawType": "int64",
         "type": "integer"
        },
        {
         "name": " r/c split system",
         "rawType": "int64",
         "type": "integer"
        },
        {
         "name": " remote garage",
         "rawType": "int64",
         "type": "integer"
        },
        {
         "name": " letterbox + so much more",
         "rawType": "int64",
         "type": "integer"
        },
        {
         "name": " built-in robes",
         "rawType": "int64",
         "type": "integer"
        },
        {
         "name": " close to transport/shops/school/pa",
         "rawType": "int64",
         "type": "integer"
        },
        {
         "name": " dam",
         "rawType": "int64",
         "type": "integer"
        },
        {
         "name": " built in wardrobes",
         "rawType": "int64",
         "type": "integer"
        },
        {
         "name": " gas heater",
         "rawType": "int64",
         "type": "integer"
        },
        {
         "name": " concierge/manager",
         "rawType": "int64",
         "type": "integer"
        },
        {
         "name": "  spa",
         "rawType": "int64",
         "type": "integer"
        },
        {
         "name": " fireplace(s)",
         "rawType": "int64",
         "type": "integer"
        },
        {
         "name": " district views",
         "rawType": "int64",
         "type": "integer"
        },
        {
         "name": " house garaging / carparking: open carport",
         "rawType": "int64",
         "type": "integer"
        },
        {
         "name": " air conditioning - refridgerated",
         "rawType": "int64",
         "type": "integer"
        },
        {
         "name": "formal lounge",
         "rawType": "int64",
         "type": "integer"
        },
        {
         "name": " dishwasher",
         "rawType": "int64",
         "type": "integer"
        },
        {
         "name": "secure parking",
         "rawType": "int64",
         "type": "integer"
        },
        {
         "name": " separate driveway",
         "rawType": "int64",
         "type": "integer"
        },
        {
         "name": " bbq",
         "rawType": "int64",
         "type": "integer"
        },
        {
         "name": " watering system",
         "rawType": "int64",
         "type": "integer"
        },
        {
         "name": "built-in wardrobes",
         "rawType": "int64",
         "type": "integer"
        },
        {
         "name": " kitchen/meals",
         "rawType": "int64",
         "type": "integer"
        },
        {
         "name": " under house storage",
         "rawType": "int64",
         "type": "integer"
        },
        {
         "name": " secure par",
         "rawType": "int64",
         "type": "integer"
        },
        {
         "name": " pay tv access",
         "rawType": "int64",
         "type": "integer"
        },
        {
         "name": "air conditioning",
         "rawType": "int64",
         "type": "integer"
        },
        {
         "name": " sauna",
         "rawType": "int64",
         "type": "integer"
        },
        {
         "name": " roller shutters",
         "rawType": "int64",
         "type": "integer"
        },
        {
         "name": " outside spa",
         "rawType": "int64",
         "type": "integer"
        },
        {
         "name": " remote garage door",
         "rawType": "int64",
         "type": "integer"
        },
        {
         "name": "workshop",
         "rawType": "int64",
         "type": "integer"
        },
        {
         "name": " split system cooling",
         "rawType": "int64",
         "type": "integer"
        },
        {
         "name": " formal dining",
         "rawType": "int64",
         "type": "integer"
        },
        {
         "name": " close to transport/shops/school",
         "rawType": "int64",
         "type": "integer"
        },
        {
         "name": " toilet facilities",
         "rawType": "int64",
         "type": "integer"
        },
        {
         "name": " storage",
         "rawType": "int64",
         "type": "integer"
        },
        {
         "name": "  dishwasher",
         "rawType": "int64",
         "type": "integer"
        },
        {
         "name": "property condition: renovated",
         "rawType": "int64",
         "type": "integer"
        },
        {
         "name": " walk-in-robes",
         "rawType": "int64",
         "type": "integer"
        },
        {
         "name": " powder room",
         "rawType": "int64",
         "type": "integer"
        },
        {
         "name": " separate dining room",
         "rawType": "int64",
         "type": "integer"
        },
        {
         "name": " close to transport",
         "rawType": "int64",
         "type": "integer"
        },
        {
         "name": " reverse-cycle air conditioning",
         "rawType": "int64",
         "type": "integer"
        },
        {
         "name": " resident building manager",
         "rawType": "int64",
         "type": "integer"
        },
        {
         "name": " self contained bungalow",
         "rawType": "int64",
         "type": "integer"
        },
        {
         "name": " undercover entertainment area",
         "rawType": "int64",
         "type": "integer"
        },
        {
         "name": " secure entry",
         "rawType": "int64",
         "type": "integer"
        },
        {
         "name": " bui",
         "rawType": "int64",
         "type": "integer"
        },
        {
         "name": "refrigerated cooling",
         "rawType": "int64",
         "type": "integer"
        },
        {
         "name": " evap cooling",
         "rawType": "int64",
         "type": "integer"
        },
        {
         "name": " courtya",
         "rawType": "int64",
         "type": "integer"
        },
        {
         "name": " greywater system",
         "rawType": "int64",
         "type": "integer"
        },
        {
         "name": " formal lounge",
         "rawType": "int64",
         "type": "integer"
        },
        {
         "name": "intercom",
         "rawType": "int64",
         "type": "integer"
        },
        {
         "name": " pergola",
         "rawType": "int64",
         "type": "integer"
        },
        {
         "name": " polished floors",
         "rawType": "int64",
         "type": "integer"
        },
        {
         "name": " intercom",
         "rawType": "int64",
         "type": "integer"
        },
        {
         "name": " built in",
         "rawType": "int64",
         "type": "integer"
        },
        {
         "name": "intercom system",
         "rawType": "int64",
         "type": "integer"
        },
        {
         "name": " landscaping",
         "rawType": "int64",
         "type": "integer"
        },
        {
         "name": " remote garage opener",
         "rawType": "int64",
         "type": "integer"
        },
        {
         "name": "heating",
         "rawType": "int64",
         "type": "integer"
        },
        {
         "name": " water frontage",
         "rawType": "int64",
         "type": "integer"
        },
        {
         "name": " wood heater",
         "rawType": "int64",
         "type": "integer"
        },
        {
         "name": "new carpets",
         "rawType": "int64",
         "type": "integer"
        },
        {
         "name": "study",
         "rawType": "int64",
         "type": "integer"
        },
        {
         "name": " freshly painted",
         "rawType": "int64",
         "type": "integer"
        },
        {
         "name": " polished floorboards",
         "rawType": "int64",
         "type": "integer"
        },
        {
         "name": " close to clayton central shops",
         "rawType": "int64",
         "type": "integer"
        },
        {
         "name": "brand new",
         "rawType": "int64",
         "type": "integer"
        },
        {
         "name": " stone benches",
         "rawType": "int64",
         "type": "integer"
        },
        {
         "name": " s.steel kitchen appliances",
         "rawType": "int64",
         "type": "integer"
        },
        {
         "name": " off street",
         "rawType": "int64",
         "type": "integer"
        },
        {
         "name": " se",
         "rawType": "int64",
         "type": "integer"
        },
        {
         "name": " alarm/security system",
         "rawType": "int64",
         "type": "integer"
        },
        {
         "name": " separate dining",
         "rawType": "int64",
         "type": "integer"
        },
        {
         "name": " gas hot water",
         "rawType": "int64",
         "type": "integer"
        },
        {
         "name": " level lawn",
         "rawType": "int64",
         "type": "integer"
        },
        {
         "name": " close to monash uni",
         "rawType": "int64",
         "type": "integer"
        },
        {
         "name": " home theatre",
         "rawType": "int64",
         "type": "integer"
        },
        {
         "name": " row at rear",
         "rawType": "int64",
         "type": "integer"
        },
        {
         "name": " floo",
         "rawType": "int64",
         "type": "integer"
        },
        {
         "name": "  cooling",
         "rawType": "int64",
         "type": "integer"
        },
        {
         "name": " car parking - basement",
         "rawType": "int64",
         "type": "integer"
        },
        {
         "name": " terrace",
         "rawType": "int64",
         "type": "integer"
        },
        {
         "name": " close to parklands",
         "rawType": "int64",
         "type": "integer"
        },
        {
         "name": " bath",
         "rawType": "int64",
         "type": "integer"
        },
        {
         "name": " near waterfront",
         "rawType": "int64",
         "type": "integer"
        },
        {
         "name": " established gardens",
         "rawType": "int64",
         "type": "integer"
        },
        {
         "name": " close to comm",
         "rawType": "int64",
         "type": "integer"
        },
        {
         "name": " water ta",
         "rawType": "int64",
         "type": "integer"
        },
        {
         "name": " driveway",
         "rawType": "int64",
         "type": "integer"
        },
        {
         "name": " garage - remote control",
         "rawType": "int64",
         "type": "integer"
        },
        {
         "name": " kitchen - laminex",
         "rawType": "int64",
         "type": "integer"
        },
        {
         "name": "ducted heating",
         "rawType": "int64",
         "type": "integer"
        },
        {
         "name": " secure parking",
         "rawType": "int64",
         "type": "integer"
        },
        {
         "name": " d/washer",
         "rawType": "int64",
         "type": "integer"
        },
        {
         "name": " security gate",
         "rawType": "int64",
         "type": "integer"
        },
        {
         "name": " separate laundry",
         "rawType": "int64",
         "type": "integer"
        },
        {
         "name": " garden she",
         "rawType": "int64",
         "type": "integer"
        },
        {
         "name": " robes - built-in",
         "rawType": "int64",
         "type": "integer"
        },
        {
         "name": "sunroom",
         "rawType": "int64",
         "type": "integer"
        },
        {
         "name": "terrace/balcony",
         "rawType": "int64",
         "type": "integer"
        },
        {
         "name": " solar hot water system",
         "rawType": "int64",
         "type": "integer"
        },
        {
         "name": "close to transport",
         "rawType": "int64",
         "type": "integer"
        },
        {
         "name": " water tank",
         "rawType": "int64",
         "type": "integer"
        },
        {
         "name": " terrace/paved",
         "rawType": "int64",
         "type": "integer"
        },
        {
         "name": " secu",
         "rawType": "int64",
         "type": "integer"
        },
        {
         "name": " reverse cycle heating",
         "rawType": "int64",
         "type": "integer"
        },
        {
         "name": " split system heating",
         "rawType": "int64",
         "type": "integer"
        },
        {
         "name": " carport",
         "rawType": "int64",
         "type": "integer"
        },
        {
         "name": " central location",
         "rawType": "int64",
         "type": "integer"
        },
        {
         "name": " large living areas",
         "rawType": "int64",
         "type": "integer"
        },
        {
         "name": " inside spa",
         "rawType": "int64",
         "type": "integer"
        },
        {
         "name": " renovated",
         "rawType": "int64",
         "type": "integer"
        },
        {
         "name": " close to transport/shops/school/p",
         "rawType": "int64",
         "type": "integer"
        },
        {
         "name": "spa",
         "rawType": "int64",
         "type": "integer"
        },
        {
         "name": " off street parking",
         "rawType": "int64",
         "type": "integer"
        },
        {
         "name": "storage",
         "rawType": "int64",
         "type": "integer"
        },
        {
         "name": "close to bus services",
         "rawType": "int64",
         "type": "integer"
        },
        {
         "name": " gas stainless steel cooktop",
         "rawType": "int64",
         "type": "integer"
        },
        {
         "name": "garden",
         "rawType": "int64",
         "type": "integer"
        },
        {
         "name": " spa ensuite",
         "rawType": "int64",
         "type": "integer"
        },
        {
         "name": "high ceilings",
         "rawType": "int64",
         "type": "integer"
        },
        {
         "name": " alarm system",
         "rawType": "int64",
         "type": "integer"
        },
        {
         "name": " airconditioning",
         "rawType": "int64",
         "type": "integer"
        },
        {
         "name": " security system",
         "rawType": "int64",
         "type": "integer"
        },
        {
         "name": " alfresco",
         "rawType": "int64",
         "type": "integer"
        },
        {
         "name": "swimming pool - inground",
         "rawType": "int64",
         "type": "integer"
        },
        {
         "name": " fully fenced",
         "rawType": "int64",
         "type": "integer"
        },
        {
         "name": "city views",
         "rawType": "int64",
         "type": "integer"
        },
        {
         "name": " period features",
         "rawType": "int64",
         "type": "integer"
        },
        {
         "name": " ig pool",
         "rawType": "int64",
         "type": "integer"
        },
        {
         "name": " garden",
         "rawType": "int64",
         "type": "integer"
        },
        {
         "name": " attic",
         "rawType": "int64",
         "type": "integer"
        },
        {
         "name": "fireplace(s)",
         "rawType": "int64",
         "type": "integer"
        },
        {
         "name": " split-system air conditioning",
         "rawType": "int64",
         "type": "integer"
        },
        {
         "name": " renovated bathroom",
         "rawType": "int64",
         "type": "integer"
        },
        {
         "name": " curtain/blinds",
         "rawType": "int64",
         "type": "integer"
        },
        {
         "name": " house house style: contemporary",
         "rawType": "int64",
         "type": "integer"
        },
        {
         "name": " built-in wardrobes",
         "rawType": "int64",
         "type": "integer"
        },
        {
         "name": " apartment unit style: highrise",
         "rawType": "int64",
         "type": "integer"
        },
        {
         "name": " openable windows",
         "rawType": "int64",
         "type": "integer"
        },
        {
         "name": " house house style: federation",
         "rawType": "int64",
         "type": "integer"
        },
        {
         "name": " multi story",
         "rawType": "int64",
         "type": "integer"
        },
        {
         "name": " f",
         "rawType": "int64",
         "type": "integer"
        },
        {
         "name": " ducted heating",
         "rawType": "int64",
         "type": "integer"
        },
        {
         "name": " corrugated iron",
         "rawType": "int64",
         "type": "integer"
        },
        {
         "name": " family",
         "rawType": "int64",
         "type": "integer"
        },
        {
         "name": " evap cool",
         "rawType": "int64",
         "type": "integer"
        },
        {
         "name": " shower facilities",
         "rawType": "int64",
         "type": "integer"
        },
        {
         "name": " split system a",
         "rawType": "int64",
         "type": "integer"
        },
        {
         "name": " row",
         "rawType": "int64",
         "type": "integer"
        },
        {
         "name": " barbecue",
         "rawType": "int64",
         "type": "integer"
        },
        {
         "name": " european laundry",
         "rawType": "int64",
         "type": "integer"
        },
        {
         "name": " curtains",
         "rawType": "int64",
         "type": "integer"
        },
        {
         "name": " house garaging / carparking: single lock-up",
         "rawType": "int64",
         "type": "integer"
        },
        {
         "name": " close to transport/",
         "rawType": "int64",
         "type": "integer"
        },
        {
         "name": " built-in-wardrobes",
         "rawType": "int64",
         "type": "integer"
        },
        {
         "name": " balcony/patio/terrace",
         "rawType": "int64",
         "type": "integer"
        },
        {
         "name": " corner block",
         "rawType": "int64",
         "type": "integer"
        },
        {
         "name": "ducted gas heating",
         "rawType": "int64",
         "type": "integer"
        },
        {
         "name": " walk in robe",
         "rawType": "int64",
         "type": "integer"
        },
        {
         "name": " open plan",
         "rawType": "int64",
         "type": "integer"
        },
        {
         "name": "boat mooring",
         "rawType": "int64",
         "type": "integer"
        },
        {
         "name": " buil",
         "rawType": "int64",
         "type": "integer"
        },
        {
         "name": " greenhouse",
         "rawType": "int64",
         "type": "integer"
        },
        {
         "name": " split system heating & air conditioning",
         "rawType": "int64",
         "type": "integer"
        },
        {
         "name": " house alarm",
         "rawType": "int64",
         "type": "integer"
        },
        {
         "name": " high ceiling",
         "rawType": "int64",
         "type": "integer"
        },
        {
         "name": " heating",
         "rawType": "int64",
         "type": "integer"
        },
        {
         "name": " close to transport/shops/school/",
         "rawType": "int64",
         "type": "integer"
        },
        {
         "name": " the ultimate heritage restoration",
         "rawType": "int64",
         "type": "integer"
        },
        {
         "name": " building security",
         "rawType": "int64",
         "type": "integer"
        },
        {
         "name": " gas cooking",
         "rawType": "int64",
         "type": "integer"
        },
        {
         "name": " clothesline",
         "rawType": "int64",
         "type": "integer"
        },
        {
         "name": " loung",
         "rawType": "int64",
         "type": "integer"
        },
        {
         "name": " smeg appliances",
         "rawType": "int64",
         "type": "integer"
        },
        {
         "name": " court yard",
         "rawType": "int64",
         "type": "integer"
        },
        {
         "name": " prestige homes",
         "rawType": "int64",
         "type": "integer"
        },
        {
         "name": " cooling",
         "rawType": "int64",
         "type": "integer"
        },
        {
         "name": "close to shops",
         "rawType": "int64",
         "type": "integer"
        },
        {
         "name": "heating/cooling",
         "rawType": "int64",
         "type": "integer"
        },
        {
         "name": " valley views",
         "rawType": "int64",
         "type": "integer"
        },
        {
         "name": " close",
         "rawType": "int64",
         "type": "integer"
        },
        {
         "name": " outdoor entertainment",
         "rawType": "int64",
         "type": "integer"
        },
        {
         "name": "pergola",
         "rawType": "int64",
         "type": "integer"
        },
        {
         "name": " house",
         "rawType": "int64",
         "type": "integer"
        },
        {
         "name": " landscaped gardens",
         "rawType": "int64",
         "type": "integer"
        },
        {
         "name": " large outdoor pergola",
         "rawType": "int64",
         "type": "integer"
        },
        {
         "name": " s",
         "rawType": "int64",
         "type": "integer"
        },
        {
         "name": "  ducted heating",
         "rawType": "int64",
         "type": "integer"
        },
        {
         "name": " built-in watering",
         "rawType": "int64",
         "type": "integer"
        },
        {
         "name": " open fire place",
         "rawType": "int64",
         "type": "integer"
        },
        {
         "name": " central heating and cooling",
         "rawType": "int64",
         "type": "integer"
        },
        {
         "name": " bir",
         "rawType": "int64",
         "type": "integer"
        },
        {
         "name": " internal laundry",
         "rawType": "int64",
         "type": "integer"
        },
        {
         "name": " ref cooling (duct)",
         "rawType": "int64",
         "type": "integer"
        },
        {
         "name": " built in watering",
         "rawType": "int64",
         "type": "integer"
        },
        {
         "name": " duplex/semi detach",
         "rawType": "int64",
         "type": "integer"
        },
        {
         "name": " built-in-robes",
         "rawType": "int64",
         "type": "integer"
        },
        {
         "name": " apartment",
         "rawType": "int64",
         "type": "integer"
        },
        {
         "name": " no body corp",
         "rawType": "int64",
         "type": "integer"
        },
        {
         "name": "slab heating",
         "rawType": "int64",
         "type": "integer"
        },
        {
         "name": " study nook",
         "rawType": "int64",
         "type": "integer"
        },
        {
         "name": "outdoor entertaining area",
         "rawType": "int64",
         "type": "integer"
        },
        {
         "name": " walk in robes",
         "rawType": "int64",
         "type": "integer"
        },
        {
         "name": " reverse cycle a",
         "rawType": "int64",
         "type": "integer"
        },
        {
         "name": " ducted gas heating",
         "rawType": "int64",
         "type": "integer"
        },
        {
         "name": " fl",
         "rawType": "int64",
         "type": "integer"
        },
        {
         "name": " built in robe",
         "rawType": "int64",
         "type": "integer"
        },
        {
         "name": " carspace off street",
         "rawType": "int64",
         "type": "integer"
        },
        {
         "name": " range hood",
         "rawType": "int64",
         "type": "integer"
        },
        {
         "name": " brand new",
         "rawType": "int64",
         "type": "integer"
        },
        {
         "name": " polished timber floor",
         "rawType": "int64",
         "type": "integer"
        },
        {
         "name": " bungalow",
         "rawType": "int64",
         "type": "integer"
        },
        {
         "name": " split-system heating",
         "rawType": "int64",
         "type": "integer"
        },
        {
         "name": " fully fenced yard",
         "rawType": "int64",
         "type": "integer"
        },
        {
         "name": " close to community park",
         "rawType": "int64",
         "type": "integer"
        },
        {
         "name": "dishwasher",
         "rawType": "int64",
         "type": "integer"
        },
        {
         "name": " central heating",
         "rawType": "int64",
         "type": "integer"
        },
        {
         "name": " water tank/s",
         "rawType": "int64",
         "type": "integer"
        },
        {
         "name": " complete just move in!",
         "rawType": "int64",
         "type": "integer"
        },
        {
         "name": " terrace/balcony",
         "rawType": "int64",
         "type": "integer"
        },
        {
         "name": " built in bbq",
         "rawType": "int64",
         "type": "integer"
        },
        {
         "name": " flat",
         "rawType": "int64",
         "type": "integer"
        },
        {
         "name": " built",
         "rawType": "int64",
         "type": "integer"
        },
        {
         "name": " cellar",
         "rawType": "int64",
         "type": "integer"
        },
        {
         "name": " modern kitchen",
         "rawType": "int64",
         "type": "integer"
        },
        {
         "name": " great potential",
         "rawType": "int64",
         "type": "integer"
        },
        {
         "name": " high ceilings throughout",
         "rawType": "int64",
         "type": "integer"
        },
        {
         "name": " street frontage",
         "rawType": "int64",
         "type": "integer"
        },
        {
         "name": " bir's",
         "rawType": "int64",
         "type": "integer"
        },
        {
         "name": " colorbond roof",
         "rawType": "int64",
         "type": "integer"
        },
        {
         "name": " split syste",
         "rawType": "int64",
         "type": "integer"
        },
        {
         "name": " timber floorboards",
         "rawType": "int64",
         "type": "integer"
        },
        {
         "name": " granny flat",
         "rawType": "int64",
         "type": "integer"
        },
        {
         "name": " double garage",
         "rawType": "int64",
         "type": "integer"
        },
        {
         "name": " roof tile",
         "rawType": "int64",
         "type": "integer"
        },
        {
         "name": " sliding robe doors",
         "rawType": "int64",
         "type": "integer"
        },
        {
         "name": " close to transport/s",
         "rawType": "int64",
         "type": "integer"
        },
        {
         "name": " solar panels",
         "rawType": "int64",
         "type": "integer"
        },
        {
         "name": " wirs",
         "rawType": "int64",
         "type": "integer"
        },
        {
         "name": " close to monash medical centre",
         "rawType": "int64",
         "type": "integer"
        },
        {
         "name": " courtyard",
         "rawType": "int64",
         "type": "integer"
        },
        {
         "name": " electric heating",
         "rawType": "int64",
         "type": "integer"
        },
        {
         "name": "pool",
         "rawType": "int64",
         "type": "integer"
        },
        {
         "name": " shops and schools",
         "rawType": "int64",
         "type": "integer"
        },
        {
         "name": " close to shops/school/park",
         "rawType": "int64",
         "type": "integer"
        },
        {
         "name": "balcony",
         "rawType": "int64",
         "type": "integer"
        },
        {
         "name": "gas ducted heating",
         "rawType": "int64",
         "type": "integer"
        },
        {
         "name": " ducted vacuum system",
         "rawType": "int64",
         "type": "integer"
        },
        {
         "name": " decking",
         "rawType": "int64",
         "type": "integer"
        },
        {
         "name": " side",
         "rawType": "int64",
         "type": "integer"
        },
        {
         "name": " unit",
         "rawType": "int64",
         "type": "integer"
        },
        {
         "name": " large side access driveway",
         "rawType": "int64",
         "type": "integer"
        },
        {
         "name": " split sy",
         "rawType": "int64",
         "type": "integer"
        },
        {
         "name": " development potential stca",
         "rawType": "int64",
         "type": "integer"
        },
        {
         "name": " outdoor ent.",
         "rawType": "int64",
         "type": "integer"
        },
        {
         "name": "split system heating & air conditioning",
         "rawType": "int64",
         "type": "integer"
        },
        {
         "name": "deck",
         "rawType": "int64",
         "type": "integer"
        },
        {
         "name": " area views",
         "rawType": "int64",
         "type": "integer"
        },
        {
         "name": " fixed floor coverings",
         "rawType": "int64",
         "type": "integer"
        },
        {
         "name": " ceiling fan",
         "rawType": "int64",
         "type": "integer"
        },
        {
         "name": "ID",
         "rawType": "int64",
         "type": "integer"
        }
       ],
       "conversionMethod": "pd.DataFrame",
       "ref": "fc90ab29-3d8d-4fc4-b1a9-bd870a5258f0",
       "rows": [
        [
         "0",
         "0",
         "0",
         "0",
         "0",
         "0",
         "0",
         "0",
         "0",
         "0",
         "0",
         "0",
         "0",
         "0",
         "0",
         "0",
         "0",
         "0",
         "0",
         "0",
         "0",
         "0",
         "0",
         "0",
         "0",
         "0",
         "0",
         "0",
         "0",
         "0",
         "0",
         "0",
         "0",
         "0",
         "0",
         "0",
         "0",
         "0",
         "0",
         "0",
         "0",
         "0",
         "0",
         "0",
         "0",
         "0",
         "0",
         "0",
         "0",
         "0",
         "0",
         "0",
         "0",
         "0",
         "0",
         "0",
         "0",
         "0",
         "0",
         "0",
         "0",
         "0",
         "0",
         "0",
         "0",
         "0",
         "0",
         "0",
         "0",
         "0",
         "0",
         "0",
         "0",
         "0",
         "0",
         "0",
         "0",
         "0",
         "0",
         "0",
         "0",
         "0",
         "0",
         "0",
         "0",
         "0",
         "0",
         "0",
         "0",
         "0",
         "0",
         "0",
         "0",
         "0",
         "0",
         "0",
         "0",
         "0",
         "0",
         "0",
         "0",
         "0",
         "0",
         "0",
         "0",
         "0",
         "0",
         "0",
         "0",
         "0",
         "0",
         "0",
         "0",
         "0",
         "0",
         "0",
         "0",
         "0",
         "0",
         "0",
         "0",
         "0",
         "0",
         "0",
         "0",
         "0",
         "0",
         "0",
         "0",
         "0",
         "0",
         "0",
         "0",
         "0",
         "0",
         "0",
         "0",
         "0",
         "0",
         "0",
         "0",
         "0",
         "0",
         "0",
         "0",
         "0",
         "0",
         "0",
         "0",
         "0",
         "0",
         "0",
         "0",
         "0",
         "0",
         "0",
         "0",
         "0",
         "0",
         "0",
         "0",
         "0",
         "0",
         "0",
         "0",
         "0",
         "0",
         "0",
         "0",
         "0",
         "0",
         "0",
         "0",
         "0",
         "0",
         "0",
         "0",
         "0",
         "0",
         "0",
         "0",
         "0",
         "0",
         "0",
         "0",
         "0",
         "0",
         "0",
         "0",
         "0",
         "0",
         "0",
         "0",
         "0",
         "0",
         "0",
         "0",
         "0",
         "0",
         "0",
         "0",
         "0",
         "0",
         "0",
         "0",
         "0",
         "0",
         "0",
         "0",
         "0",
         "0",
         "0",
         "0",
         "0",
         "0",
         "0",
         "0",
         "0",
         "0",
         "0",
         "0",
         "0",
         "0",
         "0",
         "0",
         "0",
         "0",
         "0",
         "0",
         "0",
         "0",
         "0",
         "0",
         "0",
         "0",
         "0",
         "0",
         "0",
         "0",
         "0",
         "0",
         "0",
         "0",
         "0",
         "0",
         "0",
         "0",
         "0",
         "0",
         "0",
         "0",
         "0",
         "0",
         "0",
         "0",
         "0",
         "0",
         "0",
         "0",
         "0",
         "0",
         "0",
         "0",
         "0",
         "0",
         "0",
         "0",
         "0",
         "0",
         "0",
         "0",
         "0",
         "0",
         "0",
         "0",
         "0",
         "0",
         "0",
         "0",
         "0",
         "0",
         "0",
         "0",
         "0",
         "0",
         "0",
         "0",
         "0",
         "0",
         "0",
         "0",
         "0",
         "0",
         "0",
         "0",
         "0",
         "0",
         "0",
         "0",
         "0",
         "0",
         "0",
         "0",
         "0",
         "0",
         "0",
         "0",
         "0",
         "0",
         "0",
         "0",
         "0",
         "0",
         "0",
         "0",
         "0",
         "0",
         "0",
         "0",
         "0",
         "0",
         "0",
         "0",
         "0",
         "0",
         "0",
         "0",
         "0",
         "0",
         "0",
         "0",
         "0",
         "0",
         "0",
         "0",
         "0",
         "0",
         "0",
         "0",
         "0",
         "0",
         "0",
         "0",
         "0",
         "0",
         "0",
         "0",
         "0",
         "0",
         "0",
         "0",
         "0",
         "0",
         "0",
         "0",
         "0",
         "0",
         "0",
         "0",
         "0",
         "0",
         "0",
         "0",
         "0",
         "0",
         "0",
         "0",
         "0",
         "0",
         "0",
         "0",
         "0",
         "0",
         "0",
         "0",
         "0",
         "0",
         "0",
         "0",
         "0",
         "0",
         "0",
         "0",
         "0",
         "0",
         "0",
         "0",
         "0",
         "0",
         "0",
         "0",
         "0",
         "0",
         "0",
         "0",
         "0",
         "0",
         "0",
         "0",
         "0",
         "0",
         "0",
         "0",
         "0",
         "0",
         "0",
         "0",
         "0",
         "0",
         "0",
         "0",
         "0",
         "0",
         "0",
         "0",
         "0",
         "0",
         "0",
         "0",
         "0",
         "0",
         "0",
         "0",
         "0",
         "0",
         "0",
         "0",
         "0",
         "0",
         "0",
         "0",
         "0",
         "0",
         "0",
         "0",
         "0",
         "0",
         "0",
         "0",
         "0",
         "0",
         "0",
         "0",
         "0",
         "0",
         "0",
         "0",
         "0",
         "0",
         "0",
         "0",
         "0",
         "0",
         "0",
         "0",
         "0",
         "0",
         "0",
         "0",
         "0",
         "0",
         "0",
         "0",
         "0",
         "0",
         "0",
         "0",
         "0",
         "0",
         "0",
         "0",
         "0",
         "0",
         "0",
         "0",
         "0",
         "0",
         "0",
         "0",
         "0",
         "0",
         "0",
         "0",
         "0",
         "0",
         "0",
         "0",
         "0",
         "0",
         "0",
         "0",
         "0",
         "0",
         "0",
         "0",
         "0",
         "0",
         "0",
         "0",
         "0",
         "0",
         "0",
         "0",
         "0",
         "0",
         "0",
         "0",
         "0",
         "0",
         "0",
         "7513227"
        ],
        [
         "1",
         "0",
         "0",
         "0",
         "0",
         "0",
         "0",
         "0",
         "0",
         "0",
         "0",
         "0",
         "0",
         "0",
         "0",
         "0",
         "0",
         "0",
         "0",
         "0",
         "0",
         "0",
         "0",
         "0",
         "0",
         "0",
         "0",
         "0",
         "0",
         "0",
         "0",
         "0",
         "0",
         "0",
         "0",
         "0",
         "0",
         "0",
         "0",
         "0",
         "0",
         "0",
         "0",
         "0",
         "0",
         "0",
         "0",
         "0",
         "0",
         "0",
         "0",
         "0",
         "0",
         "0",
         "0",
         "0",
         "0",
         "0",
         "0",
         "0",
         "0",
         "0",
         "0",
         "0",
         "0",
         "0",
         "0",
         "0",
         "0",
         "0",
         "0",
         "0",
         "0",
         "0",
         "0",
         "0",
         "0",
         "0",
         "0",
         "0",
         "0",
         "0",
         "0",
         "0",
         "0",
         "0",
         "0",
         "0",
         "0",
         "0",
         "0",
         "0",
         "0",
         "0",
         "0",
         "0",
         "0",
         "0",
         "0",
         "0",
         "0",
         "0",
         "0",
         "0",
         "0",
         "0",
         "0",
         "0",
         "0",
         "0",
         "0",
         "0",
         "0",
         "0",
         "0",
         "0",
         "0",
         "0",
         "0",
         "0",
         "0",
         "0",
         "0",
         "0",
         "0",
         "0",
         "0",
         "0",
         "0",
         "0",
         "0",
         "0",
         "0",
         "0",
         "0",
         "0",
         "0",
         "0",
         "0",
         "0",
         "0",
         "0",
         "0",
         "0",
         "0",
         "0",
         "0",
         "0",
         "0",
         "0",
         "0",
         "0",
         "0",
         "0",
         "0",
         "0",
         "0",
         "0",
         "0",
         "0",
         "0",
         "0",
         "0",
         "0",
         "0",
         "0",
         "0",
         "0",
         "0",
         "0",
         "0",
         "0",
         "0",
         "0",
         "0",
         "0",
         "0",
         "0",
         "0",
         "0",
         "0",
         "0",
         "0",
         "0",
         "0",
         "0",
         "0",
         "0",
         "0",
         "0",
         "0",
         "0",
         "0",
         "0",
         "0",
         "0",
         "0",
         "0",
         "0",
         "0",
         "0",
         "0",
         "0",
         "0",
         "0",
         "0",
         "0",
         "0",
         "0",
         "0",
         "0",
         "0",
         "0",
         "0",
         "0",
         "0",
         "0",
         "0",
         "0",
         "0",
         "0",
         "0",
         "0",
         "0",
         "0",
         "0",
         "0",
         "0",
         "0",
         "0",
         "0",
         "0",
         "0",
         "0",
         "0",
         "0",
         "0",
         "0",
         "0",
         "0",
         "0",
         "0",
         "0",
         "0",
         "0",
         "0",
         "0",
         "0",
         "0",
         "0",
         "0",
         "0",
         "0",
         "0",
         "0",
         "0",
         "0",
         "0",
         "0",
         "0",
         "0",
         "0",
         "0",
         "0",
         "0",
         "0",
         "0",
         "0",
         "0",
         "0",
         "0",
         "0",
         "0",
         "0",
         "0",
         "0",
         "0",
         "0",
         "0",
         "0",
         "0",
         "0",
         "0",
         "0",
         "0",
         "0",
         "0",
         "0",
         "0",
         "0",
         "0",
         "0",
         "0",
         "0",
         "0",
         "0",
         "0",
         "0",
         "0",
         "0",
         "0",
         "0",
         "0",
         "0",
         "0",
         "0",
         "0",
         "0",
         "0",
         "0",
         "0",
         "0",
         "0",
         "0",
         "0",
         "0",
         "0",
         "0",
         "0",
         "0",
         "0",
         "0",
         "0",
         "0",
         "0",
         "0",
         "0",
         "0",
         "0",
         "0",
         "0",
         "0",
         "0",
         "0",
         "0",
         "0",
         "0",
         "0",
         "0",
         "0",
         "0",
         "0",
         "0",
         "0",
         "0",
         "0",
         "0",
         "0",
         "0",
         "0",
         "0",
         "0",
         "0",
         "0",
         "0",
         "0",
         "0",
         "0",
         "0",
         "0",
         "0",
         "0",
         "0",
         "0",
         "0",
         "0",
         "0",
         "0",
         "0",
         "0",
         "0",
         "0",
         "0",
         "0",
         "0",
         "0",
         "0",
         "0",
         "0",
         "0",
         "0",
         "0",
         "0",
         "0",
         "0",
         "0",
         "0",
         "0",
         "0",
         "0",
         "0",
         "0",
         "0",
         "0",
         "0",
         "0",
         "0",
         "0",
         "0",
         "0",
         "0",
         "0",
         "0",
         "0",
         "0",
         "0",
         "0",
         "0",
         "0",
         "0",
         "0",
         "0",
         "0",
         "0",
         "0",
         "0",
         "0",
         "0",
         "0",
         "0",
         "0",
         "0",
         "0",
         "0",
         "0",
         "0",
         "0",
         "0",
         "0",
         "0",
         "0",
         "0",
         "0",
         "0",
         "0",
         "0",
         "0",
         "0",
         "0",
         "0",
         "0",
         "0",
         "0",
         "0",
         "0",
         "0",
         "0",
         "0",
         "0",
         "0",
         "0",
         "0",
         "0",
         "0",
         "0",
         "0",
         "0",
         "0",
         "0",
         "0",
         "0",
         "0",
         "0",
         "0",
         "0",
         "0",
         "0",
         "0",
         "0",
         "0",
         "0",
         "0",
         "0",
         "0",
         "0",
         "0",
         "0",
         "0",
         "0",
         "0",
         "0",
         "0",
         "0",
         "0",
         "0",
         "0",
         "0",
         "0",
         "0",
         "0",
         "0",
         "0",
         "0",
         "0",
         "0",
         "0",
         "0",
         "0",
         "0",
         "0",
         "0",
         "0",
         "0",
         "0",
         "0",
         "0",
         "0",
         "0",
         "0",
         "0",
         "7720571"
        ],
        [
         "2",
         "0",
         "0",
         "0",
         "0",
         "0",
         "0",
         "0",
         "0",
         "0",
         "0",
         "0",
         "0",
         "0",
         "0",
         "0",
         "0",
         "0",
         "0",
         "0",
         "0",
         "0",
         "0",
         "0",
         "0",
         "0",
         "0",
         "0",
         "0",
         "0",
         "0",
         "0",
         "0",
         "0",
         "0",
         "0",
         "0",
         "0",
         "0",
         "0",
         "0",
         "0",
         "0",
         "0",
         "0",
         "0",
         "0",
         "0",
         "0",
         "0",
         "0",
         "0",
         "0",
         "0",
         "0",
         "0",
         "0",
         "0",
         "0",
         "0",
         "0",
         "0",
         "0",
         "0",
         "0",
         "0",
         "0",
         "0",
         "0",
         "0",
         "0",
         "0",
         "0",
         "0",
         "0",
         "0",
         "0",
         "0",
         "0",
         "0",
         "0",
         "0",
         "0",
         "0",
         "0",
         "0",
         "0",
         "0",
         "0",
         "0",
         "0",
         "0",
         "0",
         "0",
         "0",
         "0",
         "0",
         "0",
         "0",
         "0",
         "0",
         "0",
         "0",
         "0",
         "0",
         "0",
         "0",
         "0",
         "0",
         "0",
         "0",
         "0",
         "0",
         "0",
         "0",
         "0",
         "0",
         "0",
         "0",
         "0",
         "0",
         "0",
         "0",
         "0",
         "0",
         "0",
         "0",
         "0",
         "0",
         "0",
         "0",
         "0",
         "0",
         "0",
         "0",
         "0",
         "0",
         "0",
         "0",
         "0",
         "0",
         "0",
         "0",
         "0",
         "0",
         "0",
         "0",
         "0",
         "0",
         "0",
         "0",
         "0",
         "0",
         "0",
         "0",
         "0",
         "0",
         "0",
         "0",
         "0",
         "0",
         "0",
         "0",
         "0",
         "0",
         "0",
         "0",
         "0",
         "0",
         "0",
         "0",
         "0",
         "0",
         "0",
         "0",
         "0",
         "0",
         "0",
         "0",
         "0",
         "0",
         "0",
         "0",
         "0",
         "0",
         "0",
         "0",
         "0",
         "0",
         "0",
         "0",
         "0",
         "0",
         "0",
         "0",
         "0",
         "0",
         "0",
         "0",
         "0",
         "0",
         "0",
         "0",
         "0",
         "0",
         "0",
         "0",
         "0",
         "0",
         "0",
         "0",
         "0",
         "0",
         "0",
         "0",
         "0",
         "0",
         "0",
         "0",
         "0",
         "0",
         "0",
         "0",
         "0",
         "0",
         "0",
         "0",
         "0",
         "0",
         "0",
         "0",
         "0",
         "0",
         "0",
         "0",
         "0",
         "0",
         "0",
         "0",
         "0",
         "0",
         "0",
         "0",
         "0",
         "0",
         "0",
         "0",
         "0",
         "0",
         "0",
         "0",
         "0",
         "0",
         "0",
         "0",
         "0",
         "0",
         "0",
         "0",
         "0",
         "0",
         "0",
         "0",
         "0",
         "0",
         "0",
         "0",
         "0",
         "0",
         "0",
         "0",
         "0",
         "0",
         "0",
         "0",
         "0",
         "0",
         "0",
         "0",
         "0",
         "0",
         "0",
         "0",
         "0",
         "0",
         "0",
         "0",
         "0",
         "0",
         "0",
         "0",
         "0",
         "0",
         "0",
         "0",
         "0",
         "0",
         "0",
         "0",
         "0",
         "0",
         "0",
         "0",
         "0",
         "0",
         "0",
         "0",
         "0",
         "0",
         "0",
         "0",
         "0",
         "0",
         "0",
         "0",
         "0",
         "0",
         "0",
         "0",
         "0",
         "0",
         "0",
         "0",
         "0",
         "0",
         "0",
         "0",
         "0",
         "0",
         "0",
         "0",
         "0",
         "0",
         "0",
         "0",
         "0",
         "0",
         "0",
         "0",
         "0",
         "0",
         "0",
         "0",
         "0",
         "0",
         "0",
         "0",
         "0",
         "0",
         "0",
         "0",
         "0",
         "0",
         "0",
         "0",
         "0",
         "0",
         "0",
         "0",
         "0",
         "0",
         "0",
         "0",
         "0",
         "0",
         "0",
         "0",
         "0",
         "0",
         "0",
         "0",
         "0",
         "0",
         "0",
         "0",
         "0",
         "0",
         "0",
         "0",
         "0",
         "0",
         "0",
         "0",
         "0",
         "0",
         "0",
         "0",
         "0",
         "0",
         "0",
         "0",
         "0",
         "0",
         "0",
         "0",
         "0",
         "0",
         "0",
         "0",
         "0",
         "0",
         "0",
         "0",
         "0",
         "0",
         "0",
         "0",
         "0",
         "0",
         "0",
         "0",
         "0",
         "0",
         "0",
         "0",
         "0",
         "0",
         "0",
         "0",
         "0",
         "0",
         "0",
         "0",
         "0",
         "0",
         "0",
         "0",
         "0",
         "0",
         "0",
         "0",
         "0",
         "0",
         "0",
         "0",
         "0",
         "0",
         "0",
         "0",
         "0",
         "0",
         "0",
         "0",
         "0",
         "0",
         "0",
         "0",
         "0",
         "0",
         "0",
         "0",
         "0",
         "0",
         "0",
         "0",
         "0",
         "0",
         "0",
         "0",
         "0",
         "0",
         "0",
         "0",
         "0",
         "0",
         "0",
         "0",
         "0",
         "0",
         "0",
         "0",
         "0",
         "0",
         "0",
         "0",
         "0",
         "0",
         "0",
         "0",
         "0",
         "0",
         "0",
         "0",
         "0",
         "0",
         "0",
         "0",
         "0",
         "0",
         "0",
         "0",
         "0",
         "0",
         "0",
         "0",
         "0",
         "0",
         "0",
         "0",
         "0",
         "0",
         "0",
         "0",
         "0",
         "0",
         "0",
         "0",
         "0",
         "0",
         "0",
         "104997043"
        ],
        [
         "3",
         "0",
         "0",
         "0",
         "0",
         "0",
         "0",
         "0",
         "0",
         "0",
         "0",
         "0",
         "0",
         "0",
         "0",
         "0",
         "0",
         "0",
         "0",
         "0",
         "0",
         "0",
         "0",
         "0",
         "0",
         "0",
         "0",
         "0",
         "0",
         "0",
         "0",
         "0",
         "0",
         "0",
         "0",
         "0",
         "0",
         "0",
         "0",
         "0",
         "0",
         "0",
         "0",
         "0",
         "0",
         "0",
         "0",
         "0",
         "0",
         "0",
         "0",
         "0",
         "0",
         "0",
         "0",
         "0",
         "0",
         "0",
         "0",
         "0",
         "0",
         "0",
         "0",
         "0",
         "0",
         "0",
         "0",
         "0",
         "0",
         "0",
         "0",
         "0",
         "0",
         "0",
         "0",
         "0",
         "0",
         "0",
         "0",
         "0",
         "0",
         "0",
         "0",
         "0",
         "0",
         "0",
         "0",
         "0",
         "0",
         "0",
         "0",
         "0",
         "0",
         "0",
         "0",
         "0",
         "0",
         "0",
         "0",
         "0",
         "0",
         "0",
         "0",
         "0",
         "0",
         "0",
         "0",
         "0",
         "0",
         "0",
         "0",
         "0",
         "0",
         "0",
         "0",
         "0",
         "0",
         "0",
         "0",
         "0",
         "0",
         "0",
         "0",
         "0",
         "0",
         "0",
         "0",
         "0",
         "0",
         "0",
         "0",
         "0",
         "0",
         "0",
         "0",
         "0",
         "0",
         "0",
         "0",
         "0",
         "0",
         "0",
         "0",
         "0",
         "0",
         "0",
         "0",
         "0",
         "0",
         "0",
         "0",
         "0",
         "0",
         "0",
         "0",
         "0",
         "0",
         "0",
         "0",
         "0",
         "0",
         "0",
         "0",
         "0",
         "0",
         "0",
         "0",
         "0",
         "0",
         "0",
         "0",
         "0",
         "0",
         "0",
         "0",
         "0",
         "0",
         "0",
         "0",
         "0",
         "0",
         "0",
         "0",
         "0",
         "0",
         "0",
         "0",
         "0",
         "0",
         "0",
         "0",
         "0",
         "0",
         "0",
         "0",
         "0",
         "0",
         "0",
         "0",
         "0",
         "0",
         "0",
         "0",
         "0",
         "0",
         "0",
         "0",
         "0",
         "0",
         "0",
         "0",
         "0",
         "0",
         "0",
         "0",
         "0",
         "0",
         "0",
         "0",
         "0",
         "0",
         "0",
         "0",
         "0",
         "0",
         "0",
         "0",
         "0",
         "0",
         "0",
         "0",
         "0",
         "0",
         "0",
         "0",
         "0",
         "0",
         "0",
         "0",
         "0",
         "0",
         "0",
         "0",
         "0",
         "0",
         "0",
         "0",
         "0",
         "0",
         "0",
         "0",
         "0",
         "0",
         "0",
         "0",
         "0",
         "0",
         "0",
         "0",
         "0",
         "0",
         "0",
         "0",
         "0",
         "0",
         "0",
         "0",
         "0",
         "0",
         "0",
         "0",
         "0",
         "0",
         "0",
         "0",
         "0",
         "0",
         "0",
         "0",
         "0",
         "0",
         "0",
         "0",
         "0",
         "0",
         "0",
         "0",
         "0",
         "0",
         "0",
         "0",
         "0",
         "0",
         "0",
         "0",
         "0",
         "0",
         "0",
         "0",
         "0",
         "0",
         "0",
         "0",
         "0",
         "0",
         "0",
         "0",
         "0",
         "0",
         "0",
         "0",
         "0",
         "0",
         "0",
         "0",
         "0",
         "0",
         "0",
         "0",
         "0",
         "0",
         "0",
         "0",
         "0",
         "0",
         "0",
         "0",
         "0",
         "0",
         "0",
         "0",
         "0",
         "0",
         "0",
         "0",
         "0",
         "0",
         "0",
         "0",
         "0",
         "0",
         "0",
         "0",
         "0",
         "0",
         "0",
         "0",
         "0",
         "0",
         "0",
         "0",
         "0",
         "0",
         "0",
         "0",
         "0",
         "0",
         "0",
         "0",
         "0",
         "0",
         "0",
         "0",
         "0",
         "0",
         "0",
         "0",
         "0",
         "0",
         "0",
         "0",
         "0",
         "0",
         "0",
         "0",
         "0",
         "0",
         "0",
         "0",
         "0",
         "0",
         "0",
         "0",
         "0",
         "0",
         "0",
         "0",
         "0",
         "0",
         "0",
         "0",
         "0",
         "0",
         "0",
         "0",
         "0",
         "0",
         "0",
         "0",
         "0",
         "0",
         "0",
         "0",
         "0",
         "0",
         "0",
         "0",
         "0",
         "0",
         "0",
         "0",
         "0",
         "0",
         "0",
         "0",
         "0",
         "0",
         "0",
         "0",
         "0",
         "0",
         "0",
         "0",
         "0",
         "0",
         "0",
         "0",
         "0",
         "0",
         "0",
         "0",
         "0",
         "0",
         "0",
         "0",
         "0",
         "0",
         "0",
         "0",
         "0",
         "0",
         "0",
         "0",
         "0",
         "0",
         "0",
         "0",
         "0",
         "0",
         "0",
         "0",
         "0",
         "0",
         "0",
         "0",
         "0",
         "0",
         "0",
         "0",
         "0",
         "0",
         "0",
         "0",
         "0",
         "0",
         "0",
         "0",
         "0",
         "0",
         "0",
         "0",
         "0",
         "0",
         "0",
         "0",
         "0",
         "0",
         "0",
         "0",
         "0",
         "0",
         "0",
         "0",
         "0",
         "0",
         "0",
         "0",
         "0",
         "0",
         "0",
         "0",
         "0",
         "0",
         "0",
         "0",
         "0",
         "0",
         "0",
         "0",
         "0",
         "0",
         "0",
         "0",
         "0",
         "0",
         "0",
         "0",
         "0",
         "0",
         "0",
         "105023594"
        ],
        [
         "4",
         "0",
         "0",
         "0",
         "0",
         "0",
         "0",
         "0",
         "0",
         "0",
         "0",
         "0",
         "0",
         "0",
         "0",
         "0",
         "0",
         "0",
         "0",
         "0",
         "0",
         "0",
         "0",
         "0",
         "0",
         "0",
         "0",
         "0",
         "0",
         "0",
         "0",
         "0",
         "0",
         "0",
         "0",
         "0",
         "0",
         "0",
         "0",
         "0",
         "0",
         "0",
         "0",
         "0",
         "0",
         "0",
         "0",
         "0",
         "0",
         "0",
         "0",
         "0",
         "0",
         "0",
         "0",
         "0",
         "0",
         "0",
         "0",
         "0",
         "0",
         "0",
         "0",
         "0",
         "0",
         "0",
         "0",
         "0",
         "0",
         "0",
         "0",
         "0",
         "0",
         "0",
         "0",
         "0",
         "0",
         "0",
         "0",
         "0",
         "0",
         "0",
         "0",
         "0",
         "0",
         "0",
         "0",
         "0",
         "0",
         "0",
         "0",
         "0",
         "0",
         "0",
         "0",
         "0",
         "0",
         "0",
         "0",
         "0",
         "0",
         "0",
         "0",
         "0",
         "0",
         "0",
         "0",
         "0",
         "0",
         "0",
         "0",
         "0",
         "0",
         "0",
         "0",
         "0",
         "0",
         "0",
         "0",
         "0",
         "0",
         "0",
         "0",
         "0",
         "0",
         "0",
         "0",
         "0",
         "0",
         "0",
         "0",
         "0",
         "0",
         "0",
         "0",
         "0",
         "0",
         "0",
         "0",
         "0",
         "0",
         "0",
         "0",
         "0",
         "0",
         "0",
         "0",
         "0",
         "0",
         "0",
         "0",
         "0",
         "0",
         "0",
         "0",
         "0",
         "0",
         "0",
         "0",
         "0",
         "0",
         "0",
         "0",
         "0",
         "0",
         "0",
         "0",
         "0",
         "0",
         "0",
         "0",
         "0",
         "0",
         "0",
         "0",
         "0",
         "0",
         "0",
         "0",
         "0",
         "0",
         "0",
         "0",
         "0",
         "0",
         "0",
         "0",
         "0",
         "0",
         "0",
         "0",
         "0",
         "0",
         "0",
         "0",
         "0",
         "0",
         "0",
         "0",
         "0",
         "0",
         "0",
         "0",
         "0",
         "0",
         "0",
         "0",
         "0",
         "0",
         "0",
         "0",
         "0",
         "0",
         "0",
         "0",
         "0",
         "0",
         "0",
         "0",
         "0",
         "0",
         "0",
         "0",
         "0",
         "0",
         "0",
         "0",
         "0",
         "0",
         "0",
         "0",
         "0",
         "0",
         "0",
         "0",
         "0",
         "0",
         "0",
         "0",
         "0",
         "0",
         "0",
         "0",
         "0",
         "0",
         "0",
         "0",
         "0",
         "0",
         "0",
         "0",
         "0",
         "0",
         "0",
         "0",
         "0",
         "0",
         "0",
         "0",
         "0",
         "0",
         "0",
         "0",
         "0",
         "0",
         "0",
         "0",
         "0",
         "0",
         "0",
         "0",
         "0",
         "0",
         "0",
         "0",
         "0",
         "0",
         "0",
         "0",
         "0",
         "0",
         "0",
         "0",
         "0",
         "0",
         "0",
         "0",
         "0",
         "0",
         "0",
         "0",
         "0",
         "0",
         "0",
         "0",
         "0",
         "0",
         "0",
         "0",
         "0",
         "0",
         "0",
         "0",
         "0",
         "0",
         "0",
         "0",
         "0",
         "0",
         "0",
         "0",
         "0",
         "0",
         "0",
         "0",
         "0",
         "0",
         "0",
         "0",
         "0",
         "0",
         "0",
         "0",
         "0",
         "0",
         "0",
         "0",
         "0",
         "0",
         "0",
         "0",
         "0",
         "0",
         "0",
         "0",
         "0",
         "0",
         "0",
         "0",
         "0",
         "0",
         "0",
         "0",
         "0",
         "0",
         "0",
         "0",
         "0",
         "0",
         "0",
         "0",
         "0",
         "0",
         "0",
         "0",
         "0",
         "0",
         "0",
         "0",
         "0",
         "0",
         "0",
         "0",
         "0",
         "0",
         "0",
         "0",
         "0",
         "0",
         "0",
         "0",
         "0",
         "0",
         "0",
         "0",
         "0",
         "0",
         "0",
         "0",
         "0",
         "0",
         "0",
         "0",
         "0",
         "0",
         "0",
         "0",
         "0",
         "0",
         "0",
         "0",
         "0",
         "0",
         "0",
         "0",
         "0",
         "0",
         "0",
         "0",
         "0",
         "0",
         "0",
         "0",
         "0",
         "0",
         "0",
         "0",
         "0",
         "0",
         "0",
         "0",
         "0",
         "0",
         "0",
         "0",
         "0",
         "0",
         "0",
         "0",
         "0",
         "0",
         "0",
         "0",
         "0",
         "0",
         "0",
         "0",
         "0",
         "0",
         "0",
         "0",
         "0",
         "0",
         "0",
         "0",
         "0",
         "0",
         "0",
         "0",
         "0",
         "0",
         "0",
         "0",
         "0",
         "0",
         "0",
         "0",
         "0",
         "0",
         "0",
         "0",
         "0",
         "0",
         "0",
         "0",
         "0",
         "0",
         "0",
         "0",
         "0",
         "0",
         "0",
         "0",
         "0",
         "0",
         "0",
         "0",
         "0",
         "0",
         "0",
         "0",
         "0",
         "0",
         "0",
         "0",
         "0",
         "0",
         "0",
         "0",
         "0",
         "0",
         "0",
         "0",
         "0",
         "0",
         "0",
         "0",
         "0",
         "0",
         "0",
         "0",
         "0",
         "0",
         "0",
         "0",
         "0",
         "0",
         "0",
         "0",
         "0",
         "0",
         "0",
         "0",
         "0",
         "0",
         "0",
         "0",
         "0",
         "0",
         "0",
         "105140240"
        ]
       ],
       "shape": {
        "columns": 510,
        "rows": 5
       }
      },
      "text/html": [
       "<div>\n",
       "<style scoped>\n",
       "    .dataframe tbody tr th:only-of-type {\n",
       "        vertical-align: middle;\n",
       "    }\n",
       "\n",
       "    .dataframe tbody tr th {\n",
       "        vertical-align: top;\n",
       "    }\n",
       "\n",
       "    .dataframe thead th {\n",
       "        text-align: right;\n",
       "    }\n",
       "</style>\n",
       "<table border=\"1\" class=\"dataframe\">\n",
       "  <thead>\n",
       "    <tr style=\"text-align: right;\">\n",
       "      <th></th>\n",
       "      <th></th>\n",
       "      <th>air conditioner</th>\n",
       "      <th>property condition: renovator</th>\n",
       "      <th>intercom system</th>\n",
       "      <th>verandah</th>\n",
       "      <th>gymnasium</th>\n",
       "      <th>fenced</th>\n",
       "      <th>quiet location</th>\n",
       "      <th>exhaust fan</th>\n",
       "      <th>outdoor entertaining area</th>\n",
       "      <th>...</th>\n",
       "      <th>large side access driveway</th>\n",
       "      <th>split sy</th>\n",
       "      <th>development potential stca</th>\n",
       "      <th>outdoor ent.</th>\n",
       "      <th>split system heating &amp; air conditioning</th>\n",
       "      <th>deck</th>\n",
       "      <th>area views</th>\n",
       "      <th>fixed floor coverings</th>\n",
       "      <th>ceiling fan</th>\n",
       "      <th>ID</th>\n",
       "    </tr>\n",
       "  </thead>\n",
       "  <tbody>\n",
       "    <tr>\n",
       "      <th>0</th>\n",
       "      <td>0</td>\n",
       "      <td>0</td>\n",
       "      <td>0</td>\n",
       "      <td>0</td>\n",
       "      <td>0</td>\n",
       "      <td>0</td>\n",
       "      <td>0</td>\n",
       "      <td>0</td>\n",
       "      <td>0</td>\n",
       "      <td>0</td>\n",
       "      <td>...</td>\n",
       "      <td>0</td>\n",
       "      <td>0</td>\n",
       "      <td>0</td>\n",
       "      <td>0</td>\n",
       "      <td>0</td>\n",
       "      <td>0</td>\n",
       "      <td>0</td>\n",
       "      <td>0</td>\n",
       "      <td>0</td>\n",
       "      <td>7513227</td>\n",
       "    </tr>\n",
       "    <tr>\n",
       "      <th>1</th>\n",
       "      <td>0</td>\n",
       "      <td>0</td>\n",
       "      <td>0</td>\n",
       "      <td>0</td>\n",
       "      <td>0</td>\n",
       "      <td>0</td>\n",
       "      <td>0</td>\n",
       "      <td>0</td>\n",
       "      <td>0</td>\n",
       "      <td>0</td>\n",
       "      <td>...</td>\n",
       "      <td>0</td>\n",
       "      <td>0</td>\n",
       "      <td>0</td>\n",
       "      <td>0</td>\n",
       "      <td>0</td>\n",
       "      <td>0</td>\n",
       "      <td>0</td>\n",
       "      <td>0</td>\n",
       "      <td>0</td>\n",
       "      <td>7720571</td>\n",
       "    </tr>\n",
       "    <tr>\n",
       "      <th>2</th>\n",
       "      <td>0</td>\n",
       "      <td>0</td>\n",
       "      <td>0</td>\n",
       "      <td>0</td>\n",
       "      <td>0</td>\n",
       "      <td>0</td>\n",
       "      <td>0</td>\n",
       "      <td>0</td>\n",
       "      <td>0</td>\n",
       "      <td>0</td>\n",
       "      <td>...</td>\n",
       "      <td>0</td>\n",
       "      <td>0</td>\n",
       "      <td>0</td>\n",
       "      <td>0</td>\n",
       "      <td>0</td>\n",
       "      <td>0</td>\n",
       "      <td>0</td>\n",
       "      <td>0</td>\n",
       "      <td>0</td>\n",
       "      <td>104997043</td>\n",
       "    </tr>\n",
       "    <tr>\n",
       "      <th>3</th>\n",
       "      <td>0</td>\n",
       "      <td>0</td>\n",
       "      <td>0</td>\n",
       "      <td>0</td>\n",
       "      <td>0</td>\n",
       "      <td>0</td>\n",
       "      <td>0</td>\n",
       "      <td>0</td>\n",
       "      <td>0</td>\n",
       "      <td>0</td>\n",
       "      <td>...</td>\n",
       "      <td>0</td>\n",
       "      <td>0</td>\n",
       "      <td>0</td>\n",
       "      <td>0</td>\n",
       "      <td>0</td>\n",
       "      <td>0</td>\n",
       "      <td>0</td>\n",
       "      <td>0</td>\n",
       "      <td>0</td>\n",
       "      <td>105023594</td>\n",
       "    </tr>\n",
       "    <tr>\n",
       "      <th>4</th>\n",
       "      <td>0</td>\n",
       "      <td>0</td>\n",
       "      <td>0</td>\n",
       "      <td>0</td>\n",
       "      <td>0</td>\n",
       "      <td>0</td>\n",
       "      <td>0</td>\n",
       "      <td>0</td>\n",
       "      <td>0</td>\n",
       "      <td>0</td>\n",
       "      <td>...</td>\n",
       "      <td>0</td>\n",
       "      <td>0</td>\n",
       "      <td>0</td>\n",
       "      <td>0</td>\n",
       "      <td>0</td>\n",
       "      <td>0</td>\n",
       "      <td>0</td>\n",
       "      <td>0</td>\n",
       "      <td>0</td>\n",
       "      <td>105140240</td>\n",
       "    </tr>\n",
       "  </tbody>\n",
       "</table>\n",
       "<p>5 rows × 510 columns</p>\n",
       "</div>"
      ],
      "text/plain": [
       "       air conditioner   property condition: renovator   intercom system  \\\n",
       "0  0                 0                               0                 0   \n",
       "1  0                 0                               0                 0   \n",
       "2  0                 0                               0                 0   \n",
       "3  0                 0                               0                 0   \n",
       "4  0                 0                               0                 0   \n",
       "\n",
       "    verandah  gymnasium   fenced   quiet location   exhaust fan  \\\n",
       "0          0          0        0                0             0   \n",
       "1          0          0        0                0             0   \n",
       "2          0          0        0                0             0   \n",
       "3          0          0        0                0             0   \n",
       "4          0          0        0                0             0   \n",
       "\n",
       "    outdoor entertaining area  ...   large side access driveway   split sy  \\\n",
       "0                           0  ...                            0          0   \n",
       "1                           0  ...                            0          0   \n",
       "2                           0  ...                            0          0   \n",
       "3                           0  ...                            0          0   \n",
       "4                           0  ...                            0          0   \n",
       "\n",
       "    development potential stca   outdoor ent.  \\\n",
       "0                            0              0   \n",
       "1                            0              0   \n",
       "2                            0              0   \n",
       "3                            0              0   \n",
       "4                            0              0   \n",
       "\n",
       "   split system heating & air conditioning  deck   area views  \\\n",
       "0                                        0     0            0   \n",
       "1                                        0     0            0   \n",
       "2                                        0     0            0   \n",
       "3                                        0     0            0   \n",
       "4                                        0     0            0   \n",
       "\n",
       "    fixed floor coverings   ceiling fan         ID  \n",
       "0                       0             0    7513227  \n",
       "1                       0             0    7720571  \n",
       "2                       0             0  104997043  \n",
       "3                       0             0  105023594  \n",
       "4                       0             0  105140240  \n",
       "\n",
       "[5 rows x 510 columns]"
      ]
     },
     "execution_count": 35,
     "metadata": {},
     "output_type": "execute_result"
    }
   ],
   "source": [
    "final_feature_df.head()"
   ]
  },
  {
   "cell_type": "code",
   "execution_count": 36,
   "id": "22e9a0f1",
   "metadata": {},
   "outputs": [],
   "source": [
    "final_feature_df = final_feature_df.set_index('ID').reset_index()\n"
   ]
  },
  {
   "cell_type": "code",
   "execution_count": 37,
   "id": "d26ba9c8",
   "metadata": {},
   "outputs": [
    {
     "data": {
      "application/vnd.microsoft.datawrangler.viewer.v0+json": {
       "columns": [
        {
         "name": "index",
         "rawType": "int64",
         "type": "integer"
        },
        {
         "name": "ID",
         "rawType": "int64",
         "type": "integer"
        },
        {
         "name": "",
         "rawType": "int64",
         "type": "integer"
        },
        {
         "name": " air conditioner",
         "rawType": "int64",
         "type": "integer"
        },
        {
         "name": " property condition: renovator",
         "rawType": "int64",
         "type": "integer"
        },
        {
         "name": " intercom system",
         "rawType": "int64",
         "type": "integer"
        },
        {
         "name": " verandah",
         "rawType": "int64",
         "type": "integer"
        },
        {
         "name": "gymnasium",
         "rawType": "int64",
         "type": "integer"
        },
        {
         "name": " fenced",
         "rawType": "int64",
         "type": "integer"
        },
        {
         "name": " quiet location",
         "rawType": "int64",
         "type": "integer"
        },
        {
         "name": " exhaust fan",
         "rawType": "int64",
         "type": "integer"
        },
        {
         "name": " outdoor entertaining area",
         "rawType": "int64",
         "type": "integer"
        },
        {
         "name": " city views",
         "rawType": "int64",
         "type": "integer"
        },
        {
         "name": " townhouse house style: contemporary",
         "rawType": "int64",
         "type": "integer"
        },
        {
         "name": " close to bus services",
         "rawType": "int64",
         "type": "integer"
        },
        {
         "name": " period apartment",
         "rawType": "int64",
         "type": "integer"
        },
        {
         "name": " washing machine",
         "rawType": "int64",
         "type": "integer"
        },
        {
         "name": " double lock-up",
         "rawType": "int64",
         "type": "integer"
        },
        {
         "name": " hydronic heating",
         "rawType": "int64",
         "type": "integer"
        },
        {
         "name": " patio",
         "rawType": "int64",
         "type": "integer"
        },
        {
         "name": " above ground pool",
         "rawType": "int64",
         "type": "integer"
        },
        {
         "name": "row at rear",
         "rawType": "int64",
         "type": "integer"
        },
        {
         "name": " sunroom",
         "rawType": "int64",
         "type": "integer"
        },
        {
         "name": " security lighting",
         "rawType": "int64",
         "type": "integer"
        },
        {
         "name": " auto doors",
         "rawType": "int64",
         "type": "integer"
        },
        {
         "name": " workshop",
         "rawType": "int64",
         "type": "integer"
        },
        {
         "name": " close to transport/shops/school/park/cbd",
         "rawType": "int64",
         "type": "integer"
        },
        {
         "name": " safe",
         "rawType": "int64",
         "type": "integer"
        },
        {
         "name": " built i",
         "rawType": "int64",
         "type": "integer"
        },
        {
         "name": " blinds",
         "rawType": "int64",
         "type": "integer"
        },
        {
         "name": " modern bathroom",
         "rawType": "int64",
         "type": "integer"
        },
        {
         "name": "alarm",
         "rawType": "int64",
         "type": "integer"
        },
        {
         "name": " automated sprinkler system",
         "rawType": "int64",
         "type": "integer"
        },
        {
         "name": "evaporative cooling",
         "rawType": "int64",
         "type": "integer"
        },
        {
         "name": " split systems",
         "rawType": "int64",
         "type": "integer"
        },
        {
         "name": "gas heater",
         "rawType": "int64",
         "type": "integer"
        },
        {
         "name": " in-ground pool (heated)",
         "rawType": "int64",
         "type": "integer"
        },
        {
         "name": " full ensuite",
         "rawType": "int64",
         "type": "integer"
        },
        {
         "name": " self-contained accommodation",
         "rawType": "int64",
         "type": "integer"
        },
        {
         "name": " undercover outdoor area",
         "rawType": "int64",
         "type": "integer"
        },
        {
         "name": " parents/childrens retreat",
         "rawType": "int64",
         "type": "integer"
        },
        {
         "name": " turn key! just move in",
         "rawType": "int64",
         "type": "integer"
        },
        {
         "name": " dining room",
         "rawType": "int64",
         "type": "integer"
        },
        {
         "name": " lift",
         "rawType": "int64",
         "type": "integer"
        },
        {
         "name": " caesarstone benchtops",
         "rawType": "int64",
         "type": "integer"
        },
        {
         "name": "close to schools",
         "rawType": "int64",
         "type": "integer"
        },
        {
         "name": " internal a",
         "rawType": "int64",
         "type": "integer"
        },
        {
         "name": " reve",
         "rawType": "int64",
         "type": "integer"
        },
        {
         "name": " smeg kitchen appliances",
         "rawType": "int64",
         "type": "integer"
        },
        {
         "name": " art deco apartment",
         "rawType": "int64",
         "type": "integer"
        },
        {
         "name": " garden watering system",
         "rawType": "int64",
         "type": "integer"
        },
        {
         "name": "alfresco",
         "rawType": "int64",
         "type": "integer"
        },
        {
         "name": " security entrance",
         "rawType": "int64",
         "type": "integer"
        },
        {
         "name": " family room",
         "rawType": "int64",
         "type": "integer"
        },
        {
         "name": " built-in bbq",
         "rawType": "int64",
         "type": "integer"
        },
        {
         "name": "courtyard",
         "rawType": "int64",
         "type": "integer"
        },
        {
         "name": " fullty fenced",
         "rawType": "int64",
         "type": "integer"
        },
        {
         "name": " light fittings",
         "rawType": "int64",
         "type": "integer"
        },
        {
         "name": " close to beach",
         "rawType": "int64",
         "type": "integer"
        },
        {
         "name": " polished timber floors",
         "rawType": "int64",
         "type": "integer"
        },
        {
         "name": " property condition: excellent",
         "rawType": "int64",
         "type": "integer"
        },
        {
         "name": " insect screen",
         "rawType": "int64",
         "type": "integer"
        },
        {
         "name": " lounge",
         "rawType": "int64",
         "type": "integer"
        },
        {
         "name": " gas heating",
         "rawType": "int64",
         "type": "integer"
        },
        {
         "name": "carpeted",
         "rawType": "int64",
         "type": "integer"
        },
        {
         "name": " rumpus room",
         "rawType": "int64",
         "type": "integer"
        },
        {
         "name": " outdoor entertainment area",
         "rawType": "int64",
         "type": "integer"
        },
        {
         "name": " spa",
         "rawType": "int64",
         "type": "integer"
        },
        {
         "name": " built in rob",
         "rawType": "int64",
         "type": "integer"
        },
        {
         "name": " deck",
         "rawType": "int64",
         "type": "integer"
        },
        {
         "name": " skylight",
         "rawType": "int64",
         "type": "integer"
        },
        {
         "name": " wir",
         "rawType": "int64",
         "type": "integer"
        },
        {
         "name": "solar panels",
         "rawType": "int64",
         "type": "integer"
        },
        {
         "name": " close to local schools",
         "rawType": "int64",
         "type": "integer"
        },
        {
         "name": " slab heating",
         "rawType": "int64",
         "type": "integer"
        },
        {
         "name": "shed",
         "rawType": "int64",
         "type": "integer"
        },
        {
         "name": " complete turnkey",
         "rawType": "int64",
         "type": "integer"
        },
        {
         "name": " hot water service",
         "rawType": "int64",
         "type": "integer"
        },
        {
         "name": " rumpus",
         "rawType": "int64",
         "type": "integer"
        },
        {
         "name": " home office",
         "rawType": "int64",
         "type": "integer"
        },
        {
         "name": "home office",
         "rawType": "int64",
         "type": "integer"
        },
        {
         "name": " side access",
         "rawType": "int64",
         "type": "integer"
        },
        {
         "name": " master bedroom offering unique circular shower.",
         "rawType": "int64",
         "type": "integer"
        },
        {
         "name": " air conditioning",
         "rawType": "int64",
         "type": "integer"
        },
        {
         "name": " resident barbeque facilities",
         "rawType": "int64",
         "type": "integer"
        },
        {
         "name": " air-conditioning",
         "rawType": "int64",
         "type": "integer"
        },
        {
         "name": " bu",
         "rawType": "int64",
         "type": "integer"
        },
        {
         "name": " south side location",
         "rawType": "int64",
         "type": "integer"
        },
        {
         "name": " high ceilings",
         "rawType": "int64",
         "type": "integer"
        },
        {
         "name": " landscaped grounds",
         "rawType": "int64",
         "type": "integer"
        },
        {
         "name": " living areas",
         "rawType": "int64",
         "type": "integer"
        },
        {
         "name": " airconditioner",
         "rawType": "int64",
         "type": "integer"
        },
        {
         "name": " studio",
         "rawType": "int64",
         "type": "integer"
        },
        {
         "name": " bbq area",
         "rawType": "int64",
         "type": "integer"
        },
        {
         "name": " study",
         "rawType": "int64",
         "type": "integer"
        },
        {
         "name": " air conditioning - evaporative",
         "rawType": "int64",
         "type": "integer"
        },
        {
         "name": " apartment unit style: lowrise garaging / carparking: off street",
         "rawType": "int64",
         "type": "integer"
        },
        {
         "name": " jetty",
         "rawType": "int64",
         "type": "integer"
        },
        {
         "name": " in-ground pool",
         "rawType": "int64",
         "type": "integer"
        },
        {
         "name": " evaporative cooling",
         "rawType": "int64",
         "type": "integer"
        },
        {
         "name": "gas stove",
         "rawType": "int64",
         "type": "integer"
        },
        {
         "name": " reverse cycle heating & cooling",
         "rawType": "int64",
         "type": "integer"
        },
        {
         "name": " clothes line",
         "rawType": "int64",
         "type": "integer"
        },
        {
         "name": "hydronic heating",
         "rawType": "int64",
         "type": "integer"
        },
        {
         "name": " panel heating",
         "rawType": "int64",
         "type": "integer"
        },
        {
         "name": " timber flooring",
         "rawType": "int64",
         "type": "integer"
        },
        {
         "name": " storage area",
         "rawType": "int64",
         "type": "integer"
        },
        {
         "name": " alfresco area",
         "rawType": "int64",
         "type": "integer"
        },
        {
         "name": " split system aircon",
         "rawType": "int64",
         "type": "integer"
        },
        {
         "name": " renovated kitchen",
         "rawType": "int64",
         "type": "integer"
        },
        {
         "name": " close to transport/shops/school/park",
         "rawType": "int64",
         "type": "integer"
        },
        {
         "name": " property condition: renovated",
         "rawType": "int64",
         "type": "integer"
        },
        {
         "name": "study nook",
         "rawType": "int64",
         "type": "integer"
        },
        {
         "name": "fully fenced",
         "rawType": "int64",
         "type": "integer"
        },
        {
         "name": " vacuum system",
         "rawType": "int64",
         "type": "integer"
        },
        {
         "name": "water tank",
         "rawType": "int64",
         "type": "integer"
        },
        {
         "name": "polished timber floor",
         "rawType": "int64",
         "type": "integer"
        },
        {
         "name": " outdoor living",
         "rawType": "int64",
         "type": "integer"
        },
        {
         "name": "tennis court",
         "rawType": "int64",
         "type": "integer"
        },
        {
         "name": " reverse cycle aircon",
         "rawType": "int64",
         "type": "integer"
        },
        {
         "name": " great location",
         "rawType": "int64",
         "type": "integer"
        },
        {
         "name": " period home",
         "rawType": "int64",
         "type": "integer"
        },
        {
         "name": " ring road and airport access",
         "rawType": "int64",
         "type": "integer"
        },
        {
         "name": "air-conditioning",
         "rawType": "int64",
         "type": "integer"
        },
        {
         "name": " front landscaping +",
         "rawType": "int64",
         "type": "integer"
        },
        {
         "name": "court location",
         "rawType": "int64",
         "type": "integer"
        },
        {
         "name": " gas hot water service",
         "rawType": "int64",
         "type": "integer"
        },
        {
         "name": " open floor plan",
         "rawType": "int64",
         "type": "integer"
        },
        {
         "name": " caesarstone kitchen b'top",
         "rawType": "int64",
         "type": "integer"
        },
        {
         "name": " broadband",
         "rawType": "int64",
         "type": "integer"
        },
        {
         "name": " ceiling fans",
         "rawType": "int64",
         "type": "integer"
        },
        {
         "name": " above-ground pool",
         "rawType": "int64",
         "type": "integer"
        },
        {
         "name": " auto garage door",
         "rawType": "int64",
         "type": "integer"
        },
        {
         "name": " flo",
         "rawType": "int64",
         "type": "integer"
        },
        {
         "name": "gas heating",
         "rawType": "int64",
         "type": "integer"
        },
        {
         "name": " outdoor spa",
         "rawType": "int64",
         "type": "integer"
        },
        {
         "name": " fenced back yar",
         "rawType": "int64",
         "type": "integer"
        },
        {
         "name": "built in robes",
         "rawType": "int64",
         "type": "integer"
        },
        {
         "name": " location",
         "rawType": "int64",
         "type": "integer"
        },
        {
         "name": " security access",
         "rawType": "int64",
         "type": "integer"
        },
        {
         "name": " ducted vacuum",
         "rawType": "int64",
         "type": "integer"
        },
        {
         "name": " solar hot water",
         "rawType": "int64",
         "type": "integer"
        },
        {
         "name": " wood fire",
         "rawType": "int64",
         "type": "integer"
        },
        {
         "name": " fully fenc",
         "rawType": "int64",
         "type": "integer"
        },
        {
         "name": " pet friendly",
         "rawType": "int64",
         "type": "integer"
        },
        {
         "name": " water views",
         "rawType": "int64",
         "type": "integer"
        },
        {
         "name": " pol. timber floors",
         "rawType": "int64",
         "type": "integer"
        },
        {
         "name": " close to shops",
         "rawType": "int64",
         "type": "integer"
        },
        {
         "name": "separate dining",
         "rawType": "int64",
         "type": "integer"
        },
        {
         "name": " block of units",
         "rawType": "int64",
         "type": "integer"
        },
        {
         "name": " cable tv access",
         "rawType": "int64",
         "type": "integer"
        },
        {
         "name": " swimming pool - above ground",
         "rawType": "int64",
         "type": "integer"
        },
        {
         "name": " polished floor boards",
         "rawType": "int64",
         "type": "integer"
        },
        {
         "name": " indoor entertainment area",
         "rawType": "int64",
         "type": "integer"
        },
        {
         "name": "riverbank position",
         "rawType": "int64",
         "type": "integer"
        },
        {
         "name": " security lights",
         "rawType": "int64",
         "type": "integer"
        },
        {
         "name": " tv antenna",
         "rawType": "int64",
         "type": "integer"
        },
        {
         "name": " land",
         "rawType": "int64",
         "type": "integer"
        },
        {
         "name": " close to clayton train station",
         "rawType": "int64",
         "type": "integer"
        },
        {
         "name": " gas",
         "rawType": "int64",
         "type": "integer"
        },
        {
         "name": " indoor spa",
         "rawType": "int64",
         "type": "integer"
        },
        {
         "name": " street facing",
         "rawType": "int64",
         "type": "integer"
        },
        {
         "name": " refrigerated cooling",
         "rawType": "int64",
         "type": "integer"
        },
        {
         "name": " garden shed",
         "rawType": "int64",
         "type": "integer"
        },
        {
         "name": " restaurant",
         "rawType": "int64",
         "type": "integer"
        },
        {
         "name": " split s",
         "rawType": "int64",
         "type": "integer"
        },
        {
         "name": " just bring your furniture!",
         "rawType": "int64",
         "type": "integer"
        },
        {
         "name": " pool",
         "rawType": "int64",
         "type": "integer"
        },
        {
         "name": "split system",
         "rawType": "int64",
         "type": "integer"
        },
        {
         "name": " split-system air-conditioning",
         "rawType": "int64",
         "type": "integer"
        },
        {
         "name": " water access",
         "rawType": "int64",
         "type": "integer"
        },
        {
         "name": " garage with internal access",
         "rawType": "int64",
         "type": "integer"
        },
        {
         "name": " built in r",
         "rawType": "int64",
         "type": "integer"
        },
        {
         "name": " inground pool",
         "rawType": "int64",
         "type": "integer"
        },
        {
         "name": " swimming pool",
         "rawType": "int64",
         "type": "integer"
        },
        {
         "name": " tennis court",
         "rawType": "int64",
         "type": "integer"
        },
        {
         "name": " large block",
         "rawType": "int64",
         "type": "integer"
        },
        {
         "name": " views",
         "rawType": "int64",
         "type": "integer"
        },
        {
         "name": " ocean views",
         "rawType": "int64",
         "type": "integer"
        },
        {
         "name": " fenced back yard",
         "rawType": "int64",
         "type": "integer"
        },
        {
         "name": " balcony small",
         "rawType": "int64",
         "type": "integer"
        },
        {
         "name": " close to schools",
         "rawType": "int64",
         "type": "integer"
        },
        {
         "name": " full concierge",
         "rawType": "int64",
         "type": "integer"
        },
        {
         "name": " fireplace",
         "rawType": "int64",
         "type": "integer"
        },
        {
         "name": " central vacuum system",
         "rawType": "int64",
         "type": "integer"
        },
        {
         "name": " split system air",
         "rawType": "int64",
         "type": "integer"
        },
        {
         "name": "alarm/security system",
         "rawType": "int64",
         "type": "integer"
        },
        {
         "name": "remote garage",
         "rawType": "int64",
         "type": "integer"
        },
        {
         "name": " broadband internet available",
         "rawType": "int64",
         "type": "integer"
        },
        {
         "name": " lock up garage",
         "rawType": "int64",
         "type": "integer"
        },
        {
         "name": " floorboards",
         "rawType": "int64",
         "type": "integer"
        },
        {
         "name": "en-suite",
         "rawType": "int64",
         "type": "integer"
        },
        {
         "name": " courty",
         "rawType": "int64",
         "type": "integer"
        },
        {
         "name": " open plan living",
         "rawType": "int64",
         "type": "integer"
        },
        {
         "name": " gas stove",
         "rawType": "int64",
         "type": "integer"
        },
        {
         "name": " alarm",
         "rawType": "int64",
         "type": "integer"
        },
        {
         "name": " ducted air-conditioning",
         "rawType": "int64",
         "type": "integer"
        },
        {
         "name": " shed/workshop",
         "rawType": "int64",
         "type": "integer"
        },
        {
         "name": " built in robes",
         "rawType": "int64",
         "type": "integer"
        },
        {
         "name": "property condition: excellent",
         "rawType": "int64",
         "type": "integer"
        },
        {
         "name": " balcony",
         "rawType": "int64",
         "type": "integer"
        },
        {
         "name": " high clearance",
         "rawType": "int64",
         "type": "integer"
        },
        {
         "name": " swimming pool - inground",
         "rawType": "int64",
         "type": "integer"
        },
        {
         "name": " close to bus/on bus route",
         "rawType": "int64",
         "type": "integer"
        },
        {
         "name": " split system",
         "rawType": "int64",
         "type": "integer"
        },
        {
         "name": " balcony large",
         "rawType": "int64",
         "type": "integer"
        },
        {
         "name": "cellar",
         "rawType": "int64",
         "type": "integer"
        },
        {
         "name": " rumpus/study",
         "rawType": "int64",
         "type": "integer"
        },
        {
         "name": " gas ducted heating",
         "rawType": "int64",
         "type": "integer"
        },
        {
         "name": " stainless steel appliances",
         "rawType": "int64",
         "type": "integer"
        },
        {
         "name": " storage cage",
         "rawType": "int64",
         "type": "integer"
        },
        {
         "name": " duct heat",
         "rawType": "int64",
         "type": "integer"
        },
        {
         "name": " built in ro",
         "rawType": "int64",
         "type": "integer"
        },
        {
         "name": " gym",
         "rawType": "int64",
         "type": "integer"
        },
        {
         "name": " shed",
         "rawType": "int64",
         "type": "integer"
        },
        {
         "name": "off street parking",
         "rawType": "int64",
         "type": "integer"
        },
        {
         "name": " roller door access",
         "rawType": "int64",
         "type": "integer"
        },
        {
         "name": " on site building manager",
         "rawType": "int64",
         "type": "integer"
        },
        {
         "name": " bungalo",
         "rawType": "int64",
         "type": "integer"
        },
        {
         "name": " floorboa",
         "rawType": "int64",
         "type": "integer"
        },
        {
         "name": " walk-in robes",
         "rawType": "int64",
         "type": "integer"
        },
        {
         "name": " basement",
         "rawType": "int64",
         "type": "integer"
        },
        {
         "name": " ensuite",
         "rawType": "int64",
         "type": "integer"
        },
        {
         "name": " secure p",
         "rawType": "int64",
         "type": "integer"
        },
        {
         "name": " security shutters",
         "rawType": "int64",
         "type": "integer"
        },
        {
         "name": "storage cage",
         "rawType": "int64",
         "type": "integer"
        },
        {
         "name": " open fireplace",
         "rawType": "int64",
         "type": "integer"
        },
        {
         "name": "  storage cage",
         "rawType": "int64",
         "type": "integer"
        },
        {
         "name": " townhouse",
         "rawType": "int64",
         "type": "integer"
        },
        {
         "name": " furnished",
         "rawType": "int64",
         "type": "integer"
        },
        {
         "name": " creative",
         "rawType": "int64",
         "type": "integer"
        },
        {
         "name": " rangehood",
         "rawType": "int64",
         "type": "integer"
        },
        {
         "name": "row",
         "rawType": "int64",
         "type": "integer"
        },
        {
         "name": " close to transpor",
         "rawType": "int64",
         "type": "integer"
        },
        {
         "name": "bungalow",
         "rawType": "int64",
         "type": "integer"
        },
        {
         "name": " ducted cooling",
         "rawType": "int64",
         "type": "integer"
        },
        {
         "name": " low maintenance",
         "rawType": "int64",
         "type": "integer"
        },
        {
         "name": " formal dining room",
         "rawType": "int64",
         "type": "integer"
        },
        {
         "name": " carpeted",
         "rawType": "int64",
         "type": "integer"
        },
        {
         "name": " stove - gas",
         "rawType": "int64",
         "type": "integer"
        },
        {
         "name": " meals area",
         "rawType": "int64",
         "type": "integer"
        },
        {
         "name": "ducted vacuum",
         "rawType": "int64",
         "type": "integer"
        },
        {
         "name": " car parking - surface",
         "rawType": "int64",
         "type": "integer"
        },
        {
         "name": " stu",
         "rawType": "int64",
         "type": "integer"
        },
        {
         "name": " clos",
         "rawType": "int64",
         "type": "integer"
        },
        {
         "name": " heating/cooling",
         "rawType": "int64",
         "type": "integer"
        },
        {
         "name": " swipe card",
         "rawType": "int64",
         "type": "integer"
        },
        {
         "name": " r/c split system",
         "rawType": "int64",
         "type": "integer"
        },
        {
         "name": " remote garage",
         "rawType": "int64",
         "type": "integer"
        },
        {
         "name": " letterbox + so much more",
         "rawType": "int64",
         "type": "integer"
        },
        {
         "name": " built-in robes",
         "rawType": "int64",
         "type": "integer"
        },
        {
         "name": " close to transport/shops/school/pa",
         "rawType": "int64",
         "type": "integer"
        },
        {
         "name": " dam",
         "rawType": "int64",
         "type": "integer"
        },
        {
         "name": " built in wardrobes",
         "rawType": "int64",
         "type": "integer"
        },
        {
         "name": " gas heater",
         "rawType": "int64",
         "type": "integer"
        },
        {
         "name": " concierge/manager",
         "rawType": "int64",
         "type": "integer"
        },
        {
         "name": "  spa",
         "rawType": "int64",
         "type": "integer"
        },
        {
         "name": " fireplace(s)",
         "rawType": "int64",
         "type": "integer"
        },
        {
         "name": " district views",
         "rawType": "int64",
         "type": "integer"
        },
        {
         "name": " house garaging / carparking: open carport",
         "rawType": "int64",
         "type": "integer"
        },
        {
         "name": " air conditioning - refridgerated",
         "rawType": "int64",
         "type": "integer"
        },
        {
         "name": "formal lounge",
         "rawType": "int64",
         "type": "integer"
        },
        {
         "name": " dishwasher",
         "rawType": "int64",
         "type": "integer"
        },
        {
         "name": "secure parking",
         "rawType": "int64",
         "type": "integer"
        },
        {
         "name": " separate driveway",
         "rawType": "int64",
         "type": "integer"
        },
        {
         "name": " bbq",
         "rawType": "int64",
         "type": "integer"
        },
        {
         "name": " watering system",
         "rawType": "int64",
         "type": "integer"
        },
        {
         "name": "built-in wardrobes",
         "rawType": "int64",
         "type": "integer"
        },
        {
         "name": " kitchen/meals",
         "rawType": "int64",
         "type": "integer"
        },
        {
         "name": " under house storage",
         "rawType": "int64",
         "type": "integer"
        },
        {
         "name": " secure par",
         "rawType": "int64",
         "type": "integer"
        },
        {
         "name": " pay tv access",
         "rawType": "int64",
         "type": "integer"
        },
        {
         "name": "air conditioning",
         "rawType": "int64",
         "type": "integer"
        },
        {
         "name": " sauna",
         "rawType": "int64",
         "type": "integer"
        },
        {
         "name": " roller shutters",
         "rawType": "int64",
         "type": "integer"
        },
        {
         "name": " outside spa",
         "rawType": "int64",
         "type": "integer"
        },
        {
         "name": " remote garage door",
         "rawType": "int64",
         "type": "integer"
        },
        {
         "name": "workshop",
         "rawType": "int64",
         "type": "integer"
        },
        {
         "name": " split system cooling",
         "rawType": "int64",
         "type": "integer"
        },
        {
         "name": " formal dining",
         "rawType": "int64",
         "type": "integer"
        },
        {
         "name": " close to transport/shops/school",
         "rawType": "int64",
         "type": "integer"
        },
        {
         "name": " toilet facilities",
         "rawType": "int64",
         "type": "integer"
        },
        {
         "name": " storage",
         "rawType": "int64",
         "type": "integer"
        },
        {
         "name": "  dishwasher",
         "rawType": "int64",
         "type": "integer"
        },
        {
         "name": "property condition: renovated",
         "rawType": "int64",
         "type": "integer"
        },
        {
         "name": " walk-in-robes",
         "rawType": "int64",
         "type": "integer"
        },
        {
         "name": " powder room",
         "rawType": "int64",
         "type": "integer"
        },
        {
         "name": " separate dining room",
         "rawType": "int64",
         "type": "integer"
        },
        {
         "name": " close to transport",
         "rawType": "int64",
         "type": "integer"
        },
        {
         "name": " reverse-cycle air conditioning",
         "rawType": "int64",
         "type": "integer"
        },
        {
         "name": " resident building manager",
         "rawType": "int64",
         "type": "integer"
        },
        {
         "name": " self contained bungalow",
         "rawType": "int64",
         "type": "integer"
        },
        {
         "name": " undercover entertainment area",
         "rawType": "int64",
         "type": "integer"
        },
        {
         "name": " secure entry",
         "rawType": "int64",
         "type": "integer"
        },
        {
         "name": " bui",
         "rawType": "int64",
         "type": "integer"
        },
        {
         "name": "refrigerated cooling",
         "rawType": "int64",
         "type": "integer"
        },
        {
         "name": " evap cooling",
         "rawType": "int64",
         "type": "integer"
        },
        {
         "name": " courtya",
         "rawType": "int64",
         "type": "integer"
        },
        {
         "name": " greywater system",
         "rawType": "int64",
         "type": "integer"
        },
        {
         "name": " formal lounge",
         "rawType": "int64",
         "type": "integer"
        },
        {
         "name": "intercom",
         "rawType": "int64",
         "type": "integer"
        },
        {
         "name": " pergola",
         "rawType": "int64",
         "type": "integer"
        },
        {
         "name": " polished floors",
         "rawType": "int64",
         "type": "integer"
        },
        {
         "name": " intercom",
         "rawType": "int64",
         "type": "integer"
        },
        {
         "name": " built in",
         "rawType": "int64",
         "type": "integer"
        },
        {
         "name": "intercom system",
         "rawType": "int64",
         "type": "integer"
        },
        {
         "name": " landscaping",
         "rawType": "int64",
         "type": "integer"
        },
        {
         "name": " remote garage opener",
         "rawType": "int64",
         "type": "integer"
        },
        {
         "name": "heating",
         "rawType": "int64",
         "type": "integer"
        },
        {
         "name": " water frontage",
         "rawType": "int64",
         "type": "integer"
        },
        {
         "name": " wood heater",
         "rawType": "int64",
         "type": "integer"
        },
        {
         "name": "new carpets",
         "rawType": "int64",
         "type": "integer"
        },
        {
         "name": "study",
         "rawType": "int64",
         "type": "integer"
        },
        {
         "name": " freshly painted",
         "rawType": "int64",
         "type": "integer"
        },
        {
         "name": " polished floorboards",
         "rawType": "int64",
         "type": "integer"
        },
        {
         "name": " close to clayton central shops",
         "rawType": "int64",
         "type": "integer"
        },
        {
         "name": "brand new",
         "rawType": "int64",
         "type": "integer"
        },
        {
         "name": " stone benches",
         "rawType": "int64",
         "type": "integer"
        },
        {
         "name": " s.steel kitchen appliances",
         "rawType": "int64",
         "type": "integer"
        },
        {
         "name": " off street",
         "rawType": "int64",
         "type": "integer"
        },
        {
         "name": " se",
         "rawType": "int64",
         "type": "integer"
        },
        {
         "name": " alarm/security system",
         "rawType": "int64",
         "type": "integer"
        },
        {
         "name": " separate dining",
         "rawType": "int64",
         "type": "integer"
        },
        {
         "name": " gas hot water",
         "rawType": "int64",
         "type": "integer"
        },
        {
         "name": " level lawn",
         "rawType": "int64",
         "type": "integer"
        },
        {
         "name": " close to monash uni",
         "rawType": "int64",
         "type": "integer"
        },
        {
         "name": " home theatre",
         "rawType": "int64",
         "type": "integer"
        },
        {
         "name": " row at rear",
         "rawType": "int64",
         "type": "integer"
        },
        {
         "name": " floo",
         "rawType": "int64",
         "type": "integer"
        },
        {
         "name": "  cooling",
         "rawType": "int64",
         "type": "integer"
        },
        {
         "name": " car parking - basement",
         "rawType": "int64",
         "type": "integer"
        },
        {
         "name": " terrace",
         "rawType": "int64",
         "type": "integer"
        },
        {
         "name": " close to parklands",
         "rawType": "int64",
         "type": "integer"
        },
        {
         "name": " bath",
         "rawType": "int64",
         "type": "integer"
        },
        {
         "name": " near waterfront",
         "rawType": "int64",
         "type": "integer"
        },
        {
         "name": " established gardens",
         "rawType": "int64",
         "type": "integer"
        },
        {
         "name": " close to comm",
         "rawType": "int64",
         "type": "integer"
        },
        {
         "name": " water ta",
         "rawType": "int64",
         "type": "integer"
        },
        {
         "name": " driveway",
         "rawType": "int64",
         "type": "integer"
        },
        {
         "name": " garage - remote control",
         "rawType": "int64",
         "type": "integer"
        },
        {
         "name": " kitchen - laminex",
         "rawType": "int64",
         "type": "integer"
        },
        {
         "name": "ducted heating",
         "rawType": "int64",
         "type": "integer"
        },
        {
         "name": " secure parking",
         "rawType": "int64",
         "type": "integer"
        },
        {
         "name": " d/washer",
         "rawType": "int64",
         "type": "integer"
        },
        {
         "name": " security gate",
         "rawType": "int64",
         "type": "integer"
        },
        {
         "name": " separate laundry",
         "rawType": "int64",
         "type": "integer"
        },
        {
         "name": " garden she",
         "rawType": "int64",
         "type": "integer"
        },
        {
         "name": " robes - built-in",
         "rawType": "int64",
         "type": "integer"
        },
        {
         "name": "sunroom",
         "rawType": "int64",
         "type": "integer"
        },
        {
         "name": "terrace/balcony",
         "rawType": "int64",
         "type": "integer"
        },
        {
         "name": " solar hot water system",
         "rawType": "int64",
         "type": "integer"
        },
        {
         "name": "close to transport",
         "rawType": "int64",
         "type": "integer"
        },
        {
         "name": " water tank",
         "rawType": "int64",
         "type": "integer"
        },
        {
         "name": " terrace/paved",
         "rawType": "int64",
         "type": "integer"
        },
        {
         "name": " secu",
         "rawType": "int64",
         "type": "integer"
        },
        {
         "name": " reverse cycle heating",
         "rawType": "int64",
         "type": "integer"
        },
        {
         "name": " split system heating",
         "rawType": "int64",
         "type": "integer"
        },
        {
         "name": " carport",
         "rawType": "int64",
         "type": "integer"
        },
        {
         "name": " central location",
         "rawType": "int64",
         "type": "integer"
        },
        {
         "name": " large living areas",
         "rawType": "int64",
         "type": "integer"
        },
        {
         "name": " inside spa",
         "rawType": "int64",
         "type": "integer"
        },
        {
         "name": " renovated",
         "rawType": "int64",
         "type": "integer"
        },
        {
         "name": " close to transport/shops/school/p",
         "rawType": "int64",
         "type": "integer"
        },
        {
         "name": "spa",
         "rawType": "int64",
         "type": "integer"
        },
        {
         "name": " off street parking",
         "rawType": "int64",
         "type": "integer"
        },
        {
         "name": "storage",
         "rawType": "int64",
         "type": "integer"
        },
        {
         "name": "close to bus services",
         "rawType": "int64",
         "type": "integer"
        },
        {
         "name": " gas stainless steel cooktop",
         "rawType": "int64",
         "type": "integer"
        },
        {
         "name": "garden",
         "rawType": "int64",
         "type": "integer"
        },
        {
         "name": " spa ensuite",
         "rawType": "int64",
         "type": "integer"
        },
        {
         "name": "high ceilings",
         "rawType": "int64",
         "type": "integer"
        },
        {
         "name": " alarm system",
         "rawType": "int64",
         "type": "integer"
        },
        {
         "name": " airconditioning",
         "rawType": "int64",
         "type": "integer"
        },
        {
         "name": " security system",
         "rawType": "int64",
         "type": "integer"
        },
        {
         "name": " alfresco",
         "rawType": "int64",
         "type": "integer"
        },
        {
         "name": "swimming pool - inground",
         "rawType": "int64",
         "type": "integer"
        },
        {
         "name": " fully fenced",
         "rawType": "int64",
         "type": "integer"
        },
        {
         "name": "city views",
         "rawType": "int64",
         "type": "integer"
        },
        {
         "name": " period features",
         "rawType": "int64",
         "type": "integer"
        },
        {
         "name": " ig pool",
         "rawType": "int64",
         "type": "integer"
        },
        {
         "name": " garden",
         "rawType": "int64",
         "type": "integer"
        },
        {
         "name": " attic",
         "rawType": "int64",
         "type": "integer"
        },
        {
         "name": "fireplace(s)",
         "rawType": "int64",
         "type": "integer"
        },
        {
         "name": " split-system air conditioning",
         "rawType": "int64",
         "type": "integer"
        },
        {
         "name": " renovated bathroom",
         "rawType": "int64",
         "type": "integer"
        },
        {
         "name": " curtain/blinds",
         "rawType": "int64",
         "type": "integer"
        },
        {
         "name": " house house style: contemporary",
         "rawType": "int64",
         "type": "integer"
        },
        {
         "name": " built-in wardrobes",
         "rawType": "int64",
         "type": "integer"
        },
        {
         "name": " apartment unit style: highrise",
         "rawType": "int64",
         "type": "integer"
        },
        {
         "name": " openable windows",
         "rawType": "int64",
         "type": "integer"
        },
        {
         "name": " house house style: federation",
         "rawType": "int64",
         "type": "integer"
        },
        {
         "name": " multi story",
         "rawType": "int64",
         "type": "integer"
        },
        {
         "name": " f",
         "rawType": "int64",
         "type": "integer"
        },
        {
         "name": " ducted heating",
         "rawType": "int64",
         "type": "integer"
        },
        {
         "name": " corrugated iron",
         "rawType": "int64",
         "type": "integer"
        },
        {
         "name": " family",
         "rawType": "int64",
         "type": "integer"
        },
        {
         "name": " evap cool",
         "rawType": "int64",
         "type": "integer"
        },
        {
         "name": " shower facilities",
         "rawType": "int64",
         "type": "integer"
        },
        {
         "name": " split system a",
         "rawType": "int64",
         "type": "integer"
        },
        {
         "name": " row",
         "rawType": "int64",
         "type": "integer"
        },
        {
         "name": " barbecue",
         "rawType": "int64",
         "type": "integer"
        },
        {
         "name": " european laundry",
         "rawType": "int64",
         "type": "integer"
        },
        {
         "name": " curtains",
         "rawType": "int64",
         "type": "integer"
        },
        {
         "name": " house garaging / carparking: single lock-up",
         "rawType": "int64",
         "type": "integer"
        },
        {
         "name": " close to transport/",
         "rawType": "int64",
         "type": "integer"
        },
        {
         "name": " built-in-wardrobes",
         "rawType": "int64",
         "type": "integer"
        },
        {
         "name": " balcony/patio/terrace",
         "rawType": "int64",
         "type": "integer"
        },
        {
         "name": " corner block",
         "rawType": "int64",
         "type": "integer"
        },
        {
         "name": "ducted gas heating",
         "rawType": "int64",
         "type": "integer"
        },
        {
         "name": " walk in robe",
         "rawType": "int64",
         "type": "integer"
        },
        {
         "name": " open plan",
         "rawType": "int64",
         "type": "integer"
        },
        {
         "name": "boat mooring",
         "rawType": "int64",
         "type": "integer"
        },
        {
         "name": " buil",
         "rawType": "int64",
         "type": "integer"
        },
        {
         "name": " greenhouse",
         "rawType": "int64",
         "type": "integer"
        },
        {
         "name": " split system heating & air conditioning",
         "rawType": "int64",
         "type": "integer"
        },
        {
         "name": " house alarm",
         "rawType": "int64",
         "type": "integer"
        },
        {
         "name": " high ceiling",
         "rawType": "int64",
         "type": "integer"
        },
        {
         "name": " heating",
         "rawType": "int64",
         "type": "integer"
        },
        {
         "name": " close to transport/shops/school/",
         "rawType": "int64",
         "type": "integer"
        },
        {
         "name": " the ultimate heritage restoration",
         "rawType": "int64",
         "type": "integer"
        },
        {
         "name": " building security",
         "rawType": "int64",
         "type": "integer"
        },
        {
         "name": " gas cooking",
         "rawType": "int64",
         "type": "integer"
        },
        {
         "name": " clothesline",
         "rawType": "int64",
         "type": "integer"
        },
        {
         "name": " loung",
         "rawType": "int64",
         "type": "integer"
        },
        {
         "name": " smeg appliances",
         "rawType": "int64",
         "type": "integer"
        },
        {
         "name": " court yard",
         "rawType": "int64",
         "type": "integer"
        },
        {
         "name": " prestige homes",
         "rawType": "int64",
         "type": "integer"
        },
        {
         "name": " cooling",
         "rawType": "int64",
         "type": "integer"
        },
        {
         "name": "close to shops",
         "rawType": "int64",
         "type": "integer"
        },
        {
         "name": "heating/cooling",
         "rawType": "int64",
         "type": "integer"
        },
        {
         "name": " valley views",
         "rawType": "int64",
         "type": "integer"
        },
        {
         "name": " close",
         "rawType": "int64",
         "type": "integer"
        },
        {
         "name": " outdoor entertainment",
         "rawType": "int64",
         "type": "integer"
        },
        {
         "name": "pergola",
         "rawType": "int64",
         "type": "integer"
        },
        {
         "name": " house",
         "rawType": "int64",
         "type": "integer"
        },
        {
         "name": " landscaped gardens",
         "rawType": "int64",
         "type": "integer"
        },
        {
         "name": " large outdoor pergola",
         "rawType": "int64",
         "type": "integer"
        },
        {
         "name": " s",
         "rawType": "int64",
         "type": "integer"
        },
        {
         "name": "  ducted heating",
         "rawType": "int64",
         "type": "integer"
        },
        {
         "name": " built-in watering",
         "rawType": "int64",
         "type": "integer"
        },
        {
         "name": " open fire place",
         "rawType": "int64",
         "type": "integer"
        },
        {
         "name": " central heating and cooling",
         "rawType": "int64",
         "type": "integer"
        },
        {
         "name": " bir",
         "rawType": "int64",
         "type": "integer"
        },
        {
         "name": " internal laundry",
         "rawType": "int64",
         "type": "integer"
        },
        {
         "name": " ref cooling (duct)",
         "rawType": "int64",
         "type": "integer"
        },
        {
         "name": " built in watering",
         "rawType": "int64",
         "type": "integer"
        },
        {
         "name": " duplex/semi detach",
         "rawType": "int64",
         "type": "integer"
        },
        {
         "name": " built-in-robes",
         "rawType": "int64",
         "type": "integer"
        },
        {
         "name": " apartment",
         "rawType": "int64",
         "type": "integer"
        },
        {
         "name": " no body corp",
         "rawType": "int64",
         "type": "integer"
        },
        {
         "name": "slab heating",
         "rawType": "int64",
         "type": "integer"
        },
        {
         "name": " study nook",
         "rawType": "int64",
         "type": "integer"
        },
        {
         "name": "outdoor entertaining area",
         "rawType": "int64",
         "type": "integer"
        },
        {
         "name": " walk in robes",
         "rawType": "int64",
         "type": "integer"
        },
        {
         "name": " reverse cycle a",
         "rawType": "int64",
         "type": "integer"
        },
        {
         "name": " ducted gas heating",
         "rawType": "int64",
         "type": "integer"
        },
        {
         "name": " fl",
         "rawType": "int64",
         "type": "integer"
        },
        {
         "name": " built in robe",
         "rawType": "int64",
         "type": "integer"
        },
        {
         "name": " carspace off street",
         "rawType": "int64",
         "type": "integer"
        },
        {
         "name": " range hood",
         "rawType": "int64",
         "type": "integer"
        },
        {
         "name": " brand new",
         "rawType": "int64",
         "type": "integer"
        },
        {
         "name": " polished timber floor",
         "rawType": "int64",
         "type": "integer"
        },
        {
         "name": " bungalow",
         "rawType": "int64",
         "type": "integer"
        },
        {
         "name": " split-system heating",
         "rawType": "int64",
         "type": "integer"
        },
        {
         "name": " fully fenced yard",
         "rawType": "int64",
         "type": "integer"
        },
        {
         "name": " close to community park",
         "rawType": "int64",
         "type": "integer"
        },
        {
         "name": "dishwasher",
         "rawType": "int64",
         "type": "integer"
        },
        {
         "name": " central heating",
         "rawType": "int64",
         "type": "integer"
        },
        {
         "name": " water tank/s",
         "rawType": "int64",
         "type": "integer"
        },
        {
         "name": " complete just move in!",
         "rawType": "int64",
         "type": "integer"
        },
        {
         "name": " terrace/balcony",
         "rawType": "int64",
         "type": "integer"
        },
        {
         "name": " built in bbq",
         "rawType": "int64",
         "type": "integer"
        },
        {
         "name": " flat",
         "rawType": "int64",
         "type": "integer"
        },
        {
         "name": " built",
         "rawType": "int64",
         "type": "integer"
        },
        {
         "name": " cellar",
         "rawType": "int64",
         "type": "integer"
        },
        {
         "name": " modern kitchen",
         "rawType": "int64",
         "type": "integer"
        },
        {
         "name": " great potential",
         "rawType": "int64",
         "type": "integer"
        },
        {
         "name": " high ceilings throughout",
         "rawType": "int64",
         "type": "integer"
        },
        {
         "name": " street frontage",
         "rawType": "int64",
         "type": "integer"
        },
        {
         "name": " bir's",
         "rawType": "int64",
         "type": "integer"
        },
        {
         "name": " colorbond roof",
         "rawType": "int64",
         "type": "integer"
        },
        {
         "name": " split syste",
         "rawType": "int64",
         "type": "integer"
        },
        {
         "name": " timber floorboards",
         "rawType": "int64",
         "type": "integer"
        },
        {
         "name": " granny flat",
         "rawType": "int64",
         "type": "integer"
        },
        {
         "name": " double garage",
         "rawType": "int64",
         "type": "integer"
        },
        {
         "name": " roof tile",
         "rawType": "int64",
         "type": "integer"
        },
        {
         "name": " sliding robe doors",
         "rawType": "int64",
         "type": "integer"
        },
        {
         "name": " close to transport/s",
         "rawType": "int64",
         "type": "integer"
        },
        {
         "name": " solar panels",
         "rawType": "int64",
         "type": "integer"
        },
        {
         "name": " wirs",
         "rawType": "int64",
         "type": "integer"
        },
        {
         "name": " close to monash medical centre",
         "rawType": "int64",
         "type": "integer"
        },
        {
         "name": " courtyard",
         "rawType": "int64",
         "type": "integer"
        },
        {
         "name": " electric heating",
         "rawType": "int64",
         "type": "integer"
        },
        {
         "name": "pool",
         "rawType": "int64",
         "type": "integer"
        },
        {
         "name": " shops and schools",
         "rawType": "int64",
         "type": "integer"
        },
        {
         "name": " close to shops/school/park",
         "rawType": "int64",
         "type": "integer"
        },
        {
         "name": "balcony",
         "rawType": "int64",
         "type": "integer"
        },
        {
         "name": "gas ducted heating",
         "rawType": "int64",
         "type": "integer"
        },
        {
         "name": " ducted vacuum system",
         "rawType": "int64",
         "type": "integer"
        },
        {
         "name": " decking",
         "rawType": "int64",
         "type": "integer"
        },
        {
         "name": " side",
         "rawType": "int64",
         "type": "integer"
        },
        {
         "name": " unit",
         "rawType": "int64",
         "type": "integer"
        },
        {
         "name": " large side access driveway",
         "rawType": "int64",
         "type": "integer"
        },
        {
         "name": " split sy",
         "rawType": "int64",
         "type": "integer"
        },
        {
         "name": " development potential stca",
         "rawType": "int64",
         "type": "integer"
        },
        {
         "name": " outdoor ent.",
         "rawType": "int64",
         "type": "integer"
        },
        {
         "name": "split system heating & air conditioning",
         "rawType": "int64",
         "type": "integer"
        },
        {
         "name": "deck",
         "rawType": "int64",
         "type": "integer"
        },
        {
         "name": " area views",
         "rawType": "int64",
         "type": "integer"
        },
        {
         "name": " fixed floor coverings",
         "rawType": "int64",
         "type": "integer"
        },
        {
         "name": " ceiling fan",
         "rawType": "int64",
         "type": "integer"
        }
       ],
       "conversionMethod": "pd.DataFrame",
       "ref": "782bb731-b172-411f-ba62-41f3ad705405",
       "rows": [
        [
         "0",
         "7513227",
         "0",
         "0",
         "0",
         "0",
         "0",
         "0",
         "0",
         "0",
         "0",
         "0",
         "0",
         "0",
         "0",
         "0",
         "0",
         "0",
         "0",
         "0",
         "0",
         "0",
         "0",
         "0",
         "0",
         "0",
         "0",
         "0",
         "0",
         "0",
         "0",
         "0",
         "0",
         "0",
         "0",
         "0",
         "0",
         "0",
         "0",
         "0",
         "0",
         "0",
         "0",
         "0",
         "0",
         "0",
         "0",
         "0",
         "0",
         "0",
         "0",
         "0",
         "0",
         "0",
         "0",
         "0",
         "0",
         "0",
         "0",
         "0",
         "0",
         "0",
         "0",
         "0",
         "0",
         "0",
         "0",
         "0",
         "0",
         "0",
         "0",
         "0",
         "0",
         "0",
         "0",
         "0",
         "0",
         "0",
         "0",
         "0",
         "0",
         "0",
         "0",
         "0",
         "0",
         "0",
         "0",
         "0",
         "0",
         "0",
         "0",
         "0",
         "0",
         "0",
         "0",
         "0",
         "0",
         "0",
         "0",
         "0",
         "0",
         "0",
         "0",
         "0",
         "0",
         "0",
         "0",
         "0",
         "0",
         "0",
         "0",
         "0",
         "0",
         "0",
         "0",
         "0",
         "0",
         "0",
         "0",
         "0",
         "0",
         "0",
         "0",
         "0",
         "0",
         "0",
         "0",
         "0",
         "0",
         "0",
         "0",
         "0",
         "0",
         "0",
         "0",
         "0",
         "0",
         "0",
         "0",
         "0",
         "0",
         "0",
         "0",
         "0",
         "0",
         "0",
         "0",
         "0",
         "0",
         "0",
         "0",
         "0",
         "0",
         "0",
         "0",
         "0",
         "0",
         "0",
         "0",
         "0",
         "0",
         "0",
         "0",
         "0",
         "0",
         "0",
         "0",
         "0",
         "0",
         "0",
         "0",
         "0",
         "0",
         "0",
         "0",
         "0",
         "0",
         "0",
         "0",
         "0",
         "0",
         "0",
         "0",
         "0",
         "0",
         "0",
         "0",
         "0",
         "0",
         "0",
         "0",
         "0",
         "0",
         "0",
         "0",
         "0",
         "0",
         "0",
         "0",
         "0",
         "0",
         "0",
         "0",
         "0",
         "0",
         "0",
         "0",
         "0",
         "0",
         "0",
         "0",
         "0",
         "0",
         "0",
         "0",
         "0",
         "0",
         "0",
         "0",
         "0",
         "0",
         "0",
         "0",
         "0",
         "0",
         "0",
         "0",
         "0",
         "0",
         "0",
         "0",
         "0",
         "0",
         "0",
         "0",
         "0",
         "0",
         "0",
         "0",
         "0",
         "0",
         "0",
         "0",
         "0",
         "0",
         "0",
         "0",
         "0",
         "0",
         "0",
         "0",
         "0",
         "0",
         "0",
         "0",
         "0",
         "0",
         "0",
         "0",
         "0",
         "0",
         "0",
         "0",
         "0",
         "0",
         "0",
         "0",
         "0",
         "0",
         "0",
         "0",
         "0",
         "0",
         "0",
         "0",
         "0",
         "0",
         "0",
         "0",
         "0",
         "0",
         "0",
         "0",
         "0",
         "0",
         "0",
         "0",
         "0",
         "0",
         "0",
         "0",
         "0",
         "0",
         "0",
         "0",
         "0",
         "0",
         "0",
         "0",
         "0",
         "0",
         "0",
         "0",
         "0",
         "0",
         "0",
         "0",
         "0",
         "0",
         "0",
         "0",
         "0",
         "0",
         "0",
         "0",
         "0",
         "0",
         "0",
         "0",
         "0",
         "0",
         "0",
         "0",
         "0",
         "0",
         "0",
         "0",
         "0",
         "0",
         "0",
         "0",
         "0",
         "0",
         "0",
         "0",
         "0",
         "0",
         "0",
         "0",
         "0",
         "0",
         "0",
         "0",
         "0",
         "0",
         "0",
         "0",
         "0",
         "0",
         "0",
         "0",
         "0",
         "0",
         "0",
         "0",
         "0",
         "0",
         "0",
         "0",
         "0",
         "0",
         "0",
         "0",
         "0",
         "0",
         "0",
         "0",
         "0",
         "0",
         "0",
         "0",
         "0",
         "0",
         "0",
         "0",
         "0",
         "0",
         "0",
         "0",
         "0",
         "0",
         "0",
         "0",
         "0",
         "0",
         "0",
         "0",
         "0",
         "0",
         "0",
         "0",
         "0",
         "0",
         "0",
         "0",
         "0",
         "0",
         "0",
         "0",
         "0",
         "0",
         "0",
         "0",
         "0",
         "0",
         "0",
         "0",
         "0",
         "0",
         "0",
         "0",
         "0",
         "0",
         "0",
         "0",
         "0",
         "0",
         "0",
         "0",
         "0",
         "0",
         "0",
         "0",
         "0",
         "0",
         "0",
         "0",
         "0",
         "0",
         "0",
         "0",
         "0",
         "0",
         "0",
         "0",
         "0",
         "0",
         "0",
         "0",
         "0",
         "0",
         "0",
         "0",
         "0",
         "0",
         "0",
         "0",
         "0",
         "0",
         "0",
         "0",
         "0",
         "0",
         "0",
         "0",
         "0",
         "0",
         "0",
         "0",
         "0",
         "0",
         "0",
         "0",
         "0",
         "0",
         "0",
         "0",
         "0",
         "0",
         "0",
         "0",
         "0",
         "0",
         "0",
         "0",
         "0",
         "0",
         "0",
         "0",
         "0",
         "0",
         "0",
         "0",
         "0",
         "0",
         "0",
         "0",
         "0",
         "0",
         "0",
         "0",
         "0",
         "0",
         "0",
         "0",
         "0",
         "0",
         "0",
         "0",
         "0",
         "0",
         "0",
         "0",
         "0",
         "0",
         "0",
         "0",
         "0",
         "0",
         "0",
         "0"
        ],
        [
         "1",
         "7720571",
         "0",
         "0",
         "0",
         "0",
         "0",
         "0",
         "0",
         "0",
         "0",
         "0",
         "0",
         "0",
         "0",
         "0",
         "0",
         "0",
         "0",
         "0",
         "0",
         "0",
         "0",
         "0",
         "0",
         "0",
         "0",
         "0",
         "0",
         "0",
         "0",
         "0",
         "0",
         "0",
         "0",
         "0",
         "0",
         "0",
         "0",
         "0",
         "0",
         "0",
         "0",
         "0",
         "0",
         "0",
         "0",
         "0",
         "0",
         "0",
         "0",
         "0",
         "0",
         "0",
         "0",
         "0",
         "0",
         "0",
         "0",
         "0",
         "0",
         "0",
         "0",
         "0",
         "0",
         "0",
         "0",
         "0",
         "0",
         "0",
         "0",
         "0",
         "0",
         "0",
         "0",
         "0",
         "0",
         "0",
         "0",
         "0",
         "0",
         "0",
         "0",
         "0",
         "0",
         "0",
         "0",
         "0",
         "0",
         "0",
         "0",
         "0",
         "0",
         "0",
         "0",
         "0",
         "0",
         "0",
         "0",
         "0",
         "0",
         "0",
         "0",
         "0",
         "0",
         "0",
         "0",
         "0",
         "0",
         "0",
         "0",
         "0",
         "0",
         "0",
         "0",
         "0",
         "0",
         "0",
         "0",
         "0",
         "0",
         "0",
         "0",
         "0",
         "0",
         "0",
         "0",
         "0",
         "0",
         "0",
         "0",
         "0",
         "0",
         "0",
         "0",
         "0",
         "0",
         "0",
         "0",
         "0",
         "0",
         "0",
         "0",
         "0",
         "0",
         "0",
         "0",
         "0",
         "0",
         "0",
         "0",
         "0",
         "0",
         "0",
         "0",
         "0",
         "0",
         "0",
         "0",
         "0",
         "0",
         "0",
         "0",
         "0",
         "0",
         "0",
         "0",
         "0",
         "0",
         "0",
         "0",
         "0",
         "0",
         "0",
         "0",
         "0",
         "0",
         "0",
         "0",
         "0",
         "0",
         "0",
         "0",
         "0",
         "0",
         "0",
         "0",
         "0",
         "0",
         "0",
         "0",
         "0",
         "0",
         "0",
         "0",
         "0",
         "0",
         "0",
         "0",
         "0",
         "0",
         "0",
         "0",
         "0",
         "0",
         "0",
         "0",
         "0",
         "0",
         "0",
         "0",
         "0",
         "0",
         "0",
         "0",
         "0",
         "0",
         "0",
         "0",
         "0",
         "0",
         "0",
         "0",
         "0",
         "0",
         "0",
         "0",
         "0",
         "0",
         "0",
         "0",
         "0",
         "0",
         "0",
         "0",
         "0",
         "0",
         "0",
         "0",
         "0",
         "0",
         "0",
         "0",
         "0",
         "0",
         "0",
         "0",
         "0",
         "0",
         "0",
         "0",
         "0",
         "0",
         "0",
         "0",
         "0",
         "0",
         "0",
         "0",
         "0",
         "0",
         "0",
         "0",
         "0",
         "0",
         "0",
         "0",
         "0",
         "0",
         "0",
         "0",
         "0",
         "0",
         "0",
         "0",
         "0",
         "0",
         "0",
         "0",
         "0",
         "0",
         "0",
         "0",
         "0",
         "0",
         "0",
         "0",
         "0",
         "0",
         "0",
         "0",
         "0",
         "0",
         "0",
         "0",
         "0",
         "0",
         "0",
         "0",
         "0",
         "0",
         "0",
         "0",
         "0",
         "0",
         "0",
         "0",
         "0",
         "0",
         "0",
         "0",
         "0",
         "0",
         "0",
         "0",
         "0",
         "0",
         "0",
         "0",
         "0",
         "0",
         "0",
         "0",
         "0",
         "0",
         "0",
         "0",
         "0",
         "0",
         "0",
         "0",
         "0",
         "0",
         "0",
         "0",
         "0",
         "0",
         "0",
         "0",
         "0",
         "0",
         "0",
         "0",
         "0",
         "0",
         "0",
         "0",
         "0",
         "0",
         "0",
         "0",
         "0",
         "0",
         "0",
         "0",
         "0",
         "0",
         "0",
         "0",
         "0",
         "0",
         "0",
         "0",
         "0",
         "0",
         "0",
         "0",
         "0",
         "0",
         "0",
         "0",
         "0",
         "0",
         "0",
         "0",
         "0",
         "0",
         "0",
         "0",
         "0",
         "0",
         "0",
         "0",
         "0",
         "0",
         "0",
         "0",
         "0",
         "0",
         "0",
         "0",
         "0",
         "0",
         "0",
         "0",
         "0",
         "0",
         "0",
         "0",
         "0",
         "0",
         "0",
         "0",
         "0",
         "0",
         "0",
         "0",
         "0",
         "0",
         "0",
         "0",
         "0",
         "0",
         "0",
         "0",
         "0",
         "0",
         "0",
         "0",
         "0",
         "0",
         "0",
         "0",
         "0",
         "0",
         "0",
         "0",
         "0",
         "0",
         "0",
         "0",
         "0",
         "0",
         "0",
         "0",
         "0",
         "0",
         "0",
         "0",
         "0",
         "0",
         "0",
         "0",
         "0",
         "0",
         "0",
         "0",
         "0",
         "0",
         "0",
         "0",
         "0",
         "0",
         "0",
         "0",
         "0",
         "0",
         "0",
         "0",
         "0",
         "0",
         "0",
         "0",
         "0",
         "0",
         "0",
         "0",
         "0",
         "0",
         "0",
         "0",
         "0",
         "0",
         "0",
         "0",
         "0",
         "0",
         "0",
         "0",
         "0",
         "0",
         "0",
         "0",
         "0",
         "0",
         "0",
         "0",
         "0",
         "0",
         "0",
         "0",
         "0",
         "0",
         "0",
         "0",
         "0",
         "0",
         "0",
         "0",
         "0",
         "0",
         "0",
         "0",
         "0",
         "0",
         "0",
         "0",
         "0",
         "0",
         "0",
         "0"
        ],
        [
         "2",
         "104997043",
         "0",
         "0",
         "0",
         "0",
         "0",
         "0",
         "0",
         "0",
         "0",
         "0",
         "0",
         "0",
         "0",
         "0",
         "0",
         "0",
         "0",
         "0",
         "0",
         "0",
         "0",
         "0",
         "0",
         "0",
         "0",
         "0",
         "0",
         "0",
         "0",
         "0",
         "0",
         "0",
         "0",
         "0",
         "0",
         "0",
         "0",
         "0",
         "0",
         "0",
         "0",
         "0",
         "0",
         "0",
         "0",
         "0",
         "0",
         "0",
         "0",
         "0",
         "0",
         "0",
         "0",
         "0",
         "0",
         "0",
         "0",
         "0",
         "0",
         "0",
         "0",
         "0",
         "0",
         "0",
         "0",
         "0",
         "0",
         "0",
         "0",
         "0",
         "0",
         "0",
         "0",
         "0",
         "0",
         "0",
         "0",
         "0",
         "0",
         "0",
         "0",
         "0",
         "0",
         "0",
         "0",
         "0",
         "0",
         "0",
         "0",
         "0",
         "0",
         "0",
         "0",
         "0",
         "0",
         "0",
         "0",
         "0",
         "0",
         "0",
         "0",
         "0",
         "0",
         "0",
         "0",
         "0",
         "0",
         "0",
         "0",
         "0",
         "0",
         "0",
         "0",
         "0",
         "0",
         "0",
         "0",
         "0",
         "0",
         "0",
         "0",
         "0",
         "0",
         "0",
         "0",
         "0",
         "0",
         "0",
         "0",
         "0",
         "0",
         "0",
         "0",
         "0",
         "0",
         "0",
         "0",
         "0",
         "0",
         "0",
         "0",
         "0",
         "0",
         "0",
         "0",
         "0",
         "0",
         "0",
         "0",
         "0",
         "0",
         "0",
         "0",
         "0",
         "0",
         "0",
         "0",
         "0",
         "0",
         "0",
         "0",
         "0",
         "0",
         "0",
         "0",
         "0",
         "0",
         "0",
         "0",
         "0",
         "0",
         "0",
         "0",
         "0",
         "0",
         "0",
         "0",
         "0",
         "0",
         "0",
         "0",
         "0",
         "0",
         "0",
         "0",
         "0",
         "0",
         "0",
         "0",
         "0",
         "0",
         "0",
         "0",
         "0",
         "0",
         "0",
         "0",
         "0",
         "0",
         "0",
         "0",
         "0",
         "0",
         "0",
         "0",
         "0",
         "0",
         "0",
         "0",
         "0",
         "0",
         "0",
         "0",
         "0",
         "0",
         "0",
         "0",
         "0",
         "0",
         "0",
         "0",
         "0",
         "0",
         "0",
         "0",
         "0",
         "0",
         "0",
         "0",
         "0",
         "0",
         "0",
         "0",
         "0",
         "0",
         "0",
         "0",
         "0",
         "0",
         "0",
         "0",
         "0",
         "0",
         "0",
         "0",
         "0",
         "0",
         "0",
         "0",
         "0",
         "0",
         "0",
         "0",
         "0",
         "0",
         "0",
         "0",
         "0",
         "0",
         "0",
         "0",
         "0",
         "0",
         "0",
         "0",
         "0",
         "0",
         "0",
         "0",
         "0",
         "0",
         "0",
         "0",
         "0",
         "0",
         "0",
         "0",
         "0",
         "0",
         "0",
         "0",
         "0",
         "0",
         "0",
         "0",
         "0",
         "0",
         "0",
         "0",
         "0",
         "0",
         "0",
         "0",
         "0",
         "0",
         "0",
         "0",
         "0",
         "0",
         "0",
         "0",
         "0",
         "0",
         "0",
         "0",
         "0",
         "0",
         "0",
         "0",
         "0",
         "0",
         "0",
         "0",
         "0",
         "0",
         "0",
         "0",
         "0",
         "0",
         "0",
         "0",
         "0",
         "0",
         "0",
         "0",
         "0",
         "0",
         "0",
         "0",
         "0",
         "0",
         "0",
         "0",
         "0",
         "0",
         "0",
         "0",
         "0",
         "0",
         "0",
         "0",
         "0",
         "0",
         "0",
         "0",
         "0",
         "0",
         "0",
         "0",
         "0",
         "0",
         "0",
         "0",
         "0",
         "0",
         "0",
         "0",
         "0",
         "0",
         "0",
         "0",
         "0",
         "0",
         "0",
         "0",
         "0",
         "0",
         "0",
         "0",
         "0",
         "0",
         "0",
         "0",
         "0",
         "0",
         "0",
         "0",
         "0",
         "0",
         "0",
         "0",
         "0",
         "0",
         "0",
         "0",
         "0",
         "0",
         "0",
         "0",
         "0",
         "0",
         "0",
         "0",
         "0",
         "0",
         "0",
         "0",
         "0",
         "0",
         "0",
         "0",
         "0",
         "0",
         "0",
         "0",
         "0",
         "0",
         "0",
         "0",
         "0",
         "0",
         "0",
         "0",
         "0",
         "0",
         "0",
         "0",
         "0",
         "0",
         "0",
         "0",
         "0",
         "0",
         "0",
         "0",
         "0",
         "0",
         "0",
         "0",
         "0",
         "0",
         "0",
         "0",
         "0",
         "0",
         "0",
         "0",
         "0",
         "0",
         "0",
         "0",
         "0",
         "0",
         "0",
         "0",
         "0",
         "0",
         "0",
         "0",
         "0",
         "0",
         "0",
         "0",
         "0",
         "0",
         "0",
         "0",
         "0",
         "0",
         "0",
         "0",
         "0",
         "0",
         "0",
         "0",
         "0",
         "0",
         "0",
         "0",
         "0",
         "0",
         "0",
         "0",
         "0",
         "0",
         "0",
         "0",
         "0",
         "0",
         "0",
         "0",
         "0",
         "0",
         "0",
         "0",
         "0",
         "0",
         "0",
         "0",
         "0",
         "0",
         "0",
         "0",
         "0",
         "0",
         "0",
         "0",
         "0",
         "0",
         "0",
         "0",
         "0",
         "0",
         "0",
         "0",
         "0",
         "0",
         "0",
         "0"
        ],
        [
         "3",
         "105023594",
         "0",
         "0",
         "0",
         "0",
         "0",
         "0",
         "0",
         "0",
         "0",
         "0",
         "0",
         "0",
         "0",
         "0",
         "0",
         "0",
         "0",
         "0",
         "0",
         "0",
         "0",
         "0",
         "0",
         "0",
         "0",
         "0",
         "0",
         "0",
         "0",
         "0",
         "0",
         "0",
         "0",
         "0",
         "0",
         "0",
         "0",
         "0",
         "0",
         "0",
         "0",
         "0",
         "0",
         "0",
         "0",
         "0",
         "0",
         "0",
         "0",
         "0",
         "0",
         "0",
         "0",
         "0",
         "0",
         "0",
         "0",
         "0",
         "0",
         "0",
         "0",
         "0",
         "0",
         "0",
         "0",
         "0",
         "0",
         "0",
         "0",
         "0",
         "0",
         "0",
         "0",
         "0",
         "0",
         "0",
         "0",
         "0",
         "0",
         "0",
         "0",
         "0",
         "0",
         "0",
         "0",
         "0",
         "0",
         "0",
         "0",
         "0",
         "0",
         "0",
         "0",
         "0",
         "0",
         "0",
         "0",
         "0",
         "0",
         "0",
         "0",
         "0",
         "0",
         "0",
         "0",
         "0",
         "0",
         "0",
         "0",
         "0",
         "0",
         "0",
         "0",
         "0",
         "0",
         "0",
         "0",
         "0",
         "0",
         "0",
         "0",
         "0",
         "0",
         "0",
         "0",
         "0",
         "0",
         "0",
         "0",
         "0",
         "0",
         "0",
         "0",
         "0",
         "0",
         "0",
         "0",
         "0",
         "0",
         "0",
         "0",
         "0",
         "0",
         "0",
         "0",
         "0",
         "0",
         "0",
         "0",
         "0",
         "0",
         "0",
         "0",
         "0",
         "0",
         "0",
         "0",
         "0",
         "0",
         "0",
         "0",
         "0",
         "0",
         "0",
         "0",
         "0",
         "0",
         "0",
         "0",
         "0",
         "0",
         "0",
         "0",
         "0",
         "0",
         "0",
         "0",
         "0",
         "0",
         "0",
         "0",
         "0",
         "0",
         "0",
         "0",
         "0",
         "0",
         "0",
         "0",
         "0",
         "0",
         "0",
         "0",
         "0",
         "0",
         "0",
         "0",
         "0",
         "0",
         "0",
         "0",
         "0",
         "0",
         "0",
         "0",
         "0",
         "0",
         "0",
         "0",
         "0",
         "0",
         "0",
         "0",
         "0",
         "0",
         "0",
         "0",
         "0",
         "0",
         "0",
         "0",
         "0",
         "0",
         "0",
         "0",
         "0",
         "0",
         "0",
         "0",
         "0",
         "0",
         "0",
         "0",
         "0",
         "0",
         "0",
         "0",
         "0",
         "0",
         "0",
         "0",
         "0",
         "0",
         "0",
         "0",
         "0",
         "0",
         "0",
         "0",
         "0",
         "0",
         "0",
         "0",
         "0",
         "0",
         "0",
         "0",
         "0",
         "0",
         "0",
         "0",
         "0",
         "0",
         "0",
         "0",
         "0",
         "0",
         "0",
         "0",
         "0",
         "0",
         "0",
         "0",
         "0",
         "0",
         "0",
         "0",
         "0",
         "0",
         "0",
         "0",
         "0",
         "0",
         "0",
         "0",
         "0",
         "0",
         "0",
         "0",
         "0",
         "0",
         "0",
         "0",
         "0",
         "0",
         "0",
         "0",
         "0",
         "0",
         "0",
         "0",
         "0",
         "0",
         "0",
         "0",
         "0",
         "0",
         "0",
         "0",
         "0",
         "0",
         "0",
         "0",
         "0",
         "0",
         "0",
         "0",
         "0",
         "0",
         "0",
         "0",
         "0",
         "0",
         "0",
         "0",
         "0",
         "0",
         "0",
         "0",
         "0",
         "0",
         "0",
         "0",
         "0",
         "0",
         "0",
         "0",
         "0",
         "0",
         "0",
         "0",
         "0",
         "0",
         "0",
         "0",
         "0",
         "0",
         "0",
         "0",
         "0",
         "0",
         "0",
         "0",
         "0",
         "0",
         "0",
         "0",
         "0",
         "0",
         "0",
         "0",
         "0",
         "0",
         "0",
         "0",
         "0",
         "0",
         "0",
         "0",
         "0",
         "0",
         "0",
         "0",
         "0",
         "0",
         "0",
         "0",
         "0",
         "0",
         "0",
         "0",
         "0",
         "0",
         "0",
         "0",
         "0",
         "0",
         "0",
         "0",
         "0",
         "0",
         "0",
         "0",
         "0",
         "0",
         "0",
         "0",
         "0",
         "0",
         "0",
         "0",
         "0",
         "0",
         "0",
         "0",
         "0",
         "0",
         "0",
         "0",
         "0",
         "0",
         "0",
         "0",
         "0",
         "0",
         "0",
         "0",
         "0",
         "0",
         "0",
         "0",
         "0",
         "0",
         "0",
         "0",
         "0",
         "0",
         "0",
         "0",
         "0",
         "0",
         "0",
         "0",
         "0",
         "0",
         "0",
         "0",
         "0",
         "0",
         "0",
         "0",
         "0",
         "0",
         "0",
         "0",
         "0",
         "0",
         "0",
         "0",
         "0",
         "0",
         "0",
         "0",
         "0",
         "0",
         "0",
         "0",
         "0",
         "0",
         "0",
         "0",
         "0",
         "0",
         "0",
         "0",
         "0",
         "0",
         "0",
         "0",
         "0",
         "0",
         "0",
         "0",
         "0",
         "0",
         "0",
         "0",
         "0",
         "0",
         "0",
         "0",
         "0",
         "0",
         "0",
         "0",
         "0",
         "0",
         "0",
         "0",
         "0",
         "0",
         "0",
         "0",
         "0",
         "0",
         "0",
         "0",
         "0",
         "0",
         "0",
         "0",
         "0",
         "0",
         "0",
         "0",
         "0",
         "0",
         "0",
         "0"
        ],
        [
         "4",
         "105140240",
         "0",
         "0",
         "0",
         "0",
         "0",
         "0",
         "0",
         "0",
         "0",
         "0",
         "0",
         "0",
         "0",
         "0",
         "0",
         "0",
         "0",
         "0",
         "0",
         "0",
         "0",
         "0",
         "0",
         "0",
         "0",
         "0",
         "0",
         "0",
         "0",
         "0",
         "0",
         "0",
         "0",
         "0",
         "0",
         "0",
         "0",
         "0",
         "0",
         "0",
         "0",
         "0",
         "0",
         "0",
         "0",
         "0",
         "0",
         "0",
         "0",
         "0",
         "0",
         "0",
         "0",
         "0",
         "0",
         "0",
         "0",
         "0",
         "0",
         "0",
         "0",
         "0",
         "0",
         "0",
         "0",
         "0",
         "0",
         "0",
         "0",
         "0",
         "0",
         "0",
         "0",
         "0",
         "0",
         "0",
         "0",
         "0",
         "0",
         "0",
         "0",
         "0",
         "0",
         "0",
         "0",
         "0",
         "0",
         "0",
         "0",
         "0",
         "0",
         "0",
         "0",
         "0",
         "0",
         "0",
         "0",
         "0",
         "0",
         "0",
         "0",
         "0",
         "0",
         "0",
         "0",
         "0",
         "0",
         "0",
         "0",
         "0",
         "0",
         "0",
         "0",
         "0",
         "0",
         "0",
         "0",
         "0",
         "0",
         "0",
         "0",
         "0",
         "0",
         "0",
         "0",
         "0",
         "0",
         "0",
         "0",
         "0",
         "0",
         "0",
         "0",
         "0",
         "0",
         "0",
         "0",
         "0",
         "0",
         "0",
         "0",
         "0",
         "0",
         "0",
         "0",
         "0",
         "0",
         "0",
         "0",
         "0",
         "0",
         "0",
         "0",
         "0",
         "0",
         "0",
         "0",
         "0",
         "0",
         "0",
         "0",
         "0",
         "0",
         "0",
         "0",
         "0",
         "0",
         "0",
         "0",
         "0",
         "0",
         "0",
         "0",
         "0",
         "0",
         "0",
         "0",
         "0",
         "0",
         "0",
         "0",
         "0",
         "0",
         "0",
         "0",
         "0",
         "0",
         "0",
         "0",
         "0",
         "0",
         "0",
         "0",
         "0",
         "0",
         "0",
         "0",
         "0",
         "0",
         "0",
         "0",
         "0",
         "0",
         "0",
         "0",
         "0",
         "0",
         "0",
         "0",
         "0",
         "0",
         "0",
         "0",
         "0",
         "0",
         "0",
         "0",
         "0",
         "0",
         "0",
         "0",
         "0",
         "0",
         "0",
         "0",
         "0",
         "0",
         "0",
         "0",
         "0",
         "0",
         "0",
         "0",
         "0",
         "0",
         "0",
         "0",
         "0",
         "0",
         "0",
         "0",
         "0",
         "0",
         "0",
         "0",
         "0",
         "0",
         "0",
         "0",
         "0",
         "0",
         "0",
         "0",
         "0",
         "0",
         "0",
         "0",
         "0",
         "0",
         "0",
         "0",
         "0",
         "0",
         "0",
         "0",
         "0",
         "0",
         "0",
         "0",
         "0",
         "0",
         "0",
         "0",
         "0",
         "0",
         "0",
         "0",
         "0",
         "0",
         "0",
         "0",
         "0",
         "0",
         "0",
         "0",
         "0",
         "0",
         "0",
         "0",
         "0",
         "0",
         "0",
         "0",
         "0",
         "0",
         "0",
         "0",
         "0",
         "0",
         "0",
         "0",
         "0",
         "0",
         "0",
         "0",
         "0",
         "0",
         "0",
         "0",
         "0",
         "0",
         "0",
         "0",
         "0",
         "0",
         "0",
         "0",
         "0",
         "0",
         "0",
         "0",
         "0",
         "0",
         "0",
         "0",
         "0",
         "0",
         "0",
         "0",
         "0",
         "0",
         "0",
         "0",
         "0",
         "0",
         "0",
         "0",
         "0",
         "0",
         "0",
         "0",
         "0",
         "0",
         "0",
         "0",
         "0",
         "0",
         "0",
         "0",
         "0",
         "0",
         "0",
         "0",
         "0",
         "0",
         "0",
         "0",
         "0",
         "0",
         "0",
         "0",
         "0",
         "0",
         "0",
         "0",
         "0",
         "0",
         "0",
         "0",
         "0",
         "0",
         "0",
         "0",
         "0",
         "0",
         "0",
         "0",
         "0",
         "0",
         "0",
         "0",
         "0",
         "0",
         "0",
         "0",
         "0",
         "0",
         "0",
         "0",
         "0",
         "0",
         "0",
         "0",
         "0",
         "0",
         "0",
         "0",
         "0",
         "0",
         "0",
         "0",
         "0",
         "0",
         "0",
         "0",
         "0",
         "0",
         "0",
         "0",
         "0",
         "0",
         "0",
         "0",
         "0",
         "0",
         "0",
         "0",
         "0",
         "0",
         "0",
         "0",
         "0",
         "0",
         "0",
         "0",
         "0",
         "0",
         "0",
         "0",
         "0",
         "0",
         "0",
         "0",
         "0",
         "0",
         "0",
         "0",
         "0",
         "0",
         "0",
         "0",
         "0",
         "0",
         "0",
         "0",
         "0",
         "0",
         "0",
         "0",
         "0",
         "0",
         "0",
         "0",
         "0",
         "0",
         "0",
         "0",
         "0",
         "0",
         "0",
         "0",
         "0",
         "0",
         "0",
         "0",
         "0",
         "0",
         "0",
         "0",
         "0",
         "0",
         "0",
         "0",
         "0",
         "0",
         "0",
         "0",
         "0",
         "0",
         "0",
         "0",
         "0",
         "0",
         "0",
         "0",
         "0",
         "0",
         "0",
         "0",
         "0",
         "0",
         "0",
         "0",
         "0",
         "0",
         "0",
         "0",
         "0",
         "0",
         "0",
         "0",
         "0",
         "0",
         "0",
         "0",
         "0",
         "0",
         "0",
         "0"
        ]
       ],
       "shape": {
        "columns": 510,
        "rows": 5
       }
      },
      "text/html": [
       "<div>\n",
       "<style scoped>\n",
       "    .dataframe tbody tr th:only-of-type {\n",
       "        vertical-align: middle;\n",
       "    }\n",
       "\n",
       "    .dataframe tbody tr th {\n",
       "        vertical-align: top;\n",
       "    }\n",
       "\n",
       "    .dataframe thead th {\n",
       "        text-align: right;\n",
       "    }\n",
       "</style>\n",
       "<table border=\"1\" class=\"dataframe\">\n",
       "  <thead>\n",
       "    <tr style=\"text-align: right;\">\n",
       "      <th></th>\n",
       "      <th>ID</th>\n",
       "      <th></th>\n",
       "      <th>air conditioner</th>\n",
       "      <th>property condition: renovator</th>\n",
       "      <th>intercom system</th>\n",
       "      <th>verandah</th>\n",
       "      <th>gymnasium</th>\n",
       "      <th>fenced</th>\n",
       "      <th>quiet location</th>\n",
       "      <th>exhaust fan</th>\n",
       "      <th>...</th>\n",
       "      <th>unit</th>\n",
       "      <th>large side access driveway</th>\n",
       "      <th>split sy</th>\n",
       "      <th>development potential stca</th>\n",
       "      <th>outdoor ent.</th>\n",
       "      <th>split system heating &amp; air conditioning</th>\n",
       "      <th>deck</th>\n",
       "      <th>area views</th>\n",
       "      <th>fixed floor coverings</th>\n",
       "      <th>ceiling fan</th>\n",
       "    </tr>\n",
       "  </thead>\n",
       "  <tbody>\n",
       "    <tr>\n",
       "      <th>0</th>\n",
       "      <td>7513227</td>\n",
       "      <td>0</td>\n",
       "      <td>0</td>\n",
       "      <td>0</td>\n",
       "      <td>0</td>\n",
       "      <td>0</td>\n",
       "      <td>0</td>\n",
       "      <td>0</td>\n",
       "      <td>0</td>\n",
       "      <td>0</td>\n",
       "      <td>...</td>\n",
       "      <td>0</td>\n",
       "      <td>0</td>\n",
       "      <td>0</td>\n",
       "      <td>0</td>\n",
       "      <td>0</td>\n",
       "      <td>0</td>\n",
       "      <td>0</td>\n",
       "      <td>0</td>\n",
       "      <td>0</td>\n",
       "      <td>0</td>\n",
       "    </tr>\n",
       "    <tr>\n",
       "      <th>1</th>\n",
       "      <td>7720571</td>\n",
       "      <td>0</td>\n",
       "      <td>0</td>\n",
       "      <td>0</td>\n",
       "      <td>0</td>\n",
       "      <td>0</td>\n",
       "      <td>0</td>\n",
       "      <td>0</td>\n",
       "      <td>0</td>\n",
       "      <td>0</td>\n",
       "      <td>...</td>\n",
       "      <td>0</td>\n",
       "      <td>0</td>\n",
       "      <td>0</td>\n",
       "      <td>0</td>\n",
       "      <td>0</td>\n",
       "      <td>0</td>\n",
       "      <td>0</td>\n",
       "      <td>0</td>\n",
       "      <td>0</td>\n",
       "      <td>0</td>\n",
       "    </tr>\n",
       "    <tr>\n",
       "      <th>2</th>\n",
       "      <td>104997043</td>\n",
       "      <td>0</td>\n",
       "      <td>0</td>\n",
       "      <td>0</td>\n",
       "      <td>0</td>\n",
       "      <td>0</td>\n",
       "      <td>0</td>\n",
       "      <td>0</td>\n",
       "      <td>0</td>\n",
       "      <td>0</td>\n",
       "      <td>...</td>\n",
       "      <td>0</td>\n",
       "      <td>0</td>\n",
       "      <td>0</td>\n",
       "      <td>0</td>\n",
       "      <td>0</td>\n",
       "      <td>0</td>\n",
       "      <td>0</td>\n",
       "      <td>0</td>\n",
       "      <td>0</td>\n",
       "      <td>0</td>\n",
       "    </tr>\n",
       "    <tr>\n",
       "      <th>3</th>\n",
       "      <td>105023594</td>\n",
       "      <td>0</td>\n",
       "      <td>0</td>\n",
       "      <td>0</td>\n",
       "      <td>0</td>\n",
       "      <td>0</td>\n",
       "      <td>0</td>\n",
       "      <td>0</td>\n",
       "      <td>0</td>\n",
       "      <td>0</td>\n",
       "      <td>...</td>\n",
       "      <td>0</td>\n",
       "      <td>0</td>\n",
       "      <td>0</td>\n",
       "      <td>0</td>\n",
       "      <td>0</td>\n",
       "      <td>0</td>\n",
       "      <td>0</td>\n",
       "      <td>0</td>\n",
       "      <td>0</td>\n",
       "      <td>0</td>\n",
       "    </tr>\n",
       "    <tr>\n",
       "      <th>4</th>\n",
       "      <td>105140240</td>\n",
       "      <td>0</td>\n",
       "      <td>0</td>\n",
       "      <td>0</td>\n",
       "      <td>0</td>\n",
       "      <td>0</td>\n",
       "      <td>0</td>\n",
       "      <td>0</td>\n",
       "      <td>0</td>\n",
       "      <td>0</td>\n",
       "      <td>...</td>\n",
       "      <td>0</td>\n",
       "      <td>0</td>\n",
       "      <td>0</td>\n",
       "      <td>0</td>\n",
       "      <td>0</td>\n",
       "      <td>0</td>\n",
       "      <td>0</td>\n",
       "      <td>0</td>\n",
       "      <td>0</td>\n",
       "      <td>0</td>\n",
       "    </tr>\n",
       "  </tbody>\n",
       "</table>\n",
       "<p>5 rows × 510 columns</p>\n",
       "</div>"
      ],
      "text/plain": [
       "          ID      air conditioner   property condition: renovator  \\\n",
       "0    7513227  0                 0                               0   \n",
       "1    7720571  0                 0                               0   \n",
       "2  104997043  0                 0                               0   \n",
       "3  105023594  0                 0                               0   \n",
       "4  105140240  0                 0                               0   \n",
       "\n",
       "    intercom system   verandah  gymnasium   fenced   quiet location  \\\n",
       "0                 0          0          0        0                0   \n",
       "1                 0          0          0        0                0   \n",
       "2                 0          0          0        0                0   \n",
       "3                 0          0          0        0                0   \n",
       "4                 0          0          0        0                0   \n",
       "\n",
       "    exhaust fan  ...   unit   large side access driveway   split sy  \\\n",
       "0             0  ...      0                            0          0   \n",
       "1             0  ...      0                            0          0   \n",
       "2             0  ...      0                            0          0   \n",
       "3             0  ...      0                            0          0   \n",
       "4             0  ...      0                            0          0   \n",
       "\n",
       "    development potential stca   outdoor ent.  \\\n",
       "0                            0              0   \n",
       "1                            0              0   \n",
       "2                            0              0   \n",
       "3                            0              0   \n",
       "4                            0              0   \n",
       "\n",
       "   split system heating & air conditioning  deck   area views  \\\n",
       "0                                        0     0            0   \n",
       "1                                        0     0            0   \n",
       "2                                        0     0            0   \n",
       "3                                        0     0            0   \n",
       "4                                        0     0            0   \n",
       "\n",
       "    fixed floor coverings   ceiling fan  \n",
       "0                       0             0  \n",
       "1                       0             0  \n",
       "2                       0             0  \n",
       "3                       0             0  \n",
       "4                       0             0  \n",
       "\n",
       "[5 rows x 510 columns]"
      ]
     },
     "execution_count": 37,
     "metadata": {},
     "output_type": "execute_result"
    }
   ],
   "source": [
    "final_feature_df.head()"
   ]
  },
  {
   "cell_type": "code",
   "execution_count": 38,
   "id": "cd0a7169",
   "metadata": {},
   "outputs": [],
   "source": [
    "final_feature_df.to_csv('feature_data',index=False)"
   ]
  },
  {
   "cell_type": "code",
   "execution_count": 39,
   "id": "40d54689",
   "metadata": {},
   "outputs": [],
   "source": [
    "des_df.to_csv('description_data',index=False)"
   ]
  },
  {
   "cell_type": "code",
   "execution_count": 40,
   "id": "c295e961",
   "metadata": {},
   "outputs": [],
   "source": [
    "location_data = df[['price','ID','address']]"
   ]
  },
  {
   "cell_type": "code",
   "execution_count": 41,
   "id": "9d487c09",
   "metadata": {},
   "outputs": [],
   "source": [
    "location_data.to_csv('location_data',index=False)"
   ]
  }
 ],
 "metadata": {
  "kernelspec": {
   "display_name": "Python 3",
   "language": "python",
   "name": "python3"
  },
  "language_info": {
   "codemirror_mode": {
    "name": "ipython",
    "version": 3
   },
   "file_extension": ".py",
   "mimetype": "text/x-python",
   "name": "python",
   "nbconvert_exporter": "python",
   "pygments_lexer": "ipython3",
   "version": "3.11.7"
  }
 },
 "nbformat": 4,
 "nbformat_minor": 5
}
